{
 "cells": [
  {
   "cell_type": "code",
   "execution_count": 1,
   "id": "ea975c1b",
   "metadata": {
    "execution": {
     "iopub.execute_input": "2025-01-07T17:44:23.393052Z",
     "iopub.status.busy": "2025-01-07T17:44:23.392369Z",
     "iopub.status.idle": "2025-01-07T17:44:23.399167Z",
     "shell.execute_reply": "2025-01-07T17:44:23.398625Z"
    },
    "papermill": {
     "duration": 0.01274,
     "end_time": "2025-01-07T17:44:23.400253",
     "exception": false,
     "start_time": "2025-01-07T17:44:23.387513",
     "status": "completed"
    },
    "tags": [
     "injected-parameters"
    ]
   },
   "outputs": [],
   "source": [
    "# Parameters\n",
    "path_to_file = \"data/MQSPA.MI.xlsx\"\n"
   ]
  },
  {
   "cell_type": "code",
   "execution_count": 2,
   "id": "5efbf512-053b-4bce-9f68-c0b07e257aec",
   "metadata": {
    "execution": {
     "iopub.execute_input": "2025-01-07T17:44:23.408559Z",
     "iopub.status.busy": "2025-01-07T17:44:23.408101Z",
     "iopub.status.idle": "2025-01-07T17:44:23.763081Z",
     "shell.execute_reply": "2025-01-07T17:44:23.762439Z"
    },
    "papermill": {
     "duration": 0.360262,
     "end_time": "2025-01-07T17:44:23.764237",
     "exception": false,
     "start_time": "2025-01-07T17:44:23.403975",
     "status": "completed"
    },
    "tags": []
   },
   "outputs": [
    {
     "name": "stdout",
     "output_type": "stream",
     "text": [
      "Current working directory: /home/runner/work/myfinance/myfinance/NT\n",
      "New current working directory: /home/runner/work/myfinance/myfinance\n"
     ]
    },
    {
     "data": {
      "text/plain": [
       "2"
      ]
     },
     "execution_count": 2,
     "metadata": {},
     "output_type": "execute_result"
    }
   ],
   "source": [
    "import os  \n",
    "import sys  \n",
    "import pandas as pd\n",
    "import openpyxl\n",
    "# import papermill as pm  \n",
    "\n",
    "# get the current working directory  \n",
    "cwd = os.getcwd()  \n",
    "print(\"Current working directory:\", cwd)  \n",
    "  \n",
    "# change the current working directory to one level up  \n",
    "os.chdir(\"..\")  \n",
    "  \n",
    "# get the new current working directory  \n",
    "new_cwd = os.getcwd()  \n",
    "print(\"New current working directory:\", new_cwd) \n",
    "\n",
    "1+1"
   ]
  },
  {
   "cell_type": "code",
   "execution_count": 3,
   "id": "a244e996-b5d1-4551-8a00-065f1f64e197",
   "metadata": {
    "execution": {
     "iopub.execute_input": "2025-01-07T17:44:23.772950Z",
     "iopub.status.busy": "2025-01-07T17:44:23.772329Z",
     "iopub.status.idle": "2025-01-07T17:44:24.357998Z",
     "shell.execute_reply": "2025-01-07T17:44:24.357347Z"
    },
    "papermill": {
     "duration": 0.591345,
     "end_time": "2025-01-07T17:44:24.359378",
     "exception": false,
     "start_time": "2025-01-07T17:44:23.768033",
     "status": "completed"
    },
    "tags": []
   },
   "outputs": [],
   "source": [
    "# add the 'data' folder to the system path  \n",
    "sys.path.append(os.path.abspath(\"data\"))\n",
    "from relative import *\n",
    "from AT_funs import *\n",
    "\n"
   ]
  },
  {
   "cell_type": "code",
   "execution_count": 4,
   "id": "c10e57be-9edb-48b2-a7c7-4d446f107612",
   "metadata": {
    "execution": {
     "iopub.execute_input": "2025-01-07T17:44:24.368411Z",
     "iopub.status.busy": "2025-01-07T17:44:24.367749Z",
     "iopub.status.idle": "2025-01-07T17:44:24.371595Z",
     "shell.execute_reply": "2025-01-07T17:44:24.370971Z"
    },
    "papermill": {
     "duration": 0.009491,
     "end_time": "2025-01-07T17:44:24.372675",
     "exception": false,
     "start_time": "2025-01-07T17:44:24.363184",
     "status": "completed"
    },
    "tags": []
   },
   "outputs": [],
   "source": [
    "# # Get the path of the Excel file from the command line argument  \n",
    "# # filename = sys.argv[1]  \n",
    "# filename = 'data/A2A.MI.xlsx'\n",
    "# df = read_xlsx(filename)\n",
    "# ticker = filename.replace('xlsx', '')\n",
    "# # ticker = ' '\n",
    "# # df\n",
    "# filename_bm = 'data/FTSEMIB.MI.xlsx'\n",
    "# bm_df = read_xlsx(filename_bm)\n",
    "# bm_name = filename_bm.replace('xlsx', '')"
   ]
  },
  {
   "cell_type": "code",
   "execution_count": 5,
   "id": "bf256f3b-01c5-4716-92f2-41c8148bb68b",
   "metadata": {
    "execution": {
     "iopub.execute_input": "2025-01-07T17:44:24.381014Z",
     "iopub.status.busy": "2025-01-07T17:44:24.380433Z",
     "iopub.status.idle": "2025-01-07T17:44:24.383719Z",
     "shell.execute_reply": "2025-01-07T17:44:24.383117Z"
    },
    "papermill": {
     "duration": 0.008569,
     "end_time": "2025-01-07T17:44:24.384738",
     "exception": false,
     "start_time": "2025-01-07T17:44:24.376169",
     "status": "completed"
    },
    "tags": []
   },
   "outputs": [],
   "source": [
    "# plot_abs_rel(df, ticker, bm_df, bm_name)"
   ]
  },
  {
   "cell_type": "code",
   "execution_count": 6,
   "id": "0b660f54-a39b-498e-8eb8-bf81c034988f",
   "metadata": {
    "execution": {
     "iopub.execute_input": "2025-01-07T17:44:24.393376Z",
     "iopub.status.busy": "2025-01-07T17:44:24.392721Z",
     "iopub.status.idle": "2025-01-07T17:44:24.788034Z",
     "shell.execute_reply": "2025-01-07T17:44:24.787311Z"
    },
    "papermill": {
     "duration": 0.40104,
     "end_time": "2025-01-07T17:44:24.789376",
     "exception": false,
     "start_time": "2025-01-07T17:44:24.388336",
     "status": "completed"
    },
    "tags": []
   },
   "outputs": [],
   "source": [
    "# Parameters  \n",
    "# path_to_file: str - the path to the input file  \n",
    "  \n",
    "filename = path_to_file\n",
    "df = read_xlsx(filename)\n",
    "ticker = filename.replace('xlsx', '')\n",
    "# ticker = ' '\n",
    "# df\n",
    "filename_bm = 'data/FTSEMIB.MI.xlsx'\n",
    "bm_df = read_xlsx(filename_bm)\n",
    "bm_name = filename_bm.replace('xlsx', '')"
   ]
  },
  {
   "cell_type": "code",
   "execution_count": 7,
   "id": "55b83496-eb02-490d-aef2-62a6aa478e6e",
   "metadata": {
    "execution": {
     "iopub.execute_input": "2025-01-07T17:44:24.797975Z",
     "iopub.status.busy": "2025-01-07T17:44:24.797485Z",
     "iopub.status.idle": "2025-01-07T17:44:25.128802Z",
     "shell.execute_reply": "2025-01-07T17:44:25.128002Z"
    },
    "papermill": {
     "duration": 0.336918,
     "end_time": "2025-01-07T17:44:25.130043",
     "exception": false,
     "start_time": "2025-01-07T17:44:24.793125",
     "status": "completed"
    },
    "tags": []
   },
   "outputs": [
    {
     "data": {
      "image/png": "[encoded data removed]",
      "text/plain": [
       "<Figure size 2000x800 with 1 Axes>"
      ]
     },
     "metadata": {},
     "output_type": "display_data"
    }
   ],
   "source": [
    "plot_abs_rel(df, ticker, bm_df, bm_name)"
   ]
  },
  {
   "cell_type": "code",
   "execution_count": 8,
   "id": "ede37904-5bbb-418d-9059-699d76bbf0a3",
   "metadata": {
    "execution": {
     "iopub.execute_input": "2025-01-07T17:44:25.140941Z",
     "iopub.status.busy": "2025-01-07T17:44:25.140400Z",
     "iopub.status.idle": "2025-01-07T17:44:25.143670Z",
     "shell.execute_reply": "2025-01-07T17:44:25.143091Z"
    },
    "papermill": {
     "duration": 0.009818,
     "end_time": "2025-01-07T17:44:25.144779",
     "exception": false,
     "start_time": "2025-01-07T17:44:25.134961",
     "status": "completed"
    },
    "tags": []
   },
   "outputs": [],
   "source": [
    "# window_bo = 100\n",
    "# fast = 20\n",
    "# slow = 50\n",
    "# st = 50\n",
    "# mt = 100\n",
    "# lt = 150\n",
    "# lvl = 3\n",
    "# bm_col = 'close'\n",
    "# dgt = 5\n",
    "# window_exp = 100\n",
    "# starting_capital = 100000\n",
    "# lot = 100\n",
    "# mn = -0.0025\n",
    "# mx = -0.0075\n",
    "# # avg = (mn + mx) / 2\n",
    "# tolerance= -0.1\n",
    "# equal_weight = 0.05\n",
    "# span= 5\n",
    "# fx = 1"
   ]
  },
  {
   "cell_type": "code",
   "execution_count": 9,
   "id": "acc836f8-1d67-4cd8-a34f-54476972ed30",
   "metadata": {
    "execution": {
     "iopub.execute_input": "2025-01-07T17:44:25.155052Z",
     "iopub.status.busy": "2025-01-07T17:44:25.154600Z",
     "iopub.status.idle": "2025-01-07T17:44:25.157805Z",
     "shell.execute_reply": "2025-01-07T17:44:25.157175Z"
    },
    "papermill": {
     "duration": 0.009438,
     "end_time": "2025-01-07T17:44:25.158785",
     "exception": false,
     "start_time": "2025-01-07T17:44:25.149347",
     "status": "completed"
    },
    "tags": []
   },
   "outputs": [],
   "source": [
    "# ohlc = ['open','high','low','close']\n",
    "# _o,_h,_l,_c = [ohlc[h] for h in range(len(ohlc))]\n",
    "# ticker = df['ticker'][0]\n",
    "\n",
    "# df = relative(df,_o,_h,_l,_c, bm_df, bm_col, dgt, rebase=True)\n",
    "# df = df.set_index('date')\n",
    "\n",
    "# df_bo = signal_rbo(df, window_bo, relative=True)\n",
    "# df_tt = signal_rtt(df, fast = fast, slow = slow, relative=True)\n",
    "# df_ema = signal_rema(df, st, mt, lt, relative=True)\n",
    "# df_sma = signal_rsma(df, st, mt, lt, relative=True)\n",
    "# df_fc = detect_regime(df, bm_df)"
   ]
  },
  {
   "cell_type": "code",
   "execution_count": 10,
   "id": "0ce95c8f-d951-49c3-a01d-2d1383f76814",
   "metadata": {
    "execution": {
     "iopub.execute_input": "2025-01-07T17:44:25.169387Z",
     "iopub.status.busy": "2025-01-07T17:44:25.168911Z",
     "iopub.status.idle": "2025-01-07T17:44:25.172384Z",
     "shell.execute_reply": "2025-01-07T17:44:25.171707Z"
    },
    "papermill": {
     "duration": 0.010118,
     "end_time": "2025-01-07T17:44:25.173471",
     "exception": false,
     "start_time": "2025-01-07T17:44:25.163353",
     "status": "completed"
    },
    "tags": []
   },
   "outputs": [],
   "source": [
    "# def plot_signal_bo(df, window, ticker, relative):\n",
    "\n",
    "#     _o,_h,_l,_c = lower_upper_OHLC(df,relative = relative)\n",
    "    \n",
    "#     prefix_h = 'hi_'\n",
    "#     prefix_l = 'lo_'\n",
    "#     prefix_bo = 'bo_'\n",
    "#     close = 'close'\n",
    "#     if relative:\n",
    "#         prefix_h = 'rhi_'\n",
    "#         prefix_l = 'rlo_'\n",
    "#         prefix_bo = 'rbo_'  \n",
    "#         close = 'rclose'\n",
    "        \n",
    "#     # df = df.set_index('date')\n",
    "#     df[[close, prefix_h + str(window), prefix_l + str(window), prefix_bo + str(window)]].plot(\n",
    "#         secondary_y= [prefix_bo + str(window)], figsize=(20,5), style=['k','g:','r:','b-.'], \n",
    "#         title = str.upper(ticker)+' '+str(window) +' days high/low')\n",
    "#     plt.show()"
   ]
  },
  {
   "cell_type": "code",
   "execution_count": 11,
   "id": "f1bc238d-36fa-4da1-9257-c78a3d090c85",
   "metadata": {
    "execution": {
     "iopub.execute_input": "2025-01-07T17:44:25.183632Z",
     "iopub.status.busy": "2025-01-07T17:44:25.183209Z",
     "iopub.status.idle": "2025-01-07T17:44:25.186402Z",
     "shell.execute_reply": "2025-01-07T17:44:25.185716Z"
    },
    "papermill": {
     "duration": 0.009364,
     "end_time": "2025-01-07T17:44:25.187414",
     "exception": false,
     "start_time": "2025-01-07T17:44:25.178050",
     "status": "completed"
    },
    "tags": []
   },
   "outputs": [],
   "source": [
    "# plot_signal_bo(df_bo, window_bo, ticker, relative = True)"
   ]
  },
  {
   "cell_type": "code",
   "execution_count": 12,
   "id": "b968e4d7-7e1f-46a0-9612-89d603a2c925",
   "metadata": {
    "execution": {
     "iopub.execute_input": "2025-01-07T17:44:25.197794Z",
     "iopub.status.busy": "2025-01-07T17:44:25.197247Z",
     "iopub.status.idle": "2025-01-07T17:44:25.200565Z",
     "shell.execute_reply": "2025-01-07T17:44:25.199865Z"
    },
    "papermill": {
     "duration": 0.009674,
     "end_time": "2025-01-07T17:44:25.201686",
     "exception": false,
     "start_time": "2025-01-07T17:44:25.192012",
     "status": "completed"
    },
    "tags": []
   },
   "outputs": [],
   "source": [
    "# def plot_signal_tt(df, fast, slow, relative):\n",
    "\n",
    "#     close = 'close'\n",
    "#     tt = 'tt_'\n",
    "#     if relative:\n",
    "#         close = 'rclose'\n",
    "#         tt = 'rtt_'\n",
    "    \n",
    "#     rg_cols = [tt + str(slow)+str(fast)]\n",
    "\n",
    "#     df[[close, tt+ str(slow)+str(fast)] ].plot(\n",
    "#         secondary_y= rg_cols,figsize=(20,5), style=['k','b-.'], \n",
    "#         title = str.upper('')+' '+str(rg_cols))\n",
    "#     plt.show()  "
   ]
  },
  {
   "cell_type": "code",
   "execution_count": 13,
   "id": "087d9ad6-8115-4c8f-9750-8f47a8c7d4c3",
   "metadata": {
    "execution": {
     "iopub.execute_input": "2025-01-07T17:44:25.211912Z",
     "iopub.status.busy": "2025-01-07T17:44:25.211498Z",
     "iopub.status.idle": "2025-01-07T17:44:25.214374Z",
     "shell.execute_reply": "2025-01-07T17:44:25.213832Z"
    },
    "papermill": {
     "duration": 0.009204,
     "end_time": "2025-01-07T17:44:25.215442",
     "exception": false,
     "start_time": "2025-01-07T17:44:25.206238",
     "status": "completed"
    },
    "tags": []
   },
   "outputs": [],
   "source": [
    "# plot_signal_tt(df_tt, fast, slow, relative = True)"
   ]
  },
  {
   "cell_type": "code",
   "execution_count": 14,
   "id": "541bbbe1-ac4a-44db-8812-68151fb35260",
   "metadata": {
    "execution": {
     "iopub.execute_input": "2025-01-07T17:44:25.225533Z",
     "iopub.status.busy": "2025-01-07T17:44:25.225080Z",
     "iopub.status.idle": "2025-01-07T17:44:25.228346Z",
     "shell.execute_reply": "2025-01-07T17:44:25.227748Z"
    },
    "papermill": {
     "duration": 0.009383,
     "end_time": "2025-01-07T17:44:25.229364",
     "exception": false,
     "start_time": "2025-01-07T17:44:25.219981",
     "status": "completed"
    },
    "tags": []
   },
   "outputs": [],
   "source": [
    "# def plot_signal_sma(df, st, mt, lt, relative):\n",
    "\n",
    "#     close = 'close'\n",
    "#     sma = 'sma_'\n",
    "#     ema = 'ema_'\n",
    "#     if relative:\n",
    "#         close = 'rclose'\n",
    "#         sma = 'rsma_'\n",
    "#         ema = 'rema_'\n",
    "\n",
    "#     df[[close,sma+ str(st) + str(mt) + str(lt)] ].plot(\n",
    "#         secondary_y= sma+ str(st) + str(mt) + str(lt),figsize=(20,5), style=['k','b-.'], \n",
    "#         title = str.upper('')+' '+str([sma+ str(st) + str(mt) + str(lt)]))\n",
    "        \n",
    "#     plt.show() "
   ]
  },
  {
   "cell_type": "code",
   "execution_count": 15,
   "id": "2be5be52-9c5a-4311-ac47-4538d580da77",
   "metadata": {
    "execution": {
     "iopub.execute_input": "2025-01-07T17:44:25.239431Z",
     "iopub.status.busy": "2025-01-07T17:44:25.238965Z",
     "iopub.status.idle": "2025-01-07T17:44:25.242251Z",
     "shell.execute_reply": "2025-01-07T17:44:25.241524Z"
    },
    "papermill": {
     "duration": 0.00957,
     "end_time": "2025-01-07T17:44:25.243447",
     "exception": false,
     "start_time": "2025-01-07T17:44:25.233877",
     "status": "completed"
    },
    "tags": []
   },
   "outputs": [],
   "source": [
    "# plot_signal_sma(df_sma, st, mt, lt, relative = True)"
   ]
  },
  {
   "cell_type": "code",
   "execution_count": 16,
   "id": "307b943a-cb79-4140-ad91-2fa62aaccdc2",
   "metadata": {
    "execution": {
     "iopub.execute_input": "2025-01-07T17:44:25.254627Z",
     "iopub.status.busy": "2025-01-07T17:44:25.254216Z",
     "iopub.status.idle": "2025-01-07T17:44:25.257445Z",
     "shell.execute_reply": "2025-01-07T17:44:25.256790Z"
    },
    "papermill": {
     "duration": 0.00971,
     "end_time": "2025-01-07T17:44:25.258589",
     "exception": false,
     "start_time": "2025-01-07T17:44:25.248879",
     "status": "completed"
    },
    "tags": []
   },
   "outputs": [],
   "source": [
    "# def plot_signal_ema(df, st, mt, lt, relative):\n",
    "\n",
    "#     close = 'close'\n",
    "#     sma = 'sma_'\n",
    "#     ema = 'ema_'\n",
    "#     if relative:\n",
    "#         close = 'rclose'\n",
    "#         sma = 'rsma_'\n",
    "#         ema = 'rema_'\n",
    "    \n",
    "#     df[[close,ema+ str(st) + str(mt) + str(lt)] ].plot(\n",
    "#         secondary_y= ema+ str(st) + str(mt) + str(lt),figsize=(20,5), style=['k','b-.'], \n",
    "#         title = str.upper('')+' '+str([ema+ str(st) + str(mt) + str(lt)]))\n",
    "        \n",
    "#     plt.show() "
   ]
  },
  {
   "cell_type": "code",
   "execution_count": 17,
   "id": "43356d36-8b62-4341-a736-8103de9a98db",
   "metadata": {
    "execution": {
     "iopub.execute_input": "2025-01-07T17:44:25.268724Z",
     "iopub.status.busy": "2025-01-07T17:44:25.268266Z",
     "iopub.status.idle": "2025-01-07T17:44:25.271419Z",
     "shell.execute_reply": "2025-01-07T17:44:25.270819Z"
    },
    "papermill": {
     "duration": 0.009193,
     "end_time": "2025-01-07T17:44:25.272364",
     "exception": false,
     "start_time": "2025-01-07T17:44:25.263171",
     "status": "completed"
    },
    "tags": []
   },
   "outputs": [],
   "source": [
    "# plot_signal_ema(df_ema, st, mt, lt, relative = True)"
   ]
  },
  {
   "cell_type": "code",
   "execution_count": 18,
   "id": "2ac0e513-acb4-4f99-8418-9208c68b1a20",
   "metadata": {
    "execution": {
     "iopub.execute_input": "2025-01-07T17:44:25.282550Z",
     "iopub.status.busy": "2025-01-07T17:44:25.282039Z",
     "iopub.status.idle": "2025-01-07T17:44:25.285064Z",
     "shell.execute_reply": "2025-01-07T17:44:25.284381Z"
    },
    "papermill": {
     "duration": 0.009239,
     "end_time": "2025-01-07T17:44:25.286121",
     "exception": false,
     "start_time": "2025-01-07T17:44:25.276882",
     "status": "completed"
    },
    "tags": []
   },
   "outputs": [],
   "source": [
    "# plot_signal_rel(df_fc, ticker)\n",
    "# plot_regime_rel(df_fc, ticker)"
   ]
  },
  {
   "cell_type": "code",
   "execution_count": 19,
   "id": "9cf64b40-df77-4833-9bce-90af7e61548b",
   "metadata": {
    "execution": {
     "iopub.execute_input": "2025-01-07T17:44:25.296170Z",
     "iopub.status.busy": "2025-01-07T17:44:25.295924Z",
     "iopub.status.idle": "2025-01-07T17:44:25.298997Z",
     "shell.execute_reply": "2025-01-07T17:44:25.298433Z"
    },
    "papermill": {
     "duration": 0.009363,
     "end_time": "2025-01-07T17:44:25.300044",
     "exception": false,
     "start_time": "2025-01-07T17:44:25.290681",
     "status": "completed"
    },
    "tags": []
   },
   "outputs": [],
   "source": [
    "# df_fc = df_fc.set_index('date')\n",
    "# df_fc[['rclose','rh3','rl3']].plot(\n",
    "#     style=['grey', 'rv', 'g^'],\n",
    "#     figsize=(20,5),grid=True, title = str.upper(ticker))\n",
    "# plt.show()"
   ]
  },
  {
   "cell_type": "code",
   "execution_count": 20,
   "id": "55b947a3-a443-4f1d-8af1-8b0fd4063658",
   "metadata": {
    "execution": {
     "iopub.execute_input": "2025-01-07T17:44:25.310180Z",
     "iopub.status.busy": "2025-01-07T17:44:25.309804Z",
     "iopub.status.idle": "2025-01-07T17:44:25.312895Z",
     "shell.execute_reply": "2025-01-07T17:44:25.312303Z"
    },
    "papermill": {
     "duration": 0.009335,
     "end_time": "2025-01-07T17:44:25.313963",
     "exception": false,
     "start_time": "2025-01-07T17:44:25.304628",
     "status": "completed"
    },
    "tags": []
   },
   "outputs": [],
   "source": [
    "# df_fc[['close','hi3','lo3','rclose','rh3','rl3']].plot(\n",
    "#     style=['grey','rv', 'g^','k:','mv','b^'],\n",
    "#             figsize=(20,5),grid=True, title = str.upper(ticker)+' vs '+str.upper(bm_col))\n",
    "# plt.show()"
   ]
  },
  {
   "cell_type": "code",
   "execution_count": 21,
   "id": "e752610e-3ce2-4599-a425-6b1a9e345a6e",
   "metadata": {
    "execution": {
     "iopub.execute_input": "2025-01-07T17:44:25.324234Z",
     "iopub.status.busy": "2025-01-07T17:44:25.323840Z",
     "iopub.status.idle": "2025-01-07T17:44:25.327191Z",
     "shell.execute_reply": "2025-01-07T17:44:25.326482Z"
    },
    "papermill": {
     "duration": 0.009786,
     "end_time": "2025-01-07T17:44:25.328299",
     "exception": false,
     "start_time": "2025-01-07T17:44:25.318513",
     "status": "completed"
    },
    "tags": []
   },
   "outputs": [],
   "source": [
    "# df_fc[['rclose','rh3', 'rl3','rclg','rflr','rrg_ch','rrg']].plot(style=['grey', 'ro', 'go', 'kv', 'k^','c:','y-.'], \n",
    "#                         secondary_y= ['rrg'],figsize=(20,5),grid=True, title = str.upper(ticker))\n",
    "# plt.show()"
   ]
  }
 ],
 "metadata": {
  "kernelspec": {
   "display_name": "Python 3 (ipykernel)",
   "language": "python",
   "name": "python3"
  },
  "language_info": {
   "codemirror_mode": {
    "name": "ipython",
    "version": 3
   },
   "file_extension": ".py",
   "mimetype": "text/x-python",
   "name": "python",
   "nbconvert_exporter": "python",
   "pygments_lexer": "ipython3",
   "version": "3.8.18"
  },
  "papermill": {
   "default_parameters": {},
   "duration": 3.1079,
   "end_time": "2025-01-07T17:44:25.648806",
   "environment_variables": {},
   "exception": null,
   "input_path": "template.ipynb",
   "output_path": "MQSPA.MI_output.ipynb",
   "parameters": {
    "path_to_file": "data/MQSPA.MI.xlsx"
   },
   "start_time": "2025-01-07T17:44:22.540906",
   "version": "2.6.0"
  }
 },
 "nbformat": 4,
 "nbformat_minor": 5
}