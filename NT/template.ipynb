{
 "cells": [
  {
   "cell_type": "code",
   "execution_count": null,
   "id": "5efbf512-053b-4bce-9f68-c0b07e257aec",
   "metadata": {
    "execution": {
     "iopub.execute_input": "2025-01-06T23:16:34.082890Z",
     "iopub.status.busy": "2025-01-06T23:16:34.082661Z",
     "iopub.status.idle": "2025-01-06T23:16:34.833666Z",
     "shell.execute_reply": "2025-01-06T23:16:34.832955Z"
    },
    "tags": []
   },
   "outputs": [],
   "source": [
    "import os  \n",
    "import sys  \n",
    "import pandas as pd\n",
    "import openpyxl\n",
    "import papermill as pm  \n",
    "\n",
    "# get the current working directory  \n",
    "cwd = os.getcwd()  \n",
    "print(\"Current working directory:\", cwd)  \n",
    "  \n",
    "# change the current working directory to one level up  \n",
    "os.chdir(\"..\")  \n",
    "  \n",
    "# get the new current working directory  \n",
    "new_cwd = os.getcwd()  \n",
    "print(\"New current working directory:\", new_cwd) "
   ]
  },
  {
   "cell_type": "code",
   "execution_count": null,
   "id": "a244e996-b5d1-4551-8a00-065f1f64e197",
   "metadata": {
    "execution": {
     "iopub.execute_input": "2025-01-06T23:16:34.836189Z",
     "iopub.status.busy": "2025-01-06T23:16:34.835725Z",
     "iopub.status.idle": "2025-01-06T23:16:35.867400Z",
     "shell.execute_reply": "2025-01-06T23:16:35.866619Z"
    }
   },
   "outputs": [],
   "source": [
    "# add the 'data' folder to the system path  \n",
    "sys.path.append(os.path.abspath(\"data\"))\n",
    "#from relative import *\n",
    "#from AT_funs import *\n",
    "\n"
   ]
  },
  {
   "cell_type": "code",
   "execution_count": null,
   "id": "c10e57be-9edb-48b2-a7c7-4d446f107612",
   "metadata": {
    "execution": {
     "iopub.execute_input": "2025-01-06T23:16:35.870451Z",
     "iopub.status.busy": "2025-01-06T23:16:35.869666Z",
     "iopub.status.idle": "2025-01-06T23:16:36.387806Z",
     "shell.execute_reply": "2025-01-06T23:16:36.387127Z"
    },
    "tags": []
   },
   "outputs": [],
   "source": [
    "# Get the path of the Excel file from the command line argument  \n",
    "filename = sys.argv[1]  \n",
    "#filename = 'data/A2A.MI.xlsx'\n",
    "df = read_xlsx(filename)\n",
    "ticker = filename.replace('xlsx', '')\n",
    "# ticker = ' '\n",
    "# df\n",
    "filename_bm = 'data/FTSEMIB.MI.xlsx'\n",
    "bm_df = read_xlsx(filename_bm)\n",
    "bm_name = filename_bm.replace('xlsx', '')"
   ]
  },
  {
   "cell_type": "code",
   "execution_count": null,
   "id": "bf256f3b-01c5-4716-92f2-41c8148bb68b",
   "metadata": {
    "execution": {
     "iopub.execute_input": "2025-01-06T23:16:36.390289Z",
     "iopub.status.busy": "2025-01-06T23:16:36.389869Z",
     "iopub.status.idle": "2025-01-06T23:16:36.736869Z",
     "shell.execute_reply": "2025-01-06T23:16:36.736183Z"
    },
    "tags": []
   },
   "outputs": [],
   "source": [
    "plot_abs_rel(df, ticker, bm_df, bm_name)"
   ]
  },
  {
   "cell_type": "code",
   "execution_count": null,
   "id": "ede37904-5bbb-418d-9059-699d76bbf0a3",
   "metadata": {
    "tags": []
   },
   "outputs": [],
   "source": [
    "# window_bo = 100\n",
    "# fast = 20\n",
    "# slow = 50\n",
    "# st = 50\n",
    "# mt = 100\n",
    "# lt = 150\n",
    "# lvl = 3\n",
    "# bm_col = 'close'\n",
    "# dgt = 5\n",
    "# window_exp = 100\n",
    "# starting_capital = 100000\n",
    "# lot = 100\n",
    "# mn = -0.0025\n",
    "# mx = -0.0075\n",
    "# # avg = (mn + mx) / 2\n",
    "# tolerance= -0.1\n",
    "# equal_weight = 0.05\n",
    "# span= 5\n",
    "# fx = 1"
   ]
  },
  {
   "cell_type": "code",
   "execution_count": null,
   "id": "acc836f8-1d67-4cd8-a34f-54476972ed30",
   "metadata": {
    "execution": {
     "iopub.execute_input": "2025-01-06T23:16:37.037586Z",
     "iopub.status.busy": "2025-01-06T23:16:37.037123Z",
     "iopub.status.idle": "2025-01-06T23:16:37.347157Z",
     "shell.execute_reply": "2025-01-06T23:16:37.346401Z"
    },
    "tags": []
   },
   "outputs": [],
   "source": [
    "# ohlc = ['open','high','low','close']\n",
    "# _o,_h,_l,_c = [ohlc[h] for h in range(len(ohlc))]\n",
    "# ticker = df['ticker'][0]\n",
    "\n",
    "# df = relative(df,_o,_h,_l,_c, bm_df, bm_col, dgt, rebase=True)\n",
    "# df = df.set_index('date')\n",
    "\n",
    "# df_bo = signal_rbo(df, window_bo, relative=True)\n",
    "# df_tt = signal_rtt(df, fast = fast, slow = slow, relative=True)\n",
    "# df_ema = signal_rema(df, st, mt, lt, relative=True)\n",
    "# df_sma = signal_rsma(df, st, mt, lt, relative=True)\n",
    "# df_fc = detect_regime(df, bm_df)"
   ]
  },
  {
   "cell_type": "code",
   "execution_count": null,
   "id": "0ce95c8f-d951-49c3-a01d-2d1383f76814",
   "metadata": {
    "tags": []
   },
   "outputs": [],
   "source": [
    "def plot_signal_bo(df, window, ticker, relative):\n",
    "\n",
    "    _o,_h,_l,_c = lower_upper_OHLC(df,relative = relative)\n",
    "    \n",
    "    prefix_h = 'hi_'\n",
    "    prefix_l = 'lo_'\n",
    "    prefix_bo = 'bo_'\n",
    "    close = 'close'\n",
    "    if relative:\n",
    "        prefix_h = 'rhi_'\n",
    "        prefix_l = 'rlo_'\n",
    "        prefix_bo = 'rbo_'  \n",
    "        close = 'rclose'\n",
    "        \n",
    "    # df = df.set_index('date')\n",
    "    df[[close, prefix_h + str(window), prefix_l + str(window), prefix_bo + str(window)]].plot(\n",
    "        secondary_y= [prefix_bo + str(window)], figsize=(20,5), style=['k','g:','r:','b-.'], \n",
    "        title = str.upper(ticker)+' '+str(window) +' days high/low')\n",
    "    plt.show()"
   ]
  },
  {
   "cell_type": "code",
   "execution_count": null,
   "id": "f1bc238d-36fa-4da1-9257-c78a3d090c85",
   "metadata": {
    "tags": []
   },
   "outputs": [],
   "source": [
    "# plot_signal_bo(df_bo, window_bo, ticker, relative = True)"
   ]
  },
  {
   "cell_type": "code",
   "execution_count": null,
   "id": "b968e4d7-7e1f-46a0-9612-89d603a2c925",
   "metadata": {},
   "outputs": [],
   "source": [
    "def plot_signal_tt(df, fast, slow, relative):\n",
    "\n",
    "    close = 'close'\n",
    "    tt = 'tt_'\n",
    "    if relative:\n",
    "        close = 'rclose'\n",
    "        tt = 'rtt_'\n",
    "    \n",
    "    rg_cols = [tt + str(slow)+str(fast)]\n",
    "\n",
    "    df[[close, tt+ str(slow)+str(fast)] ].plot(\n",
    "        secondary_y= rg_cols,figsize=(20,5), style=['k','b-.'], \n",
    "        title = str.upper('')+' '+str(rg_cols))\n",
    "    plt.show()  "
   ]
  },
  {
   "cell_type": "code",
   "execution_count": null,
   "id": "087d9ad6-8115-4c8f-9750-8f47a8c7d4c3",
   "metadata": {
    "tags": []
   },
   "outputs": [],
   "source": [
    "# plot_signal_tt(df_tt, fast, slow, relative = True)"
   ]
  },
  {
   "cell_type": "code",
   "execution_count": null,
   "id": "541bbbe1-ac4a-44db-8812-68151fb35260",
   "metadata": {
    "tags": []
   },
   "outputs": [],
   "source": [
    "def plot_signal_sma(df, st, mt, lt, relative):\n",
    "\n",
    "    close = 'close'\n",
    "    sma = 'sma_'\n",
    "    ema = 'ema_'\n",
    "    if relative:\n",
    "        close = 'rclose'\n",
    "        sma = 'rsma_'\n",
    "        ema = 'rema_'\n",
    "\n",
    "    df[[close,sma+ str(st) + str(mt) + str(lt)] ].plot(\n",
    "        secondary_y= sma+ str(st) + str(mt) + str(lt),figsize=(20,5), style=['k','b-.'], \n",
    "        title = str.upper('')+' '+str([sma+ str(st) + str(mt) + str(lt)]))\n",
    "        \n",
    "    plt.show() "
   ]
  },
  {
   "cell_type": "code",
   "execution_count": null,
   "id": "2be5be52-9c5a-4311-ac47-4538d580da77",
   "metadata": {
    "execution": {
     "iopub.execute_input": "2025-01-06T23:16:39.757642Z",
     "iopub.status.busy": "2025-01-06T23:16:39.757208Z",
     "iopub.status.idle": "2025-01-06T23:16:39.761080Z",
     "shell.execute_reply": "2025-01-06T23:16:39.760406Z"
    },
    "tags": []
   },
   "outputs": [],
   "source": [
    "# plot_signal_sma(df_sma, st, mt, lt, relative = True)"
   ]
  },
  {
   "cell_type": "code",
   "execution_count": null,
   "id": "307b943a-cb79-4140-ad91-2fa62aaccdc2",
   "metadata": {
    "execution": {
     "iopub.execute_input": "2025-01-06T23:16:39.763402Z",
     "iopub.status.busy": "2025-01-06T23:16:39.762870Z",
     "iopub.status.idle": "2025-01-06T23:16:39.766510Z",
     "shell.execute_reply": "2025-01-06T23:16:39.765792Z"
    },
    "tags": []
   },
   "outputs": [],
   "source": [
    "def plot_signal_ema(df, st, mt, lt, relative):\n",
    "\n",
    "    close = 'close'\n",
    "    sma = 'sma_'\n",
    "    ema = 'ema_'\n",
    "    if relative:\n",
    "        close = 'rclose'\n",
    "        sma = 'rsma_'\n",
    "        ema = 'rema_'\n",
    "    \n",
    "    df[[close,ema+ str(st) + str(mt) + str(lt)] ].plot(\n",
    "        secondary_y= ema+ str(st) + str(mt) + str(lt),figsize=(20,5), style=['k','b-.'], \n",
    "        title = str.upper('')+' '+str([ema+ str(st) + str(mt) + str(lt)]))\n",
    "        \n",
    "    plt.show() "
   ]
  },
  {
   "cell_type": "code",
   "execution_count": null,
   "id": "43356d36-8b62-4341-a736-8103de9a98db",
   "metadata": {
    "execution": {
     "iopub.execute_input": "2025-01-06T23:16:39.768549Z",
     "iopub.status.busy": "2025-01-06T23:16:39.768350Z",
     "iopub.status.idle": "2025-01-06T23:16:39.842381Z",
     "shell.execute_reply": "2025-01-06T23:16:39.841602Z"
    },
    "tags": []
   },
   "outputs": [],
   "source": [
    "# plot_signal_ema(df_ema, st, mt, lt, relative = True)"
   ]
  },
  {
   "cell_type": "code",
   "execution_count": null,
   "id": "2ac0e513-acb4-4f99-8418-9208c68b1a20",
   "metadata": {
    "tags": []
   },
   "outputs": [],
   "source": [
    "# plot_signal_rel(df_fc, ticker)\n",
    "# plot_regime_rel(df_fc, ticker)"
   ]
  },
  {
   "cell_type": "code",
   "execution_count": null,
   "id": "9cf64b40-df77-4833-9bce-90af7e61548b",
   "metadata": {
    "tags": []
   },
   "outputs": [],
   "source": [
    "# df_fc = df_fc.set_index('date')\n",
    "# df_fc[['rclose','rh3','rl3']].plot(\n",
    "#     style=['grey', 'rv', 'g^'],\n",
    "#     figsize=(20,5),grid=True, title = str.upper(ticker))\n",
    "# plt.show()"
   ]
  },
  {
   "cell_type": "code",
   "execution_count": null,
   "id": "55b947a3-a443-4f1d-8af1-8b0fd4063658",
   "metadata": {
    "tags": []
   },
   "outputs": [],
   "source": [
    "# df_fc[['close','hi3','lo3','rclose','rh3','rl3']].plot(\n",
    "#     style=['grey','rv', 'g^','k:','mv','b^'],\n",
    "#             figsize=(20,5),grid=True, title = str.upper(ticker)+' vs '+str.upper(bm_col))\n",
    "# plt.show()"
   ]
  },
  {
   "cell_type": "code",
   "execution_count": null,
   "id": "e752610e-3ce2-4599-a425-6b1a9e345a6e",
   "metadata": {
    "tags": []
   },
   "outputs": [],
   "source": [
    "# df_fc[['rclose','rh3', 'rl3','rclg','rflr','rrg_ch','rrg']].plot(style=['grey', 'ro', 'go', 'kv', 'k^','c:','y-.'], \n",
    "#                         secondary_y= ['rrg'],figsize=(20,5),grid=True, title = str.upper(ticker))\n",
    "# plt.show()"
   ]
  }
 ],
 "metadata": {
  "kernelspec": {
   "display_name": "Python 3 (ipykernel)",
   "language": "python",
   "name": "python3"
  },
  "language_info": {
   "codemirror_mode": {
    "name": "ipython",
    "version": 3
   },
   "file_extension": ".py",
   "mimetype": "text/x-python",
   "name": "python",
   "nbconvert_exporter": "python",
   "pygments_lexer": "ipython3",
   "version": "3.9.12"
  }
 },
 "nbformat": 4,
 "nbformat_minor": 5
}
