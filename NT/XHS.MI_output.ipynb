{
 "cells": [
  {
   "cell_type": "code",
   "execution_count": 1,
   "id": "07e564cb",
   "metadata": {
    "execution": {
     "iopub.execute_input": "2025-01-07T17:59:26.022364Z",
     "iopub.status.busy": "2025-01-07T17:59:26.022087Z",
     "iopub.status.idle": "2025-01-07T17:59:26.029163Z",
     "shell.execute_reply": "2025-01-07T17:59:26.028482Z"
    },
    "papermill": {
     "duration": 0.012919,
     "end_time": "2025-01-07T17:59:26.030251",
     "exception": false,
     "start_time": "2025-01-07T17:59:26.017332",
     "status": "completed"
    },
    "tags": [
     "injected-parameters"
    ]
   },
   "outputs": [],
   "source": [
    "# Parameters\n",
    "path_to_file = \"data/XHS.MI.xlsx\"\n"
   ]
  },
  {
   "cell_type": "code",
   "execution_count": 2,
   "id": "5efbf512-053b-4bce-9f68-c0b07e257aec",
   "metadata": {
    "execution": {
     "iopub.execute_input": "2025-01-07T17:59:26.037944Z",
     "iopub.status.busy": "2025-01-07T17:59:26.037591Z",
     "iopub.status.idle": "2025-01-07T17:59:26.366921Z",
     "shell.execute_reply": "2025-01-07T17:59:26.366171Z"
    },
    "papermill": {
     "duration": 0.334156,
     "end_time": "2025-01-07T17:59:26.368003",
     "exception": false,
     "start_time": "2025-01-07T17:59:26.033847",
     "status": "completed"
    },
    "tags": []
   },
   "outputs": [
    {
     "name": "stdout",
     "output_type": "stream",
     "text": [
      "Current working directory: /home/runner/work/myfinance/myfinance/NT\n",
      "New current working directory: /home/runner/work/myfinance/myfinance\n"
     ]
    },
    {
     "data": {
      "text/plain": [
       "2"
      ]
     },
     "execution_count": 2,
     "metadata": {},
     "output_type": "execute_result"
    }
   ],
   "source": [
    "import os  \n",
    "import sys  \n",
    "import pandas as pd\n",
    "import openpyxl\n",
    "# import papermill as pm  \n",
    "\n",
    "# get the current working directory  \n",
    "cwd = os.getcwd()  \n",
    "print(\"Current working directory:\", cwd)  \n",
    "  \n",
    "# change the current working directory to one level up  \n",
    "os.chdir(\"..\")  \n",
    "  \n",
    "# get the new current working directory  \n",
    "new_cwd = os.getcwd()  \n",
    "print(\"New current working directory:\", new_cwd) \n",
    "\n",
    "1+1"
   ]
  },
  {
   "cell_type": "code",
   "execution_count": 3,
   "id": "a244e996-b5d1-4551-8a00-065f1f64e197",
   "metadata": {
    "execution": {
     "iopub.execute_input": "2025-01-07T17:59:26.376294Z",
     "iopub.status.busy": "2025-01-07T17:59:26.375799Z",
     "iopub.status.idle": "2025-01-07T17:59:26.930193Z",
     "shell.execute_reply": "2025-01-07T17:59:26.929573Z"
    },
    "papermill": {
     "duration": 0.559661,
     "end_time": "2025-01-07T17:59:26.931430",
     "exception": false,
     "start_time": "2025-01-07T17:59:26.371769",
     "status": "completed"
    },
    "tags": []
   },
   "outputs": [],
   "source": [
    "# add the 'data' folder to the system path  \n",
    "sys.path.append(os.path.abspath(\"data\"))\n",
    "from relative import *\n",
    "from AT_funs import *\n",
    "\n"
   ]
  },
  {
   "cell_type": "code",
   "execution_count": 4,
   "id": "c10e57be-9edb-48b2-a7c7-4d446f107612",
   "metadata": {
    "execution": {
     "iopub.execute_input": "2025-01-07T17:59:26.939961Z",
     "iopub.status.busy": "2025-01-07T17:59:26.939352Z",
     "iopub.status.idle": "2025-01-07T17:59:26.942653Z",
     "shell.execute_reply": "2025-01-07T17:59:26.942087Z"
    },
    "papermill": {
     "duration": 0.008413,
     "end_time": "2025-01-07T17:59:26.943612",
     "exception": false,
     "start_time": "2025-01-07T17:59:26.935199",
     "status": "completed"
    },
    "tags": []
   },
   "outputs": [],
   "source": [
    "# # Get the path of the Excel file from the command line argument  \n",
    "# # filename = sys.argv[1]  \n",
    "# filename = 'data/A2A.MI.xlsx'\n",
    "# df = read_xlsx(filename)\n",
    "# ticker = filename.replace('xlsx', '')\n",
    "# # ticker = ' '\n",
    "# # df\n",
    "# filename_bm = 'data/FTSEMIB.MI.xlsx'\n",
    "# bm_df = read_xlsx(filename_bm)\n",
    "# bm_name = filename_bm.replace('xlsx', '')"
   ]
  },
  {
   "cell_type": "code",
   "execution_count": 5,
   "id": "bf256f3b-01c5-4716-92f2-41c8148bb68b",
   "metadata": {
    "execution": {
     "iopub.execute_input": "2025-01-07T17:59:26.951033Z",
     "iopub.status.busy": "2025-01-07T17:59:26.950779Z",
     "iopub.status.idle": "2025-01-07T17:59:26.953605Z",
     "shell.execute_reply": "2025-01-07T17:59:26.953042Z"
    },
    "papermill": {
     "duration": 0.007683,
     "end_time": "2025-01-07T17:59:26.954607",
     "exception": false,
     "start_time": "2025-01-07T17:59:26.946924",
     "status": "completed"
    },
    "tags": []
   },
   "outputs": [],
   "source": [
    "# plot_abs_rel(df, ticker, bm_df, bm_name)"
   ]
  },
  {
   "cell_type": "code",
   "execution_count": 6,
   "id": "0b660f54-a39b-498e-8eb8-bf81c034988f",
   "metadata": {
    "execution": {
     "iopub.execute_input": "2025-01-07T17:59:26.962212Z",
     "iopub.status.busy": "2025-01-07T17:59:26.961820Z",
     "iopub.status.idle": "2025-01-07T17:59:27.291535Z",
     "shell.execute_reply": "2025-01-07T17:59:27.290782Z"
    },
    "papermill": {
     "duration": 0.335112,
     "end_time": "2025-01-07T17:59:27.293045",
     "exception": false,
     "start_time": "2025-01-07T17:59:26.957933",
     "status": "completed"
    },
    "tags": []
   },
   "outputs": [],
   "source": [
    "# Parameters  \n",
    "# path_to_file: str - the path to the input file  \n",
    "  \n",
    "filename = path_to_file\n",
    "df = read_xlsx(filename)\n",
    "ticker = filename.replace('xlsx', '')\n",
    "# ticker = ' '\n",
    "# df\n",
    "filename_bm = 'data/FTSEMIB.MI.xlsx'\n",
    "bm_df = read_xlsx(filename_bm)\n",
    "bm_name = filename_bm.replace('xlsx', '')"
   ]
  },
  {
   "cell_type": "code",
   "execution_count": 7,
   "id": "55b83496-eb02-490d-aef2-62a6aa478e6e",
   "metadata": {
    "execution": {
     "iopub.execute_input": "2025-01-07T17:59:27.301652Z",
     "iopub.status.busy": "2025-01-07T17:59:27.301184Z",
     "iopub.status.idle": "2025-01-07T17:59:27.577005Z",
     "shell.execute_reply": "2025-01-07T17:59:27.576208Z"
    },
    "papermill": {
     "duration": 0.281389,
     "end_time": "2025-01-07T17:59:27.578178",
     "exception": false,
     "start_time": "2025-01-07T17:59:27.296789",
     "status": "completed"
    },
    "tags": []
   },
   "outputs": [
    {
     "data": {
      "image/png": "[encoded data removed]",
      "text/plain": [
       "<Figure size 2000x800 with 1 Axes>"
      ]
     },
     "metadata": {},
     "output_type": "display_data"
    }
   ],
   "source": [
    "plot_abs_rel(df, ticker, bm_df, bm_name)"
   ]
  },
  {
   "cell_type": "code",
   "execution_count": 8,
   "id": "ede37904-5bbb-418d-9059-699d76bbf0a3",
   "metadata": {
    "execution": {
     "iopub.execute_input": "2025-01-07T17:59:27.588844Z",
     "iopub.status.busy": "2025-01-07T17:59:27.588371Z",
     "iopub.status.idle": "2025-01-07T17:59:27.591685Z",
     "shell.execute_reply": "2025-01-07T17:59:27.591093Z"
    },
    "papermill": {
     "duration": 0.009568,
     "end_time": "2025-01-07T17:59:27.592653",
     "exception": false,
     "start_time": "2025-01-07T17:59:27.583085",
     "status": "completed"
    },
    "tags": []
   },
   "outputs": [],
   "source": [
    "# window_bo = 100\n",
    "# fast = 20\n",
    "# slow = 50\n",
    "# st = 50\n",
    "# mt = 100\n",
    "# lt = 150\n",
    "# lvl = 3\n",
    "# bm_col = 'close'\n",
    "# dgt = 5\n",
    "# window_exp = 100\n",
    "# starting_capital = 100000\n",
    "# lot = 100\n",
    "# mn = -0.0025\n",
    "# mx = -0.0075\n",
    "# # avg = (mn + mx) / 2\n",
    "# tolerance= -0.1\n",
    "# equal_weight = 0.05\n",
    "# span= 5\n",
    "# fx = 1"
   ]
  },
  {
   "cell_type": "code",
   "execution_count": 9,
   "id": "acc836f8-1d67-4cd8-a34f-54476972ed30",
   "metadata": {
    "execution": {
     "iopub.execute_input": "2025-01-07T17:59:27.602446Z",
     "iopub.status.busy": "2025-01-07T17:59:27.602065Z",
     "iopub.status.idle": "2025-01-07T17:59:27.605170Z",
     "shell.execute_reply": "2025-01-07T17:59:27.604420Z"
    },
    "papermill": {
     "duration": 0.009268,
     "end_time": "2025-01-07T17:59:27.606314",
     "exception": false,
     "start_time": "2025-01-07T17:59:27.597046",
     "status": "completed"
    },
    "tags": []
   },
   "outputs": [],
   "source": [
    "# ohlc = ['open','high','low','close']\n",
    "# _o,_h,_l,_c = [ohlc[h] for h in range(len(ohlc))]\n",
    "# ticker = df['ticker'][0]\n",
    "\n",
    "# df = relative(df,_o,_h,_l,_c, bm_df, bm_col, dgt, rebase=True)\n",
    "# df = df.set_index('date')\n",
    "\n",
    "# df_bo = signal_rbo(df, window_bo, relative=True)\n",
    "# df_tt = signal_rtt(df, fast = fast, slow = slow, relative=True)\n",
    "# df_ema = signal_rema(df, st, mt, lt, relative=True)\n",
    "# df_sma = signal_rsma(df, st, mt, lt, relative=True)\n",
    "# df_fc = detect_regime(df, bm_df)"
   ]
  },
  {
   "cell_type": "code",
   "execution_count": 10,
   "id": "0ce95c8f-d951-49c3-a01d-2d1383f76814",
   "metadata": {
    "execution": {
     "iopub.execute_input": "2025-01-07T17:59:27.617106Z",
     "iopub.status.busy": "2025-01-07T17:59:27.616615Z",
     "iopub.status.idle": "2025-01-07T17:59:27.619712Z",
     "shell.execute_reply": "2025-01-07T17:59:27.619157Z"
    },
    "papermill": {
     "duration": 0.009568,
     "end_time": "2025-01-07T17:59:27.620812",
     "exception": false,
     "start_time": "2025-01-07T17:59:27.611244",
     "status": "completed"
    },
    "tags": []
   },
   "outputs": [],
   "source": [
    "# def plot_signal_bo(df, window, ticker, relative):\n",
    "\n",
    "#     _o,_h,_l,_c = lower_upper_OHLC(df,relative = relative)\n",
    "    \n",
    "#     prefix_h = 'hi_'\n",
    "#     prefix_l = 'lo_'\n",
    "#     prefix_bo = 'bo_'\n",
    "#     close = 'close'\n",
    "#     if relative:\n",
    "#         prefix_h = 'rhi_'\n",
    "#         prefix_l = 'rlo_'\n",
    "#         prefix_bo = 'rbo_'  \n",
    "#         close = 'rclose'\n",
    "        \n",
    "#     # df = df.set_index('date')\n",
    "#     df[[close, prefix_h + str(window), prefix_l + str(window), prefix_bo + str(window)]].plot(\n",
    "#         secondary_y= [prefix_bo + str(window)], figsize=(20,5), style=['k','g:','r:','b-.'], \n",
    "#         title = str.upper(ticker)+' '+str(window) +' days high/low')\n",
    "#     plt.show()"
   ]
  },
  {
   "cell_type": "code",
   "execution_count": 11,
   "id": "f1bc238d-36fa-4da1-9257-c78a3d090c85",
   "metadata": {
    "execution": {
     "iopub.execute_input": "2025-01-07T17:59:27.630444Z",
     "iopub.status.busy": "2025-01-07T17:59:27.630106Z",
     "iopub.status.idle": "2025-01-07T17:59:27.633191Z",
     "shell.execute_reply": "2025-01-07T17:59:27.632596Z"
    },
    "papermill": {
     "duration": 0.008989,
     "end_time": "2025-01-07T17:59:27.634216",
     "exception": false,
     "start_time": "2025-01-07T17:59:27.625227",
     "status": "completed"
    },
    "tags": []
   },
   "outputs": [],
   "source": [
    "# plot_signal_bo(df_bo, window_bo, ticker, relative = True)"
   ]
  },
  {
   "cell_type": "code",
   "execution_count": 12,
   "id": "b968e4d7-7e1f-46a0-9612-89d603a2c925",
   "metadata": {
    "execution": {
     "iopub.execute_input": "2025-01-07T17:59:27.644092Z",
     "iopub.status.busy": "2025-01-07T17:59:27.643562Z",
     "iopub.status.idle": "2025-01-07T17:59:27.646726Z",
     "shell.execute_reply": "2025-01-07T17:59:27.646170Z"
    },
    "papermill": {
     "duration": 0.009084,
     "end_time": "2025-01-07T17:59:27.647695",
     "exception": false,
     "start_time": "2025-01-07T17:59:27.638611",
     "status": "completed"
    },
    "tags": []
   },
   "outputs": [],
   "source": [
    "# def plot_signal_tt(df, fast, slow, relative):\n",
    "\n",
    "#     close = 'close'\n",
    "#     tt = 'tt_'\n",
    "#     if relative:\n",
    "#         close = 'rclose'\n",
    "#         tt = 'rtt_'\n",
    "    \n",
    "#     rg_cols = [tt + str(slow)+str(fast)]\n",
    "\n",
    "#     df[[close, tt+ str(slow)+str(fast)] ].plot(\n",
    "#         secondary_y= rg_cols,figsize=(20,5), style=['k','b-.'], \n",
    "#         title = str.upper('')+' '+str(rg_cols))\n",
    "#     plt.show()  "
   ]
  },
  {
   "cell_type": "code",
   "execution_count": 13,
   "id": "087d9ad6-8115-4c8f-9750-8f47a8c7d4c3",
   "metadata": {
    "execution": {
     "iopub.execute_input": "2025-01-07T17:59:27.657445Z",
     "iopub.status.busy": "2025-01-07T17:59:27.657010Z",
     "iopub.status.idle": "2025-01-07T17:59:27.659955Z",
     "shell.execute_reply": "2025-01-07T17:59:27.659375Z"
    },
    "papermill": {
     "duration": 0.008983,
     "end_time": "2025-01-07T17:59:27.660995",
     "exception": false,
     "start_time": "2025-01-07T17:59:27.652012",
     "status": "completed"
    },
    "tags": []
   },
   "outputs": [],
   "source": [
    "# plot_signal_tt(df_tt, fast, slow, relative = True)"
   ]
  },
  {
   "cell_type": "code",
   "execution_count": 14,
   "id": "541bbbe1-ac4a-44db-8812-68151fb35260",
   "metadata": {
    "execution": {
     "iopub.execute_input": "2025-01-07T17:59:27.670600Z",
     "iopub.status.busy": "2025-01-07T17:59:27.670180Z",
     "iopub.status.idle": "2025-01-07T17:59:27.673121Z",
     "shell.execute_reply": "2025-01-07T17:59:27.672577Z"
    },
    "papermill": {
     "duration": 0.008826,
     "end_time": "2025-01-07T17:59:27.674149",
     "exception": false,
     "start_time": "2025-01-07T17:59:27.665323",
     "status": "completed"
    },
    "tags": []
   },
   "outputs": [],
   "source": [
    "# def plot_signal_sma(df, st, mt, lt, relative):\n",
    "\n",
    "#     close = 'close'\n",
    "#     sma = 'sma_'\n",
    "#     ema = 'ema_'\n",
    "#     if relative:\n",
    "#         close = 'rclose'\n",
    "#         sma = 'rsma_'\n",
    "#         ema = 'rema_'\n",
    "\n",
    "#     df[[close,sma+ str(st) + str(mt) + str(lt)] ].plot(\n",
    "#         secondary_y= sma+ str(st) + str(mt) + str(lt),figsize=(20,5), style=['k','b-.'], \n",
    "#         title = str.upper('')+' '+str([sma+ str(st) + str(mt) + str(lt)]))\n",
    "        \n",
    "#     plt.show() "
   ]
  },
  {
   "cell_type": "code",
   "execution_count": 15,
   "id": "2be5be52-9c5a-4311-ac47-4538d580da77",
   "metadata": {
    "execution": {
     "iopub.execute_input": "2025-01-07T17:59:27.683932Z",
     "iopub.status.busy": "2025-01-07T17:59:27.683452Z",
     "iopub.status.idle": "2025-01-07T17:59:27.686468Z",
     "shell.execute_reply": "2025-01-07T17:59:27.685896Z"
    },
    "papermill": {
     "duration": 0.008963,
     "end_time": "2025-01-07T17:59:27.687438",
     "exception": false,
     "start_time": "2025-01-07T17:59:27.678475",
     "status": "completed"
    },
    "tags": []
   },
   "outputs": [],
   "source": [
    "# plot_signal_sma(df_sma, st, mt, lt, relative = True)"
   ]
  },
  {
   "cell_type": "code",
   "execution_count": 16,
   "id": "307b943a-cb79-4140-ad91-2fa62aaccdc2",
   "metadata": {
    "execution": {
     "iopub.execute_input": "2025-01-07T17:59:27.697382Z",
     "iopub.status.busy": "2025-01-07T17:59:27.697133Z",
     "iopub.status.idle": "2025-01-07T17:59:27.700291Z",
     "shell.execute_reply": "2025-01-07T17:59:27.699715Z"
    },
    "papermill": {
     "duration": 0.009328,
     "end_time": "2025-01-07T17:59:27.701321",
     "exception": false,
     "start_time": "2025-01-07T17:59:27.691993",
     "status": "completed"
    },
    "tags": []
   },
   "outputs": [],
   "source": [
    "# def plot_signal_ema(df, st, mt, lt, relative):\n",
    "\n",
    "#     close = 'close'\n",
    "#     sma = 'sma_'\n",
    "#     ema = 'ema_'\n",
    "#     if relative:\n",
    "#         close = 'rclose'\n",
    "#         sma = 'rsma_'\n",
    "#         ema = 'rema_'\n",
    "    \n",
    "#     df[[close,ema+ str(st) + str(mt) + str(lt)] ].plot(\n",
    "#         secondary_y= ema+ str(st) + str(mt) + str(lt),figsize=(20,5), style=['k','b-.'], \n",
    "#         title = str.upper('')+' '+str([ema+ str(st) + str(mt) + str(lt)]))\n",
    "        \n",
    "#     plt.show() "
   ]
  },
  {
   "cell_type": "code",
   "execution_count": 17,
   "id": "43356d36-8b62-4341-a736-8103de9a98db",
   "metadata": {
    "execution": {
     "iopub.execute_input": "2025-01-07T17:59:27.711056Z",
     "iopub.status.busy": "2025-01-07T17:59:27.710638Z",
     "iopub.status.idle": "2025-01-07T17:59:27.713352Z",
     "shell.execute_reply": "2025-01-07T17:59:27.712817Z"
    },
    "papermill": {
     "duration": 0.008719,
     "end_time": "2025-01-07T17:59:27.714407",
     "exception": false,
     "start_time": "2025-01-07T17:59:27.705688",
     "status": "completed"
    },
    "tags": []
   },
   "outputs": [],
   "source": [
    "# plot_signal_ema(df_ema, st, mt, lt, relative = True)"
   ]
  },
  {
   "cell_type": "code",
   "execution_count": 18,
   "id": "2ac0e513-acb4-4f99-8418-9208c68b1a20",
   "metadata": {
    "execution": {
     "iopub.execute_input": "2025-01-07T17:59:27.723853Z",
     "iopub.status.busy": "2025-01-07T17:59:27.723648Z",
     "iopub.status.idle": "2025-01-07T17:59:27.726563Z",
     "shell.execute_reply": "2025-01-07T17:59:27.725967Z"
    },
    "papermill": {
     "duration": 0.008769,
     "end_time": "2025-01-07T17:59:27.727522",
     "exception": false,
     "start_time": "2025-01-07T17:59:27.718753",
     "status": "completed"
    },
    "tags": []
   },
   "outputs": [],
   "source": [
    "# plot_signal_rel(df_fc, ticker)\n",
    "# plot_regime_rel(df_fc, ticker)"
   ]
  },
  {
   "cell_type": "code",
   "execution_count": 19,
   "id": "9cf64b40-df77-4833-9bce-90af7e61548b",
   "metadata": {
    "execution": {
     "iopub.execute_input": "2025-01-07T17:59:27.737542Z",
     "iopub.status.busy": "2025-01-07T17:59:27.736981Z",
     "iopub.status.idle": "2025-01-07T17:59:27.740002Z",
     "shell.execute_reply": "2025-01-07T17:59:27.739344Z"
    },
    "papermill": {
     "duration": 0.009341,
     "end_time": "2025-01-07T17:59:27.741250",
     "exception": false,
     "start_time": "2025-01-07T17:59:27.731909",
     "status": "completed"
    },
    "tags": []
   },
   "outputs": [],
   "source": [
    "# df_fc = df_fc.set_index('date')\n",
    "# df_fc[['rclose','rh3','rl3']].plot(\n",
    "#     style=['grey', 'rv', 'g^'],\n",
    "#     figsize=(20,5),grid=True, title = str.upper(ticker))\n",
    "# plt.show()"
   ]
  },
  {
   "cell_type": "code",
   "execution_count": 20,
   "id": "55b947a3-a443-4f1d-8af1-8b0fd4063658",
   "metadata": {
    "execution": {
     "iopub.execute_input": "2025-01-07T17:59:27.750894Z",
     "iopub.status.busy": "2025-01-07T17:59:27.750490Z",
     "iopub.status.idle": "2025-01-07T17:59:27.753441Z",
     "shell.execute_reply": "2025-01-07T17:59:27.752855Z"
    },
    "papermill": {
     "duration": 0.008731,
     "end_time": "2025-01-07T17:59:27.754373",
     "exception": false,
     "start_time": "2025-01-07T17:59:27.745642",
     "status": "completed"
    },
    "tags": []
   },
   "outputs": [],
   "source": [
    "# df_fc[['close','hi3','lo3','rclose','rh3','rl3']].plot(\n",
    "#     style=['grey','rv', 'g^','k:','mv','b^'],\n",
    "#             figsize=(20,5),grid=True, title = str.upper(ticker)+' vs '+str.upper(bm_col))\n",
    "# plt.show()"
   ]
  },
  {
   "cell_type": "code",
   "execution_count": 21,
   "id": "e752610e-3ce2-4599-a425-6b1a9e345a6e",
   "metadata": {
    "execution": {
     "iopub.execute_input": "2025-01-07T17:59:27.763996Z",
     "iopub.status.busy": "2025-01-07T17:59:27.763633Z",
     "iopub.status.idle": "2025-01-07T17:59:27.766549Z",
     "shell.execute_reply": "2025-01-07T17:59:27.765897Z"
    },
    "papermill": {
     "duration": 0.008891,
     "end_time": "2025-01-07T17:59:27.767612",
     "exception": false,
     "start_time": "2025-01-07T17:59:27.758721",
     "status": "completed"
    },
    "tags": []
   },
   "outputs": [],
   "source": [
    "# df_fc[['rclose','rh3', 'rl3','rclg','rflr','rrg_ch','rrg']].plot(style=['grey', 'ro', 'go', 'kv', 'k^','c:','y-.'], \n",
    "#                         secondary_y= ['rrg'],figsize=(20,5),grid=True, title = str.upper(ticker))\n",
    "# plt.show()"
   ]
  }
 ],
 "metadata": {
  "kernelspec": {
   "display_name": "Python 3 (ipykernel)",
   "language": "python",
   "name": "python3"
  },
  "language_info": {
   "codemirror_mode": {
    "name": "ipython",
    "version": 3
   },
   "file_extension": ".py",
   "mimetype": "text/x-python",
   "name": "python",
   "nbconvert_exporter": "python",
   "pygments_lexer": "ipython3",
   "version": "3.8.18"
  },
  "papermill": {
   "default_parameters": {},
   "duration": 2.70311,
   "end_time": "2025-01-07T17:59:28.088333",
   "environment_variables": {},
   "exception": null,
   "input_path": "template.ipynb",
   "output_path": "XHS.MI_output.ipynb",
   "parameters": {
    "path_to_file": "data/XHS.MI.xlsx"
   },
   "start_time": "2025-01-07T17:59:25.385223",
   "version": "2.6.0"
  }
 },
 "nbformat": 4,
 "nbformat_minor": 5
}