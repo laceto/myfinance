{
 "cells": [
  {
   "cell_type": "code",
   "execution_count": 1,
   "id": "72131f0d",
   "metadata": {
    "execution": {
     "iopub.execute_input": "2025-01-07T17:57:19.951018Z",
     "iopub.status.busy": "2025-01-07T17:57:19.950757Z",
     "iopub.status.idle": "2025-01-07T17:57:19.957601Z",
     "shell.execute_reply": "2025-01-07T17:57:19.957070Z"
    },
    "papermill": {
     "duration": 0.012807,
     "end_time": "2025-01-07T17:57:19.958660",
     "exception": false,
     "start_time": "2025-01-07T17:57:19.945853",
     "status": "completed"
    },
    "tags": [
     "injected-parameters"
    ]
   },
   "outputs": [],
   "source": [
    "# Parameters\n",
    "path_to_file = \"data/VLC.MI.xlsx\"\n"
   ]
  },
  {
   "cell_type": "code",
   "execution_count": 2,
   "id": "5efbf512-053b-4bce-9f68-c0b07e257aec",
   "metadata": {
    "execution": {
     "iopub.execute_input": "2025-01-07T17:57:19.966198Z",
     "iopub.status.busy": "2025-01-07T17:57:19.965803Z",
     "iopub.status.idle": "2025-01-07T17:57:20.295950Z",
     "shell.execute_reply": "2025-01-07T17:57:20.295269Z"
    },
    "papermill": {
     "duration": 0.334985,
     "end_time": "2025-01-07T17:57:20.297056",
     "exception": false,
     "start_time": "2025-01-07T17:57:19.962071",
     "status": "completed"
    },
    "tags": []
   },
   "outputs": [
    {
     "name": "stdout",
     "output_type": "stream",
     "text": [
      "Current working directory: /home/runner/work/myfinance/myfinance/NT\n",
      "New current working directory: /home/runner/work/myfinance/myfinance\n"
     ]
    },
    {
     "data": {
      "text/plain": [
       "2"
      ]
     },
     "execution_count": 2,
     "metadata": {},
     "output_type": "execute_result"
    }
   ],
   "source": [
    "import os  \n",
    "import sys  \n",
    "import pandas as pd\n",
    "import openpyxl\n",
    "# import papermill as pm  \n",
    "\n",
    "# get the current working directory  \n",
    "cwd = os.getcwd()  \n",
    "print(\"Current working directory:\", cwd)  \n",
    "  \n",
    "# change the current working directory to one level up  \n",
    "os.chdir(\"..\")  \n",
    "  \n",
    "# get the new current working directory  \n",
    "new_cwd = os.getcwd()  \n",
    "print(\"New current working directory:\", new_cwd) \n",
    "\n",
    "1+1"
   ]
  },
  {
   "cell_type": "code",
   "execution_count": 3,
   "id": "a244e996-b5d1-4551-8a00-065f1f64e197",
   "metadata": {
    "execution": {
     "iopub.execute_input": "2025-01-07T17:57:20.305654Z",
     "iopub.status.busy": "2025-01-07T17:57:20.304902Z",
     "iopub.status.idle": "2025-01-07T17:57:20.849282Z",
     "shell.execute_reply": "2025-01-07T17:57:20.848646Z"
    },
    "papermill": {
     "duration": 0.54978,
     "end_time": "2025-01-07T17:57:20.850603",
     "exception": false,
     "start_time": "2025-01-07T17:57:20.300823",
     "status": "completed"
    },
    "tags": []
   },
   "outputs": [],
   "source": [
    "# add the 'data' folder to the system path  \n",
    "sys.path.append(os.path.abspath(\"data\"))\n",
    "from relative import *\n",
    "from AT_funs import *\n",
    "\n"
   ]
  },
  {
   "cell_type": "code",
   "execution_count": 4,
   "id": "c10e57be-9edb-48b2-a7c7-4d446f107612",
   "metadata": {
    "execution": {
     "iopub.execute_input": "2025-01-07T17:57:20.858939Z",
     "iopub.status.busy": "2025-01-07T17:57:20.858478Z",
     "iopub.status.idle": "2025-01-07T17:57:20.861731Z",
     "shell.execute_reply": "2025-01-07T17:57:20.861185Z"
    },
    "papermill": {
     "duration": 0.00817,
     "end_time": "2025-01-07T17:57:20.862639",
     "exception": false,
     "start_time": "2025-01-07T17:57:20.854469",
     "status": "completed"
    },
    "tags": []
   },
   "outputs": [],
   "source": [
    "# # Get the path of the Excel file from the command line argument  \n",
    "# # filename = sys.argv[1]  \n",
    "# filename = 'data/A2A.MI.xlsx'\n",
    "# df = read_xlsx(filename)\n",
    "# ticker = filename.replace('xlsx', '')\n",
    "# # ticker = ' '\n",
    "# # df\n",
    "# filename_bm = 'data/FTSEMIB.MI.xlsx'\n",
    "# bm_df = read_xlsx(filename_bm)\n",
    "# bm_name = filename_bm.replace('xlsx', '')"
   ]
  },
  {
   "cell_type": "code",
   "execution_count": 5,
   "id": "bf256f3b-01c5-4716-92f2-41c8148bb68b",
   "metadata": {
    "execution": {
     "iopub.execute_input": "2025-01-07T17:57:20.870227Z",
     "iopub.status.busy": "2025-01-07T17:57:20.869833Z",
     "iopub.status.idle": "2025-01-07T17:57:20.872549Z",
     "shell.execute_reply": "2025-01-07T17:57:20.872016Z"
    },
    "papermill": {
     "duration": 0.007634,
     "end_time": "2025-01-07T17:57:20.873613",
     "exception": false,
     "start_time": "2025-01-07T17:57:20.865979",
     "status": "completed"
    },
    "tags": []
   },
   "outputs": [],
   "source": [
    "# plot_abs_rel(df, ticker, bm_df, bm_name)"
   ]
  },
  {
   "cell_type": "code",
   "execution_count": 6,
   "id": "0b660f54-a39b-498e-8eb8-bf81c034988f",
   "metadata": {
    "execution": {
     "iopub.execute_input": "2025-01-07T17:57:20.881166Z",
     "iopub.status.busy": "2025-01-07T17:57:20.880716Z",
     "iopub.status.idle": "2025-01-07T17:57:21.202143Z",
     "shell.execute_reply": "2025-01-07T17:57:21.201458Z"
    },
    "papermill": {
     "duration": 0.326586,
     "end_time": "2025-01-07T17:57:21.203482",
     "exception": false,
     "start_time": "2025-01-07T17:57:20.876896",
     "status": "completed"
    },
    "tags": []
   },
   "outputs": [],
   "source": [
    "# Parameters  \n",
    "# path_to_file: str - the path to the input file  \n",
    "  \n",
    "filename = path_to_file\n",
    "df = read_xlsx(filename)\n",
    "ticker = filename.replace('xlsx', '')\n",
    "# ticker = ' '\n",
    "# df\n",
    "filename_bm = 'data/FTSEMIB.MI.xlsx'\n",
    "bm_df = read_xlsx(filename_bm)\n",
    "bm_name = filename_bm.replace('xlsx', '')"
   ]
  },
  {
   "cell_type": "code",
   "execution_count": 7,
   "id": "55b83496-eb02-490d-aef2-62a6aa478e6e",
   "metadata": {
    "execution": {
     "iopub.execute_input": "2025-01-07T17:57:21.212268Z",
     "iopub.status.busy": "2025-01-07T17:57:21.211802Z",
     "iopub.status.idle": "2025-01-07T17:57:21.483165Z",
     "shell.execute_reply": "2025-01-07T17:57:21.482458Z"
    },
    "papermill": {
     "duration": 0.276691,
     "end_time": "2025-01-07T17:57:21.484347",
     "exception": false,
     "start_time": "2025-01-07T17:57:21.207656",
     "status": "completed"
    },
    "tags": []
   },
   "outputs": [
    {
     "data": {
      "image/png": "[encoded data removed]",
      "text/plain": [
       "<Figure size 2000x800 with 1 Axes>"
      ]
     },
     "metadata": {},
     "output_type": "display_data"
    }
   ],
   "source": [
    "plot_abs_rel(df, ticker, bm_df, bm_name)"
   ]
  },
  {
   "cell_type": "code",
   "execution_count": 8,
   "id": "ede37904-5bbb-418d-9059-699d76bbf0a3",
   "metadata": {
    "execution": {
     "iopub.execute_input": "2025-01-07T17:57:21.494786Z",
     "iopub.status.busy": "2025-01-07T17:57:21.494223Z",
     "iopub.status.idle": "2025-01-07T17:57:21.497555Z",
     "shell.execute_reply": "2025-01-07T17:57:21.496857Z"
    },
    "papermill": {
     "duration": 0.009496,
     "end_time": "2025-01-07T17:57:21.498613",
     "exception": false,
     "start_time": "2025-01-07T17:57:21.489117",
     "status": "completed"
    },
    "tags": []
   },
   "outputs": [],
   "source": [
    "# window_bo = 100\n",
    "# fast = 20\n",
    "# slow = 50\n",
    "# st = 50\n",
    "# mt = 100\n",
    "# lt = 150\n",
    "# lvl = 3\n",
    "# bm_col = 'close'\n",
    "# dgt = 5\n",
    "# window_exp = 100\n",
    "# starting_capital = 100000\n",
    "# lot = 100\n",
    "# mn = -0.0025\n",
    "# mx = -0.0075\n",
    "# # avg = (mn + mx) / 2\n",
    "# tolerance= -0.1\n",
    "# equal_weight = 0.05\n",
    "# span= 5\n",
    "# fx = 1"
   ]
  },
  {
   "cell_type": "code",
   "execution_count": 9,
   "id": "acc836f8-1d67-4cd8-a34f-54476972ed30",
   "metadata": {
    "execution": {
     "iopub.execute_input": "2025-01-07T17:57:21.508283Z",
     "iopub.status.busy": "2025-01-07T17:57:21.507835Z",
     "iopub.status.idle": "2025-01-07T17:57:21.511105Z",
     "shell.execute_reply": "2025-01-07T17:57:21.510426Z"
    },
    "papermill": {
     "duration": 0.00933,
     "end_time": "2025-01-07T17:57:21.512254",
     "exception": false,
     "start_time": "2025-01-07T17:57:21.502924",
     "status": "completed"
    },
    "tags": []
   },
   "outputs": [],
   "source": [
    "# ohlc = ['open','high','low','close']\n",
    "# _o,_h,_l,_c = [ohlc[h] for h in range(len(ohlc))]\n",
    "# ticker = df['ticker'][0]\n",
    "\n",
    "# df = relative(df,_o,_h,_l,_c, bm_df, bm_col, dgt, rebase=True)\n",
    "# df = df.set_index('date')\n",
    "\n",
    "# df_bo = signal_rbo(df, window_bo, relative=True)\n",
    "# df_tt = signal_rtt(df, fast = fast, slow = slow, relative=True)\n",
    "# df_ema = signal_rema(df, st, mt, lt, relative=True)\n",
    "# df_sma = signal_rsma(df, st, mt, lt, relative=True)\n",
    "# df_fc = detect_regime(df, bm_df)"
   ]
  },
  {
   "cell_type": "code",
   "execution_count": 10,
   "id": "0ce95c8f-d951-49c3-a01d-2d1383f76814",
   "metadata": {
    "execution": {
     "iopub.execute_input": "2025-01-07T17:57:21.522065Z",
     "iopub.status.busy": "2025-01-07T17:57:21.521662Z",
     "iopub.status.idle": "2025-01-07T17:57:21.525009Z",
     "shell.execute_reply": "2025-01-07T17:57:21.524283Z"
    },
    "papermill": {
     "duration": 0.009401,
     "end_time": "2025-01-07T17:57:21.526115",
     "exception": false,
     "start_time": "2025-01-07T17:57:21.516714",
     "status": "completed"
    },
    "tags": []
   },
   "outputs": [],
   "source": [
    "# def plot_signal_bo(df, window, ticker, relative):\n",
    "\n",
    "#     _o,_h,_l,_c = lower_upper_OHLC(df,relative = relative)\n",
    "    \n",
    "#     prefix_h = 'hi_'\n",
    "#     prefix_l = 'lo_'\n",
    "#     prefix_bo = 'bo_'\n",
    "#     close = 'close'\n",
    "#     if relative:\n",
    "#         prefix_h = 'rhi_'\n",
    "#         prefix_l = 'rlo_'\n",
    "#         prefix_bo = 'rbo_'  \n",
    "#         close = 'rclose'\n",
    "        \n",
    "#     # df = df.set_index('date')\n",
    "#     df[[close, prefix_h + str(window), prefix_l + str(window), prefix_bo + str(window)]].plot(\n",
    "#         secondary_y= [prefix_bo + str(window)], figsize=(20,5), style=['k','g:','r:','b-.'], \n",
    "#         title = str.upper(ticker)+' '+str(window) +' days high/low')\n",
    "#     plt.show()"
   ]
  },
  {
   "cell_type": "code",
   "execution_count": 11,
   "id": "f1bc238d-36fa-4da1-9257-c78a3d090c85",
   "metadata": {
    "execution": {
     "iopub.execute_input": "2025-01-07T17:57:21.535807Z",
     "iopub.status.busy": "2025-01-07T17:57:21.535361Z",
     "iopub.status.idle": "2025-01-07T17:57:21.538308Z",
     "shell.execute_reply": "2025-01-07T17:57:21.537746Z"
    },
    "papermill": {
     "duration": 0.008771,
     "end_time": "2025-01-07T17:57:21.539235",
     "exception": false,
     "start_time": "2025-01-07T17:57:21.530464",
     "status": "completed"
    },
    "tags": []
   },
   "outputs": [],
   "source": [
    "# plot_signal_bo(df_bo, window_bo, ticker, relative = True)"
   ]
  },
  {
   "cell_type": "code",
   "execution_count": 12,
   "id": "b968e4d7-7e1f-46a0-9612-89d603a2c925",
   "metadata": {
    "execution": {
     "iopub.execute_input": "2025-01-07T17:57:21.548799Z",
     "iopub.status.busy": "2025-01-07T17:57:21.548576Z",
     "iopub.status.idle": "2025-01-07T17:57:21.551514Z",
     "shell.execute_reply": "2025-01-07T17:57:21.550952Z"
    },
    "papermill": {
     "duration": 0.008993,
     "end_time": "2025-01-07T17:57:21.552556",
     "exception": false,
     "start_time": "2025-01-07T17:57:21.543563",
     "status": "completed"
    },
    "tags": []
   },
   "outputs": [],
   "source": [
    "# def plot_signal_tt(df, fast, slow, relative):\n",
    "\n",
    "#     close = 'close'\n",
    "#     tt = 'tt_'\n",
    "#     if relative:\n",
    "#         close = 'rclose'\n",
    "#         tt = 'rtt_'\n",
    "    \n",
    "#     rg_cols = [tt + str(slow)+str(fast)]\n",
    "\n",
    "#     df[[close, tt+ str(slow)+str(fast)] ].plot(\n",
    "#         secondary_y= rg_cols,figsize=(20,5), style=['k','b-.'], \n",
    "#         title = str.upper('')+' '+str(rg_cols))\n",
    "#     plt.show()  "
   ]
  },
  {
   "cell_type": "code",
   "execution_count": 13,
   "id": "087d9ad6-8115-4c8f-9750-8f47a8c7d4c3",
   "metadata": {
    "execution": {
     "iopub.execute_input": "2025-01-07T17:57:21.562260Z",
     "iopub.status.busy": "2025-01-07T17:57:21.561854Z",
     "iopub.status.idle": "2025-01-07T17:57:21.564664Z",
     "shell.execute_reply": "2025-01-07T17:57:21.564077Z"
    },
    "papermill": {
     "duration": 0.008722,
     "end_time": "2025-01-07T17:57:21.565684",
     "exception": false,
     "start_time": "2025-01-07T17:57:21.556962",
     "status": "completed"
    },
    "tags": []
   },
   "outputs": [],
   "source": [
    "# plot_signal_tt(df_tt, fast, slow, relative = True)"
   ]
  },
  {
   "cell_type": "code",
   "execution_count": 14,
   "id": "541bbbe1-ac4a-44db-8812-68151fb35260",
   "metadata": {
    "execution": {
     "iopub.execute_input": "2025-01-07T17:57:21.575371Z",
     "iopub.status.busy": "2025-01-07T17:57:21.574805Z",
     "iopub.status.idle": "2025-01-07T17:57:21.577985Z",
     "shell.execute_reply": "2025-01-07T17:57:21.577429Z"
    },
    "papermill": {
     "duration": 0.009,
     "end_time": "2025-01-07T17:57:21.578965",
     "exception": false,
     "start_time": "2025-01-07T17:57:21.569965",
     "status": "completed"
    },
    "tags": []
   },
   "outputs": [],
   "source": [
    "# def plot_signal_sma(df, st, mt, lt, relative):\n",
    "\n",
    "#     close = 'close'\n",
    "#     sma = 'sma_'\n",
    "#     ema = 'ema_'\n",
    "#     if relative:\n",
    "#         close = 'rclose'\n",
    "#         sma = 'rsma_'\n",
    "#         ema = 'rema_'\n",
    "\n",
    "#     df[[close,sma+ str(st) + str(mt) + str(lt)] ].plot(\n",
    "#         secondary_y= sma+ str(st) + str(mt) + str(lt),figsize=(20,5), style=['k','b-.'], \n",
    "#         title = str.upper('')+' '+str([sma+ str(st) + str(mt) + str(lt)]))\n",
    "        \n",
    "#     plt.show() "
   ]
  },
  {
   "cell_type": "code",
   "execution_count": 15,
   "id": "2be5be52-9c5a-4311-ac47-4538d580da77",
   "metadata": {
    "execution": {
     "iopub.execute_input": "2025-01-07T17:57:21.588717Z",
     "iopub.status.busy": "2025-01-07T17:57:21.588136Z",
     "iopub.status.idle": "2025-01-07T17:57:21.591080Z",
     "shell.execute_reply": "2025-01-07T17:57:21.590521Z"
    },
    "papermill": {
     "duration": 0.008796,
     "end_time": "2025-01-07T17:57:21.592051",
     "exception": false,
     "start_time": "2025-01-07T17:57:21.583255",
     "status": "completed"
    },
    "tags": []
   },
   "outputs": [],
   "source": [
    "# plot_signal_sma(df_sma, st, mt, lt, relative = True)"
   ]
  },
  {
   "cell_type": "code",
   "execution_count": 16,
   "id": "307b943a-cb79-4140-ad91-2fa62aaccdc2",
   "metadata": {
    "execution": {
     "iopub.execute_input": "2025-01-07T17:57:21.601892Z",
     "iopub.status.busy": "2025-01-07T17:57:21.601405Z",
     "iopub.status.idle": "2025-01-07T17:57:21.604391Z",
     "shell.execute_reply": "2025-01-07T17:57:21.603849Z"
    },
    "papermill": {
     "duration": 0.008875,
     "end_time": "2025-01-07T17:57:21.605397",
     "exception": false,
     "start_time": "2025-01-07T17:57:21.596522",
     "status": "completed"
    },
    "tags": []
   },
   "outputs": [],
   "source": [
    "# def plot_signal_ema(df, st, mt, lt, relative):\n",
    "\n",
    "#     close = 'close'\n",
    "#     sma = 'sma_'\n",
    "#     ema = 'ema_'\n",
    "#     if relative:\n",
    "#         close = 'rclose'\n",
    "#         sma = 'rsma_'\n",
    "#         ema = 'rema_'\n",
    "    \n",
    "#     df[[close,ema+ str(st) + str(mt) + str(lt)] ].plot(\n",
    "#         secondary_y= ema+ str(st) + str(mt) + str(lt),figsize=(20,5), style=['k','b-.'], \n",
    "#         title = str.upper('')+' '+str([ema+ str(st) + str(mt) + str(lt)]))\n",
    "        \n",
    "#     plt.show() "
   ]
  },
  {
   "cell_type": "code",
   "execution_count": 17,
   "id": "43356d36-8b62-4341-a736-8103de9a98db",
   "metadata": {
    "execution": {
     "iopub.execute_input": "2025-01-07T17:57:21.615088Z",
     "iopub.status.busy": "2025-01-07T17:57:21.614728Z",
     "iopub.status.idle": "2025-01-07T17:57:21.617612Z",
     "shell.execute_reply": "2025-01-07T17:57:21.617029Z"
    },
    "papermill": {
     "duration": 0.008596,
     "end_time": "2025-01-07T17:57:21.618528",
     "exception": false,
     "start_time": "2025-01-07T17:57:21.609932",
     "status": "completed"
    },
    "tags": []
   },
   "outputs": [],
   "source": [
    "# plot_signal_ema(df_ema, st, mt, lt, relative = True)"
   ]
  },
  {
   "cell_type": "code",
   "execution_count": 18,
   "id": "2ac0e513-acb4-4f99-8418-9208c68b1a20",
   "metadata": {
    "execution": {
     "iopub.execute_input": "2025-01-07T17:57:21.628084Z",
     "iopub.status.busy": "2025-01-07T17:57:21.627575Z",
     "iopub.status.idle": "2025-01-07T17:57:21.630499Z",
     "shell.execute_reply": "2025-01-07T17:57:21.629926Z"
    },
    "papermill": {
     "duration": 0.00865,
     "end_time": "2025-01-07T17:57:21.631455",
     "exception": false,
     "start_time": "2025-01-07T17:57:21.622805",
     "status": "completed"
    },
    "tags": []
   },
   "outputs": [],
   "source": [
    "# plot_signal_rel(df_fc, ticker)\n",
    "# plot_regime_rel(df_fc, ticker)"
   ]
  },
  {
   "cell_type": "code",
   "execution_count": 19,
   "id": "9cf64b40-df77-4833-9bce-90af7e61548b",
   "metadata": {
    "execution": {
     "iopub.execute_input": "2025-01-07T17:57:21.640893Z",
     "iopub.status.busy": "2025-01-07T17:57:21.640662Z",
     "iopub.status.idle": "2025-01-07T17:57:21.643557Z",
     "shell.execute_reply": "2025-01-07T17:57:21.642899Z"
    },
    "papermill": {
     "duration": 0.00886,
     "end_time": "2025-01-07T17:57:21.644677",
     "exception": false,
     "start_time": "2025-01-07T17:57:21.635817",
     "status": "completed"
    },
    "tags": []
   },
   "outputs": [],
   "source": [
    "# df_fc = df_fc.set_index('date')\n",
    "# df_fc[['rclose','rh3','rl3']].plot(\n",
    "#     style=['grey', 'rv', 'g^'],\n",
    "#     figsize=(20,5),grid=True, title = str.upper(ticker))\n",
    "# plt.show()"
   ]
  },
  {
   "cell_type": "code",
   "execution_count": 20,
   "id": "55b947a3-a443-4f1d-8af1-8b0fd4063658",
   "metadata": {
    "execution": {
     "iopub.execute_input": "2025-01-07T17:57:21.654094Z",
     "iopub.status.busy": "2025-01-07T17:57:21.653768Z",
     "iopub.status.idle": "2025-01-07T17:57:21.656610Z",
     "shell.execute_reply": "2025-01-07T17:57:21.656039Z"
    },
    "papermill": {
     "duration": 0.008668,
     "end_time": "2025-01-07T17:57:21.657605",
     "exception": false,
     "start_time": "2025-01-07T17:57:21.648937",
     "status": "completed"
    },
    "tags": []
   },
   "outputs": [],
   "source": [
    "# df_fc[['close','hi3','lo3','rclose','rh3','rl3']].plot(\n",
    "#     style=['grey','rv', 'g^','k:','mv','b^'],\n",
    "#             figsize=(20,5),grid=True, title = str.upper(ticker)+' vs '+str.upper(bm_col))\n",
    "# plt.show()"
   ]
  },
  {
   "cell_type": "code",
   "execution_count": 21,
   "id": "e752610e-3ce2-4599-a425-6b1a9e345a6e",
   "metadata": {
    "execution": {
     "iopub.execute_input": "2025-01-07T17:57:21.666966Z",
     "iopub.status.busy": "2025-01-07T17:57:21.666608Z",
     "iopub.status.idle": "2025-01-07T17:57:21.669347Z",
     "shell.execute_reply": "2025-01-07T17:57:21.668776Z"
    },
    "papermill": {
     "duration": 0.008468,
     "end_time": "2025-01-07T17:57:21.670334",
     "exception": false,
     "start_time": "2025-01-07T17:57:21.661866",
     "status": "completed"
    },
    "tags": []
   },
   "outputs": [],
   "source": [
    "# df_fc[['rclose','rh3', 'rl3','rclg','rflr','rrg_ch','rrg']].plot(style=['grey', 'ro', 'go', 'kv', 'k^','c:','y-.'], \n",
    "#                         secondary_y= ['rrg'],figsize=(20,5),grid=True, title = str.upper(ticker))\n",
    "# plt.show()"
   ]
  }
 ],
 "metadata": {
  "kernelspec": {
   "display_name": "Python 3 (ipykernel)",
   "language": "python",
   "name": "python3"
  },
  "language_info": {
   "codemirror_mode": {
    "name": "ipython",
    "version": 3
   },
   "file_extension": ".py",
   "mimetype": "text/x-python",
   "name": "python",
   "nbconvert_exporter": "python",
   "pygments_lexer": "ipython3",
   "version": "3.8.18"
  },
  "papermill": {
   "default_parameters": {},
   "duration": 2.868161,
   "end_time": "2025-01-07T17:57:21.990943",
   "environment_variables": {},
   "exception": null,
   "input_path": "template.ipynb",
   "output_path": "VLC.MI_output.ipynb",
   "parameters": {
    "path_to_file": "data/VLC.MI.xlsx"
   },
   "start_time": "2025-01-07T17:57:19.122782",
   "version": "2.6.0"
  }
 },
 "nbformat": 4,
 "nbformat_minor": 5
}