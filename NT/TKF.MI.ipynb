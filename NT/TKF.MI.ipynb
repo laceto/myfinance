{
    "notebook": {
        "nbformat": 4,
        "nbformat_minor": 5,
        "metadata": {},
        "cells": [
            {
                "id": "b4383d47",
                "cell_type": "markdown",
                "source": "# TKF.MI Financial Analysis",
                "metadata": {}
            },
            {
                "id": "359297cf",
                "cell_type": "code",
                "metadata": {},
                "execution_count": null,
                "source": "import pandas as pd",
                "outputs": []
            },
            {
                "id": "686b6390",
                "cell_type": "code",
                "metadata": {},
                "execution_count": null,
                "source": "df = pd.read_excel('data/TKF.MI.xlsx')",
                "outputs": []
            },
            {
                "id": "ed3bfb14",
                "cell_type": "code",
                "metadata": {},
                "execution_count": null,
                "source": "display(df)",
                "outputs": []
            }
        ]
    }
}