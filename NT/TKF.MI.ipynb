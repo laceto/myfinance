{
    "notebook": {
        "nbformat": 4,
        "nbformat_minor": 5,
        "metadata": {},
        "cells": [
            {
                "id": "ee44c8f8",
                "cell_type": "markdown",
                "source": "# TKF.MI Financial Analysis",
                "metadata": {}
            },
            {
                "id": "b07be704",
                "cell_type": "code",
                "metadata": {},
                "execution_count": null,
                "source": "import pandas as pd",
                "outputs": []
            },
            {
                "id": "9979728b",
                "cell_type": "code",
                "metadata": {},
                "execution_count": null,
                "source": "df = pd.read_excel('data/TKF.MI.xlsx')",
                "outputs": []
            },
            {
                "id": "b6388a8a",
                "cell_type": "code",
                "metadata": {},
                "execution_count": null,
                "source": "display(df)",
                "outputs": []
            }
        ]
    }
}