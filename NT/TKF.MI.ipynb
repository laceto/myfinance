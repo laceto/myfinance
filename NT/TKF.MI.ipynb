{
    "notebook": {
        "nbformat": 4,
        "nbformat_minor": 5,
        "metadata": {},
        "cells": [
            {
                "id": "23868d90",
                "cell_type": "markdown",
                "source": "# TKF.MI Financial Analysis",
                "metadata": {}
            },
            {
                "id": "b9c1cc98",
                "cell_type": "code",
                "metadata": {},
                "execution_count": null,
                "source": "import pandas as pd",
                "outputs": []
            },
            {
                "id": "196d639e",
                "cell_type": "code",
                "metadata": {},
                "execution_count": null,
                "source": "df = pd.read_excel('data/TKF.MI.xlsx')",
                "outputs": []
            },
            {
                "id": "9ee7d36c",
                "cell_type": "code",
                "metadata": {},
                "execution_count": null,
                "source": "display(df)",
                "outputs": []
            }
        ]
    }
}