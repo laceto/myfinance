{
 "cells": [
  {
   "cell_type": "code",
   "execution_count": 1,
   "id": "44a33380",
   "metadata": {
    "execution": {
     "iopub.execute_input": "2025-01-07T17:54:00.624812Z",
     "iopub.status.busy": "2025-01-07T17:54:00.624535Z",
     "iopub.status.idle": "2025-01-07T17:54:00.631467Z",
     "shell.execute_reply": "2025-01-07T17:54:00.630808Z"
    },
    "papermill": {
     "duration": 0.012843,
     "end_time": "2025-01-07T17:54:00.632608",
     "exception": false,
     "start_time": "2025-01-07T17:54:00.619765",
     "status": "completed"
    },
    "tags": [
     "injected-parameters"
    ]
   },
   "outputs": [],
   "source": [
    "# Parameters\n",
    "path_to_file = \"data/TFIN.MI.xlsx\"\n"
   ]
  },
  {
   "cell_type": "code",
   "execution_count": 2,
   "id": "5efbf512-053b-4bce-9f68-c0b07e257aec",
   "metadata": {
    "execution": {
     "iopub.execute_input": "2025-01-07T17:54:00.640382Z",
     "iopub.status.busy": "2025-01-07T17:54:00.639997Z",
     "iopub.status.idle": "2025-01-07T17:54:00.971576Z",
     "shell.execute_reply": "2025-01-07T17:54:00.970850Z"
    },
    "papermill": {
     "duration": 0.336456,
     "end_time": "2025-01-07T17:54:00.972675",
     "exception": false,
     "start_time": "2025-01-07T17:54:00.636219",
     "status": "completed"
    },
    "tags": []
   },
   "outputs": [
    {
     "name": "stdout",
     "output_type": "stream",
     "text": [
      "Current working directory: /home/runner/work/myfinance/myfinance/NT\n",
      "New current working directory: /home/runner/work/myfinance/myfinance\n"
     ]
    },
    {
     "data": {
      "text/plain": [
       "2"
      ]
     },
     "execution_count": 2,
     "metadata": {},
     "output_type": "execute_result"
    }
   ],
   "source": [
    "import os  \n",
    "import sys  \n",
    "import pandas as pd\n",
    "import openpyxl\n",
    "# import papermill as pm  \n",
    "\n",
    "# get the current working directory  \n",
    "cwd = os.getcwd()  \n",
    "print(\"Current working directory:\", cwd)  \n",
    "  \n",
    "# change the current working directory to one level up  \n",
    "os.chdir(\"..\")  \n",
    "  \n",
    "# get the new current working directory  \n",
    "new_cwd = os.getcwd()  \n",
    "print(\"New current working directory:\", new_cwd) \n",
    "\n",
    "1+1"
   ]
  },
  {
   "cell_type": "code",
   "execution_count": 3,
   "id": "a244e996-b5d1-4551-8a00-065f1f64e197",
   "metadata": {
    "execution": {
     "iopub.execute_input": "2025-01-07T17:54:00.980968Z",
     "iopub.status.busy": "2025-01-07T17:54:00.980435Z",
     "iopub.status.idle": "2025-01-07T17:54:01.532485Z",
     "shell.execute_reply": "2025-01-07T17:54:01.531878Z"
    },
    "papermill": {
     "duration": 0.557464,
     "end_time": "2025-01-07T17:54:01.533826",
     "exception": false,
     "start_time": "2025-01-07T17:54:00.976362",
     "status": "completed"
    },
    "tags": []
   },
   "outputs": [],
   "source": [
    "# add the 'data' folder to the system path  \n",
    "sys.path.append(os.path.abspath(\"data\"))\n",
    "from relative import *\n",
    "from AT_funs import *\n",
    "\n"
   ]
  },
  {
   "cell_type": "code",
   "execution_count": 4,
   "id": "c10e57be-9edb-48b2-a7c7-4d446f107612",
   "metadata": {
    "execution": {
     "iopub.execute_input": "2025-01-07T17:54:01.542064Z",
     "iopub.status.busy": "2025-01-07T17:54:01.541543Z",
     "iopub.status.idle": "2025-01-07T17:54:01.544954Z",
     "shell.execute_reply": "2025-01-07T17:54:01.544350Z"
    },
    "papermill": {
     "duration": 0.008364,
     "end_time": "2025-01-07T17:54:01.545903",
     "exception": false,
     "start_time": "2025-01-07T17:54:01.537539",
     "status": "completed"
    },
    "tags": []
   },
   "outputs": [],
   "source": [
    "# # Get the path of the Excel file from the command line argument  \n",
    "# # filename = sys.argv[1]  \n",
    "# filename = 'data/A2A.MI.xlsx'\n",
    "# df = read_xlsx(filename)\n",
    "# ticker = filename.replace('xlsx', '')\n",
    "# # ticker = ' '\n",
    "# # df\n",
    "# filename_bm = 'data/FTSEMIB.MI.xlsx'\n",
    "# bm_df = read_xlsx(filename_bm)\n",
    "# bm_name = filename_bm.replace('xlsx', '')"
   ]
  },
  {
   "cell_type": "code",
   "execution_count": 5,
   "id": "bf256f3b-01c5-4716-92f2-41c8148bb68b",
   "metadata": {
    "execution": {
     "iopub.execute_input": "2025-01-07T17:54:01.553468Z",
     "iopub.status.busy": "2025-01-07T17:54:01.553080Z",
     "iopub.status.idle": "2025-01-07T17:54:01.555868Z",
     "shell.execute_reply": "2025-01-07T17:54:01.555309Z"
    },
    "papermill": {
     "duration": 0.007651,
     "end_time": "2025-01-07T17:54:01.556879",
     "exception": false,
     "start_time": "2025-01-07T17:54:01.549228",
     "status": "completed"
    },
    "tags": []
   },
   "outputs": [],
   "source": [
    "# plot_abs_rel(df, ticker, bm_df, bm_name)"
   ]
  },
  {
   "cell_type": "code",
   "execution_count": 6,
   "id": "0b660f54-a39b-498e-8eb8-bf81c034988f",
   "metadata": {
    "execution": {
     "iopub.execute_input": "2025-01-07T17:54:01.564363Z",
     "iopub.status.busy": "2025-01-07T17:54:01.563977Z",
     "iopub.status.idle": "2025-01-07T17:54:02.081074Z",
     "shell.execute_reply": "2025-01-07T17:54:02.080363Z"
    },
    "papermill": {
     "duration": 0.522276,
     "end_time": "2025-01-07T17:54:02.082435",
     "exception": false,
     "start_time": "2025-01-07T17:54:01.560159",
     "status": "completed"
    },
    "tags": []
   },
   "outputs": [],
   "source": [
    "# Parameters  \n",
    "# path_to_file: str - the path to the input file  \n",
    "  \n",
    "filename = path_to_file\n",
    "df = read_xlsx(filename)\n",
    "ticker = filename.replace('xlsx', '')\n",
    "# ticker = ' '\n",
    "# df\n",
    "filename_bm = 'data/FTSEMIB.MI.xlsx'\n",
    "bm_df = read_xlsx(filename_bm)\n",
    "bm_name = filename_bm.replace('xlsx', '')"
   ]
  },
  {
   "cell_type": "code",
   "execution_count": 7,
   "id": "55b83496-eb02-490d-aef2-62a6aa478e6e",
   "metadata": {
    "execution": {
     "iopub.execute_input": "2025-01-07T17:54:02.090681Z",
     "iopub.status.busy": "2025-01-07T17:54:02.090438Z",
     "iopub.status.idle": "2025-01-07T17:54:02.436035Z",
     "shell.execute_reply": "2025-01-07T17:54:02.435300Z"
    },
    "papermill": {
     "duration": 0.351018,
     "end_time": "2025-01-07T17:54:02.437270",
     "exception": false,
     "start_time": "2025-01-07T17:54:02.086252",
     "status": "completed"
    },
    "tags": []
   },
   "outputs": [
    {
     "data": {
      "image/png": "[encoded data removed]",
      "text/plain": [
       "<Figure size 2000x800 with 1 Axes>"
      ]
     },
     "metadata": {},
     "output_type": "display_data"
    }
   ],
   "source": [
    "plot_abs_rel(df, ticker, bm_df, bm_name)"
   ]
  },
  {
   "cell_type": "code",
   "execution_count": 8,
   "id": "ede37904-5bbb-418d-9059-699d76bbf0a3",
   "metadata": {
    "execution": {
     "iopub.execute_input": "2025-01-07T17:54:02.447534Z",
     "iopub.status.busy": "2025-01-07T17:54:02.447087Z",
     "iopub.status.idle": "2025-01-07T17:54:02.450183Z",
     "shell.execute_reply": "2025-01-07T17:54:02.449625Z"
    },
    "papermill": {
     "duration": 0.00913,
     "end_time": "2025-01-07T17:54:02.451152",
     "exception": false,
     "start_time": "2025-01-07T17:54:02.442022",
     "status": "completed"
    },
    "tags": []
   },
   "outputs": [],
   "source": [
    "# window_bo = 100\n",
    "# fast = 20\n",
    "# slow = 50\n",
    "# st = 50\n",
    "# mt = 100\n",
    "# lt = 150\n",
    "# lvl = 3\n",
    "# bm_col = 'close'\n",
    "# dgt = 5\n",
    "# window_exp = 100\n",
    "# starting_capital = 100000\n",
    "# lot = 100\n",
    "# mn = -0.0025\n",
    "# mx = -0.0075\n",
    "# # avg = (mn + mx) / 2\n",
    "# tolerance= -0.1\n",
    "# equal_weight = 0.05\n",
    "# span= 5\n",
    "# fx = 1"
   ]
  },
  {
   "cell_type": "code",
   "execution_count": 9,
   "id": "acc836f8-1d67-4cd8-a34f-54476972ed30",
   "metadata": {
    "execution": {
     "iopub.execute_input": "2025-01-07T17:54:02.460878Z",
     "iopub.status.busy": "2025-01-07T17:54:02.460455Z",
     "iopub.status.idle": "2025-01-07T17:54:02.463650Z",
     "shell.execute_reply": "2025-01-07T17:54:02.462988Z"
    },
    "papermill": {
     "duration": 0.009262,
     "end_time": "2025-01-07T17:54:02.464810",
     "exception": false,
     "start_time": "2025-01-07T17:54:02.455548",
     "status": "completed"
    },
    "tags": []
   },
   "outputs": [],
   "source": [
    "# ohlc = ['open','high','low','close']\n",
    "# _o,_h,_l,_c = [ohlc[h] for h in range(len(ohlc))]\n",
    "# ticker = df['ticker'][0]\n",
    "\n",
    "# df = relative(df,_o,_h,_l,_c, bm_df, bm_col, dgt, rebase=True)\n",
    "# df = df.set_index('date')\n",
    "\n",
    "# df_bo = signal_rbo(df, window_bo, relative=True)\n",
    "# df_tt = signal_rtt(df, fast = fast, slow = slow, relative=True)\n",
    "# df_ema = signal_rema(df, st, mt, lt, relative=True)\n",
    "# df_sma = signal_rsma(df, st, mt, lt, relative=True)\n",
    "# df_fc = detect_regime(df, bm_df)"
   ]
  },
  {
   "cell_type": "code",
   "execution_count": 10,
   "id": "0ce95c8f-d951-49c3-a01d-2d1383f76814",
   "metadata": {
    "execution": {
     "iopub.execute_input": "2025-01-07T17:54:02.474585Z",
     "iopub.status.busy": "2025-01-07T17:54:02.474222Z",
     "iopub.status.idle": "2025-01-07T17:54:02.477426Z",
     "shell.execute_reply": "2025-01-07T17:54:02.476742Z"
    },
    "papermill": {
     "duration": 0.009348,
     "end_time": "2025-01-07T17:54:02.478511",
     "exception": false,
     "start_time": "2025-01-07T17:54:02.469163",
     "status": "completed"
    },
    "tags": []
   },
   "outputs": [],
   "source": [
    "# def plot_signal_bo(df, window, ticker, relative):\n",
    "\n",
    "#     _o,_h,_l,_c = lower_upper_OHLC(df,relative = relative)\n",
    "    \n",
    "#     prefix_h = 'hi_'\n",
    "#     prefix_l = 'lo_'\n",
    "#     prefix_bo = 'bo_'\n",
    "#     close = 'close'\n",
    "#     if relative:\n",
    "#         prefix_h = 'rhi_'\n",
    "#         prefix_l = 'rlo_'\n",
    "#         prefix_bo = 'rbo_'  \n",
    "#         close = 'rclose'\n",
    "        \n",
    "#     # df = df.set_index('date')\n",
    "#     df[[close, prefix_h + str(window), prefix_l + str(window), prefix_bo + str(window)]].plot(\n",
    "#         secondary_y= [prefix_bo + str(window)], figsize=(20,5), style=['k','g:','r:','b-.'], \n",
    "#         title = str.upper(ticker)+' '+str(window) +' days high/low')\n",
    "#     plt.show()"
   ]
  },
  {
   "cell_type": "code",
   "execution_count": 11,
   "id": "f1bc238d-36fa-4da1-9257-c78a3d090c85",
   "metadata": {
    "execution": {
     "iopub.execute_input": "2025-01-07T17:54:02.488199Z",
     "iopub.status.busy": "2025-01-07T17:54:02.487740Z",
     "iopub.status.idle": "2025-01-07T17:54:02.490623Z",
     "shell.execute_reply": "2025-01-07T17:54:02.490049Z"
    },
    "papermill": {
     "duration": 0.008759,
     "end_time": "2025-01-07T17:54:02.491610",
     "exception": false,
     "start_time": "2025-01-07T17:54:02.482851",
     "status": "completed"
    },
    "tags": []
   },
   "outputs": [],
   "source": [
    "# plot_signal_bo(df_bo, window_bo, ticker, relative = True)"
   ]
  },
  {
   "cell_type": "code",
   "execution_count": 12,
   "id": "b968e4d7-7e1f-46a0-9612-89d603a2c925",
   "metadata": {
    "execution": {
     "iopub.execute_input": "2025-01-07T17:54:02.501462Z",
     "iopub.status.busy": "2025-01-07T17:54:02.500913Z",
     "iopub.status.idle": "2025-01-07T17:54:02.505159Z",
     "shell.execute_reply": "2025-01-07T17:54:02.503784Z"
    },
    "papermill": {
     "duration": 0.01038,
     "end_time": "2025-01-07T17:54:02.506376",
     "exception": false,
     "start_time": "2025-01-07T17:54:02.495996",
     "status": "completed"
    },
    "tags": []
   },
   "outputs": [],
   "source": [
    "# def plot_signal_tt(df, fast, slow, relative):\n",
    "\n",
    "#     close = 'close'\n",
    "#     tt = 'tt_'\n",
    "#     if relative:\n",
    "#         close = 'rclose'\n",
    "#         tt = 'rtt_'\n",
    "    \n",
    "#     rg_cols = [tt + str(slow)+str(fast)]\n",
    "\n",
    "#     df[[close, tt+ str(slow)+str(fast)] ].plot(\n",
    "#         secondary_y= rg_cols,figsize=(20,5), style=['k','b-.'], \n",
    "#         title = str.upper('')+' '+str(rg_cols))\n",
    "#     plt.show()  "
   ]
  },
  {
   "cell_type": "code",
   "execution_count": 13,
   "id": "087d9ad6-8115-4c8f-9750-8f47a8c7d4c3",
   "metadata": {
    "execution": {
     "iopub.execute_input": "2025-01-07T17:54:02.516081Z",
     "iopub.status.busy": "2025-01-07T17:54:02.515551Z",
     "iopub.status.idle": "2025-01-07T17:54:02.518537Z",
     "shell.execute_reply": "2025-01-07T17:54:02.517873Z"
    },
    "papermill": {
     "duration": 0.008995,
     "end_time": "2025-01-07T17:54:02.519649",
     "exception": false,
     "start_time": "2025-01-07T17:54:02.510654",
     "status": "completed"
    },
    "tags": []
   },
   "outputs": [],
   "source": [
    "# plot_signal_tt(df_tt, fast, slow, relative = True)"
   ]
  },
  {
   "cell_type": "code",
   "execution_count": 14,
   "id": "541bbbe1-ac4a-44db-8812-68151fb35260",
   "metadata": {
    "execution": {
     "iopub.execute_input": "2025-01-07T17:54:02.529148Z",
     "iopub.status.busy": "2025-01-07T17:54:02.528795Z",
     "iopub.status.idle": "2025-01-07T17:54:02.531793Z",
     "shell.execute_reply": "2025-01-07T17:54:02.531137Z"
    },
    "papermill": {
     "duration": 0.008978,
     "end_time": "2025-01-07T17:54:02.532919",
     "exception": false,
     "start_time": "2025-01-07T17:54:02.523941",
     "status": "completed"
    },
    "tags": []
   },
   "outputs": [],
   "source": [
    "# def plot_signal_sma(df, st, mt, lt, relative):\n",
    "\n",
    "#     close = 'close'\n",
    "#     sma = 'sma_'\n",
    "#     ema = 'ema_'\n",
    "#     if relative:\n",
    "#         close = 'rclose'\n",
    "#         sma = 'rsma_'\n",
    "#         ema = 'rema_'\n",
    "\n",
    "#     df[[close,sma+ str(st) + str(mt) + str(lt)] ].plot(\n",
    "#         secondary_y= sma+ str(st) + str(mt) + str(lt),figsize=(20,5), style=['k','b-.'], \n",
    "#         title = str.upper('')+' '+str([sma+ str(st) + str(mt) + str(lt)]))\n",
    "        \n",
    "#     plt.show() "
   ]
  },
  {
   "cell_type": "code",
   "execution_count": 15,
   "id": "2be5be52-9c5a-4311-ac47-4538d580da77",
   "metadata": {
    "execution": {
     "iopub.execute_input": "2025-01-07T17:54:02.542522Z",
     "iopub.status.busy": "2025-01-07T17:54:02.542038Z",
     "iopub.status.idle": "2025-01-07T17:54:02.545048Z",
     "shell.execute_reply": "2025-01-07T17:54:02.544452Z"
    },
    "papermill": {
     "duration": 0.008866,
     "end_time": "2025-01-07T17:54:02.546073",
     "exception": false,
     "start_time": "2025-01-07T17:54:02.537207",
     "status": "completed"
    },
    "tags": []
   },
   "outputs": [],
   "source": [
    "# plot_signal_sma(df_sma, st, mt, lt, relative = True)"
   ]
  },
  {
   "cell_type": "code",
   "execution_count": 16,
   "id": "307b943a-cb79-4140-ad91-2fa62aaccdc2",
   "metadata": {
    "execution": {
     "iopub.execute_input": "2025-01-07T17:54:02.556119Z",
     "iopub.status.busy": "2025-01-07T17:54:02.555539Z",
     "iopub.status.idle": "2025-01-07T17:54:02.558751Z",
     "shell.execute_reply": "2025-01-07T17:54:02.558199Z"
    },
    "papermill": {
     "duration": 0.009272,
     "end_time": "2025-01-07T17:54:02.559750",
     "exception": false,
     "start_time": "2025-01-07T17:54:02.550478",
     "status": "completed"
    },
    "tags": []
   },
   "outputs": [],
   "source": [
    "# def plot_signal_ema(df, st, mt, lt, relative):\n",
    "\n",
    "#     close = 'close'\n",
    "#     sma = 'sma_'\n",
    "#     ema = 'ema_'\n",
    "#     if relative:\n",
    "#         close = 'rclose'\n",
    "#         sma = 'rsma_'\n",
    "#         ema = 'rema_'\n",
    "    \n",
    "#     df[[close,ema+ str(st) + str(mt) + str(lt)] ].plot(\n",
    "#         secondary_y= ema+ str(st) + str(mt) + str(lt),figsize=(20,5), style=['k','b-.'], \n",
    "#         title = str.upper('')+' '+str([ema+ str(st) + str(mt) + str(lt)]))\n",
    "        \n",
    "#     plt.show() "
   ]
  },
  {
   "cell_type": "code",
   "execution_count": 17,
   "id": "43356d36-8b62-4341-a736-8103de9a98db",
   "metadata": {
    "execution": {
     "iopub.execute_input": "2025-01-07T17:54:02.569313Z",
     "iopub.status.busy": "2025-01-07T17:54:02.568913Z",
     "iopub.status.idle": "2025-01-07T17:54:02.571846Z",
     "shell.execute_reply": "2025-01-07T17:54:02.571280Z"
    },
    "papermill": {
     "duration": 0.008853,
     "end_time": "2025-01-07T17:54:02.572891",
     "exception": false,
     "start_time": "2025-01-07T17:54:02.564038",
     "status": "completed"
    },
    "tags": []
   },
   "outputs": [],
   "source": [
    "# plot_signal_ema(df_ema, st, mt, lt, relative = True)"
   ]
  },
  {
   "cell_type": "code",
   "execution_count": 18,
   "id": "2ac0e513-acb4-4f99-8418-9208c68b1a20",
   "metadata": {
    "execution": {
     "iopub.execute_input": "2025-01-07T17:54:02.582427Z",
     "iopub.status.busy": "2025-01-07T17:54:02.582078Z",
     "iopub.status.idle": "2025-01-07T17:54:02.585043Z",
     "shell.execute_reply": "2025-01-07T17:54:02.584330Z"
    },
    "papermill": {
     "duration": 0.008898,
     "end_time": "2025-01-07T17:54:02.586125",
     "exception": false,
     "start_time": "2025-01-07T17:54:02.577227",
     "status": "completed"
    },
    "tags": []
   },
   "outputs": [],
   "source": [
    "# plot_signal_rel(df_fc, ticker)\n",
    "# plot_regime_rel(df_fc, ticker)"
   ]
  },
  {
   "cell_type": "code",
   "execution_count": 19,
   "id": "9cf64b40-df77-4833-9bce-90af7e61548b",
   "metadata": {
    "execution": {
     "iopub.execute_input": "2025-01-07T17:54:02.595718Z",
     "iopub.status.busy": "2025-01-07T17:54:02.595311Z",
     "iopub.status.idle": "2025-01-07T17:54:02.598267Z",
     "shell.execute_reply": "2025-01-07T17:54:02.597613Z"
    },
    "papermill": {
     "duration": 0.00903,
     "end_time": "2025-01-07T17:54:02.599430",
     "exception": false,
     "start_time": "2025-01-07T17:54:02.590400",
     "status": "completed"
    },
    "tags": []
   },
   "outputs": [],
   "source": [
    "# df_fc = df_fc.set_index('date')\n",
    "# df_fc[['rclose','rh3','rl3']].plot(\n",
    "#     style=['grey', 'rv', 'g^'],\n",
    "#     figsize=(20,5),grid=True, title = str.upper(ticker))\n",
    "# plt.show()"
   ]
  },
  {
   "cell_type": "code",
   "execution_count": 20,
   "id": "55b947a3-a443-4f1d-8af1-8b0fd4063658",
   "metadata": {
    "execution": {
     "iopub.execute_input": "2025-01-07T17:54:02.609019Z",
     "iopub.status.busy": "2025-01-07T17:54:02.608627Z",
     "iopub.status.idle": "2025-01-07T17:54:02.611504Z",
     "shell.execute_reply": "2025-01-07T17:54:02.610845Z"
    },
    "papermill": {
     "duration": 0.008779,
     "end_time": "2025-01-07T17:54:02.612577",
     "exception": false,
     "start_time": "2025-01-07T17:54:02.603798",
     "status": "completed"
    },
    "tags": []
   },
   "outputs": [],
   "source": [
    "# df_fc[['close','hi3','lo3','rclose','rh3','rl3']].plot(\n",
    "#     style=['grey','rv', 'g^','k:','mv','b^'],\n",
    "#             figsize=(20,5),grid=True, title = str.upper(ticker)+' vs '+str.upper(bm_col))\n",
    "# plt.show()"
   ]
  },
  {
   "cell_type": "code",
   "execution_count": 21,
   "id": "e752610e-3ce2-4599-a425-6b1a9e345a6e",
   "metadata": {
    "execution": {
     "iopub.execute_input": "2025-01-07T17:54:02.621828Z",
     "iopub.status.busy": "2025-01-07T17:54:02.621626Z",
     "iopub.status.idle": "2025-01-07T17:54:02.624603Z",
     "shell.execute_reply": "2025-01-07T17:54:02.623908Z"
    },
    "papermill": {
     "duration": 0.008798,
     "end_time": "2025-01-07T17:54:02.625624",
     "exception": false,
     "start_time": "2025-01-07T17:54:02.616826",
     "status": "completed"
    },
    "tags": []
   },
   "outputs": [],
   "source": [
    "# df_fc[['rclose','rh3', 'rl3','rclg','rflr','rrg_ch','rrg']].plot(style=['grey', 'ro', 'go', 'kv', 'k^','c:','y-.'], \n",
    "#                         secondary_y= ['rrg'],figsize=(20,5),grid=True, title = str.upper(ticker))\n",
    "# plt.show()"
   ]
  }
 ],
 "metadata": {
  "kernelspec": {
   "display_name": "Python 3 (ipykernel)",
   "language": "python",
   "name": "python3"
  },
  "language_info": {
   "codemirror_mode": {
    "name": "ipython",
    "version": 3
   },
   "file_extension": ".py",
   "mimetype": "text/x-python",
   "name": "python",
   "nbconvert_exporter": "python",
   "pygments_lexer": "ipython3",
   "version": "3.8.18"
  },
  "papermill": {
   "default_parameters": {},
   "duration": 2.955963,
   "end_time": "2025-01-07T17:54:02.946080",
   "environment_variables": {},
   "exception": null,
   "input_path": "template.ipynb",
   "output_path": "TFIN.MI_output.ipynb",
   "parameters": {
    "path_to_file": "data/TFIN.MI.xlsx"
   },
   "start_time": "2025-01-07T17:53:59.990117",
   "version": "2.6.0"
  }
 },
 "nbformat": 4,
 "nbformat_minor": 5
}