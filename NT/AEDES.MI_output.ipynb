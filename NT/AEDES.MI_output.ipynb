{
 "cells": [
  {
   "cell_type": "code",
   "execution_count": 1,
   "id": "2d3d5ba9",
   "metadata": {
    "execution": {
     "iopub.execute_input": "2025-01-07T16:39:33.445493Z",
     "iopub.status.busy": "2025-01-07T16:39:33.445493Z",
     "iopub.status.idle": "2025-01-07T16:39:33.455465Z",
     "shell.execute_reply": "2025-01-07T16:39:33.454513Z"
    },
    "papermill": {
     "duration": 0.01801,
     "end_time": "2025-01-07T16:39:33.457594",
     "exception": false,
     "start_time": "2025-01-07T16:39:33.439584",
     "status": "completed"
    },
    "tags": [
     "injected-parameters"
    ]
   },
   "outputs": [],
   "source": [
    "# Parameters\n",
    "path_to_file = \"data/AEDES.MI.xlsx\"\n"
   ]
  },
  {
   "cell_type": "code",
   "execution_count": 2,
   "id": "5efbf512-053b-4bce-9f68-c0b07e257aec",
   "metadata": {
    "execution": {
     "iopub.execute_input": "2025-01-07T16:39:33.472528Z",
     "iopub.status.busy": "2025-01-07T16:39:33.471463Z",
     "iopub.status.idle": "2025-01-07T16:39:34.251876Z",
     "shell.execute_reply": "2025-01-07T16:39:34.250912Z"
    },
    "papermill": {
     "duration": 0.788459,
     "end_time": "2025-01-07T16:39:34.252886",
     "exception": false,
     "start_time": "2025-01-07T16:39:33.464427",
     "status": "completed"
    },
    "tags": []
   },
   "outputs": [
    {
     "name": "stdout",
     "output_type": "stream",
     "text": [
      "Current working directory: C:\\Users\\laceto\\OneDrive - Gen Re AzureAD\\Desktop\\lavoro\\Personal projects\\finance\\myfinance 20240708\\NT\n",
      "New current working directory: C:\\Users\\laceto\\OneDrive - Gen Re AzureAD\\Desktop\\lavoro\\Personal projects\\finance\\myfinance 20240708\n"
     ]
    },
    {
     "data": {
      "text/plain": [
       "2"
      ]
     },
     "execution_count": 2,
     "metadata": {},
     "output_type": "execute_result"
    }
   ],
   "source": [
    "import os  \n",
    "import sys  \n",
    "import pandas as pd\n",
    "import openpyxl\n",
    "# import papermill as pm  \n",
    "\n",
    "# get the current working directory  \n",
    "cwd = os.getcwd()  \n",
    "print(\"Current working directory:\", cwd)  \n",
    "  \n",
    "# change the current working directory to one level up  \n",
    "os.chdir(\"..\")  \n",
    "  \n",
    "# get the new current working directory  \n",
    "new_cwd = os.getcwd()  \n",
    "print(\"New current working directory:\", new_cwd) \n",
    "\n",
    "1+1"
   ]
  },
  {
   "cell_type": "code",
   "execution_count": 3,
   "id": "a244e996-b5d1-4551-8a00-065f1f64e197",
   "metadata": {
    "execution": {
     "iopub.execute_input": "2025-01-07T16:39:34.262881Z",
     "iopub.status.busy": "2025-01-07T16:39:34.261886Z",
     "iopub.status.idle": "2025-01-07T16:39:35.153446Z",
     "shell.execute_reply": "2025-01-07T16:39:35.152518Z"
    },
    "papermill": {
     "duration": 0.896603,
     "end_time": "2025-01-07T16:39:35.154474",
     "exception": false,
     "start_time": "2025-01-07T16:39:34.257871",
     "status": "completed"
    },
    "tags": []
   },
   "outputs": [],
   "source": [
    "# add the 'data' folder to the system path  \n",
    "sys.path.append(os.path.abspath(\"data\"))\n",
    "from relative import *\n",
    "from AT_funs import *\n",
    "\n"
   ]
  },
  {
   "cell_type": "code",
   "execution_count": 4,
   "id": "c10e57be-9edb-48b2-a7c7-4d446f107612",
   "metadata": {
    "execution": {
     "iopub.execute_input": "2025-01-07T16:39:35.164435Z",
     "iopub.status.busy": "2025-01-07T16:39:35.163461Z",
     "iopub.status.idle": "2025-01-07T16:39:35.167422Z",
     "shell.execute_reply": "2025-01-07T16:39:35.167422Z"
    },
    "papermill": {
     "duration": 0.009008,
     "end_time": "2025-01-07T16:39:35.168427",
     "exception": false,
     "start_time": "2025-01-07T16:39:35.159419",
     "status": "completed"
    },
    "tags": []
   },
   "outputs": [],
   "source": [
    "# # Get the path of the Excel file from the command line argument  \n",
    "# # filename = sys.argv[1]  \n",
    "# filename = 'data/A2A.MI.xlsx'\n",
    "# df = read_xlsx(filename)\n",
    "# ticker = filename.replace('xlsx', '')\n",
    "# # ticker = ' '\n",
    "# # df\n",
    "# filename_bm = 'data/FTSEMIB.MI.xlsx'\n",
    "# bm_df = read_xlsx(filename_bm)\n",
    "# bm_name = filename_bm.replace('xlsx', '')"
   ]
  },
  {
   "cell_type": "code",
   "execution_count": 5,
   "id": "bf256f3b-01c5-4716-92f2-41c8148bb68b",
   "metadata": {
    "execution": {
     "iopub.execute_input": "2025-01-07T16:39:35.177389Z",
     "iopub.status.busy": "2025-01-07T16:39:35.177389Z",
     "iopub.status.idle": "2025-01-07T16:39:35.183426Z",
     "shell.execute_reply": "2025-01-07T16:39:35.182415Z"
    },
    "papermill": {
     "duration": 0.011999,
     "end_time": "2025-01-07T16:39:35.184406",
     "exception": false,
     "start_time": "2025-01-07T16:39:35.172407",
     "status": "completed"
    },
    "tags": []
   },
   "outputs": [],
   "source": [
    "# plot_abs_rel(df, ticker, bm_df, bm_name)"
   ]
  },
  {
   "cell_type": "code",
   "execution_count": 6,
   "id": "0b660f54-a39b-498e-8eb8-bf81c034988f",
   "metadata": {
    "execution": {
     "iopub.execute_input": "2025-01-07T16:39:35.195320Z",
     "iopub.status.busy": "2025-01-07T16:39:35.195320Z",
     "iopub.status.idle": "2025-01-07T16:39:35.509261Z",
     "shell.execute_reply": "2025-01-07T16:39:35.508278Z"
    },
    "papermill": {
     "duration": 0.321922,
     "end_time": "2025-01-07T16:39:35.511272",
     "exception": false,
     "start_time": "2025-01-07T16:39:35.189350",
     "status": "completed"
    },
    "tags": []
   },
   "outputs": [],
   "source": [
    "# Parameters  \n",
    "# path_to_file: str - the path to the input file  \n",
    "  \n",
    "filename = path_to_file\n",
    "df = read_xlsx(filename)\n",
    "ticker = filename.replace('xlsx', '')\n",
    "# ticker = ' '\n",
    "# df\n",
    "filename_bm = 'data/FTSEMIB.MI.xlsx'\n",
    "bm_df = read_xlsx(filename_bm)\n",
    "bm_name = filename_bm.replace('xlsx', '')"
   ]
  },
  {
   "cell_type": "code",
   "execution_count": 7,
   "id": "55b83496-eb02-490d-aef2-62a6aa478e6e",
   "metadata": {
    "execution": {
     "iopub.execute_input": "2025-01-07T16:39:35.520260Z",
     "iopub.status.busy": "2025-01-07T16:39:35.519248Z",
     "iopub.status.idle": "2025-01-07T16:39:35.724565Z",
     "shell.execute_reply": "2025-01-07T16:39:35.723589Z"
    },
    "papermill": {
     "duration": 0.2103,
     "end_time": "2025-01-07T16:39:35.725556",
     "exception": false,
     "start_time": "2025-01-07T16:39:35.515256",
     "status": "completed"
    },
    "tags": []
   },
   "outputs": [
    {
     "data": {
      "image/png": "[encoded data removed]",
      "text/plain": [
       "<Figure size 2000x800 with 1 Axes>"
      ]
     },
     "metadata": {},
     "output_type": "display_data"
    }
   ],
   "source": [
    "plot_abs_rel(df, ticker, bm_df, bm_name)"
   ]
  },
  {
   "cell_type": "code",
   "execution_count": 8,
   "id": "ede37904-5bbb-418d-9059-699d76bbf0a3",
   "metadata": {
    "execution": {
     "iopub.execute_input": "2025-01-07T16:39:35.737518Z",
     "iopub.status.busy": "2025-01-07T16:39:35.737518Z",
     "iopub.status.idle": "2025-01-07T16:39:35.754532Z",
     "shell.execute_reply": "2025-01-07T16:39:35.753509Z"
    },
    "papermill": {
     "duration": 0.025941,
     "end_time": "2025-01-07T16:39:35.756476",
     "exception": false,
     "start_time": "2025-01-07T16:39:35.730535",
     "status": "completed"
    },
    "tags": []
   },
   "outputs": [],
   "source": [
    "# window_bo = 100\n",
    "# fast = 20\n",
    "# slow = 50\n",
    "# st = 50\n",
    "# mt = 100\n",
    "# lt = 150\n",
    "# lvl = 3\n",
    "# bm_col = 'close'\n",
    "# dgt = 5\n",
    "# window_exp = 100\n",
    "# starting_capital = 100000\n",
    "# lot = 100\n",
    "# mn = -0.0025\n",
    "# mx = -0.0075\n",
    "# # avg = (mn + mx) / 2\n",
    "# tolerance= -0.1\n",
    "# equal_weight = 0.05\n",
    "# span= 5\n",
    "# fx = 1"
   ]
  },
  {
   "cell_type": "code",
   "execution_count": 9,
   "id": "acc836f8-1d67-4cd8-a34f-54476972ed30",
   "metadata": {
    "execution": {
     "iopub.execute_input": "2025-01-07T16:39:35.767456Z",
     "iopub.status.busy": "2025-01-07T16:39:35.767456Z",
     "iopub.status.idle": "2025-01-07T16:39:35.785362Z",
     "shell.execute_reply": "2025-01-07T16:39:35.784394Z"
    },
    "papermill": {
     "duration": 0.024918,
     "end_time": "2025-01-07T16:39:35.786383",
     "exception": false,
     "start_time": "2025-01-07T16:39:35.761465",
     "status": "completed"
    },
    "tags": []
   },
   "outputs": [],
   "source": [
    "# ohlc = ['open','high','low','close']\n",
    "# _o,_h,_l,_c = [ohlc[h] for h in range(len(ohlc))]\n",
    "# ticker = df['ticker'][0]\n",
    "\n",
    "# df = relative(df,_o,_h,_l,_c, bm_df, bm_col, dgt, rebase=True)\n",
    "# df = df.set_index('date')\n",
    "\n",
    "# df_bo = signal_rbo(df, window_bo, relative=True)\n",
    "# df_tt = signal_rtt(df, fast = fast, slow = slow, relative=True)\n",
    "# df_ema = signal_rema(df, st, mt, lt, relative=True)\n",
    "# df_sma = signal_rsma(df, st, mt, lt, relative=True)\n",
    "# df_fc = detect_regime(df, bm_df)"
   ]
  },
  {
   "cell_type": "code",
   "execution_count": 10,
   "id": "0ce95c8f-d951-49c3-a01d-2d1383f76814",
   "metadata": {
    "execution": {
     "iopub.execute_input": "2025-01-07T16:39:35.797355Z",
     "iopub.status.busy": "2025-01-07T16:39:35.796352Z",
     "iopub.status.idle": "2025-01-07T16:39:35.801299Z",
     "shell.execute_reply": "2025-01-07T16:39:35.800331Z"
    },
    "papermill": {
     "duration": 0.010935,
     "end_time": "2025-01-07T16:39:35.802306",
     "exception": false,
     "start_time": "2025-01-07T16:39:35.791371",
     "status": "completed"
    },
    "tags": []
   },
   "outputs": [],
   "source": [
    "# def plot_signal_bo(df, window, ticker, relative):\n",
    "\n",
    "#     _o,_h,_l,_c = lower_upper_OHLC(df,relative = relative)\n",
    "    \n",
    "#     prefix_h = 'hi_'\n",
    "#     prefix_l = 'lo_'\n",
    "#     prefix_bo = 'bo_'\n",
    "#     close = 'close'\n",
    "#     if relative:\n",
    "#         prefix_h = 'rhi_'\n",
    "#         prefix_l = 'rlo_'\n",
    "#         prefix_bo = 'rbo_'  \n",
    "#         close = 'rclose'\n",
    "        \n",
    "#     # df = df.set_index('date')\n",
    "#     df[[close, prefix_h + str(window), prefix_l + str(window), prefix_bo + str(window)]].plot(\n",
    "#         secondary_y= [prefix_bo + str(window)], figsize=(20,5), style=['k','g:','r:','b-.'], \n",
    "#         title = str.upper(ticker)+' '+str(window) +' days high/low')\n",
    "#     plt.show()"
   ]
  },
  {
   "cell_type": "code",
   "execution_count": 11,
   "id": "f1bc238d-36fa-4da1-9257-c78a3d090c85",
   "metadata": {
    "execution": {
     "iopub.execute_input": "2025-01-07T16:39:35.812315Z",
     "iopub.status.busy": "2025-01-07T16:39:35.812315Z",
     "iopub.status.idle": "2025-01-07T16:39:35.816276Z",
     "shell.execute_reply": "2025-01-07T16:39:35.816276Z"
    },
    "papermill": {
     "duration": 0.010928,
     "end_time": "2025-01-07T16:39:35.817204",
     "exception": false,
     "start_time": "2025-01-07T16:39:35.806276",
     "status": "completed"
    },
    "tags": []
   },
   "outputs": [],
   "source": [
    "# plot_signal_bo(df_bo, window_bo, ticker, relative = True)"
   ]
  },
  {
   "cell_type": "code",
   "execution_count": 12,
   "id": "b968e4d7-7e1f-46a0-9612-89d603a2c925",
   "metadata": {
    "execution": {
     "iopub.execute_input": "2025-01-07T16:39:35.828244Z",
     "iopub.status.busy": "2025-01-07T16:39:35.827248Z",
     "iopub.status.idle": "2025-01-07T16:39:35.833162Z",
     "shell.execute_reply": "2025-01-07T16:39:35.832227Z"
    },
    "papermill": {
     "duration": 0.011953,
     "end_time": "2025-01-07T16:39:35.834195",
     "exception": false,
     "start_time": "2025-01-07T16:39:35.822242",
     "status": "completed"
    },
    "tags": []
   },
   "outputs": [],
   "source": [
    "# def plot_signal_tt(df, fast, slow, relative):\n",
    "\n",
    "#     close = 'close'\n",
    "#     tt = 'tt_'\n",
    "#     if relative:\n",
    "#         close = 'rclose'\n",
    "#         tt = 'rtt_'\n",
    "    \n",
    "#     rg_cols = [tt + str(slow)+str(fast)]\n",
    "\n",
    "#     df[[close, tt+ str(slow)+str(fast)] ].plot(\n",
    "#         secondary_y= rg_cols,figsize=(20,5), style=['k','b-.'], \n",
    "#         title = str.upper('')+' '+str(rg_cols))\n",
    "#     plt.show()  "
   ]
  },
  {
   "cell_type": "code",
   "execution_count": 13,
   "id": "087d9ad6-8115-4c8f-9750-8f47a8c7d4c3",
   "metadata": {
    "execution": {
     "iopub.execute_input": "2025-01-07T16:39:35.846173Z",
     "iopub.status.busy": "2025-01-07T16:39:35.846173Z",
     "iopub.status.idle": "2025-01-07T16:39:35.865043Z",
     "shell.execute_reply": "2025-01-07T16:39:35.864117Z"
    },
    "papermill": {
     "duration": 0.025946,
     "end_time": "2025-01-07T16:39:35.866114",
     "exception": false,
     "start_time": "2025-01-07T16:39:35.840168",
     "status": "completed"
    },
    "tags": []
   },
   "outputs": [],
   "source": [
    "# plot_signal_tt(df_tt, fast, slow, relative = True)"
   ]
  },
  {
   "cell_type": "code",
   "execution_count": 14,
   "id": "541bbbe1-ac4a-44db-8812-68151fb35260",
   "metadata": {
    "execution": {
     "iopub.execute_input": "2025-01-07T16:39:35.877075Z",
     "iopub.status.busy": "2025-01-07T16:39:35.877075Z",
     "iopub.status.idle": "2025-01-07T16:39:35.895980Z",
     "shell.execute_reply": "2025-01-07T16:39:35.895010Z"
    },
    "papermill": {
     "duration": 0.025953,
     "end_time": "2025-01-07T16:39:35.897016",
     "exception": false,
     "start_time": "2025-01-07T16:39:35.871063",
     "status": "completed"
    },
    "tags": []
   },
   "outputs": [],
   "source": [
    "# def plot_signal_sma(df, st, mt, lt, relative):\n",
    "\n",
    "#     close = 'close'\n",
    "#     sma = 'sma_'\n",
    "#     ema = 'ema_'\n",
    "#     if relative:\n",
    "#         close = 'rclose'\n",
    "#         sma = 'rsma_'\n",
    "#         ema = 'rema_'\n",
    "\n",
    "#     df[[close,sma+ str(st) + str(mt) + str(lt)] ].plot(\n",
    "#         secondary_y= sma+ str(st) + str(mt) + str(lt),figsize=(20,5), style=['k','b-.'], \n",
    "#         title = str.upper('')+' '+str([sma+ str(st) + str(mt) + str(lt)]))\n",
    "        \n",
    "#     plt.show() "
   ]
  },
  {
   "cell_type": "code",
   "execution_count": 15,
   "id": "2be5be52-9c5a-4311-ac47-4538d580da77",
   "metadata": {
    "execution": {
     "iopub.execute_input": "2025-01-07T16:39:35.906903Z",
     "iopub.status.busy": "2025-01-07T16:39:35.906903Z",
     "iopub.status.idle": "2025-01-07T16:39:35.925909Z",
     "shell.execute_reply": "2025-01-07T16:39:35.924913Z"
    },
    "papermill": {
     "duration": 0.025885,
     "end_time": "2025-01-07T16:39:35.926844",
     "exception": false,
     "start_time": "2025-01-07T16:39:35.900959",
     "status": "completed"
    },
    "tags": []
   },
   "outputs": [],
   "source": [
    "# plot_signal_sma(df_sma, st, mt, lt, relative = True)"
   ]
  },
  {
   "cell_type": "code",
   "execution_count": 16,
   "id": "307b943a-cb79-4140-ad91-2fa62aaccdc2",
   "metadata": {
    "execution": {
     "iopub.execute_input": "2025-01-07T16:39:35.938853Z",
     "iopub.status.busy": "2025-01-07T16:39:35.938853Z",
     "iopub.status.idle": "2025-01-07T16:39:35.956986Z",
     "shell.execute_reply": "2025-01-07T16:39:35.955975Z"
    },
    "papermill": {
     "duration": 0.026029,
     "end_time": "2025-01-07T16:39:35.957932",
     "exception": false,
     "start_time": "2025-01-07T16:39:35.931903",
     "status": "completed"
    },
    "tags": []
   },
   "outputs": [],
   "source": [
    "# def plot_signal_ema(df, st, mt, lt, relative):\n",
    "\n",
    "#     close = 'close'\n",
    "#     sma = 'sma_'\n",
    "#     ema = 'ema_'\n",
    "#     if relative:\n",
    "#         close = 'rclose'\n",
    "#         sma = 'rsma_'\n",
    "#         ema = 'rema_'\n",
    "    \n",
    "#     df[[close,ema+ str(st) + str(mt) + str(lt)] ].plot(\n",
    "#         secondary_y= ema+ str(st) + str(mt) + str(lt),figsize=(20,5), style=['k','b-.'], \n",
    "#         title = str.upper('')+' '+str([ema+ str(st) + str(mt) + str(lt)]))\n",
    "        \n",
    "#     plt.show() "
   ]
  },
  {
   "cell_type": "code",
   "execution_count": 17,
   "id": "43356d36-8b62-4341-a736-8103de9a98db",
   "metadata": {
    "execution": {
     "iopub.execute_input": "2025-01-07T16:39:35.968856Z",
     "iopub.status.busy": "2025-01-07T16:39:35.968856Z",
     "iopub.status.idle": "2025-01-07T16:39:35.986846Z",
     "shell.execute_reply": "2025-01-07T16:39:35.985872Z"
    },
    "papermill": {
     "duration": 0.024837,
     "end_time": "2025-01-07T16:39:35.987796",
     "exception": false,
     "start_time": "2025-01-07T16:39:35.962959",
     "status": "completed"
    },
    "tags": []
   },
   "outputs": [],
   "source": [
    "# plot_signal_ema(df_ema, st, mt, lt, relative = True)"
   ]
  },
  {
   "cell_type": "code",
   "execution_count": 18,
   "id": "2ac0e513-acb4-4f99-8418-9208c68b1a20",
   "metadata": {
    "execution": {
     "iopub.execute_input": "2025-01-07T16:39:35.997829Z",
     "iopub.status.busy": "2025-01-07T16:39:35.997829Z",
     "iopub.status.idle": "2025-01-07T16:39:36.001795Z",
     "shell.execute_reply": "2025-01-07T16:39:36.000834Z"
    },
    "papermill": {
     "duration": 0.009974,
     "end_time": "2025-01-07T16:39:36.002821",
     "exception": false,
     "start_time": "2025-01-07T16:39:35.992847",
     "status": "completed"
    },
    "tags": []
   },
   "outputs": [],
   "source": [
    "# plot_signal_rel(df_fc, ticker)\n",
    "# plot_regime_rel(df_fc, ticker)"
   ]
  },
  {
   "cell_type": "code",
   "execution_count": 19,
   "id": "9cf64b40-df77-4833-9bce-90af7e61548b",
   "metadata": {
    "execution": {
     "iopub.execute_input": "2025-01-07T16:39:36.014746Z",
     "iopub.status.busy": "2025-01-07T16:39:36.014746Z",
     "iopub.status.idle": "2025-01-07T16:39:36.032692Z",
     "shell.execute_reply": "2025-01-07T16:39:36.031733Z"
    },
    "papermill": {
     "duration": 0.026918,
     "end_time": "2025-01-07T16:39:36.033687",
     "exception": false,
     "start_time": "2025-01-07T16:39:36.006769",
     "status": "completed"
    },
    "tags": []
   },
   "outputs": [],
   "source": [
    "# df_fc = df_fc.set_index('date')\n",
    "# df_fc[['rclose','rh3','rl3']].plot(\n",
    "#     style=['grey', 'rv', 'g^'],\n",
    "#     figsize=(20,5),grid=True, title = str.upper(ticker))\n",
    "# plt.show()"
   ]
  },
  {
   "cell_type": "code",
   "execution_count": 20,
   "id": "55b947a3-a443-4f1d-8af1-8b0fd4063658",
   "metadata": {
    "execution": {
     "iopub.execute_input": "2025-01-07T16:39:36.044677Z",
     "iopub.status.busy": "2025-01-07T16:39:36.043694Z",
     "iopub.status.idle": "2025-01-07T16:39:36.048590Z",
     "shell.execute_reply": "2025-01-07T16:39:36.047660Z"
    },
    "papermill": {
     "duration": 0.010893,
     "end_time": "2025-01-07T16:39:36.049586",
     "exception": false,
     "start_time": "2025-01-07T16:39:36.038693",
     "status": "completed"
    },
    "tags": []
   },
   "outputs": [],
   "source": [
    "# df_fc[['close','hi3','lo3','rclose','rh3','rl3']].plot(\n",
    "#     style=['grey','rv', 'g^','k:','mv','b^'],\n",
    "#             figsize=(20,5),grid=True, title = str.upper(ticker)+' vs '+str.upper(bm_col))\n",
    "# plt.show()"
   ]
  },
  {
   "cell_type": "code",
   "execution_count": 21,
   "id": "e752610e-3ce2-4599-a425-6b1a9e345a6e",
   "metadata": {
    "execution": {
     "iopub.execute_input": "2025-01-07T16:39:36.061582Z",
     "iopub.status.busy": "2025-01-07T16:39:36.060597Z",
     "iopub.status.idle": "2025-01-07T16:39:36.079485Z",
     "shell.execute_reply": "2025-01-07T16:39:36.078488Z"
    },
    "papermill": {
     "duration": 0.025863,
     "end_time": "2025-01-07T16:39:36.080482",
     "exception": false,
     "start_time": "2025-01-07T16:39:36.054619",
     "status": "completed"
    },
    "tags": []
   },
   "outputs": [],
   "source": [
    "# df_fc[['rclose','rh3', 'rl3','rclg','rflr','rrg_ch','rrg']].plot(style=['grey', 'ro', 'go', 'kv', 'k^','c:','y-.'], \n",
    "#                         secondary_y= ['rrg'],figsize=(20,5),grid=True, title = str.upper(ticker))\n",
    "# plt.show()"
   ]
  }
 ],
 "metadata": {
  "kernelspec": {
   "display_name": "Python 3 (ipykernel)",
   "language": "python",
   "name": "python3"
  },
  "language_info": {
   "codemirror_mode": {
    "name": "ipython",
    "version": 3
   },
   "file_extension": ".py",
   "mimetype": "text/x-python",
   "name": "python",
   "nbconvert_exporter": "python",
   "pygments_lexer": "ipython3",
   "version": "3.9.12"
  },
  "papermill": {
   "default_parameters": {},
   "duration": 4.771371,
   "end_time": "2025-01-07T16:39:36.327659",
   "environment_variables": {},
   "exception": null,
   "input_path": "template.ipynb",
   "output_path": "AEDES.MI_output.ipynb",
   "parameters": {
    "path_to_file": "data/AEDES.MI.xlsx"
   },
   "start_time": "2025-01-07T16:39:31.556288",
   "version": "2.6.0"
  }
 },
 "nbformat": 4,
 "nbformat_minor": 5
}