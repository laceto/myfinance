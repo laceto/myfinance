{
 "cells": [
  {
   "cell_type": "code",
   "execution_count": 1,
   "id": "226c7681",
   "metadata": {
    "execution": {
     "iopub.execute_input": "2025-01-07T17:52:05.922440Z",
     "iopub.status.busy": "2025-01-07T17:52:05.922168Z",
     "iopub.status.idle": "2025-01-07T17:52:05.928846Z",
     "shell.execute_reply": "2025-01-07T17:52:05.928285Z"
    },
    "papermill": {
     "duration": 0.012313,
     "end_time": "2025-01-07T17:52:05.929793",
     "exception": false,
     "start_time": "2025-01-07T17:52:05.917480",
     "status": "completed"
    },
    "tags": [
     "injected-parameters"
    ]
   },
   "outputs": [],
   "source": [
    "# Parameters\n",
    "path_to_file = \"data/DOT.MI.xlsx\"\n"
   ]
  },
  {
   "cell_type": "code",
   "execution_count": 2,
   "id": "5efbf512-053b-4bce-9f68-c0b07e257aec",
   "metadata": {
    "execution": {
     "iopub.execute_input": "2025-01-07T17:52:05.937792Z",
     "iopub.status.busy": "2025-01-07T17:52:05.937199Z",
     "iopub.status.idle": "2025-01-07T17:52:06.262267Z",
     "shell.execute_reply": "2025-01-07T17:52:06.261589Z"
    },
    "papermill": {
     "duration": 0.330012,
     "end_time": "2025-01-07T17:52:06.263393",
     "exception": false,
     "start_time": "2025-01-07T17:52:05.933381",
     "status": "completed"
    },
    "tags": []
   },
   "outputs": [
    {
     "name": "stdout",
     "output_type": "stream",
     "text": [
      "Current working directory: /home/runner/work/myfinance/myfinance/NT\n",
      "New current working directory: /home/runner/work/myfinance/myfinance\n"
     ]
    },
    {
     "data": {
      "text/plain": [
       "2"
      ]
     },
     "execution_count": 2,
     "metadata": {},
     "output_type": "execute_result"
    }
   ],
   "source": [
    "import os  \n",
    "import sys  \n",
    "import pandas as pd\n",
    "import openpyxl\n",
    "# import papermill as pm  \n",
    "\n",
    "# get the current working directory  \n",
    "cwd = os.getcwd()  \n",
    "print(\"Current working directory:\", cwd)  \n",
    "  \n",
    "# change the current working directory to one level up  \n",
    "os.chdir(\"..\")  \n",
    "  \n",
    "# get the new current working directory  \n",
    "new_cwd = os.getcwd()  \n",
    "print(\"New current working directory:\", new_cwd) \n",
    "\n",
    "1+1"
   ]
  },
  {
   "cell_type": "code",
   "execution_count": 3,
   "id": "a244e996-b5d1-4551-8a00-065f1f64e197",
   "metadata": {
    "execution": {
     "iopub.execute_input": "2025-01-07T17:52:06.271576Z",
     "iopub.status.busy": "2025-01-07T17:52:06.271087Z",
     "iopub.status.idle": "2025-01-07T17:52:06.810014Z",
     "shell.execute_reply": "2025-01-07T17:52:06.809404Z"
    },
    "papermill": {
     "duration": 0.544159,
     "end_time": "2025-01-07T17:52:06.811245",
     "exception": false,
     "start_time": "2025-01-07T17:52:06.267086",
     "status": "completed"
    },
    "tags": []
   },
   "outputs": [],
   "source": [
    "# add the 'data' folder to the system path  \n",
    "sys.path.append(os.path.abspath(\"data\"))\n",
    "from relative import *\n",
    "from AT_funs import *\n",
    "\n"
   ]
  },
  {
   "cell_type": "code",
   "execution_count": 4,
   "id": "c10e57be-9edb-48b2-a7c7-4d446f107612",
   "metadata": {
    "execution": {
     "iopub.execute_input": "2025-01-07T17:52:06.819591Z",
     "iopub.status.busy": "2025-01-07T17:52:06.819078Z",
     "iopub.status.idle": "2025-01-07T17:52:06.822182Z",
     "shell.execute_reply": "2025-01-07T17:52:06.821642Z"
    },
    "papermill": {
     "duration": 0.008227,
     "end_time": "2025-01-07T17:52:06.823183",
     "exception": false,
     "start_time": "2025-01-07T17:52:06.814956",
     "status": "completed"
    },
    "tags": []
   },
   "outputs": [],
   "source": [
    "# # Get the path of the Excel file from the command line argument  \n",
    "# # filename = sys.argv[1]  \n",
    "# filename = 'data/A2A.MI.xlsx'\n",
    "# df = read_xlsx(filename)\n",
    "# ticker = filename.replace('xlsx', '')\n",
    "# # ticker = ' '\n",
    "# # df\n",
    "# filename_bm = 'data/FTSEMIB.MI.xlsx'\n",
    "# bm_df = read_xlsx(filename_bm)\n",
    "# bm_name = filename_bm.replace('xlsx', '')"
   ]
  },
  {
   "cell_type": "code",
   "execution_count": 5,
   "id": "bf256f3b-01c5-4716-92f2-41c8148bb68b",
   "metadata": {
    "execution": {
     "iopub.execute_input": "2025-01-07T17:52:06.830750Z",
     "iopub.status.busy": "2025-01-07T17:52:06.830366Z",
     "iopub.status.idle": "2025-01-07T17:52:06.833094Z",
     "shell.execute_reply": "2025-01-07T17:52:06.832555Z"
    },
    "papermill": {
     "duration": 0.007491,
     "end_time": "2025-01-07T17:52:06.833989",
     "exception": false,
     "start_time": "2025-01-07T17:52:06.826498",
     "status": "completed"
    },
    "tags": []
   },
   "outputs": [],
   "source": [
    "# plot_abs_rel(df, ticker, bm_df, bm_name)"
   ]
  },
  {
   "cell_type": "code",
   "execution_count": 6,
   "id": "0b660f54-a39b-498e-8eb8-bf81c034988f",
   "metadata": {
    "execution": {
     "iopub.execute_input": "2025-01-07T17:52:06.841521Z",
     "iopub.status.busy": "2025-01-07T17:52:06.841096Z",
     "iopub.status.idle": "2025-01-07T17:52:07.180275Z",
     "shell.execute_reply": "2025-01-07T17:52:07.179585Z"
    },
    "papermill": {
     "duration": 0.344339,
     "end_time": "2025-01-07T17:52:07.181624",
     "exception": false,
     "start_time": "2025-01-07T17:52:06.837285",
     "status": "completed"
    },
    "tags": []
   },
   "outputs": [],
   "source": [
    "# Parameters  \n",
    "# path_to_file: str - the path to the input file  \n",
    "  \n",
    "filename = path_to_file\n",
    "df = read_xlsx(filename)\n",
    "ticker = filename.replace('xlsx', '')\n",
    "# ticker = ' '\n",
    "# df\n",
    "filename_bm = 'data/FTSEMIB.MI.xlsx'\n",
    "bm_df = read_xlsx(filename_bm)\n",
    "bm_name = filename_bm.replace('xlsx', '')"
   ]
  },
  {
   "cell_type": "code",
   "execution_count": 7,
   "id": "55b83496-eb02-490d-aef2-62a6aa478e6e",
   "metadata": {
    "execution": {
     "iopub.execute_input": "2025-01-07T17:52:07.190110Z",
     "iopub.status.busy": "2025-01-07T17:52:07.189665Z",
     "iopub.status.idle": "2025-01-07T17:52:07.473931Z",
     "shell.execute_reply": "2025-01-07T17:52:07.473188Z"
    },
    "papermill": {
     "duration": 0.28968,
     "end_time": "2025-01-07T17:52:07.475088",
     "exception": false,
     "start_time": "2025-01-07T17:52:07.185408",
     "status": "completed"
    },
    "tags": []
   },
   "outputs": [
    {
     "data": {
      "image/png": "[encoded data removed]",
      "text/plain": [
       "<Figure size 2000x800 with 1 Axes>"
      ]
     },
     "metadata": {},
     "output_type": "display_data"
    }
   ],
   "source": [
    "plot_abs_rel(df, ticker, bm_df, bm_name)"
   ]
  },
  {
   "cell_type": "code",
   "execution_count": 8,
   "id": "ede37904-5bbb-418d-9059-699d76bbf0a3",
   "metadata": {
    "execution": {
     "iopub.execute_input": "2025-01-07T17:52:07.484781Z",
     "iopub.status.busy": "2025-01-07T17:52:07.484572Z",
     "iopub.status.idle": "2025-01-07T17:52:07.487753Z",
     "shell.execute_reply": "2025-01-07T17:52:07.487045Z"
    },
    "papermill": {
     "duration": 0.009022,
     "end_time": "2025-01-07T17:52:07.488713",
     "exception": false,
     "start_time": "2025-01-07T17:52:07.479691",
     "status": "completed"
    },
    "tags": []
   },
   "outputs": [],
   "source": [
    "# window_bo = 100\n",
    "# fast = 20\n",
    "# slow = 50\n",
    "# st = 50\n",
    "# mt = 100\n",
    "# lt = 150\n",
    "# lvl = 3\n",
    "# bm_col = 'close'\n",
    "# dgt = 5\n",
    "# window_exp = 100\n",
    "# starting_capital = 100000\n",
    "# lot = 100\n",
    "# mn = -0.0025\n",
    "# mx = -0.0075\n",
    "# # avg = (mn + mx) / 2\n",
    "# tolerance= -0.1\n",
    "# equal_weight = 0.05\n",
    "# span= 5\n",
    "# fx = 1"
   ]
  },
  {
   "cell_type": "code",
   "execution_count": 9,
   "id": "acc836f8-1d67-4cd8-a34f-54476972ed30",
   "metadata": {
    "execution": {
     "iopub.execute_input": "2025-01-07T17:52:07.497753Z",
     "iopub.status.busy": "2025-01-07T17:52:07.497557Z",
     "iopub.status.idle": "2025-01-07T17:52:07.500343Z",
     "shell.execute_reply": "2025-01-07T17:52:07.499808Z"
    },
    "papermill": {
     "duration": 0.008459,
     "end_time": "2025-01-07T17:52:07.501326",
     "exception": false,
     "start_time": "2025-01-07T17:52:07.492867",
     "status": "completed"
    },
    "tags": []
   },
   "outputs": [],
   "source": [
    "# ohlc = ['open','high','low','close']\n",
    "# _o,_h,_l,_c = [ohlc[h] for h in range(len(ohlc))]\n",
    "# ticker = df['ticker'][0]\n",
    "\n",
    "# df = relative(df,_o,_h,_l,_c, bm_df, bm_col, dgt, rebase=True)\n",
    "# df = df.set_index('date')\n",
    "\n",
    "# df_bo = signal_rbo(df, window_bo, relative=True)\n",
    "# df_tt = signal_rtt(df, fast = fast, slow = slow, relative=True)\n",
    "# df_ema = signal_rema(df, st, mt, lt, relative=True)\n",
    "# df_sma = signal_rsma(df, st, mt, lt, relative=True)\n",
    "# df_fc = detect_regime(df, bm_df)"
   ]
  },
  {
   "cell_type": "code",
   "execution_count": 10,
   "id": "0ce95c8f-d951-49c3-a01d-2d1383f76814",
   "metadata": {
    "execution": {
     "iopub.execute_input": "2025-01-07T17:52:07.510506Z",
     "iopub.status.busy": "2025-01-07T17:52:07.510297Z",
     "iopub.status.idle": "2025-01-07T17:52:07.513540Z",
     "shell.execute_reply": "2025-01-07T17:52:07.512978Z"
    },
    "papermill": {
     "duration": 0.008973,
     "end_time": "2025-01-07T17:52:07.514445",
     "exception": false,
     "start_time": "2025-01-07T17:52:07.505472",
     "status": "completed"
    },
    "tags": []
   },
   "outputs": [],
   "source": [
    "# def plot_signal_bo(df, window, ticker, relative):\n",
    "\n",
    "#     _o,_h,_l,_c = lower_upper_OHLC(df,relative = relative)\n",
    "    \n",
    "#     prefix_h = 'hi_'\n",
    "#     prefix_l = 'lo_'\n",
    "#     prefix_bo = 'bo_'\n",
    "#     close = 'close'\n",
    "#     if relative:\n",
    "#         prefix_h = 'rhi_'\n",
    "#         prefix_l = 'rlo_'\n",
    "#         prefix_bo = 'rbo_'  \n",
    "#         close = 'rclose'\n",
    "        \n",
    "#     # df = df.set_index('date')\n",
    "#     df[[close, prefix_h + str(window), prefix_l + str(window), prefix_bo + str(window)]].plot(\n",
    "#         secondary_y= [prefix_bo + str(window)], figsize=(20,5), style=['k','g:','r:','b-.'], \n",
    "#         title = str.upper(ticker)+' '+str(window) +' days high/low')\n",
    "#     plt.show()"
   ]
  },
  {
   "cell_type": "code",
   "execution_count": 11,
   "id": "f1bc238d-36fa-4da1-9257-c78a3d090c85",
   "metadata": {
    "execution": {
     "iopub.execute_input": "2025-01-07T17:52:07.523853Z",
     "iopub.status.busy": "2025-01-07T17:52:07.523331Z",
     "iopub.status.idle": "2025-01-07T17:52:07.526318Z",
     "shell.execute_reply": "2025-01-07T17:52:07.525673Z"
    },
    "papermill": {
     "duration": 0.008824,
     "end_time": "2025-01-07T17:52:07.527402",
     "exception": false,
     "start_time": "2025-01-07T17:52:07.518578",
     "status": "completed"
    },
    "tags": []
   },
   "outputs": [],
   "source": [
    "# plot_signal_bo(df_bo, window_bo, ticker, relative = True)"
   ]
  },
  {
   "cell_type": "code",
   "execution_count": 12,
   "id": "b968e4d7-7e1f-46a0-9612-89d603a2c925",
   "metadata": {
    "execution": {
     "iopub.execute_input": "2025-01-07T17:52:07.537045Z",
     "iopub.status.busy": "2025-01-07T17:52:07.536361Z",
     "iopub.status.idle": "2025-01-07T17:52:07.539532Z",
     "shell.execute_reply": "2025-01-07T17:52:07.538986Z"
    },
    "papermill": {
     "duration": 0.008933,
     "end_time": "2025-01-07T17:52:07.540551",
     "exception": false,
     "start_time": "2025-01-07T17:52:07.531618",
     "status": "completed"
    },
    "tags": []
   },
   "outputs": [],
   "source": [
    "# def plot_signal_tt(df, fast, slow, relative):\n",
    "\n",
    "#     close = 'close'\n",
    "#     tt = 'tt_'\n",
    "#     if relative:\n",
    "#         close = 'rclose'\n",
    "#         tt = 'rtt_'\n",
    "    \n",
    "#     rg_cols = [tt + str(slow)+str(fast)]\n",
    "\n",
    "#     df[[close, tt+ str(slow)+str(fast)] ].plot(\n",
    "#         secondary_y= rg_cols,figsize=(20,5), style=['k','b-.'], \n",
    "#         title = str.upper('')+' '+str(rg_cols))\n",
    "#     plt.show()  "
   ]
  },
  {
   "cell_type": "code",
   "execution_count": 13,
   "id": "087d9ad6-8115-4c8f-9750-8f47a8c7d4c3",
   "metadata": {
    "execution": {
     "iopub.execute_input": "2025-01-07T17:52:07.549906Z",
     "iopub.status.busy": "2025-01-07T17:52:07.549472Z",
     "iopub.status.idle": "2025-01-07T17:52:07.552222Z",
     "shell.execute_reply": "2025-01-07T17:52:07.551655Z"
    },
    "papermill": {
     "duration": 0.008513,
     "end_time": "2025-01-07T17:52:07.553212",
     "exception": false,
     "start_time": "2025-01-07T17:52:07.544699",
     "status": "completed"
    },
    "tags": []
   },
   "outputs": [],
   "source": [
    "# plot_signal_tt(df_tt, fast, slow, relative = True)"
   ]
  },
  {
   "cell_type": "code",
   "execution_count": 14,
   "id": "541bbbe1-ac4a-44db-8812-68151fb35260",
   "metadata": {
    "execution": {
     "iopub.execute_input": "2025-01-07T17:52:07.562451Z",
     "iopub.status.busy": "2025-01-07T17:52:07.562065Z",
     "iopub.status.idle": "2025-01-07T17:52:07.565126Z",
     "shell.execute_reply": "2025-01-07T17:52:07.564443Z"
    },
    "papermill": {
     "duration": 0.008691,
     "end_time": "2025-01-07T17:52:07.566072",
     "exception": false,
     "start_time": "2025-01-07T17:52:07.557381",
     "status": "completed"
    },
    "tags": []
   },
   "outputs": [],
   "source": [
    "# def plot_signal_sma(df, st, mt, lt, relative):\n",
    "\n",
    "#     close = 'close'\n",
    "#     sma = 'sma_'\n",
    "#     ema = 'ema_'\n",
    "#     if relative:\n",
    "#         close = 'rclose'\n",
    "#         sma = 'rsma_'\n",
    "#         ema = 'rema_'\n",
    "\n",
    "#     df[[close,sma+ str(st) + str(mt) + str(lt)] ].plot(\n",
    "#         secondary_y= sma+ str(st) + str(mt) + str(lt),figsize=(20,5), style=['k','b-.'], \n",
    "#         title = str.upper('')+' '+str([sma+ str(st) + str(mt) + str(lt)]))\n",
    "        \n",
    "#     plt.show() "
   ]
  },
  {
   "cell_type": "code",
   "execution_count": 15,
   "id": "2be5be52-9c5a-4311-ac47-4538d580da77",
   "metadata": {
    "execution": {
     "iopub.execute_input": "2025-01-07T17:52:07.575392Z",
     "iopub.status.busy": "2025-01-07T17:52:07.574864Z",
     "iopub.status.idle": "2025-01-07T17:52:07.577811Z",
     "shell.execute_reply": "2025-01-07T17:52:07.577269Z"
    },
    "papermill": {
     "duration": 0.008601,
     "end_time": "2025-01-07T17:52:07.578813",
     "exception": false,
     "start_time": "2025-01-07T17:52:07.570212",
     "status": "completed"
    },
    "tags": []
   },
   "outputs": [],
   "source": [
    "# plot_signal_sma(df_sma, st, mt, lt, relative = True)"
   ]
  },
  {
   "cell_type": "code",
   "execution_count": 16,
   "id": "307b943a-cb79-4140-ad91-2fa62aaccdc2",
   "metadata": {
    "execution": {
     "iopub.execute_input": "2025-01-07T17:52:07.588386Z",
     "iopub.status.busy": "2025-01-07T17:52:07.587993Z",
     "iopub.status.idle": "2025-01-07T17:52:07.591081Z",
     "shell.execute_reply": "2025-01-07T17:52:07.590508Z"
    },
    "papermill": {
     "duration": 0.008937,
     "end_time": "2025-01-07T17:52:07.592014",
     "exception": false,
     "start_time": "2025-01-07T17:52:07.583077",
     "status": "completed"
    },
    "tags": []
   },
   "outputs": [],
   "source": [
    "# def plot_signal_ema(df, st, mt, lt, relative):\n",
    "\n",
    "#     close = 'close'\n",
    "#     sma = 'sma_'\n",
    "#     ema = 'ema_'\n",
    "#     if relative:\n",
    "#         close = 'rclose'\n",
    "#         sma = 'rsma_'\n",
    "#         ema = 'rema_'\n",
    "    \n",
    "#     df[[close,ema+ str(st) + str(mt) + str(lt)] ].plot(\n",
    "#         secondary_y= ema+ str(st) + str(mt) + str(lt),figsize=(20,5), style=['k','b-.'], \n",
    "#         title = str.upper('')+' '+str([ema+ str(st) + str(mt) + str(lt)]))\n",
    "        \n",
    "#     plt.show() "
   ]
  },
  {
   "cell_type": "code",
   "execution_count": 17,
   "id": "43356d36-8b62-4341-a736-8103de9a98db",
   "metadata": {
    "execution": {
     "iopub.execute_input": "2025-01-07T17:52:07.601249Z",
     "iopub.status.busy": "2025-01-07T17:52:07.600866Z",
     "iopub.status.idle": "2025-01-07T17:52:07.603767Z",
     "shell.execute_reply": "2025-01-07T17:52:07.603106Z"
    },
    "papermill": {
     "duration": 0.008691,
     "end_time": "2025-01-07T17:52:07.604862",
     "exception": false,
     "start_time": "2025-01-07T17:52:07.596171",
     "status": "completed"
    },
    "tags": []
   },
   "outputs": [],
   "source": [
    "# plot_signal_ema(df_ema, st, mt, lt, relative = True)"
   ]
  },
  {
   "cell_type": "code",
   "execution_count": 18,
   "id": "2ac0e513-acb4-4f99-8418-9208c68b1a20",
   "metadata": {
    "execution": {
     "iopub.execute_input": "2025-01-07T17:52:07.613987Z",
     "iopub.status.busy": "2025-01-07T17:52:07.613608Z",
     "iopub.status.idle": "2025-01-07T17:52:07.616237Z",
     "shell.execute_reply": "2025-01-07T17:52:07.615673Z"
    },
    "papermill": {
     "duration": 0.008225,
     "end_time": "2025-01-07T17:52:07.617234",
     "exception": false,
     "start_time": "2025-01-07T17:52:07.609009",
     "status": "completed"
    },
    "tags": []
   },
   "outputs": [],
   "source": [
    "# plot_signal_rel(df_fc, ticker)\n",
    "# plot_regime_rel(df_fc, ticker)"
   ]
  },
  {
   "cell_type": "code",
   "execution_count": 19,
   "id": "9cf64b40-df77-4833-9bce-90af7e61548b",
   "metadata": {
    "execution": {
     "iopub.execute_input": "2025-01-07T17:52:07.626625Z",
     "iopub.status.busy": "2025-01-07T17:52:07.626220Z",
     "iopub.status.idle": "2025-01-07T17:52:07.628930Z",
     "shell.execute_reply": "2025-01-07T17:52:07.628362Z"
    },
    "papermill": {
     "duration": 0.008569,
     "end_time": "2025-01-07T17:52:07.629962",
     "exception": false,
     "start_time": "2025-01-07T17:52:07.621393",
     "status": "completed"
    },
    "tags": []
   },
   "outputs": [],
   "source": [
    "# df_fc = df_fc.set_index('date')\n",
    "# df_fc[['rclose','rh3','rl3']].plot(\n",
    "#     style=['grey', 'rv', 'g^'],\n",
    "#     figsize=(20,5),grid=True, title = str.upper(ticker))\n",
    "# plt.show()"
   ]
  },
  {
   "cell_type": "code",
   "execution_count": 20,
   "id": "55b947a3-a443-4f1d-8af1-8b0fd4063658",
   "metadata": {
    "execution": {
     "iopub.execute_input": "2025-01-07T17:52:07.639340Z",
     "iopub.status.busy": "2025-01-07T17:52:07.638846Z",
     "iopub.status.idle": "2025-01-07T17:52:07.641778Z",
     "shell.execute_reply": "2025-01-07T17:52:07.641222Z"
    },
    "papermill": {
     "duration": 0.008639,
     "end_time": "2025-01-07T17:52:07.642768",
     "exception": false,
     "start_time": "2025-01-07T17:52:07.634129",
     "status": "completed"
    },
    "tags": []
   },
   "outputs": [],
   "source": [
    "# df_fc[['close','hi3','lo3','rclose','rh3','rl3']].plot(\n",
    "#     style=['grey','rv', 'g^','k:','mv','b^'],\n",
    "#             figsize=(20,5),grid=True, title = str.upper(ticker)+' vs '+str.upper(bm_col))\n",
    "# plt.show()"
   ]
  },
  {
   "cell_type": "code",
   "execution_count": 21,
   "id": "e752610e-3ce2-4599-a425-6b1a9e345a6e",
   "metadata": {
    "execution": {
     "iopub.execute_input": "2025-01-07T17:52:07.652176Z",
     "iopub.status.busy": "2025-01-07T17:52:07.651746Z",
     "iopub.status.idle": "2025-01-07T17:52:07.654685Z",
     "shell.execute_reply": "2025-01-07T17:52:07.654107Z"
    },
    "papermill": {
     "duration": 0.008702,
     "end_time": "2025-01-07T17:52:07.655649",
     "exception": false,
     "start_time": "2025-01-07T17:52:07.646947",
     "status": "completed"
    },
    "tags": []
   },
   "outputs": [],
   "source": [
    "# df_fc[['rclose','rh3', 'rl3','rclg','rflr','rrg_ch','rrg']].plot(style=['grey', 'ro', 'go', 'kv', 'k^','c:','y-.'], \n",
    "#                         secondary_y= ['rrg'],figsize=(20,5),grid=True, title = str.upper(ticker))\n",
    "# plt.show()"
   ]
  }
 ],
 "metadata": {
  "kernelspec": {
   "display_name": "Python 3 (ipykernel)",
   "language": "python",
   "name": "python3"
  },
  "language_info": {
   "codemirror_mode": {
    "name": "ipython",
    "version": 3
   },
   "file_extension": ".py",
   "mimetype": "text/x-python",
   "name": "python",
   "nbconvert_exporter": "python",
   "pygments_lexer": "ipython3",
   "version": "3.8.18"
  },
  "papermill": {
   "default_parameters": {},
   "duration": 2.745441,
   "end_time": "2025-01-07T17:52:07.975823",
   "environment_variables": {},
   "exception": null,
   "input_path": "template.ipynb",
   "output_path": "DOT.MI_output.ipynb",
   "parameters": {
    "path_to_file": "data/DOT.MI.xlsx"
   },
   "start_time": "2025-01-07T17:52:05.230382",
   "version": "2.6.0"
  }
 },
 "nbformat": 4,
 "nbformat_minor": 5
}