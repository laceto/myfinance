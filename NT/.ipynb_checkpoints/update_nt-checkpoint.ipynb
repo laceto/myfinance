{
 "cells": [
  {
   "cell_type": "code",
   "execution_count": null,
   "id": "0d11ff32",
   "metadata": {},
   "outputs": [],
   "source": []
  },
  {
   "cell_type": "code",
   "execution_count": null,
   "id": "f7039294-58a5-48ce-81a5-322a8c226f17",
   "metadata": {},
   "outputs": [],
   "source": [
    "import pandas as pd  \n",
    "import openpyxl\n",
    "  \n",
    "# Read the Excel file  \n",
    "df = pd.read_excel('data/A2A.MI.xlsx')\n",
    "print(df)"
   ]
  }
 ],
 "metadata": {
  "kernelspec": {
   "display_name": "Python 3 (ipykernel)",
   "language": "python",
   "name": "python3"
  },
  "language_info": {
   "codemirror_mode": {
    "name": "ipython",
    "version": 3
   },
   "file_extension": ".py",
   "mimetype": "text/x-python",
   "name": "python",
   "nbconvert_exporter": "python",
   "pygments_lexer": "ipython3",
   "version": "3.9.12"
  }
 },
 "nbformat": 4,
 "nbformat_minor": 5
}
