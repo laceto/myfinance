{
 "cells": [
  {
   "cell_type": "code",
   "execution_count": 1,
   "id": "16fc99bc",
   "metadata": {
    "execution": {
     "iopub.execute_input": "2025-01-07T17:43:18.033282Z",
     "iopub.status.busy": "2025-01-07T17:43:18.032787Z",
     "iopub.status.idle": "2025-01-07T17:43:18.039804Z",
     "shell.execute_reply": "2025-01-07T17:43:18.039143Z"
    },
    "papermill": {
     "duration": 0.013157,
     "end_time": "2025-01-07T17:43:18.041152",
     "exception": false,
     "start_time": "2025-01-07T17:43:18.027995",
     "status": "completed"
    },
    "tags": [
     "injected-parameters"
    ]
   },
   "outputs": [],
   "source": [
    "# Parameters\n",
    "path_to_file = \"data/KK.MI.xlsx\"\n"
   ]
  },
  {
   "cell_type": "code",
   "execution_count": 2,
   "id": "5efbf512-053b-4bce-9f68-c0b07e257aec",
   "metadata": {
    "execution": {
     "iopub.execute_input": "2025-01-07T17:43:18.049452Z",
     "iopub.status.busy": "2025-01-07T17:43:18.048990Z",
     "iopub.status.idle": "2025-01-07T17:43:18.402824Z",
     "shell.execute_reply": "2025-01-07T17:43:18.402095Z"
    },
    "papermill": {
     "duration": 0.359021,
     "end_time": "2025-01-07T17:43:18.403866",
     "exception": false,
     "start_time": "2025-01-07T17:43:18.044845",
     "status": "completed"
    },
    "tags": []
   },
   "outputs": [
    {
     "name": "stdout",
     "output_type": "stream",
     "text": [
      "Current working directory: /home/runner/work/myfinance/myfinance/NT\n",
      "New current working directory: /home/runner/work/myfinance/myfinance\n"
     ]
    },
    {
     "data": {
      "text/plain": [
       "2"
      ]
     },
     "execution_count": 2,
     "metadata": {},
     "output_type": "execute_result"
    }
   ],
   "source": [
    "import os  \n",
    "import sys  \n",
    "import pandas as pd\n",
    "import openpyxl\n",
    "# import papermill as pm  \n",
    "\n",
    "# get the current working directory  \n",
    "cwd = os.getcwd()  \n",
    "print(\"Current working directory:\", cwd)  \n",
    "  \n",
    "# change the current working directory to one level up  \n",
    "os.chdir(\"..\")  \n",
    "  \n",
    "# get the new current working directory  \n",
    "new_cwd = os.getcwd()  \n",
    "print(\"New current working directory:\", new_cwd) \n",
    "\n",
    "1+1"
   ]
  },
  {
   "cell_type": "code",
   "execution_count": 3,
   "id": "a244e996-b5d1-4551-8a00-065f1f64e197",
   "metadata": {
    "execution": {
     "iopub.execute_input": "2025-01-07T17:43:18.412631Z",
     "iopub.status.busy": "2025-01-07T17:43:18.411938Z",
     "iopub.status.idle": "2025-01-07T17:43:19.015924Z",
     "shell.execute_reply": "2025-01-07T17:43:19.015268Z"
    },
    "papermill": {
     "duration": 0.609655,
     "end_time": "2025-01-07T17:43:19.017284",
     "exception": false,
     "start_time": "2025-01-07T17:43:18.407629",
     "status": "completed"
    },
    "tags": []
   },
   "outputs": [],
   "source": [
    "# add the 'data' folder to the system path  \n",
    "sys.path.append(os.path.abspath(\"data\"))\n",
    "from relative import *\n",
    "from AT_funs import *\n",
    "\n"
   ]
  },
  {
   "cell_type": "code",
   "execution_count": 4,
   "id": "c10e57be-9edb-48b2-a7c7-4d446f107612",
   "metadata": {
    "execution": {
     "iopub.execute_input": "2025-01-07T17:43:19.026658Z",
     "iopub.status.busy": "2025-01-07T17:43:19.025975Z",
     "iopub.status.idle": "2025-01-07T17:43:19.029509Z",
     "shell.execute_reply": "2025-01-07T17:43:19.028917Z"
    },
    "papermill": {
     "duration": 0.009133,
     "end_time": "2025-01-07T17:43:19.030520",
     "exception": false,
     "start_time": "2025-01-07T17:43:19.021387",
     "status": "completed"
    },
    "tags": []
   },
   "outputs": [],
   "source": [
    "# # Get the path of the Excel file from the command line argument  \n",
    "# # filename = sys.argv[1]  \n",
    "# filename = 'data/A2A.MI.xlsx'\n",
    "# df = read_xlsx(filename)\n",
    "# ticker = filename.replace('xlsx', '')\n",
    "# # ticker = ' '\n",
    "# # df\n",
    "# filename_bm = 'data/FTSEMIB.MI.xlsx'\n",
    "# bm_df = read_xlsx(filename_bm)\n",
    "# bm_name = filename_bm.replace('xlsx', '')"
   ]
  },
  {
   "cell_type": "code",
   "execution_count": 5,
   "id": "bf256f3b-01c5-4716-92f2-41c8148bb68b",
   "metadata": {
    "execution": {
     "iopub.execute_input": "2025-01-07T17:43:19.038173Z",
     "iopub.status.busy": "2025-01-07T17:43:19.037941Z",
     "iopub.status.idle": "2025-01-07T17:43:19.040985Z",
     "shell.execute_reply": "2025-01-07T17:43:19.040373Z"
    },
    "papermill": {
     "duration": 0.007978,
     "end_time": "2025-01-07T17:43:19.041946",
     "exception": false,
     "start_time": "2025-01-07T17:43:19.033968",
     "status": "completed"
    },
    "tags": []
   },
   "outputs": [],
   "source": [
    "# plot_abs_rel(df, ticker, bm_df, bm_name)"
   ]
  },
  {
   "cell_type": "code",
   "execution_count": 6,
   "id": "0b660f54-a39b-498e-8eb8-bf81c034988f",
   "metadata": {
    "execution": {
     "iopub.execute_input": "2025-01-07T17:43:19.049940Z",
     "iopub.status.busy": "2025-01-07T17:43:19.049402Z",
     "iopub.status.idle": "2025-01-07T17:43:19.382257Z",
     "shell.execute_reply": "2025-01-07T17:43:19.381484Z"
    },
    "papermill": {
     "duration": 0.338332,
     "end_time": "2025-01-07T17:43:19.383705",
     "exception": false,
     "start_time": "2025-01-07T17:43:19.045373",
     "status": "completed"
    },
    "tags": []
   },
   "outputs": [],
   "source": [
    "# Parameters  \n",
    "# path_to_file: str - the path to the input file  \n",
    "  \n",
    "filename = path_to_file\n",
    "df = read_xlsx(filename)\n",
    "ticker = filename.replace('xlsx', '')\n",
    "# ticker = ' '\n",
    "# df\n",
    "filename_bm = 'data/FTSEMIB.MI.xlsx'\n",
    "bm_df = read_xlsx(filename_bm)\n",
    "bm_name = filename_bm.replace('xlsx', '')"
   ]
  },
  {
   "cell_type": "code",
   "execution_count": 7,
   "id": "55b83496-eb02-490d-aef2-62a6aa478e6e",
   "metadata": {
    "execution": {
     "iopub.execute_input": "2025-01-07T17:43:19.393493Z",
     "iopub.status.busy": "2025-01-07T17:43:19.392790Z",
     "iopub.status.idle": "2025-01-07T17:43:19.684226Z",
     "shell.execute_reply": "2025-01-07T17:43:19.683473Z"
    },
    "papermill": {
     "duration": 0.29767,
     "end_time": "2025-01-07T17:43:19.685527",
     "exception": false,
     "start_time": "2025-01-07T17:43:19.387857",
     "status": "completed"
    },
    "tags": []
   },
   "outputs": [
    {
     "data": {
      "image/png": "[encoded data removed]",
      "text/plain": [
       "<Figure size 2000x800 with 1 Axes>"
      ]
     },
     "metadata": {},
     "output_type": "display_data"
    }
   ],
   "source": [
    "plot_abs_rel(df, ticker, bm_df, bm_name)"
   ]
  },
  {
   "cell_type": "code",
   "execution_count": 8,
   "id": "ede37904-5bbb-418d-9059-699d76bbf0a3",
   "metadata": {
    "execution": {
     "iopub.execute_input": "2025-01-07T17:43:19.696479Z",
     "iopub.status.busy": "2025-01-07T17:43:19.695871Z",
     "iopub.status.idle": "2025-01-07T17:43:19.699526Z",
     "shell.execute_reply": "2025-01-07T17:43:19.698773Z"
    },
    "papermill": {
     "duration": 0.010296,
     "end_time": "2025-01-07T17:43:19.700706",
     "exception": false,
     "start_time": "2025-01-07T17:43:19.690410",
     "status": "completed"
    },
    "tags": []
   },
   "outputs": [],
   "source": [
    "# window_bo = 100\n",
    "# fast = 20\n",
    "# slow = 50\n",
    "# st = 50\n",
    "# mt = 100\n",
    "# lt = 150\n",
    "# lvl = 3\n",
    "# bm_col = 'close'\n",
    "# dgt = 5\n",
    "# window_exp = 100\n",
    "# starting_capital = 100000\n",
    "# lot = 100\n",
    "# mn = -0.0025\n",
    "# mx = -0.0075\n",
    "# # avg = (mn + mx) / 2\n",
    "# tolerance= -0.1\n",
    "# equal_weight = 0.05\n",
    "# span= 5\n",
    "# fx = 1"
   ]
  },
  {
   "cell_type": "code",
   "execution_count": 9,
   "id": "acc836f8-1d67-4cd8-a34f-54476972ed30",
   "metadata": {
    "execution": {
     "iopub.execute_input": "2025-01-07T17:43:19.711198Z",
     "iopub.status.busy": "2025-01-07T17:43:19.710606Z",
     "iopub.status.idle": "2025-01-07T17:43:19.714169Z",
     "shell.execute_reply": "2025-01-07T17:43:19.713415Z"
    },
    "papermill": {
     "duration": 0.010029,
     "end_time": "2025-01-07T17:43:19.715371",
     "exception": false,
     "start_time": "2025-01-07T17:43:19.705342",
     "status": "completed"
    },
    "tags": []
   },
   "outputs": [],
   "source": [
    "# ohlc = ['open','high','low','close']\n",
    "# _o,_h,_l,_c = [ohlc[h] for h in range(len(ohlc))]\n",
    "# ticker = df['ticker'][0]\n",
    "\n",
    "# df = relative(df,_o,_h,_l,_c, bm_df, bm_col, dgt, rebase=True)\n",
    "# df = df.set_index('date')\n",
    "\n",
    "# df_bo = signal_rbo(df, window_bo, relative=True)\n",
    "# df_tt = signal_rtt(df, fast = fast, slow = slow, relative=True)\n",
    "# df_ema = signal_rema(df, st, mt, lt, relative=True)\n",
    "# df_sma = signal_rsma(df, st, mt, lt, relative=True)\n",
    "# df_fc = detect_regime(df, bm_df)"
   ]
  },
  {
   "cell_type": "code",
   "execution_count": 10,
   "id": "0ce95c8f-d951-49c3-a01d-2d1383f76814",
   "metadata": {
    "execution": {
     "iopub.execute_input": "2025-01-07T17:43:19.726073Z",
     "iopub.status.busy": "2025-01-07T17:43:19.725536Z",
     "iopub.status.idle": "2025-01-07T17:43:19.729043Z",
     "shell.execute_reply": "2025-01-07T17:43:19.728405Z"
    },
    "papermill": {
     "duration": 0.010035,
     "end_time": "2025-01-07T17:43:19.730054",
     "exception": false,
     "start_time": "2025-01-07T17:43:19.720019",
     "status": "completed"
    },
    "tags": []
   },
   "outputs": [],
   "source": [
    "# def plot_signal_bo(df, window, ticker, relative):\n",
    "\n",
    "#     _o,_h,_l,_c = lower_upper_OHLC(df,relative = relative)\n",
    "    \n",
    "#     prefix_h = 'hi_'\n",
    "#     prefix_l = 'lo_'\n",
    "#     prefix_bo = 'bo_'\n",
    "#     close = 'close'\n",
    "#     if relative:\n",
    "#         prefix_h = 'rhi_'\n",
    "#         prefix_l = 'rlo_'\n",
    "#         prefix_bo = 'rbo_'  \n",
    "#         close = 'rclose'\n",
    "        \n",
    "#     # df = df.set_index('date')\n",
    "#     df[[close, prefix_h + str(window), prefix_l + str(window), prefix_bo + str(window)]].plot(\n",
    "#         secondary_y= [prefix_bo + str(window)], figsize=(20,5), style=['k','g:','r:','b-.'], \n",
    "#         title = str.upper(ticker)+' '+str(window) +' days high/low')\n",
    "#     plt.show()"
   ]
  },
  {
   "cell_type": "code",
   "execution_count": 11,
   "id": "f1bc238d-36fa-4da1-9257-c78a3d090c85",
   "metadata": {
    "execution": {
     "iopub.execute_input": "2025-01-07T17:43:19.740901Z",
     "iopub.status.busy": "2025-01-07T17:43:19.740313Z",
     "iopub.status.idle": "2025-01-07T17:43:19.743618Z",
     "shell.execute_reply": "2025-01-07T17:43:19.743024Z"
    },
    "papermill": {
     "duration": 0.009826,
     "end_time": "2025-01-07T17:43:19.744638",
     "exception": false,
     "start_time": "2025-01-07T17:43:19.734812",
     "status": "completed"
    },
    "tags": []
   },
   "outputs": [],
   "source": [
    "# plot_signal_bo(df_bo, window_bo, ticker, relative = True)"
   ]
  },
  {
   "cell_type": "code",
   "execution_count": 12,
   "id": "b968e4d7-7e1f-46a0-9612-89d603a2c925",
   "metadata": {
    "execution": {
     "iopub.execute_input": "2025-01-07T17:43:19.755444Z",
     "iopub.status.busy": "2025-01-07T17:43:19.754912Z",
     "iopub.status.idle": "2025-01-07T17:43:19.758195Z",
     "shell.execute_reply": "2025-01-07T17:43:19.757623Z"
    },
    "papermill": {
     "duration": 0.009743,
     "end_time": "2025-01-07T17:43:19.759180",
     "exception": false,
     "start_time": "2025-01-07T17:43:19.749437",
     "status": "completed"
    },
    "tags": []
   },
   "outputs": [],
   "source": [
    "# def plot_signal_tt(df, fast, slow, relative):\n",
    "\n",
    "#     close = 'close'\n",
    "#     tt = 'tt_'\n",
    "#     if relative:\n",
    "#         close = 'rclose'\n",
    "#         tt = 'rtt_'\n",
    "    \n",
    "#     rg_cols = [tt + str(slow)+str(fast)]\n",
    "\n",
    "#     df[[close, tt+ str(slow)+str(fast)] ].plot(\n",
    "#         secondary_y= rg_cols,figsize=(20,5), style=['k','b-.'], \n",
    "#         title = str.upper('')+' '+str(rg_cols))\n",
    "#     plt.show()  "
   ]
  },
  {
   "cell_type": "code",
   "execution_count": 13,
   "id": "087d9ad6-8115-4c8f-9750-8f47a8c7d4c3",
   "metadata": {
    "execution": {
     "iopub.execute_input": "2025-01-07T17:43:19.769874Z",
     "iopub.status.busy": "2025-01-07T17:43:19.769200Z",
     "iopub.status.idle": "2025-01-07T17:43:19.772676Z",
     "shell.execute_reply": "2025-01-07T17:43:19.772034Z"
    },
    "papermill": {
     "duration": 0.009979,
     "end_time": "2025-01-07T17:43:19.773716",
     "exception": false,
     "start_time": "2025-01-07T17:43:19.763737",
     "status": "completed"
    },
    "tags": []
   },
   "outputs": [],
   "source": [
    "# plot_signal_tt(df_tt, fast, slow, relative = True)"
   ]
  },
  {
   "cell_type": "code",
   "execution_count": 14,
   "id": "541bbbe1-ac4a-44db-8812-68151fb35260",
   "metadata": {
    "execution": {
     "iopub.execute_input": "2025-01-07T17:43:19.784408Z",
     "iopub.status.busy": "2025-01-07T17:43:19.783786Z",
     "iopub.status.idle": "2025-01-07T17:43:19.787403Z",
     "shell.execute_reply": "2025-01-07T17:43:19.786789Z"
    },
    "papermill": {
     "duration": 0.01011,
     "end_time": "2025-01-07T17:43:19.788463",
     "exception": false,
     "start_time": "2025-01-07T17:43:19.778353",
     "status": "completed"
    },
    "tags": []
   },
   "outputs": [],
   "source": [
    "# def plot_signal_sma(df, st, mt, lt, relative):\n",
    "\n",
    "#     close = 'close'\n",
    "#     sma = 'sma_'\n",
    "#     ema = 'ema_'\n",
    "#     if relative:\n",
    "#         close = 'rclose'\n",
    "#         sma = 'rsma_'\n",
    "#         ema = 'rema_'\n",
    "\n",
    "#     df[[close,sma+ str(st) + str(mt) + str(lt)] ].plot(\n",
    "#         secondary_y= sma+ str(st) + str(mt) + str(lt),figsize=(20,5), style=['k','b-.'], \n",
    "#         title = str.upper('')+' '+str([sma+ str(st) + str(mt) + str(lt)]))\n",
    "        \n",
    "#     plt.show() "
   ]
  },
  {
   "cell_type": "code",
   "execution_count": 15,
   "id": "2be5be52-9c5a-4311-ac47-4538d580da77",
   "metadata": {
    "execution": {
     "iopub.execute_input": "2025-01-07T17:43:19.799153Z",
     "iopub.status.busy": "2025-01-07T17:43:19.798532Z",
     "iopub.status.idle": "2025-01-07T17:43:19.801919Z",
     "shell.execute_reply": "2025-01-07T17:43:19.801248Z"
    },
    "papermill": {
     "duration": 0.009838,
     "end_time": "2025-01-07T17:43:19.803094",
     "exception": false,
     "start_time": "2025-01-07T17:43:19.793256",
     "status": "completed"
    },
    "tags": []
   },
   "outputs": [],
   "source": [
    "# plot_signal_sma(df_sma, st, mt, lt, relative = True)"
   ]
  },
  {
   "cell_type": "code",
   "execution_count": 16,
   "id": "307b943a-cb79-4140-ad91-2fa62aaccdc2",
   "metadata": {
    "execution": {
     "iopub.execute_input": "2025-01-07T17:43:19.813365Z",
     "iopub.status.busy": "2025-01-07T17:43:19.812913Z",
     "iopub.status.idle": "2025-01-07T17:43:19.816328Z",
     "shell.execute_reply": "2025-01-07T17:43:19.815625Z"
    },
    "papermill": {
     "duration": 0.009838,
     "end_time": "2025-01-07T17:43:19.817443",
     "exception": false,
     "start_time": "2025-01-07T17:43:19.807605",
     "status": "completed"
    },
    "tags": []
   },
   "outputs": [],
   "source": [
    "# def plot_signal_ema(df, st, mt, lt, relative):\n",
    "\n",
    "#     close = 'close'\n",
    "#     sma = 'sma_'\n",
    "#     ema = 'ema_'\n",
    "#     if relative:\n",
    "#         close = 'rclose'\n",
    "#         sma = 'rsma_'\n",
    "#         ema = 'rema_'\n",
    "    \n",
    "#     df[[close,ema+ str(st) + str(mt) + str(lt)] ].plot(\n",
    "#         secondary_y= ema+ str(st) + str(mt) + str(lt),figsize=(20,5), style=['k','b-.'], \n",
    "#         title = str.upper('')+' '+str([ema+ str(st) + str(mt) + str(lt)]))\n",
    "        \n",
    "#     plt.show() "
   ]
  },
  {
   "cell_type": "code",
   "execution_count": 17,
   "id": "43356d36-8b62-4341-a736-8103de9a98db",
   "metadata": {
    "execution": {
     "iopub.execute_input": "2025-01-07T17:43:19.827778Z",
     "iopub.status.busy": "2025-01-07T17:43:19.827162Z",
     "iopub.status.idle": "2025-01-07T17:43:19.830548Z",
     "shell.execute_reply": "2025-01-07T17:43:19.829826Z"
    },
    "papermill": {
     "duration": 0.009675,
     "end_time": "2025-01-07T17:43:19.831674",
     "exception": false,
     "start_time": "2025-01-07T17:43:19.821999",
     "status": "completed"
    },
    "tags": []
   },
   "outputs": [],
   "source": [
    "# plot_signal_ema(df_ema, st, mt, lt, relative = True)"
   ]
  },
  {
   "cell_type": "code",
   "execution_count": 18,
   "id": "2ac0e513-acb4-4f99-8418-9208c68b1a20",
   "metadata": {
    "execution": {
     "iopub.execute_input": "2025-01-07T17:43:19.841710Z",
     "iopub.status.busy": "2025-01-07T17:43:19.841252Z",
     "iopub.status.idle": "2025-01-07T17:43:19.844373Z",
     "shell.execute_reply": "2025-01-07T17:43:19.843683Z"
    },
    "papermill": {
     "duration": 0.009571,
     "end_time": "2025-01-07T17:43:19.845729",
     "exception": false,
     "start_time": "2025-01-07T17:43:19.836158",
     "status": "completed"
    },
    "tags": []
   },
   "outputs": [],
   "source": [
    "# plot_signal_rel(df_fc, ticker)\n",
    "# plot_regime_rel(df_fc, ticker)"
   ]
  },
  {
   "cell_type": "code",
   "execution_count": 19,
   "id": "9cf64b40-df77-4833-9bce-90af7e61548b",
   "metadata": {
    "execution": {
     "iopub.execute_input": "2025-01-07T17:43:19.855952Z",
     "iopub.status.busy": "2025-01-07T17:43:19.855500Z",
     "iopub.status.idle": "2025-01-07T17:43:19.858441Z",
     "shell.execute_reply": "2025-01-07T17:43:19.857868Z"
    },
    "papermill": {
     "duration": 0.009215,
     "end_time": "2025-01-07T17:43:19.859484",
     "exception": false,
     "start_time": "2025-01-07T17:43:19.850269",
     "status": "completed"
    },
    "tags": []
   },
   "outputs": [],
   "source": [
    "# df_fc = df_fc.set_index('date')\n",
    "# df_fc[['rclose','rh3','rl3']].plot(\n",
    "#     style=['grey', 'rv', 'g^'],\n",
    "#     figsize=(20,5),grid=True, title = str.upper(ticker))\n",
    "# plt.show()"
   ]
  },
  {
   "cell_type": "code",
   "execution_count": 20,
   "id": "55b947a3-a443-4f1d-8af1-8b0fd4063658",
   "metadata": {
    "execution": {
     "iopub.execute_input": "2025-01-07T17:43:19.869531Z",
     "iopub.status.busy": "2025-01-07T17:43:19.869085Z",
     "iopub.status.idle": "2025-01-07T17:43:19.871988Z",
     "shell.execute_reply": "2025-01-07T17:43:19.871436Z"
    },
    "papermill": {
     "duration": 0.009092,
     "end_time": "2025-01-07T17:43:19.873077",
     "exception": false,
     "start_time": "2025-01-07T17:43:19.863985",
     "status": "completed"
    },
    "tags": []
   },
   "outputs": [],
   "source": [
    "# df_fc[['close','hi3','lo3','rclose','rh3','rl3']].plot(\n",
    "#     style=['grey','rv', 'g^','k:','mv','b^'],\n",
    "#             figsize=(20,5),grid=True, title = str.upper(ticker)+' vs '+str.upper(bm_col))\n",
    "# plt.show()"
   ]
  },
  {
   "cell_type": "code",
   "execution_count": 21,
   "id": "e752610e-3ce2-4599-a425-6b1a9e345a6e",
   "metadata": {
    "execution": {
     "iopub.execute_input": "2025-01-07T17:43:19.883125Z",
     "iopub.status.busy": "2025-01-07T17:43:19.882723Z",
     "iopub.status.idle": "2025-01-07T17:43:19.885902Z",
     "shell.execute_reply": "2025-01-07T17:43:19.885207Z"
    },
    "papermill": {
     "duration": 0.009491,
     "end_time": "2025-01-07T17:43:19.887048",
     "exception": false,
     "start_time": "2025-01-07T17:43:19.877557",
     "status": "completed"
    },
    "tags": []
   },
   "outputs": [],
   "source": [
    "# df_fc[['rclose','rh3', 'rl3','rclg','rflr','rrg_ch','rrg']].plot(style=['grey', 'ro', 'go', 'kv', 'k^','c:','y-.'], \n",
    "#                         secondary_y= ['rrg'],figsize=(20,5),grid=True, title = str.upper(ticker))\n",
    "# plt.show()"
   ]
  }
 ],
 "metadata": {
  "kernelspec": {
   "display_name": "Python 3 (ipykernel)",
   "language": "python",
   "name": "python3"
  },
  "language_info": {
   "codemirror_mode": {
    "name": "ipython",
    "version": 3
   },
   "file_extension": ".py",
   "mimetype": "text/x-python",
   "name": "python",
   "nbconvert_exporter": "python",
   "pygments_lexer": "ipython3",
   "version": "3.8.18"
  },
  "papermill": {
   "default_parameters": {},
   "duration": 3.135868,
   "end_time": "2025-01-07T17:43:20.308959",
   "environment_variables": {},
   "exception": null,
   "input_path": "template.ipynb",
   "output_path": "KK.MI_output.ipynb",
   "parameters": {
    "path_to_file": "data/KK.MI.xlsx"
   },
   "start_time": "2025-01-07T17:43:17.173091",
   "version": "2.6.0"
  }
 },
 "nbformat": 4,
 "nbformat_minor": 5
}