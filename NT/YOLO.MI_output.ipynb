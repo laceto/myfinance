{
 "cells": [
  {
   "cell_type": "code",
   "execution_count": 1,
   "id": "38141ea0",
   "metadata": {
    "execution": {
     "iopub.execute_input": "2025-01-07T17:46:14.488595Z",
     "iopub.status.busy": "2025-01-07T17:46:14.488290Z",
     "iopub.status.idle": "2025-01-07T17:46:14.495194Z",
     "shell.execute_reply": "2025-01-07T17:46:14.494611Z"
    },
    "papermill": {
     "duration": 0.012687,
     "end_time": "2025-01-07T17:46:14.496219",
     "exception": false,
     "start_time": "2025-01-07T17:46:14.483532",
     "status": "completed"
    },
    "tags": [
     "injected-parameters"
    ]
   },
   "outputs": [],
   "source": [
    "# Parameters\n",
    "path_to_file = \"data/YOLO.MI.xlsx\"\n"
   ]
  },
  {
   "cell_type": "code",
   "execution_count": 2,
   "id": "5efbf512-053b-4bce-9f68-c0b07e257aec",
   "metadata": {
    "execution": {
     "iopub.execute_input": "2025-01-07T17:46:14.504580Z",
     "iopub.status.busy": "2025-01-07T17:46:14.504028Z",
     "iopub.status.idle": "2025-01-07T17:46:14.857817Z",
     "shell.execute_reply": "2025-01-07T17:46:14.857035Z"
    },
    "papermill": {
     "duration": 0.358868,
     "end_time": "2025-01-07T17:46:14.858807",
     "exception": false,
     "start_time": "2025-01-07T17:46:14.499939",
     "status": "completed"
    },
    "tags": []
   },
   "outputs": [
    {
     "name": "stdout",
     "output_type": "stream",
     "text": [
      "Current working directory: /home/runner/work/myfinance/myfinance/NT\n",
      "New current working directory: /home/runner/work/myfinance/myfinance\n"
     ]
    },
    {
     "data": {
      "text/plain": [
       "2"
      ]
     },
     "execution_count": 2,
     "metadata": {},
     "output_type": "execute_result"
    }
   ],
   "source": [
    "import os  \n",
    "import sys  \n",
    "import pandas as pd\n",
    "import openpyxl\n",
    "# import papermill as pm  \n",
    "\n",
    "# get the current working directory  \n",
    "cwd = os.getcwd()  \n",
    "print(\"Current working directory:\", cwd)  \n",
    "  \n",
    "# change the current working directory to one level up  \n",
    "os.chdir(\"..\")  \n",
    "  \n",
    "# get the new current working directory  \n",
    "new_cwd = os.getcwd()  \n",
    "print(\"New current working directory:\", new_cwd) \n",
    "\n",
    "1+1"
   ]
  },
  {
   "cell_type": "code",
   "execution_count": 3,
   "id": "a244e996-b5d1-4551-8a00-065f1f64e197",
   "metadata": {
    "execution": {
     "iopub.execute_input": "2025-01-07T17:46:14.867206Z",
     "iopub.status.busy": "2025-01-07T17:46:14.866593Z",
     "iopub.status.idle": "2025-01-07T17:46:15.458383Z",
     "shell.execute_reply": "2025-01-07T17:46:15.457671Z"
    },
    "papermill": {
     "duration": 0.597195,
     "end_time": "2025-01-07T17:46:15.459740",
     "exception": false,
     "start_time": "2025-01-07T17:46:14.862545",
     "status": "completed"
    },
    "tags": []
   },
   "outputs": [],
   "source": [
    "# add the 'data' folder to the system path  \n",
    "sys.path.append(os.path.abspath(\"data\"))\n",
    "from relative import *\n",
    "from AT_funs import *\n",
    "\n"
   ]
  },
  {
   "cell_type": "code",
   "execution_count": 4,
   "id": "c10e57be-9edb-48b2-a7c7-4d446f107612",
   "metadata": {
    "execution": {
     "iopub.execute_input": "2025-01-07T17:46:15.469239Z",
     "iopub.status.busy": "2025-01-07T17:46:15.468329Z",
     "iopub.status.idle": "2025-01-07T17:46:15.472372Z",
     "shell.execute_reply": "2025-01-07T17:46:15.471707Z"
    },
    "papermill": {
     "duration": 0.009985,
     "end_time": "2025-01-07T17:46:15.473618",
     "exception": false,
     "start_time": "2025-01-07T17:46:15.463633",
     "status": "completed"
    },
    "tags": []
   },
   "outputs": [],
   "source": [
    "# # Get the path of the Excel file from the command line argument  \n",
    "# # filename = sys.argv[1]  \n",
    "# filename = 'data/A2A.MI.xlsx'\n",
    "# df = read_xlsx(filename)\n",
    "# ticker = filename.replace('xlsx', '')\n",
    "# # ticker = ' '\n",
    "# # df\n",
    "# filename_bm = 'data/FTSEMIB.MI.xlsx'\n",
    "# bm_df = read_xlsx(filename_bm)\n",
    "# bm_name = filename_bm.replace('xlsx', '')"
   ]
  },
  {
   "cell_type": "code",
   "execution_count": 5,
   "id": "bf256f3b-01c5-4716-92f2-41c8148bb68b",
   "metadata": {
    "execution": {
     "iopub.execute_input": "2025-01-07T17:46:15.482650Z",
     "iopub.status.busy": "2025-01-07T17:46:15.481982Z",
     "iopub.status.idle": "2025-01-07T17:46:15.485491Z",
     "shell.execute_reply": "2025-01-07T17:46:15.484848Z"
    },
    "papermill": {
     "duration": 0.009205,
     "end_time": "2025-01-07T17:46:15.486603",
     "exception": false,
     "start_time": "2025-01-07T17:46:15.477398",
     "status": "completed"
    },
    "tags": []
   },
   "outputs": [],
   "source": [
    "# plot_abs_rel(df, ticker, bm_df, bm_name)"
   ]
  },
  {
   "cell_type": "code",
   "execution_count": 6,
   "id": "0b660f54-a39b-498e-8eb8-bf81c034988f",
   "metadata": {
    "execution": {
     "iopub.execute_input": "2025-01-07T17:46:15.495378Z",
     "iopub.status.busy": "2025-01-07T17:46:15.494696Z",
     "iopub.status.idle": "2025-01-07T17:46:15.877672Z",
     "shell.execute_reply": "2025-01-07T17:46:15.876941Z"
    },
    "papermill": {
     "duration": 0.388731,
     "end_time": "2025-01-07T17:46:15.879013",
     "exception": false,
     "start_time": "2025-01-07T17:46:15.490282",
     "status": "completed"
    },
    "tags": []
   },
   "outputs": [],
   "source": [
    "# Parameters  \n",
    "# path_to_file: str - the path to the input file  \n",
    "  \n",
    "filename = path_to_file\n",
    "df = read_xlsx(filename)\n",
    "ticker = filename.replace('xlsx', '')\n",
    "# ticker = ' '\n",
    "# df\n",
    "filename_bm = 'data/FTSEMIB.MI.xlsx'\n",
    "bm_df = read_xlsx(filename_bm)\n",
    "bm_name = filename_bm.replace('xlsx', '')"
   ]
  },
  {
   "cell_type": "code",
   "execution_count": 7,
   "id": "55b83496-eb02-490d-aef2-62a6aa478e6e",
   "metadata": {
    "execution": {
     "iopub.execute_input": "2025-01-07T17:46:15.888150Z",
     "iopub.status.busy": "2025-01-07T17:46:15.887487Z",
     "iopub.status.idle": "2025-01-07T17:46:16.246623Z",
     "shell.execute_reply": "2025-01-07T17:46:16.245872Z"
    },
    "papermill": {
     "duration": 0.364818,
     "end_time": "2025-01-07T17:46:16.247677",
     "exception": false,
     "start_time": "2025-01-07T17:46:15.882859",
     "status": "completed"
    },
    "tags": []
   },
   "outputs": [
    {
     "data": {
      "image/png": "[encoded data removed]",
      "text/plain": [
       "<Figure size 2000x800 with 1 Axes>"
      ]
     },
     "metadata": {},
     "output_type": "display_data"
    }
   ],
   "source": [
    "plot_abs_rel(df, ticker, bm_df, bm_name)"
   ]
  },
  {
   "cell_type": "code",
   "execution_count": 8,
   "id": "ede37904-5bbb-418d-9059-699d76bbf0a3",
   "metadata": {
    "execution": {
     "iopub.execute_input": "2025-01-07T17:46:16.258447Z",
     "iopub.status.busy": "2025-01-07T17:46:16.257840Z",
     "iopub.status.idle": "2025-01-07T17:46:16.261427Z",
     "shell.execute_reply": "2025-01-07T17:46:16.260827Z"
    },
    "papermill": {
     "duration": 0.010014,
     "end_time": "2025-01-07T17:46:16.262473",
     "exception": false,
     "start_time": "2025-01-07T17:46:16.252459",
     "status": "completed"
    },
    "tags": []
   },
   "outputs": [],
   "source": [
    "# window_bo = 100\n",
    "# fast = 20\n",
    "# slow = 50\n",
    "# st = 50\n",
    "# mt = 100\n",
    "# lt = 150\n",
    "# lvl = 3\n",
    "# bm_col = 'close'\n",
    "# dgt = 5\n",
    "# window_exp = 100\n",
    "# starting_capital = 100000\n",
    "# lot = 100\n",
    "# mn = -0.0025\n",
    "# mx = -0.0075\n",
    "# # avg = (mn + mx) / 2\n",
    "# tolerance= -0.1\n",
    "# equal_weight = 0.05\n",
    "# span= 5\n",
    "# fx = 1"
   ]
  },
  {
   "cell_type": "code",
   "execution_count": 9,
   "id": "acc836f8-1d67-4cd8-a34f-54476972ed30",
   "metadata": {
    "execution": {
     "iopub.execute_input": "2025-01-07T17:46:16.272526Z",
     "iopub.status.busy": "2025-01-07T17:46:16.272057Z",
     "iopub.status.idle": "2025-01-07T17:46:16.275128Z",
     "shell.execute_reply": "2025-01-07T17:46:16.274569Z"
    },
    "papermill": {
     "duration": 0.009109,
     "end_time": "2025-01-07T17:46:16.276073",
     "exception": false,
     "start_time": "2025-01-07T17:46:16.266964",
     "status": "completed"
    },
    "tags": []
   },
   "outputs": [],
   "source": [
    "# ohlc = ['open','high','low','close']\n",
    "# _o,_h,_l,_c = [ohlc[h] for h in range(len(ohlc))]\n",
    "# ticker = df['ticker'][0]\n",
    "\n",
    "# df = relative(df,_o,_h,_l,_c, bm_df, bm_col, dgt, rebase=True)\n",
    "# df = df.set_index('date')\n",
    "\n",
    "# df_bo = signal_rbo(df, window_bo, relative=True)\n",
    "# df_tt = signal_rtt(df, fast = fast, slow = slow, relative=True)\n",
    "# df_ema = signal_rema(df, st, mt, lt, relative=True)\n",
    "# df_sma = signal_rsma(df, st, mt, lt, relative=True)\n",
    "# df_fc = detect_regime(df, bm_df)"
   ]
  },
  {
   "cell_type": "code",
   "execution_count": 10,
   "id": "0ce95c8f-d951-49c3-a01d-2d1383f76814",
   "metadata": {
    "execution": {
     "iopub.execute_input": "2025-01-07T17:46:16.286224Z",
     "iopub.status.busy": "2025-01-07T17:46:16.285766Z",
     "iopub.status.idle": "2025-01-07T17:46:16.289204Z",
     "shell.execute_reply": "2025-01-07T17:46:16.288625Z"
    },
    "papermill": {
     "duration": 0.00973,
     "end_time": "2025-01-07T17:46:16.290295",
     "exception": false,
     "start_time": "2025-01-07T17:46:16.280565",
     "status": "completed"
    },
    "tags": []
   },
   "outputs": [],
   "source": [
    "# def plot_signal_bo(df, window, ticker, relative):\n",
    "\n",
    "#     _o,_h,_l,_c = lower_upper_OHLC(df,relative = relative)\n",
    "    \n",
    "#     prefix_h = 'hi_'\n",
    "#     prefix_l = 'lo_'\n",
    "#     prefix_bo = 'bo_'\n",
    "#     close = 'close'\n",
    "#     if relative:\n",
    "#         prefix_h = 'rhi_'\n",
    "#         prefix_l = 'rlo_'\n",
    "#         prefix_bo = 'rbo_'  \n",
    "#         close = 'rclose'\n",
    "        \n",
    "#     # df = df.set_index('date')\n",
    "#     df[[close, prefix_h + str(window), prefix_l + str(window), prefix_bo + str(window)]].plot(\n",
    "#         secondary_y= [prefix_bo + str(window)], figsize=(20,5), style=['k','g:','r:','b-.'], \n",
    "#         title = str.upper(ticker)+' '+str(window) +' days high/low')\n",
    "#     plt.show()"
   ]
  },
  {
   "cell_type": "code",
   "execution_count": 11,
   "id": "f1bc238d-36fa-4da1-9257-c78a3d090c85",
   "metadata": {
    "execution": {
     "iopub.execute_input": "2025-01-07T17:46:16.301212Z",
     "iopub.status.busy": "2025-01-07T17:46:16.300454Z",
     "iopub.status.idle": "2025-01-07T17:46:16.304054Z",
     "shell.execute_reply": "2025-01-07T17:46:16.303451Z"
    },
    "papermill": {
     "duration": 0.010246,
     "end_time": "2025-01-07T17:46:16.305173",
     "exception": false,
     "start_time": "2025-01-07T17:46:16.294927",
     "status": "completed"
    },
    "tags": []
   },
   "outputs": [],
   "source": [
    "# plot_signal_bo(df_bo, window_bo, ticker, relative = True)"
   ]
  },
  {
   "cell_type": "code",
   "execution_count": 12,
   "id": "b968e4d7-7e1f-46a0-9612-89d603a2c925",
   "metadata": {
    "execution": {
     "iopub.execute_input": "2025-01-07T17:46:16.316022Z",
     "iopub.status.busy": "2025-01-07T17:46:16.315409Z",
     "iopub.status.idle": "2025-01-07T17:46:16.318820Z",
     "shell.execute_reply": "2025-01-07T17:46:16.318144Z"
    },
    "papermill": {
     "duration": 0.010205,
     "end_time": "2025-01-07T17:46:16.320154",
     "exception": false,
     "start_time": "2025-01-07T17:46:16.309949",
     "status": "completed"
    },
    "tags": []
   },
   "outputs": [],
   "source": [
    "# def plot_signal_tt(df, fast, slow, relative):\n",
    "\n",
    "#     close = 'close'\n",
    "#     tt = 'tt_'\n",
    "#     if relative:\n",
    "#         close = 'rclose'\n",
    "#         tt = 'rtt_'\n",
    "    \n",
    "#     rg_cols = [tt + str(slow)+str(fast)]\n",
    "\n",
    "#     df[[close, tt+ str(slow)+str(fast)] ].plot(\n",
    "#         secondary_y= rg_cols,figsize=(20,5), style=['k','b-.'], \n",
    "#         title = str.upper('')+' '+str(rg_cols))\n",
    "#     plt.show()  "
   ]
  },
  {
   "cell_type": "code",
   "execution_count": 13,
   "id": "087d9ad6-8115-4c8f-9750-8f47a8c7d4c3",
   "metadata": {
    "execution": {
     "iopub.execute_input": "2025-01-07T17:46:16.330809Z",
     "iopub.status.busy": "2025-01-07T17:46:16.330186Z",
     "iopub.status.idle": "2025-01-07T17:46:16.333564Z",
     "shell.execute_reply": "2025-01-07T17:46:16.332968Z"
    },
    "papermill": {
     "duration": 0.009679,
     "end_time": "2025-01-07T17:46:16.334538",
     "exception": false,
     "start_time": "2025-01-07T17:46:16.324859",
     "status": "completed"
    },
    "tags": []
   },
   "outputs": [],
   "source": [
    "# plot_signal_tt(df_tt, fast, slow, relative = True)"
   ]
  },
  {
   "cell_type": "code",
   "execution_count": 14,
   "id": "541bbbe1-ac4a-44db-8812-68151fb35260",
   "metadata": {
    "execution": {
     "iopub.execute_input": "2025-01-07T17:46:16.345093Z",
     "iopub.status.busy": "2025-01-07T17:46:16.344459Z",
     "iopub.status.idle": "2025-01-07T17:46:16.347836Z",
     "shell.execute_reply": "2025-01-07T17:46:16.347248Z"
    },
    "papermill": {
     "duration": 0.009781,
     "end_time": "2025-01-07T17:46:16.348913",
     "exception": false,
     "start_time": "2025-01-07T17:46:16.339132",
     "status": "completed"
    },
    "tags": []
   },
   "outputs": [],
   "source": [
    "# def plot_signal_sma(df, st, mt, lt, relative):\n",
    "\n",
    "#     close = 'close'\n",
    "#     sma = 'sma_'\n",
    "#     ema = 'ema_'\n",
    "#     if relative:\n",
    "#         close = 'rclose'\n",
    "#         sma = 'rsma_'\n",
    "#         ema = 'rema_'\n",
    "\n",
    "#     df[[close,sma+ str(st) + str(mt) + str(lt)] ].plot(\n",
    "#         secondary_y= sma+ str(st) + str(mt) + str(lt),figsize=(20,5), style=['k','b-.'], \n",
    "#         title = str.upper('')+' '+str([sma+ str(st) + str(mt) + str(lt)]))\n",
    "        \n",
    "#     plt.show() "
   ]
  },
  {
   "cell_type": "code",
   "execution_count": 15,
   "id": "2be5be52-9c5a-4311-ac47-4538d580da77",
   "metadata": {
    "execution": {
     "iopub.execute_input": "2025-01-07T17:46:16.359774Z",
     "iopub.status.busy": "2025-01-07T17:46:16.359175Z",
     "iopub.status.idle": "2025-01-07T17:46:16.362445Z",
     "shell.execute_reply": "2025-01-07T17:46:16.361845Z"
    },
    "papermill": {
     "duration": 0.009856,
     "end_time": "2025-01-07T17:46:16.363504",
     "exception": false,
     "start_time": "2025-01-07T17:46:16.353648",
     "status": "completed"
    },
    "tags": []
   },
   "outputs": [],
   "source": [
    "# plot_signal_sma(df_sma, st, mt, lt, relative = True)"
   ]
  },
  {
   "cell_type": "code",
   "execution_count": 16,
   "id": "307b943a-cb79-4140-ad91-2fa62aaccdc2",
   "metadata": {
    "execution": {
     "iopub.execute_input": "2025-01-07T17:46:16.374507Z",
     "iopub.status.busy": "2025-01-07T17:46:16.373826Z",
     "iopub.status.idle": "2025-01-07T17:46:16.377293Z",
     "shell.execute_reply": "2025-01-07T17:46:16.376709Z"
    },
    "papermill": {
     "duration": 0.010262,
     "end_time": "2025-01-07T17:46:16.378359",
     "exception": false,
     "start_time": "2025-01-07T17:46:16.368097",
     "status": "completed"
    },
    "tags": []
   },
   "outputs": [],
   "source": [
    "# def plot_signal_ema(df, st, mt, lt, relative):\n",
    "\n",
    "#     close = 'close'\n",
    "#     sma = 'sma_'\n",
    "#     ema = 'ema_'\n",
    "#     if relative:\n",
    "#         close = 'rclose'\n",
    "#         sma = 'rsma_'\n",
    "#         ema = 'rema_'\n",
    "    \n",
    "#     df[[close,ema+ str(st) + str(mt) + str(lt)] ].plot(\n",
    "#         secondary_y= ema+ str(st) + str(mt) + str(lt),figsize=(20,5), style=['k','b-.'], \n",
    "#         title = str.upper('')+' '+str([ema+ str(st) + str(mt) + str(lt)]))\n",
    "        \n",
    "#     plt.show() "
   ]
  },
  {
   "cell_type": "code",
   "execution_count": 17,
   "id": "43356d36-8b62-4341-a736-8103de9a98db",
   "metadata": {
    "execution": {
     "iopub.execute_input": "2025-01-07T17:46:16.389233Z",
     "iopub.status.busy": "2025-01-07T17:46:16.388558Z",
     "iopub.status.idle": "2025-01-07T17:46:16.391878Z",
     "shell.execute_reply": "2025-01-07T17:46:16.391209Z"
    },
    "papermill": {
     "duration": 0.010087,
     "end_time": "2025-01-07T17:46:16.393130",
     "exception": false,
     "start_time": "2025-01-07T17:46:16.383043",
     "status": "completed"
    },
    "tags": []
   },
   "outputs": [],
   "source": [
    "# plot_signal_ema(df_ema, st, mt, lt, relative = True)"
   ]
  },
  {
   "cell_type": "code",
   "execution_count": 18,
   "id": "2ac0e513-acb4-4f99-8418-9208c68b1a20",
   "metadata": {
    "execution": {
     "iopub.execute_input": "2025-01-07T17:46:16.403724Z",
     "iopub.status.busy": "2025-01-07T17:46:16.403109Z",
     "iopub.status.idle": "2025-01-07T17:46:16.406509Z",
     "shell.execute_reply": "2025-01-07T17:46:16.405807Z"
    },
    "papermill": {
     "duration": 0.009795,
     "end_time": "2025-01-07T17:46:16.407602",
     "exception": false,
     "start_time": "2025-01-07T17:46:16.397807",
     "status": "completed"
    },
    "tags": []
   },
   "outputs": [],
   "source": [
    "# plot_signal_rel(df_fc, ticker)\n",
    "# plot_regime_rel(df_fc, ticker)"
   ]
  },
  {
   "cell_type": "code",
   "execution_count": 19,
   "id": "9cf64b40-df77-4833-9bce-90af7e61548b",
   "metadata": {
    "execution": {
     "iopub.execute_input": "2025-01-07T17:46:16.418287Z",
     "iopub.status.busy": "2025-01-07T17:46:16.417678Z",
     "iopub.status.idle": "2025-01-07T17:46:16.421012Z",
     "shell.execute_reply": "2025-01-07T17:46:16.420369Z"
    },
    "papermill": {
     "duration": 0.009799,
     "end_time": "2025-01-07T17:46:16.422024",
     "exception": false,
     "start_time": "2025-01-07T17:46:16.412225",
     "status": "completed"
    },
    "tags": []
   },
   "outputs": [],
   "source": [
    "# df_fc = df_fc.set_index('date')\n",
    "# df_fc[['rclose','rh3','rl3']].plot(\n",
    "#     style=['grey', 'rv', 'g^'],\n",
    "#     figsize=(20,5),grid=True, title = str.upper(ticker))\n",
    "# plt.show()"
   ]
  },
  {
   "cell_type": "code",
   "execution_count": 20,
   "id": "55b947a3-a443-4f1d-8af1-8b0fd4063658",
   "metadata": {
    "execution": {
     "iopub.execute_input": "2025-01-07T17:46:16.432247Z",
     "iopub.status.busy": "2025-01-07T17:46:16.431944Z",
     "iopub.status.idle": "2025-01-07T17:46:16.435380Z",
     "shell.execute_reply": "2025-01-07T17:46:16.434751Z"
    },
    "papermill": {
     "duration": 0.009777,
     "end_time": "2025-01-07T17:46:16.436453",
     "exception": false,
     "start_time": "2025-01-07T17:46:16.426676",
     "status": "completed"
    },
    "tags": []
   },
   "outputs": [],
   "source": [
    "# df_fc[['close','hi3','lo3','rclose','rh3','rl3']].plot(\n",
    "#     style=['grey','rv', 'g^','k:','mv','b^'],\n",
    "#             figsize=(20,5),grid=True, title = str.upper(ticker)+' vs '+str.upper(bm_col))\n",
    "# plt.show()"
   ]
  },
  {
   "cell_type": "code",
   "execution_count": 21,
   "id": "e752610e-3ce2-4599-a425-6b1a9e345a6e",
   "metadata": {
    "execution": {
     "iopub.execute_input": "2025-01-07T17:46:16.447466Z",
     "iopub.status.busy": "2025-01-07T17:46:16.446764Z",
     "iopub.status.idle": "2025-01-07T17:46:16.450263Z",
     "shell.execute_reply": "2025-01-07T17:46:16.449649Z"
    },
    "papermill": {
     "duration": 0.010187,
     "end_time": "2025-01-07T17:46:16.451381",
     "exception": false,
     "start_time": "2025-01-07T17:46:16.441194",
     "status": "completed"
    },
    "tags": []
   },
   "outputs": [],
   "source": [
    "# df_fc[['rclose','rh3', 'rl3','rclg','rflr','rrg_ch','rrg']].plot(style=['grey', 'ro', 'go', 'kv', 'k^','c:','y-.'], \n",
    "#                         secondary_y= ['rrg'],figsize=(20,5),grid=True, title = str.upper(ticker))\n",
    "# plt.show()"
   ]
  }
 ],
 "metadata": {
  "kernelspec": {
   "display_name": "Python 3 (ipykernel)",
   "language": "python",
   "name": "python3"
  },
  "language_info": {
   "codemirror_mode": {
    "name": "ipython",
    "version": 3
   },
   "file_extension": ".py",
   "mimetype": "text/x-python",
   "name": "python",
   "nbconvert_exporter": "python",
   "pygments_lexer": "ipython3",
   "version": "3.8.18"
  },
  "papermill": {
   "default_parameters": {},
   "duration": 3.149497,
   "end_time": "2025-01-07T17:46:16.772829",
   "environment_variables": {},
   "exception": null,
   "input_path": "template.ipynb",
   "output_path": "YOLO.MI_output.ipynb",
   "parameters": {
    "path_to_file": "data/YOLO.MI.xlsx"
   },
   "start_time": "2025-01-07T17:46:13.623332",
   "version": "2.6.0"
  }
 },
 "nbformat": 4,
 "nbformat_minor": 5
}