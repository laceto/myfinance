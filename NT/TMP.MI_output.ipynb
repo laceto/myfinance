{
 "cells": [
  {
   "cell_type": "code",
   "execution_count": 1,
   "id": "d6c879b5",
   "metadata": {
    "execution": {
     "iopub.execute_input": "2025-01-07T17:48:31.927988Z",
     "iopub.status.busy": "2025-01-07T17:48:31.927694Z",
     "iopub.status.idle": "2025-01-07T17:48:31.934846Z",
     "shell.execute_reply": "2025-01-07T17:48:31.934289Z"
    },
    "papermill": {
     "duration": 0.013212,
     "end_time": "2025-01-07T17:48:31.935901",
     "exception": false,
     "start_time": "2025-01-07T17:48:31.922689",
     "status": "completed"
    },
    "tags": [
     "injected-parameters"
    ]
   },
   "outputs": [],
   "source": [
    "# Parameters\n",
    "path_to_file = \"data/TMP.MI.xlsx\"\n"
   ]
  },
  {
   "cell_type": "code",
   "execution_count": 2,
   "id": "5efbf512-053b-4bce-9f68-c0b07e257aec",
   "metadata": {
    "execution": {
     "iopub.execute_input": "2025-01-07T17:48:31.943836Z",
     "iopub.status.busy": "2025-01-07T17:48:31.943381Z",
     "iopub.status.idle": "2025-01-07T17:48:32.297630Z",
     "shell.execute_reply": "2025-01-07T17:48:32.296853Z"
    },
    "papermill": {
     "duration": 0.359199,
     "end_time": "2025-01-07T17:48:32.298689",
     "exception": false,
     "start_time": "2025-01-07T17:48:31.939490",
     "status": "completed"
    },
    "tags": []
   },
   "outputs": [
    {
     "name": "stdout",
     "output_type": "stream",
     "text": [
      "Current working directory: /home/runner/work/myfinance/myfinance/NT\n",
      "New current working directory: /home/runner/work/myfinance/myfinance\n"
     ]
    },
    {
     "data": {
      "text/plain": [
       "2"
      ]
     },
     "execution_count": 2,
     "metadata": {},
     "output_type": "execute_result"
    }
   ],
   "source": [
    "import os  \n",
    "import sys  \n",
    "import pandas as pd\n",
    "import openpyxl\n",
    "# import papermill as pm  \n",
    "\n",
    "# get the current working directory  \n",
    "cwd = os.getcwd()  \n",
    "print(\"Current working directory:\", cwd)  \n",
    "  \n",
    "# change the current working directory to one level up  \n",
    "os.chdir(\"..\")  \n",
    "  \n",
    "# get the new current working directory  \n",
    "new_cwd = os.getcwd()  \n",
    "print(\"New current working directory:\", new_cwd) \n",
    "\n",
    "1+1"
   ]
  },
  {
   "cell_type": "code",
   "execution_count": 3,
   "id": "a244e996-b5d1-4551-8a00-065f1f64e197",
   "metadata": {
    "execution": {
     "iopub.execute_input": "2025-01-07T17:48:32.306984Z",
     "iopub.status.busy": "2025-01-07T17:48:32.306497Z",
     "iopub.status.idle": "2025-01-07T17:48:32.896148Z",
     "shell.execute_reply": "2025-01-07T17:48:32.895351Z"
    },
    "papermill": {
     "duration": 0.595309,
     "end_time": "2025-01-07T17:48:32.897718",
     "exception": false,
     "start_time": "2025-01-07T17:48:32.302409",
     "status": "completed"
    },
    "tags": []
   },
   "outputs": [],
   "source": [
    "# add the 'data' folder to the system path  \n",
    "sys.path.append(os.path.abspath(\"data\"))\n",
    "from relative import *\n",
    "from AT_funs import *\n",
    "\n"
   ]
  },
  {
   "cell_type": "code",
   "execution_count": 4,
   "id": "c10e57be-9edb-48b2-a7c7-4d446f107612",
   "metadata": {
    "execution": {
     "iopub.execute_input": "2025-01-07T17:48:32.906390Z",
     "iopub.status.busy": "2025-01-07T17:48:32.905655Z",
     "iopub.status.idle": "2025-01-07T17:48:32.909181Z",
     "shell.execute_reply": "2025-01-07T17:48:32.908627Z"
    },
    "papermill": {
     "duration": 0.008704,
     "end_time": "2025-01-07T17:48:32.910198",
     "exception": false,
     "start_time": "2025-01-07T17:48:32.901494",
     "status": "completed"
    },
    "tags": []
   },
   "outputs": [],
   "source": [
    "# # Get the path of the Excel file from the command line argument  \n",
    "# # filename = sys.argv[1]  \n",
    "# filename = 'data/A2A.MI.xlsx'\n",
    "# df = read_xlsx(filename)\n",
    "# ticker = filename.replace('xlsx', '')\n",
    "# # ticker = ' '\n",
    "# # df\n",
    "# filename_bm = 'data/FTSEMIB.MI.xlsx'\n",
    "# bm_df = read_xlsx(filename_bm)\n",
    "# bm_name = filename_bm.replace('xlsx', '')"
   ]
  },
  {
   "cell_type": "code",
   "execution_count": 5,
   "id": "bf256f3b-01c5-4716-92f2-41c8148bb68b",
   "metadata": {
    "execution": {
     "iopub.execute_input": "2025-01-07T17:48:32.918061Z",
     "iopub.status.busy": "2025-01-07T17:48:32.917501Z",
     "iopub.status.idle": "2025-01-07T17:48:32.920558Z",
     "shell.execute_reply": "2025-01-07T17:48:32.919964Z"
    },
    "papermill": {
     "duration": 0.008077,
     "end_time": "2025-01-07T17:48:32.921603",
     "exception": false,
     "start_time": "2025-01-07T17:48:32.913526",
     "status": "completed"
    },
    "tags": []
   },
   "outputs": [],
   "source": [
    "# plot_abs_rel(df, ticker, bm_df, bm_name)"
   ]
  },
  {
   "cell_type": "code",
   "execution_count": 6,
   "id": "0b660f54-a39b-498e-8eb8-bf81c034988f",
   "metadata": {
    "execution": {
     "iopub.execute_input": "2025-01-07T17:48:32.929356Z",
     "iopub.status.busy": "2025-01-07T17:48:32.928933Z",
     "iopub.status.idle": "2025-01-07T17:48:33.283775Z",
     "shell.execute_reply": "2025-01-07T17:48:33.283100Z"
    },
    "papermill": {
     "duration": 0.360098,
     "end_time": "2025-01-07T17:48:33.285110",
     "exception": false,
     "start_time": "2025-01-07T17:48:32.925012",
     "status": "completed"
    },
    "tags": []
   },
   "outputs": [],
   "source": [
    "# Parameters  \n",
    "# path_to_file: str - the path to the input file  \n",
    "  \n",
    "filename = path_to_file\n",
    "df = read_xlsx(filename)\n",
    "ticker = filename.replace('xlsx', '')\n",
    "# ticker = ' '\n",
    "# df\n",
    "filename_bm = 'data/FTSEMIB.MI.xlsx'\n",
    "bm_df = read_xlsx(filename_bm)\n",
    "bm_name = filename_bm.replace('xlsx', '')"
   ]
  },
  {
   "cell_type": "code",
   "execution_count": 7,
   "id": "55b83496-eb02-490d-aef2-62a6aa478e6e",
   "metadata": {
    "execution": {
     "iopub.execute_input": "2025-01-07T17:48:33.293506Z",
     "iopub.status.busy": "2025-01-07T17:48:33.293219Z",
     "iopub.status.idle": "2025-01-07T17:48:33.611360Z",
     "shell.execute_reply": "2025-01-07T17:48:33.610642Z"
    },
    "papermill": {
     "duration": 0.323483,
     "end_time": "2025-01-07T17:48:33.612478",
     "exception": false,
     "start_time": "2025-01-07T17:48:33.288995",
     "status": "completed"
    },
    "tags": []
   },
   "outputs": [
    {
     "data": {
      "image/png": "[encoded data removed]",
      "text/plain": [
       "<Figure size 2000x800 with 1 Axes>"
      ]
     },
     "metadata": {},
     "output_type": "display_data"
    }
   ],
   "source": [
    "plot_abs_rel(df, ticker, bm_df, bm_name)"
   ]
  },
  {
   "cell_type": "code",
   "execution_count": 8,
   "id": "ede37904-5bbb-418d-9059-699d76bbf0a3",
   "metadata": {
    "execution": {
     "iopub.execute_input": "2025-01-07T17:48:33.623097Z",
     "iopub.status.busy": "2025-01-07T17:48:33.622510Z",
     "iopub.status.idle": "2025-01-07T17:48:33.625957Z",
     "shell.execute_reply": "2025-01-07T17:48:33.625292Z"
    },
    "papermill": {
     "duration": 0.009793,
     "end_time": "2025-01-07T17:48:33.627066",
     "exception": false,
     "start_time": "2025-01-07T17:48:33.617273",
     "status": "completed"
    },
    "tags": []
   },
   "outputs": [],
   "source": [
    "# window_bo = 100\n",
    "# fast = 20\n",
    "# slow = 50\n",
    "# st = 50\n",
    "# mt = 100\n",
    "# lt = 150\n",
    "# lvl = 3\n",
    "# bm_col = 'close'\n",
    "# dgt = 5\n",
    "# window_exp = 100\n",
    "# starting_capital = 100000\n",
    "# lot = 100\n",
    "# mn = -0.0025\n",
    "# mx = -0.0075\n",
    "# # avg = (mn + mx) / 2\n",
    "# tolerance= -0.1\n",
    "# equal_weight = 0.05\n",
    "# span= 5\n",
    "# fx = 1"
   ]
  },
  {
   "cell_type": "code",
   "execution_count": 9,
   "id": "acc836f8-1d67-4cd8-a34f-54476972ed30",
   "metadata": {
    "execution": {
     "iopub.execute_input": "2025-01-07T17:48:33.637369Z",
     "iopub.status.busy": "2025-01-07T17:48:33.636762Z",
     "iopub.status.idle": "2025-01-07T17:48:33.640075Z",
     "shell.execute_reply": "2025-01-07T17:48:33.639530Z"
    },
    "papermill": {
     "duration": 0.009669,
     "end_time": "2025-01-07T17:48:33.641186",
     "exception": false,
     "start_time": "2025-01-07T17:48:33.631517",
     "status": "completed"
    },
    "tags": []
   },
   "outputs": [],
   "source": [
    "# ohlc = ['open','high','low','close']\n",
    "# _o,_h,_l,_c = [ohlc[h] for h in range(len(ohlc))]\n",
    "# ticker = df['ticker'][0]\n",
    "\n",
    "# df = relative(df,_o,_h,_l,_c, bm_df, bm_col, dgt, rebase=True)\n",
    "# df = df.set_index('date')\n",
    "\n",
    "# df_bo = signal_rbo(df, window_bo, relative=True)\n",
    "# df_tt = signal_rtt(df, fast = fast, slow = slow, relative=True)\n",
    "# df_ema = signal_rema(df, st, mt, lt, relative=True)\n",
    "# df_sma = signal_rsma(df, st, mt, lt, relative=True)\n",
    "# df_fc = detect_regime(df, bm_df)"
   ]
  },
  {
   "cell_type": "code",
   "execution_count": 10,
   "id": "0ce95c8f-d951-49c3-a01d-2d1383f76814",
   "metadata": {
    "execution": {
     "iopub.execute_input": "2025-01-07T17:48:33.651722Z",
     "iopub.status.busy": "2025-01-07T17:48:33.651136Z",
     "iopub.status.idle": "2025-01-07T17:48:33.654554Z",
     "shell.execute_reply": "2025-01-07T17:48:33.653997Z"
    },
    "papermill": {
     "duration": 0.009663,
     "end_time": "2025-01-07T17:48:33.655549",
     "exception": false,
     "start_time": "2025-01-07T17:48:33.645886",
     "status": "completed"
    },
    "tags": []
   },
   "outputs": [],
   "source": [
    "# def plot_signal_bo(df, window, ticker, relative):\n",
    "\n",
    "#     _o,_h,_l,_c = lower_upper_OHLC(df,relative = relative)\n",
    "    \n",
    "#     prefix_h = 'hi_'\n",
    "#     prefix_l = 'lo_'\n",
    "#     prefix_bo = 'bo_'\n",
    "#     close = 'close'\n",
    "#     if relative:\n",
    "#         prefix_h = 'rhi_'\n",
    "#         prefix_l = 'rlo_'\n",
    "#         prefix_bo = 'rbo_'  \n",
    "#         close = 'rclose'\n",
    "        \n",
    "#     # df = df.set_index('date')\n",
    "#     df[[close, prefix_h + str(window), prefix_l + str(window), prefix_bo + str(window)]].plot(\n",
    "#         secondary_y= [prefix_bo + str(window)], figsize=(20,5), style=['k','g:','r:','b-.'], \n",
    "#         title = str.upper(ticker)+' '+str(window) +' days high/low')\n",
    "#     plt.show()"
   ]
  },
  {
   "cell_type": "code",
   "execution_count": 11,
   "id": "f1bc238d-36fa-4da1-9257-c78a3d090c85",
   "metadata": {
    "execution": {
     "iopub.execute_input": "2025-01-07T17:48:33.666001Z",
     "iopub.status.busy": "2025-01-07T17:48:33.665412Z",
     "iopub.status.idle": "2025-01-07T17:48:33.668711Z",
     "shell.execute_reply": "2025-01-07T17:48:33.668022Z"
    },
    "papermill": {
     "duration": 0.009669,
     "end_time": "2025-01-07T17:48:33.669846",
     "exception": false,
     "start_time": "2025-01-07T17:48:33.660177",
     "status": "completed"
    },
    "tags": []
   },
   "outputs": [],
   "source": [
    "# plot_signal_bo(df_bo, window_bo, ticker, relative = True)"
   ]
  },
  {
   "cell_type": "code",
   "execution_count": 12,
   "id": "b968e4d7-7e1f-46a0-9612-89d603a2c925",
   "metadata": {
    "execution": {
     "iopub.execute_input": "2025-01-07T17:48:33.680440Z",
     "iopub.status.busy": "2025-01-07T17:48:33.679720Z",
     "iopub.status.idle": "2025-01-07T17:48:33.683381Z",
     "shell.execute_reply": "2025-01-07T17:48:33.682804Z"
    },
    "papermill": {
     "duration": 0.010133,
     "end_time": "2025-01-07T17:48:33.684484",
     "exception": false,
     "start_time": "2025-01-07T17:48:33.674351",
     "status": "completed"
    },
    "tags": []
   },
   "outputs": [],
   "source": [
    "# def plot_signal_tt(df, fast, slow, relative):\n",
    "\n",
    "#     close = 'close'\n",
    "#     tt = 'tt_'\n",
    "#     if relative:\n",
    "#         close = 'rclose'\n",
    "#         tt = 'rtt_'\n",
    "    \n",
    "#     rg_cols = [tt + str(slow)+str(fast)]\n",
    "\n",
    "#     df[[close, tt+ str(slow)+str(fast)] ].plot(\n",
    "#         secondary_y= rg_cols,figsize=(20,5), style=['k','b-.'], \n",
    "#         title = str.upper('')+' '+str(rg_cols))\n",
    "#     plt.show()  "
   ]
  },
  {
   "cell_type": "code",
   "execution_count": 13,
   "id": "087d9ad6-8115-4c8f-9750-8f47a8c7d4c3",
   "metadata": {
    "execution": {
     "iopub.execute_input": "2025-01-07T17:48:33.694956Z",
     "iopub.status.busy": "2025-01-07T17:48:33.694377Z",
     "iopub.status.idle": "2025-01-07T17:48:33.697799Z",
     "shell.execute_reply": "2025-01-07T17:48:33.697060Z"
    },
    "papermill": {
     "duration": 0.009741,
     "end_time": "2025-01-07T17:48:33.698960",
     "exception": false,
     "start_time": "2025-01-07T17:48:33.689219",
     "status": "completed"
    },
    "tags": []
   },
   "outputs": [],
   "source": [
    "# plot_signal_tt(df_tt, fast, slow, relative = True)"
   ]
  },
  {
   "cell_type": "code",
   "execution_count": 14,
   "id": "541bbbe1-ac4a-44db-8812-68151fb35260",
   "metadata": {
    "execution": {
     "iopub.execute_input": "2025-01-07T17:48:33.709546Z",
     "iopub.status.busy": "2025-01-07T17:48:33.708937Z",
     "iopub.status.idle": "2025-01-07T17:48:33.712441Z",
     "shell.execute_reply": "2025-01-07T17:48:33.711746Z"
    },
    "papermill": {
     "duration": 0.010101,
     "end_time": "2025-01-07T17:48:33.713650",
     "exception": false,
     "start_time": "2025-01-07T17:48:33.703549",
     "status": "completed"
    },
    "tags": []
   },
   "outputs": [],
   "source": [
    "# def plot_signal_sma(df, st, mt, lt, relative):\n",
    "\n",
    "#     close = 'close'\n",
    "#     sma = 'sma_'\n",
    "#     ema = 'ema_'\n",
    "#     if relative:\n",
    "#         close = 'rclose'\n",
    "#         sma = 'rsma_'\n",
    "#         ema = 'rema_'\n",
    "\n",
    "#     df[[close,sma+ str(st) + str(mt) + str(lt)] ].plot(\n",
    "#         secondary_y= sma+ str(st) + str(mt) + str(lt),figsize=(20,5), style=['k','b-.'], \n",
    "#         title = str.upper('')+' '+str([sma+ str(st) + str(mt) + str(lt)]))\n",
    "        \n",
    "#     plt.show() "
   ]
  },
  {
   "cell_type": "code",
   "execution_count": 15,
   "id": "2be5be52-9c5a-4311-ac47-4538d580da77",
   "metadata": {
    "execution": {
     "iopub.execute_input": "2025-01-07T17:48:33.724212Z",
     "iopub.status.busy": "2025-01-07T17:48:33.723709Z",
     "iopub.status.idle": "2025-01-07T17:48:33.726990Z",
     "shell.execute_reply": "2025-01-07T17:48:33.726363Z"
    },
    "papermill": {
     "duration": 0.009638,
     "end_time": "2025-01-07T17:48:33.728023",
     "exception": false,
     "start_time": "2025-01-07T17:48:33.718385",
     "status": "completed"
    },
    "tags": []
   },
   "outputs": [],
   "source": [
    "# plot_signal_sma(df_sma, st, mt, lt, relative = True)"
   ]
  },
  {
   "cell_type": "code",
   "execution_count": 16,
   "id": "307b943a-cb79-4140-ad91-2fa62aaccdc2",
   "metadata": {
    "execution": {
     "iopub.execute_input": "2025-01-07T17:48:33.738520Z",
     "iopub.status.busy": "2025-01-07T17:48:33.738039Z",
     "iopub.status.idle": "2025-01-07T17:48:33.741585Z",
     "shell.execute_reply": "2025-01-07T17:48:33.740893Z"
    },
    "papermill": {
     "duration": 0.009996,
     "end_time": "2025-01-07T17:48:33.742739",
     "exception": false,
     "start_time": "2025-01-07T17:48:33.732743",
     "status": "completed"
    },
    "tags": []
   },
   "outputs": [],
   "source": [
    "# def plot_signal_ema(df, st, mt, lt, relative):\n",
    "\n",
    "#     close = 'close'\n",
    "#     sma = 'sma_'\n",
    "#     ema = 'ema_'\n",
    "#     if relative:\n",
    "#         close = 'rclose'\n",
    "#         sma = 'rsma_'\n",
    "#         ema = 'rema_'\n",
    "    \n",
    "#     df[[close,ema+ str(st) + str(mt) + str(lt)] ].plot(\n",
    "#         secondary_y= ema+ str(st) + str(mt) + str(lt),figsize=(20,5), style=['k','b-.'], \n",
    "#         title = str.upper('')+' '+str([ema+ str(st) + str(mt) + str(lt)]))\n",
    "        \n",
    "#     plt.show() "
   ]
  },
  {
   "cell_type": "code",
   "execution_count": 17,
   "id": "43356d36-8b62-4341-a736-8103de9a98db",
   "metadata": {
    "execution": {
     "iopub.execute_input": "2025-01-07T17:48:33.753375Z",
     "iopub.status.busy": "2025-01-07T17:48:33.752834Z",
     "iopub.status.idle": "2025-01-07T17:48:33.756016Z",
     "shell.execute_reply": "2025-01-07T17:48:33.755444Z"
    },
    "papermill": {
     "duration": 0.009685,
     "end_time": "2025-01-07T17:48:33.757109",
     "exception": false,
     "start_time": "2025-01-07T17:48:33.747424",
     "status": "completed"
    },
    "tags": []
   },
   "outputs": [],
   "source": [
    "# plot_signal_ema(df_ema, st, mt, lt, relative = True)"
   ]
  },
  {
   "cell_type": "code",
   "execution_count": 18,
   "id": "2ac0e513-acb4-4f99-8418-9208c68b1a20",
   "metadata": {
    "execution": {
     "iopub.execute_input": "2025-01-07T17:48:33.767298Z",
     "iopub.status.busy": "2025-01-07T17:48:33.766819Z",
     "iopub.status.idle": "2025-01-07T17:48:33.769752Z",
     "shell.execute_reply": "2025-01-07T17:48:33.769186Z"
    },
    "papermill": {
     "duration": 0.009107,
     "end_time": "2025-01-07T17:48:33.770761",
     "exception": false,
     "start_time": "2025-01-07T17:48:33.761654",
     "status": "completed"
    },
    "tags": []
   },
   "outputs": [],
   "source": [
    "# plot_signal_rel(df_fc, ticker)\n",
    "# plot_regime_rel(df_fc, ticker)"
   ]
  },
  {
   "cell_type": "code",
   "execution_count": 19,
   "id": "9cf64b40-df77-4833-9bce-90af7e61548b",
   "metadata": {
    "execution": {
     "iopub.execute_input": "2025-01-07T17:48:33.781427Z",
     "iopub.status.busy": "2025-01-07T17:48:33.780791Z",
     "iopub.status.idle": "2025-01-07T17:48:33.784130Z",
     "shell.execute_reply": "2025-01-07T17:48:33.783536Z"
    },
    "papermill": {
     "duration": 0.009819,
     "end_time": "2025-01-07T17:48:33.785269",
     "exception": false,
     "start_time": "2025-01-07T17:48:33.775450",
     "status": "completed"
    },
    "tags": []
   },
   "outputs": [],
   "source": [
    "# df_fc = df_fc.set_index('date')\n",
    "# df_fc[['rclose','rh3','rl3']].plot(\n",
    "#     style=['grey', 'rv', 'g^'],\n",
    "#     figsize=(20,5),grid=True, title = str.upper(ticker))\n",
    "# plt.show()"
   ]
  },
  {
   "cell_type": "code",
   "execution_count": 20,
   "id": "55b947a3-a443-4f1d-8af1-8b0fd4063658",
   "metadata": {
    "execution": {
     "iopub.execute_input": "2025-01-07T17:48:33.795716Z",
     "iopub.status.busy": "2025-01-07T17:48:33.795141Z",
     "iopub.status.idle": "2025-01-07T17:48:33.798409Z",
     "shell.execute_reply": "2025-01-07T17:48:33.797731Z"
    },
    "papermill": {
     "duration": 0.009603,
     "end_time": "2025-01-07T17:48:33.799527",
     "exception": false,
     "start_time": "2025-01-07T17:48:33.789924",
     "status": "completed"
    },
    "tags": []
   },
   "outputs": [],
   "source": [
    "# df_fc[['close','hi3','lo3','rclose','rh3','rl3']].plot(\n",
    "#     style=['grey','rv', 'g^','k:','mv','b^'],\n",
    "#             figsize=(20,5),grid=True, title = str.upper(ticker)+' vs '+str.upper(bm_col))\n",
    "# plt.show()"
   ]
  },
  {
   "cell_type": "code",
   "execution_count": 21,
   "id": "e752610e-3ce2-4599-a425-6b1a9e345a6e",
   "metadata": {
    "execution": {
     "iopub.execute_input": "2025-01-07T17:48:33.809667Z",
     "iopub.status.busy": "2025-01-07T17:48:33.809195Z",
     "iopub.status.idle": "2025-01-07T17:48:33.812128Z",
     "shell.execute_reply": "2025-01-07T17:48:33.811574Z"
    },
    "papermill": {
     "duration": 0.00914,
     "end_time": "2025-01-07T17:48:33.813191",
     "exception": false,
     "start_time": "2025-01-07T17:48:33.804051",
     "status": "completed"
    },
    "tags": []
   },
   "outputs": [],
   "source": [
    "# df_fc[['rclose','rh3', 'rl3','rclg','rflr','rrg_ch','rrg']].plot(style=['grey', 'ro', 'go', 'kv', 'k^','c:','y-.'], \n",
    "#                         secondary_y= ['rrg'],figsize=(20,5),grid=True, title = str.upper(ticker))\n",
    "# plt.show()"
   ]
  }
 ],
 "metadata": {
  "kernelspec": {
   "display_name": "Python 3 (ipykernel)",
   "language": "python",
   "name": "python3"
  },
  "language_info": {
   "codemirror_mode": {
    "name": "ipython",
    "version": 3
   },
   "file_extension": ".py",
   "mimetype": "text/x-python",
   "name": "python",
   "nbconvert_exporter": "python",
   "pygments_lexer": "ipython3",
   "version": "3.8.18"
  },
  "papermill": {
   "default_parameters": {},
   "duration": 3.166983,
   "end_time": "2025-01-07T17:48:34.235883",
   "environment_variables": {},
   "exception": null,
   "input_path": "template.ipynb",
   "output_path": "TMP.MI_output.ipynb",
   "parameters": {
    "path_to_file": "data/TMP.MI.xlsx"
   },
   "start_time": "2025-01-07T17:48:31.068900",
   "version": "2.6.0"
  }
 },
 "nbformat": 4,
 "nbformat_minor": 5
}