{
 "cells": [
  {
   "cell_type": "code",
   "execution_count": 1,
   "id": "a005c4e9",
   "metadata": {
    "execution": {
     "iopub.execute_input": "2025-01-07T17:55:10.861240Z",
     "iopub.status.busy": "2025-01-07T17:55:10.860747Z",
     "iopub.status.idle": "2025-01-07T17:55:10.867550Z",
     "shell.execute_reply": "2025-01-07T17:55:10.867003Z"
    },
    "papermill": {
     "duration": 0.01256,
     "end_time": "2025-01-07T17:55:10.868595",
     "exception": false,
     "start_time": "2025-01-07T17:55:10.856035",
     "status": "completed"
    },
    "tags": [
     "injected-parameters"
    ]
   },
   "outputs": [],
   "source": [
    "# Parameters\n",
    "path_to_file = \"data/ART.MI.xlsx\"\n"
   ]
  },
  {
   "cell_type": "code",
   "execution_count": 2,
   "id": "5efbf512-053b-4bce-9f68-c0b07e257aec",
   "metadata": {
    "execution": {
     "iopub.execute_input": "2025-01-07T17:55:10.876666Z",
     "iopub.status.busy": "2025-01-07T17:55:10.876205Z",
     "iopub.status.idle": "2025-01-07T17:55:11.209187Z",
     "shell.execute_reply": "2025-01-07T17:55:11.208529Z"
    },
    "papermill": {
     "duration": 0.337943,
     "end_time": "2025-01-07T17:55:11.210279",
     "exception": false,
     "start_time": "2025-01-07T17:55:10.872336",
     "status": "completed"
    },
    "tags": []
   },
   "outputs": [
    {
     "name": "stdout",
     "output_type": "stream",
     "text": [
      "Current working directory: /home/runner/work/myfinance/myfinance/NT\n",
      "New current working directory: /home/runner/work/myfinance/myfinance\n"
     ]
    },
    {
     "data": {
      "text/plain": [
       "2"
      ]
     },
     "execution_count": 2,
     "metadata": {},
     "output_type": "execute_result"
    }
   ],
   "source": [
    "import os  \n",
    "import sys  \n",
    "import pandas as pd\n",
    "import openpyxl\n",
    "# import papermill as pm  \n",
    "\n",
    "# get the current working directory  \n",
    "cwd = os.getcwd()  \n",
    "print(\"Current working directory:\", cwd)  \n",
    "  \n",
    "# change the current working directory to one level up  \n",
    "os.chdir(\"..\")  \n",
    "  \n",
    "# get the new current working directory  \n",
    "new_cwd = os.getcwd()  \n",
    "print(\"New current working directory:\", new_cwd) \n",
    "\n",
    "1+1"
   ]
  },
  {
   "cell_type": "code",
   "execution_count": 3,
   "id": "a244e996-b5d1-4551-8a00-065f1f64e197",
   "metadata": {
    "execution": {
     "iopub.execute_input": "2025-01-07T17:55:11.218627Z",
     "iopub.status.busy": "2025-01-07T17:55:11.218126Z",
     "iopub.status.idle": "2025-01-07T17:55:11.768939Z",
     "shell.execute_reply": "2025-01-07T17:55:11.768306Z"
    },
    "papermill": {
     "duration": 0.556175,
     "end_time": "2025-01-07T17:55:11.770229",
     "exception": false,
     "start_time": "2025-01-07T17:55:11.214054",
     "status": "completed"
    },
    "tags": []
   },
   "outputs": [],
   "source": [
    "# add the 'data' folder to the system path  \n",
    "sys.path.append(os.path.abspath(\"data\"))\n",
    "from relative import *\n",
    "from AT_funs import *\n",
    "\n"
   ]
  },
  {
   "cell_type": "code",
   "execution_count": 4,
   "id": "c10e57be-9edb-48b2-a7c7-4d446f107612",
   "metadata": {
    "execution": {
     "iopub.execute_input": "2025-01-07T17:55:11.778328Z",
     "iopub.status.busy": "2025-01-07T17:55:11.777917Z",
     "iopub.status.idle": "2025-01-07T17:55:11.781186Z",
     "shell.execute_reply": "2025-01-07T17:55:11.780606Z"
    },
    "papermill": {
     "duration": 0.008228,
     "end_time": "2025-01-07T17:55:11.782165",
     "exception": false,
     "start_time": "2025-01-07T17:55:11.773937",
     "status": "completed"
    },
    "tags": []
   },
   "outputs": [],
   "source": [
    "# # Get the path of the Excel file from the command line argument  \n",
    "# # filename = sys.argv[1]  \n",
    "# filename = 'data/A2A.MI.xlsx'\n",
    "# df = read_xlsx(filename)\n",
    "# ticker = filename.replace('xlsx', '')\n",
    "# # ticker = ' '\n",
    "# # df\n",
    "# filename_bm = 'data/FTSEMIB.MI.xlsx'\n",
    "# bm_df = read_xlsx(filename_bm)\n",
    "# bm_name = filename_bm.replace('xlsx', '')"
   ]
  },
  {
   "cell_type": "code",
   "execution_count": 5,
   "id": "bf256f3b-01c5-4716-92f2-41c8148bb68b",
   "metadata": {
    "execution": {
     "iopub.execute_input": "2025-01-07T17:55:11.814552Z",
     "iopub.status.busy": "2025-01-07T17:55:11.814069Z",
     "iopub.status.idle": "2025-01-07T17:55:11.817054Z",
     "shell.execute_reply": "2025-01-07T17:55:11.816487Z"
    },
    "papermill": {
     "duration": 0.008067,
     "end_time": "2025-01-07T17:55:11.818077",
     "exception": false,
     "start_time": "2025-01-07T17:55:11.810010",
     "status": "completed"
    },
    "tags": []
   },
   "outputs": [],
   "source": [
    "# plot_abs_rel(df, ticker, bm_df, bm_name)"
   ]
  },
  {
   "cell_type": "code",
   "execution_count": 6,
   "id": "0b660f54-a39b-498e-8eb8-bf81c034988f",
   "metadata": {
    "execution": {
     "iopub.execute_input": "2025-01-07T17:55:11.825647Z",
     "iopub.status.busy": "2025-01-07T17:55:11.825265Z",
     "iopub.status.idle": "2025-01-07T17:55:12.162485Z",
     "shell.execute_reply": "2025-01-07T17:55:12.161810Z"
    },
    "papermill": {
     "duration": 0.342422,
     "end_time": "2025-01-07T17:55:12.163808",
     "exception": false,
     "start_time": "2025-01-07T17:55:11.821386",
     "status": "completed"
    },
    "tags": []
   },
   "outputs": [],
   "source": [
    "# Parameters  \n",
    "# path_to_file: str - the path to the input file  \n",
    "  \n",
    "filename = path_to_file\n",
    "df = read_xlsx(filename)\n",
    "ticker = filename.replace('xlsx', '')\n",
    "# ticker = ' '\n",
    "# df\n",
    "filename_bm = 'data/FTSEMIB.MI.xlsx'\n",
    "bm_df = read_xlsx(filename_bm)\n",
    "bm_name = filename_bm.replace('xlsx', '')"
   ]
  },
  {
   "cell_type": "code",
   "execution_count": 7,
   "id": "55b83496-eb02-490d-aef2-62a6aa478e6e",
   "metadata": {
    "execution": {
     "iopub.execute_input": "2025-01-07T17:55:12.172110Z",
     "iopub.status.busy": "2025-01-07T17:55:12.171669Z",
     "iopub.status.idle": "2025-01-07T17:55:12.480173Z",
     "shell.execute_reply": "2025-01-07T17:55:12.479465Z"
    },
    "papermill": {
     "duration": 0.313762,
     "end_time": "2025-01-07T17:55:12.481387",
     "exception": false,
     "start_time": "2025-01-07T17:55:12.167625",
     "status": "completed"
    },
    "tags": []
   },
   "outputs": [
    {
     "data": {
      "image/png": "[encoded data removed]",
      "text/plain": [
       "<Figure size 2000x800 with 1 Axes>"
      ]
     },
     "metadata": {},
     "output_type": "display_data"
    }
   ],
   "source": [
    "plot_abs_rel(df, ticker, bm_df, bm_name)"
   ]
  },
  {
   "cell_type": "code",
   "execution_count": 8,
   "id": "ede37904-5bbb-418d-9059-699d76bbf0a3",
   "metadata": {
    "execution": {
     "iopub.execute_input": "2025-01-07T17:55:12.491846Z",
     "iopub.status.busy": "2025-01-07T17:55:12.491402Z",
     "iopub.status.idle": "2025-01-07T17:55:12.494466Z",
     "shell.execute_reply": "2025-01-07T17:55:12.493904Z"
    },
    "papermill": {
     "duration": 0.009169,
     "end_time": "2025-01-07T17:55:12.495482",
     "exception": false,
     "start_time": "2025-01-07T17:55:12.486313",
     "status": "completed"
    },
    "tags": []
   },
   "outputs": [],
   "source": [
    "# window_bo = 100\n",
    "# fast = 20\n",
    "# slow = 50\n",
    "# st = 50\n",
    "# mt = 100\n",
    "# lt = 150\n",
    "# lvl = 3\n",
    "# bm_col = 'close'\n",
    "# dgt = 5\n",
    "# window_exp = 100\n",
    "# starting_capital = 100000\n",
    "# lot = 100\n",
    "# mn = -0.0025\n",
    "# mx = -0.0075\n",
    "# # avg = (mn + mx) / 2\n",
    "# tolerance= -0.1\n",
    "# equal_weight = 0.05\n",
    "# span= 5\n",
    "# fx = 1"
   ]
  },
  {
   "cell_type": "code",
   "execution_count": 9,
   "id": "acc836f8-1d67-4cd8-a34f-54476972ed30",
   "metadata": {
    "execution": {
     "iopub.execute_input": "2025-01-07T17:55:12.505342Z",
     "iopub.status.busy": "2025-01-07T17:55:12.504900Z",
     "iopub.status.idle": "2025-01-07T17:55:12.507758Z",
     "shell.execute_reply": "2025-01-07T17:55:12.507210Z"
    },
    "papermill": {
     "duration": 0.00885,
     "end_time": "2025-01-07T17:55:12.508707",
     "exception": false,
     "start_time": "2025-01-07T17:55:12.499857",
     "status": "completed"
    },
    "tags": []
   },
   "outputs": [],
   "source": [
    "# ohlc = ['open','high','low','close']\n",
    "# _o,_h,_l,_c = [ohlc[h] for h in range(len(ohlc))]\n",
    "# ticker = df['ticker'][0]\n",
    "\n",
    "# df = relative(df,_o,_h,_l,_c, bm_df, bm_col, dgt, rebase=True)\n",
    "# df = df.set_index('date')\n",
    "\n",
    "# df_bo = signal_rbo(df, window_bo, relative=True)\n",
    "# df_tt = signal_rtt(df, fast = fast, slow = slow, relative=True)\n",
    "# df_ema = signal_rema(df, st, mt, lt, relative=True)\n",
    "# df_sma = signal_rsma(df, st, mt, lt, relative=True)\n",
    "# df_fc = detect_regime(df, bm_df)"
   ]
  },
  {
   "cell_type": "code",
   "execution_count": 10,
   "id": "0ce95c8f-d951-49c3-a01d-2d1383f76814",
   "metadata": {
    "execution": {
     "iopub.execute_input": "2025-01-07T17:55:12.518251Z",
     "iopub.status.busy": "2025-01-07T17:55:12.517880Z",
     "iopub.status.idle": "2025-01-07T17:55:12.521074Z",
     "shell.execute_reply": "2025-01-07T17:55:12.520409Z"
    },
    "papermill": {
     "duration": 0.009056,
     "end_time": "2025-01-07T17:55:12.522098",
     "exception": false,
     "start_time": "2025-01-07T17:55:12.513042",
     "status": "completed"
    },
    "tags": []
   },
   "outputs": [],
   "source": [
    "# def plot_signal_bo(df, window, ticker, relative):\n",
    "\n",
    "#     _o,_h,_l,_c = lower_upper_OHLC(df,relative = relative)\n",
    "    \n",
    "#     prefix_h = 'hi_'\n",
    "#     prefix_l = 'lo_'\n",
    "#     prefix_bo = 'bo_'\n",
    "#     close = 'close'\n",
    "#     if relative:\n",
    "#         prefix_h = 'rhi_'\n",
    "#         prefix_l = 'rlo_'\n",
    "#         prefix_bo = 'rbo_'  \n",
    "#         close = 'rclose'\n",
    "        \n",
    "#     # df = df.set_index('date')\n",
    "#     df[[close, prefix_h + str(window), prefix_l + str(window), prefix_bo + str(window)]].plot(\n",
    "#         secondary_y= [prefix_bo + str(window)], figsize=(20,5), style=['k','g:','r:','b-.'], \n",
    "#         title = str.upper(ticker)+' '+str(window) +' days high/low')\n",
    "#     plt.show()"
   ]
  },
  {
   "cell_type": "code",
   "execution_count": 11,
   "id": "f1bc238d-36fa-4da1-9257-c78a3d090c85",
   "metadata": {
    "execution": {
     "iopub.execute_input": "2025-01-07T17:55:12.531955Z",
     "iopub.status.busy": "2025-01-07T17:55:12.531440Z",
     "iopub.status.idle": "2025-01-07T17:55:12.534521Z",
     "shell.execute_reply": "2025-01-07T17:55:12.533863Z"
    },
    "papermill": {
     "duration": 0.009052,
     "end_time": "2025-01-07T17:55:12.535582",
     "exception": false,
     "start_time": "2025-01-07T17:55:12.526530",
     "status": "completed"
    },
    "tags": []
   },
   "outputs": [],
   "source": [
    "# plot_signal_bo(df_bo, window_bo, ticker, relative = True)"
   ]
  },
  {
   "cell_type": "code",
   "execution_count": 12,
   "id": "b968e4d7-7e1f-46a0-9612-89d603a2c925",
   "metadata": {
    "execution": {
     "iopub.execute_input": "2025-01-07T17:55:12.545413Z",
     "iopub.status.busy": "2025-01-07T17:55:12.545007Z",
     "iopub.status.idle": "2025-01-07T17:55:12.547828Z",
     "shell.execute_reply": "2025-01-07T17:55:12.547282Z"
    },
    "papermill": {
     "duration": 0.008952,
     "end_time": "2025-01-07T17:55:12.548908",
     "exception": false,
     "start_time": "2025-01-07T17:55:12.539956",
     "status": "completed"
    },
    "tags": []
   },
   "outputs": [],
   "source": [
    "# def plot_signal_tt(df, fast, slow, relative):\n",
    "\n",
    "#     close = 'close'\n",
    "#     tt = 'tt_'\n",
    "#     if relative:\n",
    "#         close = 'rclose'\n",
    "#         tt = 'rtt_'\n",
    "    \n",
    "#     rg_cols = [tt + str(slow)+str(fast)]\n",
    "\n",
    "#     df[[close, tt+ str(slow)+str(fast)] ].plot(\n",
    "#         secondary_y= rg_cols,figsize=(20,5), style=['k','b-.'], \n",
    "#         title = str.upper('')+' '+str(rg_cols))\n",
    "#     plt.show()  "
   ]
  },
  {
   "cell_type": "code",
   "execution_count": 13,
   "id": "087d9ad6-8115-4c8f-9750-8f47a8c7d4c3",
   "metadata": {
    "execution": {
     "iopub.execute_input": "2025-01-07T17:55:12.558712Z",
     "iopub.status.busy": "2025-01-07T17:55:12.558164Z",
     "iopub.status.idle": "2025-01-07T17:55:12.561085Z",
     "shell.execute_reply": "2025-01-07T17:55:12.560440Z"
    },
    "papermill": {
     "duration": 0.008812,
     "end_time": "2025-01-07T17:55:12.562063",
     "exception": false,
     "start_time": "2025-01-07T17:55:12.553251",
     "status": "completed"
    },
    "tags": []
   },
   "outputs": [],
   "source": [
    "# plot_signal_tt(df_tt, fast, slow, relative = True)"
   ]
  },
  {
   "cell_type": "code",
   "execution_count": 14,
   "id": "541bbbe1-ac4a-44db-8812-68151fb35260",
   "metadata": {
    "execution": {
     "iopub.execute_input": "2025-01-07T17:55:12.571732Z",
     "iopub.status.busy": "2025-01-07T17:55:12.571370Z",
     "iopub.status.idle": "2025-01-07T17:55:12.574487Z",
     "shell.execute_reply": "2025-01-07T17:55:12.573920Z"
    },
    "papermill": {
     "duration": 0.008955,
     "end_time": "2025-01-07T17:55:12.575420",
     "exception": false,
     "start_time": "2025-01-07T17:55:12.566465",
     "status": "completed"
    },
    "tags": []
   },
   "outputs": [],
   "source": [
    "# def plot_signal_sma(df, st, mt, lt, relative):\n",
    "\n",
    "#     close = 'close'\n",
    "#     sma = 'sma_'\n",
    "#     ema = 'ema_'\n",
    "#     if relative:\n",
    "#         close = 'rclose'\n",
    "#         sma = 'rsma_'\n",
    "#         ema = 'rema_'\n",
    "\n",
    "#     df[[close,sma+ str(st) + str(mt) + str(lt)] ].plot(\n",
    "#         secondary_y= sma+ str(st) + str(mt) + str(lt),figsize=(20,5), style=['k','b-.'], \n",
    "#         title = str.upper('')+' '+str([sma+ str(st) + str(mt) + str(lt)]))\n",
    "        \n",
    "#     plt.show() "
   ]
  },
  {
   "cell_type": "code",
   "execution_count": 15,
   "id": "2be5be52-9c5a-4311-ac47-4538d580da77",
   "metadata": {
    "execution": {
     "iopub.execute_input": "2025-01-07T17:55:12.585219Z",
     "iopub.status.busy": "2025-01-07T17:55:12.584746Z",
     "iopub.status.idle": "2025-01-07T17:55:12.587681Z",
     "shell.execute_reply": "2025-01-07T17:55:12.587019Z"
    },
    "papermill": {
     "duration": 0.008928,
     "end_time": "2025-01-07T17:55:12.588747",
     "exception": false,
     "start_time": "2025-01-07T17:55:12.579819",
     "status": "completed"
    },
    "tags": []
   },
   "outputs": [],
   "source": [
    "# plot_signal_sma(df_sma, st, mt, lt, relative = True)"
   ]
  },
  {
   "cell_type": "code",
   "execution_count": 16,
   "id": "307b943a-cb79-4140-ad91-2fa62aaccdc2",
   "metadata": {
    "execution": {
     "iopub.execute_input": "2025-01-07T17:55:12.598679Z",
     "iopub.status.busy": "2025-01-07T17:55:12.598217Z",
     "iopub.status.idle": "2025-01-07T17:55:12.601083Z",
     "shell.execute_reply": "2025-01-07T17:55:12.600542Z"
    },
    "papermill": {
     "duration": 0.008828,
     "end_time": "2025-01-07T17:55:12.602132",
     "exception": false,
     "start_time": "2025-01-07T17:55:12.593304",
     "status": "completed"
    },
    "tags": []
   },
   "outputs": [],
   "source": [
    "# def plot_signal_ema(df, st, mt, lt, relative):\n",
    "\n",
    "#     close = 'close'\n",
    "#     sma = 'sma_'\n",
    "#     ema = 'ema_'\n",
    "#     if relative:\n",
    "#         close = 'rclose'\n",
    "#         sma = 'rsma_'\n",
    "#         ema = 'rema_'\n",
    "    \n",
    "#     df[[close,ema+ str(st) + str(mt) + str(lt)] ].plot(\n",
    "#         secondary_y= ema+ str(st) + str(mt) + str(lt),figsize=(20,5), style=['k','b-.'], \n",
    "#         title = str.upper('')+' '+str([ema+ str(st) + str(mt) + str(lt)]))\n",
    "        \n",
    "#     plt.show() "
   ]
  },
  {
   "cell_type": "code",
   "execution_count": 17,
   "id": "43356d36-8b62-4341-a736-8103de9a98db",
   "metadata": {
    "execution": {
     "iopub.execute_input": "2025-01-07T17:55:12.611789Z",
     "iopub.status.busy": "2025-01-07T17:55:12.611422Z",
     "iopub.status.idle": "2025-01-07T17:55:12.614309Z",
     "shell.execute_reply": "2025-01-07T17:55:12.613646Z"
    },
    "papermill": {
     "duration": 0.008908,
     "end_time": "2025-01-07T17:55:12.615407",
     "exception": false,
     "start_time": "2025-01-07T17:55:12.606499",
     "status": "completed"
    },
    "tags": []
   },
   "outputs": [],
   "source": [
    "# plot_signal_ema(df_ema, st, mt, lt, relative = True)"
   ]
  },
  {
   "cell_type": "code",
   "execution_count": 18,
   "id": "2ac0e513-acb4-4f99-8418-9208c68b1a20",
   "metadata": {
    "execution": {
     "iopub.execute_input": "2025-01-07T17:55:12.625213Z",
     "iopub.status.busy": "2025-01-07T17:55:12.624807Z",
     "iopub.status.idle": "2025-01-07T17:55:12.627639Z",
     "shell.execute_reply": "2025-01-07T17:55:12.627006Z"
    },
    "papermill": {
     "duration": 0.008893,
     "end_time": "2025-01-07T17:55:12.628688",
     "exception": false,
     "start_time": "2025-01-07T17:55:12.619795",
     "status": "completed"
    },
    "tags": []
   },
   "outputs": [],
   "source": [
    "# plot_signal_rel(df_fc, ticker)\n",
    "# plot_regime_rel(df_fc, ticker)"
   ]
  },
  {
   "cell_type": "code",
   "execution_count": 19,
   "id": "9cf64b40-df77-4833-9bce-90af7e61548b",
   "metadata": {
    "execution": {
     "iopub.execute_input": "2025-01-07T17:55:12.638357Z",
     "iopub.status.busy": "2025-01-07T17:55:12.637990Z",
     "iopub.status.idle": "2025-01-07T17:55:12.640847Z",
     "shell.execute_reply": "2025-01-07T17:55:12.640204Z"
    },
    "papermill": {
     "duration": 0.008762,
     "end_time": "2025-01-07T17:55:12.641922",
     "exception": false,
     "start_time": "2025-01-07T17:55:12.633160",
     "status": "completed"
    },
    "tags": []
   },
   "outputs": [],
   "source": [
    "# df_fc = df_fc.set_index('date')\n",
    "# df_fc[['rclose','rh3','rl3']].plot(\n",
    "#     style=['grey', 'rv', 'g^'],\n",
    "#     figsize=(20,5),grid=True, title = str.upper(ticker))\n",
    "# plt.show()"
   ]
  },
  {
   "cell_type": "code",
   "execution_count": 20,
   "id": "55b947a3-a443-4f1d-8af1-8b0fd4063658",
   "metadata": {
    "execution": {
     "iopub.execute_input": "2025-01-07T17:55:12.651675Z",
     "iopub.status.busy": "2025-01-07T17:55:12.651270Z",
     "iopub.status.idle": "2025-01-07T17:55:12.654195Z",
     "shell.execute_reply": "2025-01-07T17:55:12.653629Z"
    },
    "papermill": {
     "duration": 0.008779,
     "end_time": "2025-01-07T17:55:12.655122",
     "exception": false,
     "start_time": "2025-01-07T17:55:12.646343",
     "status": "completed"
    },
    "tags": []
   },
   "outputs": [],
   "source": [
    "# df_fc[['close','hi3','lo3','rclose','rh3','rl3']].plot(\n",
    "#     style=['grey','rv', 'g^','k:','mv','b^'],\n",
    "#             figsize=(20,5),grid=True, title = str.upper(ticker)+' vs '+str.upper(bm_col))\n",
    "# plt.show()"
   ]
  },
  {
   "cell_type": "code",
   "execution_count": 21,
   "id": "e752610e-3ce2-4599-a425-6b1a9e345a6e",
   "metadata": {
    "execution": {
     "iopub.execute_input": "2025-01-07T17:55:12.665073Z",
     "iopub.status.busy": "2025-01-07T17:55:12.664596Z",
     "iopub.status.idle": "2025-01-07T17:55:12.667428Z",
     "shell.execute_reply": "2025-01-07T17:55:12.666870Z"
    },
    "papermill": {
     "duration": 0.00884,
     "end_time": "2025-01-07T17:55:12.668405",
     "exception": false,
     "start_time": "2025-01-07T17:55:12.659565",
     "status": "completed"
    },
    "tags": []
   },
   "outputs": [],
   "source": [
    "# df_fc[['rclose','rh3', 'rl3','rclg','rflr','rrg_ch','rrg']].plot(style=['grey', 'ro', 'go', 'kv', 'k^','c:','y-.'], \n",
    "#                         secondary_y= ['rrg'],figsize=(20,5),grid=True, title = str.upper(ticker))\n",
    "# plt.show()"
   ]
  }
 ],
 "metadata": {
  "kernelspec": {
   "display_name": "Python 3 (ipykernel)",
   "language": "python",
   "name": "python3"
  },
  "language_info": {
   "codemirror_mode": {
    "name": "ipython",
    "version": 3
   },
   "file_extension": ".py",
   "mimetype": "text/x-python",
   "name": "python",
   "nbconvert_exporter": "python",
   "pygments_lexer": "ipython3",
   "version": "3.8.18"
  },
  "papermill": {
   "default_parameters": {},
   "duration": 3.023147,
   "end_time": "2025-01-07T17:55:12.988879",
   "environment_variables": {},
   "exception": null,
   "input_path": "template.ipynb",
   "output_path": "ART.MI_output.ipynb",
   "parameters": {
    "path_to_file": "data/ART.MI.xlsx"
   },
   "start_time": "2025-01-07T17:55:09.965732",
   "version": "2.6.0"
  }
 },
 "nbformat": 4,
 "nbformat_minor": 5
}