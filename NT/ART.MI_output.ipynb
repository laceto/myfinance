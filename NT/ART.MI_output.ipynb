{
 "cells": [
  {
   "cell_type": "code",
   "execution_count": 1,
   "id": "1d8688b9",
   "metadata": {
    "execution": {
     "iopub.execute_input": "2025-01-07T16:40:46.014580Z",
     "iopub.status.busy": "2025-01-07T16:40:46.013625Z",
     "iopub.status.idle": "2025-01-07T16:40:46.038499Z",
     "shell.execute_reply": "2025-01-07T16:40:46.036581Z"
    },
    "papermill": {
     "duration": 0.032853,
     "end_time": "2025-01-07T16:40:46.039534",
     "exception": false,
     "start_time": "2025-01-07T16:40:46.006681",
     "status": "completed"
    },
    "tags": [
     "injected-parameters"
    ]
   },
   "outputs": [],
   "source": [
    "# Parameters\n",
    "path_to_file = \"data/ART.MI.xlsx\"\n"
   ]
  },
  {
   "cell_type": "code",
   "execution_count": 2,
   "id": "5efbf512-053b-4bce-9f68-c0b07e257aec",
   "metadata": {
    "execution": {
     "iopub.execute_input": "2025-01-07T16:40:46.050459Z",
     "iopub.status.busy": "2025-01-07T16:40:46.049501Z",
     "iopub.status.idle": "2025-01-07T16:40:46.787401Z",
     "shell.execute_reply": "2025-01-07T16:40:46.786417Z"
    },
    "papermill": {
     "duration": 0.743906,
     "end_time": "2025-01-07T16:40:46.788403",
     "exception": false,
     "start_time": "2025-01-07T16:40:46.044497",
     "status": "completed"
    },
    "tags": []
   },
   "outputs": [
    {
     "name": "stdout",
     "output_type": "stream",
     "text": [
      "Current working directory: C:\\Users\\laceto\\OneDrive - Gen Re AzureAD\\Desktop\\lavoro\\Personal projects\\finance\\myfinance 20240708\\NT\n",
      "New current working directory: C:\\Users\\laceto\\OneDrive - Gen Re AzureAD\\Desktop\\lavoro\\Personal projects\\finance\\myfinance 20240708\n"
     ]
    },
    {
     "data": {
      "text/plain": [
       "2"
      ]
     },
     "execution_count": 2,
     "metadata": {},
     "output_type": "execute_result"
    }
   ],
   "source": [
    "import os  \n",
    "import sys  \n",
    "import pandas as pd\n",
    "import openpyxl\n",
    "# import papermill as pm  \n",
    "\n",
    "# get the current working directory  \n",
    "cwd = os.getcwd()  \n",
    "print(\"Current working directory:\", cwd)  \n",
    "  \n",
    "# change the current working directory to one level up  \n",
    "os.chdir(\"..\")  \n",
    "  \n",
    "# get the new current working directory  \n",
    "new_cwd = os.getcwd()  \n",
    "print(\"New current working directory:\", new_cwd) \n",
    "\n",
    "1+1"
   ]
  },
  {
   "cell_type": "code",
   "execution_count": 3,
   "id": "a244e996-b5d1-4551-8a00-065f1f64e197",
   "metadata": {
    "execution": {
     "iopub.execute_input": "2025-01-07T16:40:46.798369Z",
     "iopub.status.busy": "2025-01-07T16:40:46.797365Z",
     "iopub.status.idle": "2025-01-07T16:40:47.644603Z",
     "shell.execute_reply": "2025-01-07T16:40:47.643624Z"
    },
    "papermill": {
     "duration": 0.855216,
     "end_time": "2025-01-07T16:40:47.647616",
     "exception": false,
     "start_time": "2025-01-07T16:40:46.792400",
     "status": "completed"
    },
    "tags": []
   },
   "outputs": [],
   "source": [
    "# add the 'data' folder to the system path  \n",
    "sys.path.append(os.path.abspath(\"data\"))\n",
    "from relative import *\n",
    "from AT_funs import *\n",
    "\n"
   ]
  },
  {
   "cell_type": "code",
   "execution_count": 4,
   "id": "c10e57be-9edb-48b2-a7c7-4d446f107612",
   "metadata": {
    "execution": {
     "iopub.execute_input": "2025-01-07T16:40:47.658552Z",
     "iopub.status.busy": "2025-01-07T16:40:47.658552Z",
     "iopub.status.idle": "2025-01-07T16:40:47.675470Z",
     "shell.execute_reply": "2025-01-07T16:40:47.674481Z"
    },
    "papermill": {
     "duration": 0.023907,
     "end_time": "2025-01-07T16:40:47.676467",
     "exception": false,
     "start_time": "2025-01-07T16:40:47.652560",
     "status": "completed"
    },
    "tags": []
   },
   "outputs": [],
   "source": [
    "# # Get the path of the Excel file from the command line argument  \n",
    "# # filename = sys.argv[1]  \n",
    "# filename = 'data/A2A.MI.xlsx'\n",
    "# df = read_xlsx(filename)\n",
    "# ticker = filename.replace('xlsx', '')\n",
    "# # ticker = ' '\n",
    "# # df\n",
    "# filename_bm = 'data/FTSEMIB.MI.xlsx'\n",
    "# bm_df = read_xlsx(filename_bm)\n",
    "# bm_name = filename_bm.replace('xlsx', '')"
   ]
  },
  {
   "cell_type": "code",
   "execution_count": 5,
   "id": "bf256f3b-01c5-4716-92f2-41c8148bb68b",
   "metadata": {
    "execution": {
     "iopub.execute_input": "2025-01-07T16:40:47.685447Z",
     "iopub.status.busy": "2025-01-07T16:40:47.685447Z",
     "iopub.status.idle": "2025-01-07T16:40:47.689465Z",
     "shell.execute_reply": "2025-01-07T16:40:47.689465Z"
    },
    "papermill": {
     "duration": 0.010037,
     "end_time": "2025-01-07T16:40:47.690461",
     "exception": false,
     "start_time": "2025-01-07T16:40:47.680424",
     "status": "completed"
    },
    "tags": []
   },
   "outputs": [],
   "source": [
    "# plot_abs_rel(df, ticker, bm_df, bm_name)"
   ]
  },
  {
   "cell_type": "code",
   "execution_count": 6,
   "id": "0b660f54-a39b-498e-8eb8-bf81c034988f",
   "metadata": {
    "execution": {
     "iopub.execute_input": "2025-01-07T16:40:47.700389Z",
     "iopub.status.busy": "2025-01-07T16:40:47.700389Z",
     "iopub.status.idle": "2025-01-07T16:40:47.924689Z",
     "shell.execute_reply": "2025-01-07T16:40:47.924689Z"
    },
    "papermill": {
     "duration": 0.232222,
     "end_time": "2025-01-07T16:40:47.926638",
     "exception": false,
     "start_time": "2025-01-07T16:40:47.694416",
     "status": "completed"
    },
    "tags": []
   },
   "outputs": [],
   "source": [
    "# Parameters  \n",
    "# path_to_file: str - the path to the input file  \n",
    "  \n",
    "filename = path_to_file\n",
    "df = read_xlsx(filename)\n",
    "ticker = filename.replace('xlsx', '')\n",
    "# ticker = ' '\n",
    "# df\n",
    "filename_bm = 'data/FTSEMIB.MI.xlsx'\n",
    "bm_df = read_xlsx(filename_bm)\n",
    "bm_name = filename_bm.replace('xlsx', '')"
   ]
  },
  {
   "cell_type": "code",
   "execution_count": 7,
   "id": "55b83496-eb02-490d-aef2-62a6aa478e6e",
   "metadata": {
    "execution": {
     "iopub.execute_input": "2025-01-07T16:40:47.937604Z",
     "iopub.status.busy": "2025-01-07T16:40:47.936608Z",
     "iopub.status.idle": "2025-01-07T16:40:48.129958Z",
     "shell.execute_reply": "2025-01-07T16:40:48.128990Z"
    },
    "papermill": {
     "duration": 0.200294,
     "end_time": "2025-01-07T16:40:48.130917",
     "exception": false,
     "start_time": "2025-01-07T16:40:47.930623",
     "status": "completed"
    },
    "tags": []
   },
   "outputs": [
    {
     "data": {
      "image/png": "[encoded data removed]",
      "text/plain": [
       "<Figure size 2000x800 with 1 Axes>"
      ]
     },
     "metadata": {},
     "output_type": "display_data"
    }
   ],
   "source": [
    "plot_abs_rel(df, ticker, bm_df, bm_name)"
   ]
  },
  {
   "cell_type": "code",
   "execution_count": 8,
   "id": "ede37904-5bbb-418d-9059-699d76bbf0a3",
   "metadata": {
    "execution": {
     "iopub.execute_input": "2025-01-07T16:40:48.143916Z",
     "iopub.status.busy": "2025-01-07T16:40:48.142922Z",
     "iopub.status.idle": "2025-01-07T16:40:48.160909Z",
     "shell.execute_reply": "2025-01-07T16:40:48.159947Z"
    },
    "papermill": {
     "duration": 0.025003,
     "end_time": "2025-01-07T16:40:48.161936",
     "exception": false,
     "start_time": "2025-01-07T16:40:48.136933",
     "status": "completed"
    },
    "tags": []
   },
   "outputs": [],
   "source": [
    "# window_bo = 100\n",
    "# fast = 20\n",
    "# slow = 50\n",
    "# st = 50\n",
    "# mt = 100\n",
    "# lt = 150\n",
    "# lvl = 3\n",
    "# bm_col = 'close'\n",
    "# dgt = 5\n",
    "# window_exp = 100\n",
    "# starting_capital = 100000\n",
    "# lot = 100\n",
    "# mn = -0.0025\n",
    "# mx = -0.0075\n",
    "# # avg = (mn + mx) / 2\n",
    "# tolerance= -0.1\n",
    "# equal_weight = 0.05\n",
    "# span= 5\n",
    "# fx = 1"
   ]
  },
  {
   "cell_type": "code",
   "execution_count": 9,
   "id": "acc836f8-1d67-4cd8-a34f-54476972ed30",
   "metadata": {
    "execution": {
     "iopub.execute_input": "2025-01-07T16:40:48.172869Z",
     "iopub.status.busy": "2025-01-07T16:40:48.172869Z",
     "iopub.status.idle": "2025-01-07T16:40:48.191862Z",
     "shell.execute_reply": "2025-01-07T16:40:48.190842Z"
    },
    "papermill": {
     "duration": 0.026945,
     "end_time": "2025-01-07T16:40:48.193833",
     "exception": false,
     "start_time": "2025-01-07T16:40:48.166888",
     "status": "completed"
    },
    "tags": []
   },
   "outputs": [],
   "source": [
    "# ohlc = ['open','high','low','close']\n",
    "# _o,_h,_l,_c = [ohlc[h] for h in range(len(ohlc))]\n",
    "# ticker = df['ticker'][0]\n",
    "\n",
    "# df = relative(df,_o,_h,_l,_c, bm_df, bm_col, dgt, rebase=True)\n",
    "# df = df.set_index('date')\n",
    "\n",
    "# df_bo = signal_rbo(df, window_bo, relative=True)\n",
    "# df_tt = signal_rtt(df, fast = fast, slow = slow, relative=True)\n",
    "# df_ema = signal_rema(df, st, mt, lt, relative=True)\n",
    "# df_sma = signal_rsma(df, st, mt, lt, relative=True)\n",
    "# df_fc = detect_regime(df, bm_df)"
   ]
  },
  {
   "cell_type": "code",
   "execution_count": 10,
   "id": "0ce95c8f-d951-49c3-a01d-2d1383f76814",
   "metadata": {
    "execution": {
     "iopub.execute_input": "2025-01-07T16:40:48.204801Z",
     "iopub.status.busy": "2025-01-07T16:40:48.203771Z",
     "iopub.status.idle": "2025-01-07T16:40:48.207790Z",
     "shell.execute_reply": "2025-01-07T16:40:48.206852Z"
    },
    "papermill": {
     "duration": 0.009974,
     "end_time": "2025-01-07T16:40:48.208786",
     "exception": false,
     "start_time": "2025-01-07T16:40:48.198812",
     "status": "completed"
    },
    "tags": []
   },
   "outputs": [],
   "source": [
    "# def plot_signal_bo(df, window, ticker, relative):\n",
    "\n",
    "#     _o,_h,_l,_c = lower_upper_OHLC(df,relative = relative)\n",
    "    \n",
    "#     prefix_h = 'hi_'\n",
    "#     prefix_l = 'lo_'\n",
    "#     prefix_bo = 'bo_'\n",
    "#     close = 'close'\n",
    "#     if relative:\n",
    "#         prefix_h = 'rhi_'\n",
    "#         prefix_l = 'rlo_'\n",
    "#         prefix_bo = 'rbo_'  \n",
    "#         close = 'rclose'\n",
    "        \n",
    "#     # df = df.set_index('date')\n",
    "#     df[[close, prefix_h + str(window), prefix_l + str(window), prefix_bo + str(window)]].plot(\n",
    "#         secondary_y= [prefix_bo + str(window)], figsize=(20,5), style=['k','g:','r:','b-.'], \n",
    "#         title = str.upper(ticker)+' '+str(window) +' days high/low')\n",
    "#     plt.show()"
   ]
  },
  {
   "cell_type": "code",
   "execution_count": 11,
   "id": "f1bc238d-36fa-4da1-9257-c78a3d090c85",
   "metadata": {
    "execution": {
     "iopub.execute_input": "2025-01-07T16:40:48.219749Z",
     "iopub.status.busy": "2025-01-07T16:40:48.219749Z",
     "iopub.status.idle": "2025-01-07T16:40:48.238679Z",
     "shell.execute_reply": "2025-01-07T16:40:48.237758Z"
    },
    "papermill": {
     "duration": 0.025934,
     "end_time": "2025-01-07T16:40:48.239753",
     "exception": false,
     "start_time": "2025-01-07T16:40:48.213819",
     "status": "completed"
    },
    "tags": []
   },
   "outputs": [],
   "source": [
    "# plot_signal_bo(df_bo, window_bo, ticker, relative = True)"
   ]
  },
  {
   "cell_type": "code",
   "execution_count": 12,
   "id": "b968e4d7-7e1f-46a0-9612-89d603a2c925",
   "metadata": {
    "execution": {
     "iopub.execute_input": "2025-01-07T16:40:48.250641Z",
     "iopub.status.busy": "2025-01-07T16:40:48.249611Z",
     "iopub.status.idle": "2025-01-07T16:40:48.253597Z",
     "shell.execute_reply": "2025-01-07T16:40:48.252678Z"
    },
    "papermill": {
     "duration": 0.009942,
     "end_time": "2025-01-07T16:40:48.254627",
     "exception": false,
     "start_time": "2025-01-07T16:40:48.244685",
     "status": "completed"
    },
    "tags": []
   },
   "outputs": [],
   "source": [
    "# def plot_signal_tt(df, fast, slow, relative):\n",
    "\n",
    "#     close = 'close'\n",
    "#     tt = 'tt_'\n",
    "#     if relative:\n",
    "#         close = 'rclose'\n",
    "#         tt = 'rtt_'\n",
    "    \n",
    "#     rg_cols = [tt + str(slow)+str(fast)]\n",
    "\n",
    "#     df[[close, tt+ str(slow)+str(fast)] ].plot(\n",
    "#         secondary_y= rg_cols,figsize=(20,5), style=['k','b-.'], \n",
    "#         title = str.upper('')+' '+str(rg_cols))\n",
    "#     plt.show()  "
   ]
  },
  {
   "cell_type": "code",
   "execution_count": 13,
   "id": "087d9ad6-8115-4c8f-9750-8f47a8c7d4c3",
   "metadata": {
    "execution": {
     "iopub.execute_input": "2025-01-07T16:40:48.265558Z",
     "iopub.status.busy": "2025-01-07T16:40:48.265558Z",
     "iopub.status.idle": "2025-01-07T16:40:48.283538Z",
     "shell.execute_reply": "2025-01-07T16:40:48.282529Z"
    },
    "papermill": {
     "duration": 0.024907,
     "end_time": "2025-01-07T16:40:48.284494",
     "exception": false,
     "start_time": "2025-01-07T16:40:48.259587",
     "status": "completed"
    },
    "tags": []
   },
   "outputs": [],
   "source": [
    "# plot_signal_tt(df_tt, fast, slow, relative = True)"
   ]
  },
  {
   "cell_type": "code",
   "execution_count": 14,
   "id": "541bbbe1-ac4a-44db-8812-68151fb35260",
   "metadata": {
    "execution": {
     "iopub.execute_input": "2025-01-07T16:40:48.295493Z",
     "iopub.status.busy": "2025-01-07T16:40:48.294507Z",
     "iopub.status.idle": "2025-01-07T16:40:48.313396Z",
     "shell.execute_reply": "2025-01-07T16:40:48.312507Z"
    },
    "papermill": {
     "duration": 0.024968,
     "end_time": "2025-01-07T16:40:48.314476",
     "exception": false,
     "start_time": "2025-01-07T16:40:48.289508",
     "status": "completed"
    },
    "tags": []
   },
   "outputs": [],
   "source": [
    "# def plot_signal_sma(df, st, mt, lt, relative):\n",
    "\n",
    "#     close = 'close'\n",
    "#     sma = 'sma_'\n",
    "#     ema = 'ema_'\n",
    "#     if relative:\n",
    "#         close = 'rclose'\n",
    "#         sma = 'rsma_'\n",
    "#         ema = 'rema_'\n",
    "\n",
    "#     df[[close,sma+ str(st) + str(mt) + str(lt)] ].plot(\n",
    "#         secondary_y= sma+ str(st) + str(mt) + str(lt),figsize=(20,5), style=['k','b-.'], \n",
    "#         title = str.upper('')+' '+str([sma+ str(st) + str(mt) + str(lt)]))\n",
    "        \n",
    "#     plt.show() "
   ]
  },
  {
   "cell_type": "code",
   "execution_count": 15,
   "id": "2be5be52-9c5a-4311-ac47-4538d580da77",
   "metadata": {
    "execution": {
     "iopub.execute_input": "2025-01-07T16:40:48.325357Z",
     "iopub.status.busy": "2025-01-07T16:40:48.324359Z",
     "iopub.status.idle": "2025-01-07T16:40:48.343304Z",
     "shell.execute_reply": "2025-01-07T16:40:48.343304Z"
    },
    "papermill": {
     "duration": 0.025846,
     "end_time": "2025-01-07T16:40:48.345290",
     "exception": false,
     "start_time": "2025-01-07T16:40:48.319444",
     "status": "completed"
    },
    "tags": []
   },
   "outputs": [],
   "source": [
    "# plot_signal_sma(df_sma, st, mt, lt, relative = True)"
   ]
  },
  {
   "cell_type": "code",
   "execution_count": 16,
   "id": "307b943a-cb79-4140-ad91-2fa62aaccdc2",
   "metadata": {
    "execution": {
     "iopub.execute_input": "2025-01-07T16:40:48.357302Z",
     "iopub.status.busy": "2025-01-07T16:40:48.356286Z",
     "iopub.status.idle": "2025-01-07T16:40:48.376255Z",
     "shell.execute_reply": "2025-01-07T16:40:48.375267Z"
    },
    "papermill": {
     "duration": 0.02695,
     "end_time": "2025-01-07T16:40:48.377253",
     "exception": false,
     "start_time": "2025-01-07T16:40:48.350303",
     "status": "completed"
    },
    "tags": []
   },
   "outputs": [],
   "source": [
    "# def plot_signal_ema(df, st, mt, lt, relative):\n",
    "\n",
    "#     close = 'close'\n",
    "#     sma = 'sma_'\n",
    "#     ema = 'ema_'\n",
    "#     if relative:\n",
    "#         close = 'rclose'\n",
    "#         sma = 'rsma_'\n",
    "#         ema = 'rema_'\n",
    "    \n",
    "#     df[[close,ema+ str(st) + str(mt) + str(lt)] ].plot(\n",
    "#         secondary_y= ema+ str(st) + str(mt) + str(lt),figsize=(20,5), style=['k','b-.'], \n",
    "#         title = str.upper('')+' '+str([ema+ str(st) + str(mt) + str(lt)]))\n",
    "        \n",
    "#     plt.show() "
   ]
  },
  {
   "cell_type": "code",
   "execution_count": 17,
   "id": "43356d36-8b62-4341-a736-8103de9a98db",
   "metadata": {
    "execution": {
     "iopub.execute_input": "2025-01-07T16:40:48.389221Z",
     "iopub.status.busy": "2025-01-07T16:40:48.389221Z",
     "iopub.status.idle": "2025-01-07T16:40:48.406162Z",
     "shell.execute_reply": "2025-01-07T16:40:48.406162Z"
    },
    "papermill": {
     "duration": 0.02488,
     "end_time": "2025-01-07T16:40:48.408124",
     "exception": false,
     "start_time": "2025-01-07T16:40:48.383244",
     "status": "completed"
    },
    "tags": []
   },
   "outputs": [],
   "source": [
    "# plot_signal_ema(df_ema, st, mt, lt, relative = True)"
   ]
  },
  {
   "cell_type": "code",
   "execution_count": 18,
   "id": "2ac0e513-acb4-4f99-8418-9208c68b1a20",
   "metadata": {
    "execution": {
     "iopub.execute_input": "2025-01-07T16:40:48.419116Z",
     "iopub.status.busy": "2025-01-07T16:40:48.419116Z",
     "iopub.status.idle": "2025-01-07T16:40:48.437033Z",
     "shell.execute_reply": "2025-01-07T16:40:48.436054Z"
    },
    "papermill": {
     "duration": 0.025911,
     "end_time": "2025-01-07T16:40:48.438028",
     "exception": false,
     "start_time": "2025-01-07T16:40:48.412117",
     "status": "completed"
    },
    "tags": []
   },
   "outputs": [],
   "source": [
    "# plot_signal_rel(df_fc, ticker)\n",
    "# plot_regime_rel(df_fc, ticker)"
   ]
  },
  {
   "cell_type": "code",
   "execution_count": 19,
   "id": "9cf64b40-df77-4833-9bce-90af7e61548b",
   "metadata": {
    "execution": {
     "iopub.execute_input": "2025-01-07T16:40:48.449989Z",
     "iopub.status.busy": "2025-01-07T16:40:48.449989Z",
     "iopub.status.idle": "2025-01-07T16:40:48.468884Z",
     "shell.execute_reply": "2025-01-07T16:40:48.467948Z"
    },
    "papermill": {
     "duration": 0.025855,
     "end_time": "2025-01-07T16:40:48.469872",
     "exception": false,
     "start_time": "2025-01-07T16:40:48.444017",
     "status": "completed"
    },
    "tags": []
   },
   "outputs": [],
   "source": [
    "# df_fc = df_fc.set_index('date')\n",
    "# df_fc[['rclose','rh3','rl3']].plot(\n",
    "#     style=['grey', 'rv', 'g^'],\n",
    "#     figsize=(20,5),grid=True, title = str.upper(ticker))\n",
    "# plt.show()"
   ]
  },
  {
   "cell_type": "code",
   "execution_count": 20,
   "id": "55b947a3-a443-4f1d-8af1-8b0fd4063658",
   "metadata": {
    "execution": {
     "iopub.execute_input": "2025-01-07T16:40:48.481866Z",
     "iopub.status.busy": "2025-01-07T16:40:48.481866Z",
     "iopub.status.idle": "2025-01-07T16:40:48.499846Z",
     "shell.execute_reply": "2025-01-07T16:40:48.498854Z"
    },
    "papermill": {
     "duration": 0.024928,
     "end_time": "2025-01-07T16:40:48.500809",
     "exception": false,
     "start_time": "2025-01-07T16:40:48.475881",
     "status": "completed"
    },
    "tags": []
   },
   "outputs": [],
   "source": [
    "# df_fc[['close','hi3','lo3','rclose','rh3','rl3']].plot(\n",
    "#     style=['grey','rv', 'g^','k:','mv','b^'],\n",
    "#             figsize=(20,5),grid=True, title = str.upper(ticker)+' vs '+str.upper(bm_col))\n",
    "# plt.show()"
   ]
  },
  {
   "cell_type": "code",
   "execution_count": 21,
   "id": "e752610e-3ce2-4599-a425-6b1a9e345a6e",
   "metadata": {
    "execution": {
     "iopub.execute_input": "2025-01-07T16:40:48.512779Z",
     "iopub.status.busy": "2025-01-07T16:40:48.512779Z",
     "iopub.status.idle": "2025-01-07T16:40:48.531708Z",
     "shell.execute_reply": "2025-01-07T16:40:48.530754Z"
    },
    "papermill": {
     "duration": 0.026987,
     "end_time": "2025-01-07T16:40:48.532739",
     "exception": false,
     "start_time": "2025-01-07T16:40:48.505752",
     "status": "completed"
    },
    "tags": []
   },
   "outputs": [],
   "source": [
    "# df_fc[['rclose','rh3', 'rl3','rclg','rflr','rrg_ch','rrg']].plot(style=['grey', 'ro', 'go', 'kv', 'k^','c:','y-.'], \n",
    "#                         secondary_y= ['rrg'],figsize=(20,5),grid=True, title = str.upper(ticker))\n",
    "# plt.show()"
   ]
  }
 ],
 "metadata": {
  "kernelspec": {
   "display_name": "Python 3 (ipykernel)",
   "language": "python",
   "name": "python3"
  },
  "language_info": {
   "codemirror_mode": {
    "name": "ipython",
    "version": 3
   },
   "file_extension": ".py",
   "mimetype": "text/x-python",
   "name": "python",
   "nbconvert_exporter": "python",
   "pygments_lexer": "ipython3",
   "version": "3.9.12"
  },
  "papermill": {
   "default_parameters": {},
   "duration": 4.742461,
   "end_time": "2025-01-07T16:40:48.875591",
   "environment_variables": {},
   "exception": null,
   "input_path": "template.ipynb",
   "output_path": "ART.MI_output.ipynb",
   "parameters": {
    "path_to_file": "data/ART.MI.xlsx"
   },
   "start_time": "2025-01-07T16:40:44.133130",
   "version": "2.6.0"
  }
 },
 "nbformat": 4,
 "nbformat_minor": 5
}