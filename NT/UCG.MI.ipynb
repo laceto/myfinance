{
    "notebook": {
        "nbformat": 4,
        "nbformat_minor": 5,
        "metadata": {},
        "cells": [
            {
                "id": "26cf383b",
                "cell_type": "markdown",
                "source": "# UCG.MI Financial Analysis",
                "metadata": {}
            },
            {
                "id": "c55232cb",
                "cell_type": "code",
                "metadata": {},
                "execution_count": null,
                "source": "import pandas as pd",
                "outputs": []
            },
            {
                "id": "0ed98df1",
                "cell_type": "code",
                "metadata": {},
                "execution_count": null,
                "source": "df = pd.read_excel('data/UCG.MI.xlsx')",
                "outputs": []
            },
            {
                "id": "919c4886",
                "cell_type": "code",
                "metadata": {},
                "execution_count": null,
                "source": "display(df)",
                "outputs": []
            }
        ]
    }
}