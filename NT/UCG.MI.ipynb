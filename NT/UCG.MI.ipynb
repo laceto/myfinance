{
    "notebook": {
        "nbformat": 4,
        "nbformat_minor": 5,
        "metadata": {},
        "cells": [
            {
                "id": "00b2f115",
                "cell_type": "markdown",
                "source": "# UCG.MI Financial Analysis",
                "metadata": {}
            },
            {
                "id": "97c589ee",
                "cell_type": "code",
                "metadata": {},
                "execution_count": null,
                "source": "import pandas as pd",
                "outputs": []
            },
            {
                "id": "25a7dad7",
                "cell_type": "code",
                "metadata": {},
                "execution_count": null,
                "source": "df = pd.read_excel('data/UCG.MI.xlsx')",
                "outputs": []
            },
            {
                "id": "ae241938",
                "cell_type": "code",
                "metadata": {},
                "execution_count": null,
                "source": "display(df)",
                "outputs": []
            }
        ]
    }
}