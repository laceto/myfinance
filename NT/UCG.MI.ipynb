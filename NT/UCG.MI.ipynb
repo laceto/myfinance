{
    "notebook": {
        "nbformat": 4,
        "nbformat_minor": 5,
        "metadata": {},
        "cells": [
            {
                "id": "05d626af",
                "cell_type": "markdown",
                "source": "# UCG.MI Financial Analysis",
                "metadata": {}
            },
            {
                "id": "43482116",
                "cell_type": "code",
                "metadata": {},
                "execution_count": null,
                "source": "import pandas as pd",
                "outputs": []
            },
            {
                "id": "a3c10e83",
                "cell_type": "code",
                "metadata": {},
                "execution_count": null,
                "source": "df = pd.read_excel('data/UCG.MI.xlsx')",
                "outputs": []
            },
            {
                "id": "4a8ef0bb",
                "cell_type": "code",
                "metadata": {},
                "execution_count": null,
                "source": "display(df)",
                "outputs": []
            }
        ]
    }
}