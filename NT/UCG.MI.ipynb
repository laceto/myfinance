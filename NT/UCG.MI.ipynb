{
    "notebook": {
        "nbformat": 4,
        "nbformat_minor": 5,
        "metadata": {},
        "cells": [
            {
                "id": "4409cc6b",
                "cell_type": "markdown",
                "source": "# UCG.MI Financial Analysis",
                "metadata": {}
            },
            {
                "id": "85d486da",
                "cell_type": "code",
                "metadata": {},
                "execution_count": null,
                "source": "import pandas as pd",
                "outputs": []
            },
            {
                "id": "ed2e4700",
                "cell_type": "code",
                "metadata": {},
                "execution_count": null,
                "source": "df = pd.read_excel('data/UCG.MI.xlsx')",
                "outputs": []
            },
            {
                "id": "dd7bcebd",
                "cell_type": "code",
                "metadata": {},
                "execution_count": null,
                "source": "display(df)",
                "outputs": []
            }
        ]
    }
}