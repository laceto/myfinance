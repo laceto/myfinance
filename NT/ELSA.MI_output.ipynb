{
 "cells": [
  {
   "cell_type": "code",
   "execution_count": 1,
   "id": "17d3af31",
   "metadata": {
    "execution": {
     "iopub.execute_input": "2025-01-07T17:52:54.422844Z",
     "iopub.status.busy": "2025-01-07T17:52:54.422518Z",
     "iopub.status.idle": "2025-01-07T17:52:54.429966Z",
     "shell.execute_reply": "2025-01-07T17:52:54.429304Z"
    },
    "papermill": {
     "duration": 0.013749,
     "end_time": "2025-01-07T17:52:54.431158",
     "exception": false,
     "start_time": "2025-01-07T17:52:54.417409",
     "status": "completed"
    },
    "tags": [
     "injected-parameters"
    ]
   },
   "outputs": [],
   "source": [
    "# Parameters\n",
    "path_to_file = \"data/ELSA.MI.xlsx\"\n"
   ]
  },
  {
   "cell_type": "code",
   "execution_count": 2,
   "id": "5efbf512-053b-4bce-9f68-c0b07e257aec",
   "metadata": {
    "execution": {
     "iopub.execute_input": "2025-01-07T17:52:54.439283Z",
     "iopub.status.busy": "2025-01-07T17:52:54.439013Z",
     "iopub.status.idle": "2025-01-07T17:52:54.780258Z",
     "shell.execute_reply": "2025-01-07T17:52:54.779608Z"
    },
    "papermill": {
     "duration": 0.346573,
     "end_time": "2025-01-07T17:52:54.781393",
     "exception": false,
     "start_time": "2025-01-07T17:52:54.434820",
     "status": "completed"
    },
    "tags": []
   },
   "outputs": [
    {
     "name": "stdout",
     "output_type": "stream",
     "text": [
      "Current working directory: /home/runner/work/myfinance/myfinance/NT\n",
      "New current working directory: /home/runner/work/myfinance/myfinance\n"
     ]
    },
    {
     "data": {
      "text/plain": [
       "2"
      ]
     },
     "execution_count": 2,
     "metadata": {},
     "output_type": "execute_result"
    }
   ],
   "source": [
    "import os  \n",
    "import sys  \n",
    "import pandas as pd\n",
    "import openpyxl\n",
    "# import papermill as pm  \n",
    "\n",
    "# get the current working directory  \n",
    "cwd = os.getcwd()  \n",
    "print(\"Current working directory:\", cwd)  \n",
    "  \n",
    "# change the current working directory to one level up  \n",
    "os.chdir(\"..\")  \n",
    "  \n",
    "# get the new current working directory  \n",
    "new_cwd = os.getcwd()  \n",
    "print(\"New current working directory:\", new_cwd) \n",
    "\n",
    "1+1"
   ]
  },
  {
   "cell_type": "code",
   "execution_count": 3,
   "id": "a244e996-b5d1-4551-8a00-065f1f64e197",
   "metadata": {
    "execution": {
     "iopub.execute_input": "2025-01-07T17:52:54.789677Z",
     "iopub.status.busy": "2025-01-07T17:52:54.789156Z",
     "iopub.status.idle": "2025-01-07T17:52:55.355901Z",
     "shell.execute_reply": "2025-01-07T17:52:55.355271Z"
    },
    "papermill": {
     "duration": 0.572166,
     "end_time": "2025-01-07T17:52:55.357249",
     "exception": false,
     "start_time": "2025-01-07T17:52:54.785083",
     "status": "completed"
    },
    "tags": []
   },
   "outputs": [],
   "source": [
    "# add the 'data' folder to the system path  \n",
    "sys.path.append(os.path.abspath(\"data\"))\n",
    "from relative import *\n",
    "from AT_funs import *\n",
    "\n"
   ]
  },
  {
   "cell_type": "code",
   "execution_count": 4,
   "id": "c10e57be-9edb-48b2-a7c7-4d446f107612",
   "metadata": {
    "execution": {
     "iopub.execute_input": "2025-01-07T17:52:55.365805Z",
     "iopub.status.busy": "2025-01-07T17:52:55.365204Z",
     "iopub.status.idle": "2025-01-07T17:52:55.368864Z",
     "shell.execute_reply": "2025-01-07T17:52:55.368261Z"
    },
    "papermill": {
     "duration": 0.008835,
     "end_time": "2025-01-07T17:52:55.369876",
     "exception": false,
     "start_time": "2025-01-07T17:52:55.361041",
     "status": "completed"
    },
    "tags": []
   },
   "outputs": [],
   "source": [
    "# # Get the path of the Excel file from the command line argument  \n",
    "# # filename = sys.argv[1]  \n",
    "# filename = 'data/A2A.MI.xlsx'\n",
    "# df = read_xlsx(filename)\n",
    "# ticker = filename.replace('xlsx', '')\n",
    "# # ticker = ' '\n",
    "# # df\n",
    "# filename_bm = 'data/FTSEMIB.MI.xlsx'\n",
    "# bm_df = read_xlsx(filename_bm)\n",
    "# bm_name = filename_bm.replace('xlsx', '')"
   ]
  },
  {
   "cell_type": "code",
   "execution_count": 5,
   "id": "bf256f3b-01c5-4716-92f2-41c8148bb68b",
   "metadata": {
    "execution": {
     "iopub.execute_input": "2025-01-07T17:52:55.377968Z",
     "iopub.status.busy": "2025-01-07T17:52:55.377412Z",
     "iopub.status.idle": "2025-01-07T17:52:55.380656Z",
     "shell.execute_reply": "2025-01-07T17:52:55.380051Z"
    },
    "papermill": {
     "duration": 0.008352,
     "end_time": "2025-01-07T17:52:55.381634",
     "exception": false,
     "start_time": "2025-01-07T17:52:55.373282",
     "status": "completed"
    },
    "tags": []
   },
   "outputs": [],
   "source": [
    "# plot_abs_rel(df, ticker, bm_df, bm_name)"
   ]
  },
  {
   "cell_type": "code",
   "execution_count": 6,
   "id": "0b660f54-a39b-498e-8eb8-bf81c034988f",
   "metadata": {
    "execution": {
     "iopub.execute_input": "2025-01-07T17:52:55.389213Z",
     "iopub.status.busy": "2025-01-07T17:52:55.388959Z",
     "iopub.status.idle": "2025-01-07T17:52:55.725725Z",
     "shell.execute_reply": "2025-01-07T17:52:55.725023Z"
    },
    "papermill": {
     "duration": 0.342018,
     "end_time": "2025-01-07T17:52:55.727035",
     "exception": false,
     "start_time": "2025-01-07T17:52:55.385017",
     "status": "completed"
    },
    "tags": []
   },
   "outputs": [],
   "source": [
    "# Parameters  \n",
    "# path_to_file: str - the path to the input file  \n",
    "  \n",
    "filename = path_to_file\n",
    "df = read_xlsx(filename)\n",
    "ticker = filename.replace('xlsx', '')\n",
    "# ticker = ' '\n",
    "# df\n",
    "filename_bm = 'data/FTSEMIB.MI.xlsx'\n",
    "bm_df = read_xlsx(filename_bm)\n",
    "bm_name = filename_bm.replace('xlsx', '')"
   ]
  },
  {
   "cell_type": "code",
   "execution_count": 7,
   "id": "55b83496-eb02-490d-aef2-62a6aa478e6e",
   "metadata": {
    "execution": {
     "iopub.execute_input": "2025-01-07T17:52:55.735424Z",
     "iopub.status.busy": "2025-01-07T17:52:55.734915Z",
     "iopub.status.idle": "2025-01-07T17:52:56.039368Z",
     "shell.execute_reply": "2025-01-07T17:52:56.038616Z"
    },
    "papermill": {
     "duration": 0.309806,
     "end_time": "2025-01-07T17:52:56.040656",
     "exception": false,
     "start_time": "2025-01-07T17:52:55.730850",
     "status": "completed"
    },
    "tags": []
   },
   "outputs": [
    {
     "data": {
      "image/png": "[encoded data removed]",
      "text/plain": [
       "<Figure size 2000x800 with 1 Axes>"
      ]
     },
     "metadata": {},
     "output_type": "display_data"
    }
   ],
   "source": [
    "plot_abs_rel(df, ticker, bm_df, bm_name)"
   ]
  },
  {
   "cell_type": "code",
   "execution_count": 8,
   "id": "ede37904-5bbb-418d-9059-699d76bbf0a3",
   "metadata": {
    "execution": {
     "iopub.execute_input": "2025-01-07T17:52:56.051548Z",
     "iopub.status.busy": "2025-01-07T17:52:56.050969Z",
     "iopub.status.idle": "2025-01-07T17:52:56.054184Z",
     "shell.execute_reply": "2025-01-07T17:52:56.053629Z"
    },
    "papermill": {
     "duration": 0.009587,
     "end_time": "2025-01-07T17:52:56.055215",
     "exception": false,
     "start_time": "2025-01-07T17:52:56.045628",
     "status": "completed"
    },
    "tags": []
   },
   "outputs": [],
   "source": [
    "# window_bo = 100\n",
    "# fast = 20\n",
    "# slow = 50\n",
    "# st = 50\n",
    "# mt = 100\n",
    "# lt = 150\n",
    "# lvl = 3\n",
    "# bm_col = 'close'\n",
    "# dgt = 5\n",
    "# window_exp = 100\n",
    "# starting_capital = 100000\n",
    "# lot = 100\n",
    "# mn = -0.0025\n",
    "# mx = -0.0075\n",
    "# # avg = (mn + mx) / 2\n",
    "# tolerance= -0.1\n",
    "# equal_weight = 0.05\n",
    "# span= 5\n",
    "# fx = 1"
   ]
  },
  {
   "cell_type": "code",
   "execution_count": 9,
   "id": "acc836f8-1d67-4cd8-a34f-54476972ed30",
   "metadata": {
    "execution": {
     "iopub.execute_input": "2025-01-07T17:52:56.065144Z",
     "iopub.status.busy": "2025-01-07T17:52:56.064915Z",
     "iopub.status.idle": "2025-01-07T17:52:56.067935Z",
     "shell.execute_reply": "2025-01-07T17:52:56.067392Z"
    },
    "papermill": {
     "duration": 0.009243,
     "end_time": "2025-01-07T17:52:56.069007",
     "exception": false,
     "start_time": "2025-01-07T17:52:56.059764",
     "status": "completed"
    },
    "tags": []
   },
   "outputs": [],
   "source": [
    "# ohlc = ['open','high','low','close']\n",
    "# _o,_h,_l,_c = [ohlc[h] for h in range(len(ohlc))]\n",
    "# ticker = df['ticker'][0]\n",
    "\n",
    "# df = relative(df,_o,_h,_l,_c, bm_df, bm_col, dgt, rebase=True)\n",
    "# df = df.set_index('date')\n",
    "\n",
    "# df_bo = signal_rbo(df, window_bo, relative=True)\n",
    "# df_tt = signal_rtt(df, fast = fast, slow = slow, relative=True)\n",
    "# df_ema = signal_rema(df, st, mt, lt, relative=True)\n",
    "# df_sma = signal_rsma(df, st, mt, lt, relative=True)\n",
    "# df_fc = detect_regime(df, bm_df)"
   ]
  },
  {
   "cell_type": "code",
   "execution_count": 10,
   "id": "0ce95c8f-d951-49c3-a01d-2d1383f76814",
   "metadata": {
    "execution": {
     "iopub.execute_input": "2025-01-07T17:52:56.079135Z",
     "iopub.status.busy": "2025-01-07T17:52:56.078911Z",
     "iopub.status.idle": "2025-01-07T17:52:56.082261Z",
     "shell.execute_reply": "2025-01-07T17:52:56.081686Z"
    },
    "papermill": {
     "duration": 0.009614,
     "end_time": "2025-01-07T17:52:56.083236",
     "exception": false,
     "start_time": "2025-01-07T17:52:56.073622",
     "status": "completed"
    },
    "tags": []
   },
   "outputs": [],
   "source": [
    "# def plot_signal_bo(df, window, ticker, relative):\n",
    "\n",
    "#     _o,_h,_l,_c = lower_upper_OHLC(df,relative = relative)\n",
    "    \n",
    "#     prefix_h = 'hi_'\n",
    "#     prefix_l = 'lo_'\n",
    "#     prefix_bo = 'bo_'\n",
    "#     close = 'close'\n",
    "#     if relative:\n",
    "#         prefix_h = 'rhi_'\n",
    "#         prefix_l = 'rlo_'\n",
    "#         prefix_bo = 'rbo_'  \n",
    "#         close = 'rclose'\n",
    "        \n",
    "#     # df = df.set_index('date')\n",
    "#     df[[close, prefix_h + str(window), prefix_l + str(window), prefix_bo + str(window)]].plot(\n",
    "#         secondary_y= [prefix_bo + str(window)], figsize=(20,5), style=['k','g:','r:','b-.'], \n",
    "#         title = str.upper(ticker)+' '+str(window) +' days high/low')\n",
    "#     plt.show()"
   ]
  },
  {
   "cell_type": "code",
   "execution_count": 11,
   "id": "f1bc238d-36fa-4da1-9257-c78a3d090c85",
   "metadata": {
    "execution": {
     "iopub.execute_input": "2025-01-07T17:52:56.093306Z",
     "iopub.status.busy": "2025-01-07T17:52:56.092941Z",
     "iopub.status.idle": "2025-01-07T17:52:56.095904Z",
     "shell.execute_reply": "2025-01-07T17:52:56.095259Z"
    },
    "papermill": {
     "duration": 0.009262,
     "end_time": "2025-01-07T17:52:56.097007",
     "exception": false,
     "start_time": "2025-01-07T17:52:56.087745",
     "status": "completed"
    },
    "tags": []
   },
   "outputs": [],
   "source": [
    "# plot_signal_bo(df_bo, window_bo, ticker, relative = True)"
   ]
  },
  {
   "cell_type": "code",
   "execution_count": 12,
   "id": "b968e4d7-7e1f-46a0-9612-89d603a2c925",
   "metadata": {
    "execution": {
     "iopub.execute_input": "2025-01-07T17:52:56.107114Z",
     "iopub.status.busy": "2025-01-07T17:52:56.106620Z",
     "iopub.status.idle": "2025-01-07T17:52:56.109622Z",
     "shell.execute_reply": "2025-01-07T17:52:56.109066Z"
    },
    "papermill": {
     "duration": 0.009102,
     "end_time": "2025-01-07T17:52:56.110614",
     "exception": false,
     "start_time": "2025-01-07T17:52:56.101512",
     "status": "completed"
    },
    "tags": []
   },
   "outputs": [],
   "source": [
    "# def plot_signal_tt(df, fast, slow, relative):\n",
    "\n",
    "#     close = 'close'\n",
    "#     tt = 'tt_'\n",
    "#     if relative:\n",
    "#         close = 'rclose'\n",
    "#         tt = 'rtt_'\n",
    "    \n",
    "#     rg_cols = [tt + str(slow)+str(fast)]\n",
    "\n",
    "#     df[[close, tt+ str(slow)+str(fast)] ].plot(\n",
    "#         secondary_y= rg_cols,figsize=(20,5), style=['k','b-.'], \n",
    "#         title = str.upper('')+' '+str(rg_cols))\n",
    "#     plt.show()  "
   ]
  },
  {
   "cell_type": "code",
   "execution_count": 13,
   "id": "087d9ad6-8115-4c8f-9750-8f47a8c7d4c3",
   "metadata": {
    "execution": {
     "iopub.execute_input": "2025-01-07T17:52:56.120518Z",
     "iopub.status.busy": "2025-01-07T17:52:56.120238Z",
     "iopub.status.idle": "2025-01-07T17:52:56.123106Z",
     "shell.execute_reply": "2025-01-07T17:52:56.122573Z"
    },
    "papermill": {
     "duration": 0.008917,
     "end_time": "2025-01-07T17:52:56.124098",
     "exception": false,
     "start_time": "2025-01-07T17:52:56.115181",
     "status": "completed"
    },
    "tags": []
   },
   "outputs": [],
   "source": [
    "# plot_signal_tt(df_tt, fast, slow, relative = True)"
   ]
  },
  {
   "cell_type": "code",
   "execution_count": 14,
   "id": "541bbbe1-ac4a-44db-8812-68151fb35260",
   "metadata": {
    "execution": {
     "iopub.execute_input": "2025-01-07T17:52:56.134387Z",
     "iopub.status.busy": "2025-01-07T17:52:56.133839Z",
     "iopub.status.idle": "2025-01-07T17:52:56.136886Z",
     "shell.execute_reply": "2025-01-07T17:52:56.136300Z"
    },
    "papermill": {
     "duration": 0.00926,
     "end_time": "2025-01-07T17:52:56.137918",
     "exception": false,
     "start_time": "2025-01-07T17:52:56.128658",
     "status": "completed"
    },
    "tags": []
   },
   "outputs": [],
   "source": [
    "# def plot_signal_sma(df, st, mt, lt, relative):\n",
    "\n",
    "#     close = 'close'\n",
    "#     sma = 'sma_'\n",
    "#     ema = 'ema_'\n",
    "#     if relative:\n",
    "#         close = 'rclose'\n",
    "#         sma = 'rsma_'\n",
    "#         ema = 'rema_'\n",
    "\n",
    "#     df[[close,sma+ str(st) + str(mt) + str(lt)] ].plot(\n",
    "#         secondary_y= sma+ str(st) + str(mt) + str(lt),figsize=(20,5), style=['k','b-.'], \n",
    "#         title = str.upper('')+' '+str([sma+ str(st) + str(mt) + str(lt)]))\n",
    "        \n",
    "#     plt.show() "
   ]
  },
  {
   "cell_type": "code",
   "execution_count": 15,
   "id": "2be5be52-9c5a-4311-ac47-4538d580da77",
   "metadata": {
    "execution": {
     "iopub.execute_input": "2025-01-07T17:52:56.147915Z",
     "iopub.status.busy": "2025-01-07T17:52:56.147501Z",
     "iopub.status.idle": "2025-01-07T17:52:56.150310Z",
     "shell.execute_reply": "2025-01-07T17:52:56.149776Z"
    },
    "papermill": {
     "duration": 0.008796,
     "end_time": "2025-01-07T17:52:56.151247",
     "exception": false,
     "start_time": "2025-01-07T17:52:56.142451",
     "status": "completed"
    },
    "tags": []
   },
   "outputs": [],
   "source": [
    "# plot_signal_sma(df_sma, st, mt, lt, relative = True)"
   ]
  },
  {
   "cell_type": "code",
   "execution_count": 16,
   "id": "307b943a-cb79-4140-ad91-2fa62aaccdc2",
   "metadata": {
    "execution": {
     "iopub.execute_input": "2025-01-07T17:52:56.161561Z",
     "iopub.status.busy": "2025-01-07T17:52:56.161187Z",
     "iopub.status.idle": "2025-01-07T17:52:56.164131Z",
     "shell.execute_reply": "2025-01-07T17:52:56.163575Z"
    },
    "papermill": {
     "duration": 0.009182,
     "end_time": "2025-01-07T17:52:56.165136",
     "exception": false,
     "start_time": "2025-01-07T17:52:56.155954",
     "status": "completed"
    },
    "tags": []
   },
   "outputs": [],
   "source": [
    "# def plot_signal_ema(df, st, mt, lt, relative):\n",
    "\n",
    "#     close = 'close'\n",
    "#     sma = 'sma_'\n",
    "#     ema = 'ema_'\n",
    "#     if relative:\n",
    "#         close = 'rclose'\n",
    "#         sma = 'rsma_'\n",
    "#         ema = 'rema_'\n",
    "    \n",
    "#     df[[close,ema+ str(st) + str(mt) + str(lt)] ].plot(\n",
    "#         secondary_y= ema+ str(st) + str(mt) + str(lt),figsize=(20,5), style=['k','b-.'], \n",
    "#         title = str.upper('')+' '+str([ema+ str(st) + str(mt) + str(lt)]))\n",
    "        \n",
    "#     plt.show() "
   ]
  },
  {
   "cell_type": "code",
   "execution_count": 17,
   "id": "43356d36-8b62-4341-a736-8103de9a98db",
   "metadata": {
    "execution": {
     "iopub.execute_input": "2025-01-07T17:52:56.175061Z",
     "iopub.status.busy": "2025-01-07T17:52:56.174801Z",
     "iopub.status.idle": "2025-01-07T17:52:56.178050Z",
     "shell.execute_reply": "2025-01-07T17:52:56.177369Z"
    },
    "papermill": {
     "duration": 0.009346,
     "end_time": "2025-01-07T17:52:56.179007",
     "exception": false,
     "start_time": "2025-01-07T17:52:56.169661",
     "status": "completed"
    },
    "tags": []
   },
   "outputs": [],
   "source": [
    "# plot_signal_ema(df_ema, st, mt, lt, relative = True)"
   ]
  },
  {
   "cell_type": "code",
   "execution_count": 18,
   "id": "2ac0e513-acb4-4f99-8418-9208c68b1a20",
   "metadata": {
    "execution": {
     "iopub.execute_input": "2025-01-07T17:52:56.189086Z",
     "iopub.status.busy": "2025-01-07T17:52:56.188600Z",
     "iopub.status.idle": "2025-01-07T17:52:56.191471Z",
     "shell.execute_reply": "2025-01-07T17:52:56.190816Z"
    },
    "papermill": {
     "duration": 0.008958,
     "end_time": "2025-01-07T17:52:56.192492",
     "exception": false,
     "start_time": "2025-01-07T17:52:56.183534",
     "status": "completed"
    },
    "tags": []
   },
   "outputs": [],
   "source": [
    "# plot_signal_rel(df_fc, ticker)\n",
    "# plot_regime_rel(df_fc, ticker)"
   ]
  },
  {
   "cell_type": "code",
   "execution_count": 19,
   "id": "9cf64b40-df77-4833-9bce-90af7e61548b",
   "metadata": {
    "execution": {
     "iopub.execute_input": "2025-01-07T17:52:56.202667Z",
     "iopub.status.busy": "2025-01-07T17:52:56.202184Z",
     "iopub.status.idle": "2025-01-07T17:52:56.205156Z",
     "shell.execute_reply": "2025-01-07T17:52:56.204521Z"
    },
    "papermill": {
     "duration": 0.009035,
     "end_time": "2025-01-07T17:52:56.206157",
     "exception": false,
     "start_time": "2025-01-07T17:52:56.197122",
     "status": "completed"
    },
    "tags": []
   },
   "outputs": [],
   "source": [
    "# df_fc = df_fc.set_index('date')\n",
    "# df_fc[['rclose','rh3','rl3']].plot(\n",
    "#     style=['grey', 'rv', 'g^'],\n",
    "#     figsize=(20,5),grid=True, title = str.upper(ticker))\n",
    "# plt.show()"
   ]
  },
  {
   "cell_type": "code",
   "execution_count": 20,
   "id": "55b947a3-a443-4f1d-8af1-8b0fd4063658",
   "metadata": {
    "execution": {
     "iopub.execute_input": "2025-01-07T17:52:56.216118Z",
     "iopub.status.busy": "2025-01-07T17:52:56.215671Z",
     "iopub.status.idle": "2025-01-07T17:52:56.218514Z",
     "shell.execute_reply": "2025-01-07T17:52:56.217981Z"
    },
    "papermill": {
     "duration": 0.008806,
     "end_time": "2025-01-07T17:52:56.219486",
     "exception": false,
     "start_time": "2025-01-07T17:52:56.210680",
     "status": "completed"
    },
    "tags": []
   },
   "outputs": [],
   "source": [
    "# df_fc[['close','hi3','lo3','rclose','rh3','rl3']].plot(\n",
    "#     style=['grey','rv', 'g^','k:','mv','b^'],\n",
    "#             figsize=(20,5),grid=True, title = str.upper(ticker)+' vs '+str.upper(bm_col))\n",
    "# plt.show()"
   ]
  },
  {
   "cell_type": "code",
   "execution_count": 21,
   "id": "e752610e-3ce2-4599-a425-6b1a9e345a6e",
   "metadata": {
    "execution": {
     "iopub.execute_input": "2025-01-07T17:52:56.229517Z",
     "iopub.status.busy": "2025-01-07T17:52:56.229078Z",
     "iopub.status.idle": "2025-01-07T17:52:56.232146Z",
     "shell.execute_reply": "2025-01-07T17:52:56.231558Z"
    },
    "papermill": {
     "duration": 0.009136,
     "end_time": "2025-01-07T17:52:56.233125",
     "exception": false,
     "start_time": "2025-01-07T17:52:56.223989",
     "status": "completed"
    },
    "tags": []
   },
   "outputs": [],
   "source": [
    "# df_fc[['rclose','rh3', 'rl3','rclg','rflr','rrg_ch','rrg']].plot(style=['grey', 'ro', 'go', 'kv', 'k^','c:','y-.'], \n",
    "#                         secondary_y= ['rrg'],figsize=(20,5),grid=True, title = str.upper(ticker))\n",
    "# plt.show()"
   ]
  }
 ],
 "metadata": {
  "kernelspec": {
   "display_name": "Python 3 (ipykernel)",
   "language": "python",
   "name": "python3"
  },
  "language_info": {
   "codemirror_mode": {
    "name": "ipython",
    "version": 3
   },
   "file_extension": ".py",
   "mimetype": "text/x-python",
   "name": "python",
   "nbconvert_exporter": "python",
   "pygments_lexer": "ipython3",
   "version": "3.8.18"
  },
  "papermill": {
   "default_parameters": {},
   "duration": 2.978144,
   "end_time": "2025-01-07T17:52:56.553817",
   "environment_variables": {},
   "exception": null,
   "input_path": "template.ipynb",
   "output_path": "ELSA.MI_output.ipynb",
   "parameters": {
    "path_to_file": "data/ELSA.MI.xlsx"
   },
   "start_time": "2025-01-07T17:52:53.575673",
   "version": "2.6.0"
  }
 },
 "nbformat": 4,
 "nbformat_minor": 5
}