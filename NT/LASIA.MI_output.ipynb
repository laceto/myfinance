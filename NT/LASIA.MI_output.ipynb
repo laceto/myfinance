{
 "cells": [
  {
   "cell_type": "code",
   "execution_count": 1,
   "id": "3eaa545b",
   "metadata": {
    "execution": {
     "iopub.execute_input": "2025-01-07T17:54:16.384655Z",
     "iopub.status.busy": "2025-01-07T17:54:16.384025Z",
     "iopub.status.idle": "2025-01-07T17:54:16.390865Z",
     "shell.execute_reply": "2025-01-07T17:54:16.390209Z"
    },
    "papermill": {
     "duration": 0.012995,
     "end_time": "2025-01-07T17:54:16.392014",
     "exception": false,
     "start_time": "2025-01-07T17:54:16.379019",
     "status": "completed"
    },
    "tags": [
     "injected-parameters"
    ]
   },
   "outputs": [],
   "source": [
    "# Parameters\n",
    "path_to_file = \"data/LASIA.MI.xlsx\"\n"
   ]
  },
  {
   "cell_type": "code",
   "execution_count": 2,
   "id": "5efbf512-053b-4bce-9f68-c0b07e257aec",
   "metadata": {
    "execution": {
     "iopub.execute_input": "2025-01-07T17:54:16.399962Z",
     "iopub.status.busy": "2025-01-07T17:54:16.399545Z",
     "iopub.status.idle": "2025-01-07T17:54:16.744056Z",
     "shell.execute_reply": "2025-01-07T17:54:16.743362Z"
    },
    "papermill": {
     "duration": 0.349574,
     "end_time": "2025-01-07T17:54:16.745220",
     "exception": false,
     "start_time": "2025-01-07T17:54:16.395646",
     "status": "completed"
    },
    "tags": []
   },
   "outputs": [
    {
     "name": "stdout",
     "output_type": "stream",
     "text": [
      "Current working directory: /home/runner/work/myfinance/myfinance/NT\n",
      "New current working directory: /home/runner/work/myfinance/myfinance\n"
     ]
    },
    {
     "data": {
      "text/plain": [
       "2"
      ]
     },
     "execution_count": 2,
     "metadata": {},
     "output_type": "execute_result"
    }
   ],
   "source": [
    "import os  \n",
    "import sys  \n",
    "import pandas as pd\n",
    "import openpyxl\n",
    "# import papermill as pm  \n",
    "\n",
    "# get the current working directory  \n",
    "cwd = os.getcwd()  \n",
    "print(\"Current working directory:\", cwd)  \n",
    "  \n",
    "# change the current working directory to one level up  \n",
    "os.chdir(\"..\")  \n",
    "  \n",
    "# get the new current working directory  \n",
    "new_cwd = os.getcwd()  \n",
    "print(\"New current working directory:\", new_cwd) \n",
    "\n",
    "1+1"
   ]
  },
  {
   "cell_type": "code",
   "execution_count": 3,
   "id": "a244e996-b5d1-4551-8a00-065f1f64e197",
   "metadata": {
    "execution": {
     "iopub.execute_input": "2025-01-07T17:54:16.753586Z",
     "iopub.status.busy": "2025-01-07T17:54:16.753052Z",
     "iopub.status.idle": "2025-01-07T17:54:17.321404Z",
     "shell.execute_reply": "2025-01-07T17:54:17.320656Z"
    },
    "papermill": {
     "duration": 0.573953,
     "end_time": "2025-01-07T17:54:17.322876",
     "exception": false,
     "start_time": "2025-01-07T17:54:16.748923",
     "status": "completed"
    },
    "tags": []
   },
   "outputs": [],
   "source": [
    "# add the 'data' folder to the system path  \n",
    "sys.path.append(os.path.abspath(\"data\"))\n",
    "from relative import *\n",
    "from AT_funs import *\n",
    "\n"
   ]
  },
  {
   "cell_type": "code",
   "execution_count": 4,
   "id": "c10e57be-9edb-48b2-a7c7-4d446f107612",
   "metadata": {
    "execution": {
     "iopub.execute_input": "2025-01-07T17:54:17.331550Z",
     "iopub.status.busy": "2025-01-07T17:54:17.330991Z",
     "iopub.status.idle": "2025-01-07T17:54:17.334527Z",
     "shell.execute_reply": "2025-01-07T17:54:17.333930Z"
    },
    "papermill": {
     "duration": 0.008727,
     "end_time": "2025-01-07T17:54:17.335504",
     "exception": false,
     "start_time": "2025-01-07T17:54:17.326777",
     "status": "completed"
    },
    "tags": []
   },
   "outputs": [],
   "source": [
    "# # Get the path of the Excel file from the command line argument  \n",
    "# # filename = sys.argv[1]  \n",
    "# filename = 'data/A2A.MI.xlsx'\n",
    "# df = read_xlsx(filename)\n",
    "# ticker = filename.replace('xlsx', '')\n",
    "# # ticker = ' '\n",
    "# # df\n",
    "# filename_bm = 'data/FTSEMIB.MI.xlsx'\n",
    "# bm_df = read_xlsx(filename_bm)\n",
    "# bm_name = filename_bm.replace('xlsx', '')"
   ]
  },
  {
   "cell_type": "code",
   "execution_count": 5,
   "id": "bf256f3b-01c5-4716-92f2-41c8148bb68b",
   "metadata": {
    "execution": {
     "iopub.execute_input": "2025-01-07T17:54:17.343382Z",
     "iopub.status.busy": "2025-01-07T17:54:17.342883Z",
     "iopub.status.idle": "2025-01-07T17:54:17.346099Z",
     "shell.execute_reply": "2025-01-07T17:54:17.345413Z"
    },
    "papermill": {
     "duration": 0.008262,
     "end_time": "2025-01-07T17:54:17.347129",
     "exception": false,
     "start_time": "2025-01-07T17:54:17.338867",
     "status": "completed"
    },
    "tags": []
   },
   "outputs": [],
   "source": [
    "# plot_abs_rel(df, ticker, bm_df, bm_name)"
   ]
  },
  {
   "cell_type": "code",
   "execution_count": 6,
   "id": "0b660f54-a39b-498e-8eb8-bf81c034988f",
   "metadata": {
    "execution": {
     "iopub.execute_input": "2025-01-07T17:54:17.354976Z",
     "iopub.status.busy": "2025-01-07T17:54:17.354451Z",
     "iopub.status.idle": "2025-01-07T17:54:17.705308Z",
     "shell.execute_reply": "2025-01-07T17:54:17.704642Z"
    },
    "papermill": {
     "duration": 0.356122,
     "end_time": "2025-01-07T17:54:17.706654",
     "exception": false,
     "start_time": "2025-01-07T17:54:17.350532",
     "status": "completed"
    },
    "tags": []
   },
   "outputs": [],
   "source": [
    "# Parameters  \n",
    "# path_to_file: str - the path to the input file  \n",
    "  \n",
    "filename = path_to_file\n",
    "df = read_xlsx(filename)\n",
    "ticker = filename.replace('xlsx', '')\n",
    "# ticker = ' '\n",
    "# df\n",
    "filename_bm = 'data/FTSEMIB.MI.xlsx'\n",
    "bm_df = read_xlsx(filename_bm)\n",
    "bm_name = filename_bm.replace('xlsx', '')"
   ]
  },
  {
   "cell_type": "code",
   "execution_count": 7,
   "id": "55b83496-eb02-490d-aef2-62a6aa478e6e",
   "metadata": {
    "execution": {
     "iopub.execute_input": "2025-01-07T17:54:17.715536Z",
     "iopub.status.busy": "2025-01-07T17:54:17.714837Z",
     "iopub.status.idle": "2025-01-07T17:54:18.052705Z",
     "shell.execute_reply": "2025-01-07T17:54:18.051917Z"
    },
    "papermill": {
     "duration": 0.343504,
     "end_time": "2025-01-07T17:54:18.054046",
     "exception": false,
     "start_time": "2025-01-07T17:54:17.710542",
     "status": "completed"
    },
    "tags": []
   },
   "outputs": [
    {
     "data": {
      "image/png": "[encoded data removed]",
      "text/plain": [
       "<Figure size 2000x800 with 1 Axes>"
      ]
     },
     "metadata": {},
     "output_type": "display_data"
    }
   ],
   "source": [
    "plot_abs_rel(df, ticker, bm_df, bm_name)"
   ]
  },
  {
   "cell_type": "code",
   "execution_count": 8,
   "id": "ede37904-5bbb-418d-9059-699d76bbf0a3",
   "metadata": {
    "execution": {
     "iopub.execute_input": "2025-01-07T17:54:18.065155Z",
     "iopub.status.busy": "2025-01-07T17:54:18.064438Z",
     "iopub.status.idle": "2025-01-07T17:54:18.068244Z",
     "shell.execute_reply": "2025-01-07T17:54:18.067665Z"
    },
    "papermill": {
     "duration": 0.010289,
     "end_time": "2025-01-07T17:54:18.069284",
     "exception": false,
     "start_time": "2025-01-07T17:54:18.058995",
     "status": "completed"
    },
    "tags": []
   },
   "outputs": [],
   "source": [
    "# window_bo = 100\n",
    "# fast = 20\n",
    "# slow = 50\n",
    "# st = 50\n",
    "# mt = 100\n",
    "# lt = 150\n",
    "# lvl = 3\n",
    "# bm_col = 'close'\n",
    "# dgt = 5\n",
    "# window_exp = 100\n",
    "# starting_capital = 100000\n",
    "# lot = 100\n",
    "# mn = -0.0025\n",
    "# mx = -0.0075\n",
    "# # avg = (mn + mx) / 2\n",
    "# tolerance= -0.1\n",
    "# equal_weight = 0.05\n",
    "# span= 5\n",
    "# fx = 1"
   ]
  },
  {
   "cell_type": "code",
   "execution_count": 9,
   "id": "acc836f8-1d67-4cd8-a34f-54476972ed30",
   "metadata": {
    "execution": {
     "iopub.execute_input": "2025-01-07T17:54:18.079846Z",
     "iopub.status.busy": "2025-01-07T17:54:18.079209Z",
     "iopub.status.idle": "2025-01-07T17:54:18.082623Z",
     "shell.execute_reply": "2025-01-07T17:54:18.082034Z"
    },
    "papermill": {
     "duration": 0.009753,
     "end_time": "2025-01-07T17:54:18.083604",
     "exception": false,
     "start_time": "2025-01-07T17:54:18.073851",
     "status": "completed"
    },
    "tags": []
   },
   "outputs": [],
   "source": [
    "# ohlc = ['open','high','low','close']\n",
    "# _o,_h,_l,_c = [ohlc[h] for h in range(len(ohlc))]\n",
    "# ticker = df['ticker'][0]\n",
    "\n",
    "# df = relative(df,_o,_h,_l,_c, bm_df, bm_col, dgt, rebase=True)\n",
    "# df = df.set_index('date')\n",
    "\n",
    "# df_bo = signal_rbo(df, window_bo, relative=True)\n",
    "# df_tt = signal_rtt(df, fast = fast, slow = slow, relative=True)\n",
    "# df_ema = signal_rema(df, st, mt, lt, relative=True)\n",
    "# df_sma = signal_rsma(df, st, mt, lt, relative=True)\n",
    "# df_fc = detect_regime(df, bm_df)"
   ]
  },
  {
   "cell_type": "code",
   "execution_count": 10,
   "id": "0ce95c8f-d951-49c3-a01d-2d1383f76814",
   "metadata": {
    "execution": {
     "iopub.execute_input": "2025-01-07T17:54:18.093537Z",
     "iopub.status.busy": "2025-01-07T17:54:18.093129Z",
     "iopub.status.idle": "2025-01-07T17:54:18.096208Z",
     "shell.execute_reply": "2025-01-07T17:54:18.095660Z"
    },
    "papermill": {
     "duration": 0.008999,
     "end_time": "2025-01-07T17:54:18.097132",
     "exception": false,
     "start_time": "2025-01-07T17:54:18.088133",
     "status": "completed"
    },
    "tags": []
   },
   "outputs": [],
   "source": [
    "# def plot_signal_bo(df, window, ticker, relative):\n",
    "\n",
    "#     _o,_h,_l,_c = lower_upper_OHLC(df,relative = relative)\n",
    "    \n",
    "#     prefix_h = 'hi_'\n",
    "#     prefix_l = 'lo_'\n",
    "#     prefix_bo = 'bo_'\n",
    "#     close = 'close'\n",
    "#     if relative:\n",
    "#         prefix_h = 'rhi_'\n",
    "#         prefix_l = 'rlo_'\n",
    "#         prefix_bo = 'rbo_'  \n",
    "#         close = 'rclose'\n",
    "        \n",
    "#     # df = df.set_index('date')\n",
    "#     df[[close, prefix_h + str(window), prefix_l + str(window), prefix_bo + str(window)]].plot(\n",
    "#         secondary_y= [prefix_bo + str(window)], figsize=(20,5), style=['k','g:','r:','b-.'], \n",
    "#         title = str.upper(ticker)+' '+str(window) +' days high/low')\n",
    "#     plt.show()"
   ]
  },
  {
   "cell_type": "code",
   "execution_count": 11,
   "id": "f1bc238d-36fa-4da1-9257-c78a3d090c85",
   "metadata": {
    "execution": {
     "iopub.execute_input": "2025-01-07T17:54:18.106689Z",
     "iopub.status.busy": "2025-01-07T17:54:18.106334Z",
     "iopub.status.idle": "2025-01-07T17:54:18.109195Z",
     "shell.execute_reply": "2025-01-07T17:54:18.108636Z"
    },
    "papermill": {
     "duration": 0.008777,
     "end_time": "2025-01-07T17:54:18.110251",
     "exception": false,
     "start_time": "2025-01-07T17:54:18.101474",
     "status": "completed"
    },
    "tags": []
   },
   "outputs": [],
   "source": [
    "# plot_signal_bo(df_bo, window_bo, ticker, relative = True)"
   ]
  },
  {
   "cell_type": "code",
   "execution_count": 12,
   "id": "b968e4d7-7e1f-46a0-9612-89d603a2c925",
   "metadata": {
    "execution": {
     "iopub.execute_input": "2025-01-07T17:54:18.120481Z",
     "iopub.status.busy": "2025-01-07T17:54:18.119880Z",
     "iopub.status.idle": "2025-01-07T17:54:18.123364Z",
     "shell.execute_reply": "2025-01-07T17:54:18.122710Z"
    },
    "papermill": {
     "duration": 0.009679,
     "end_time": "2025-01-07T17:54:18.124417",
     "exception": false,
     "start_time": "2025-01-07T17:54:18.114738",
     "status": "completed"
    },
    "tags": []
   },
   "outputs": [],
   "source": [
    "# def plot_signal_tt(df, fast, slow, relative):\n",
    "\n",
    "#     close = 'close'\n",
    "#     tt = 'tt_'\n",
    "#     if relative:\n",
    "#         close = 'rclose'\n",
    "#         tt = 'rtt_'\n",
    "    \n",
    "#     rg_cols = [tt + str(slow)+str(fast)]\n",
    "\n",
    "#     df[[close, tt+ str(slow)+str(fast)] ].plot(\n",
    "#         secondary_y= rg_cols,figsize=(20,5), style=['k','b-.'], \n",
    "#         title = str.upper('')+' '+str(rg_cols))\n",
    "#     plt.show()  "
   ]
  },
  {
   "cell_type": "code",
   "execution_count": 13,
   "id": "087d9ad6-8115-4c8f-9750-8f47a8c7d4c3",
   "metadata": {
    "execution": {
     "iopub.execute_input": "2025-01-07T17:54:18.134745Z",
     "iopub.status.busy": "2025-01-07T17:54:18.134203Z",
     "iopub.status.idle": "2025-01-07T17:54:18.137456Z",
     "shell.execute_reply": "2025-01-07T17:54:18.136749Z"
    },
    "papermill": {
     "duration": 0.009474,
     "end_time": "2025-01-07T17:54:18.138531",
     "exception": false,
     "start_time": "2025-01-07T17:54:18.129057",
     "status": "completed"
    },
    "tags": []
   },
   "outputs": [],
   "source": [
    "# plot_signal_tt(df_tt, fast, slow, relative = True)"
   ]
  },
  {
   "cell_type": "code",
   "execution_count": 14,
   "id": "541bbbe1-ac4a-44db-8812-68151fb35260",
   "metadata": {
    "execution": {
     "iopub.execute_input": "2025-01-07T17:54:18.149089Z",
     "iopub.status.busy": "2025-01-07T17:54:18.148426Z",
     "iopub.status.idle": "2025-01-07T17:54:18.151915Z",
     "shell.execute_reply": "2025-01-07T17:54:18.151247Z"
    },
    "papermill": {
     "duration": 0.010063,
     "end_time": "2025-01-07T17:54:18.153143",
     "exception": false,
     "start_time": "2025-01-07T17:54:18.143080",
     "status": "completed"
    },
    "tags": []
   },
   "outputs": [],
   "source": [
    "# def plot_signal_sma(df, st, mt, lt, relative):\n",
    "\n",
    "#     close = 'close'\n",
    "#     sma = 'sma_'\n",
    "#     ema = 'ema_'\n",
    "#     if relative:\n",
    "#         close = 'rclose'\n",
    "#         sma = 'rsma_'\n",
    "#         ema = 'rema_'\n",
    "\n",
    "#     df[[close,sma+ str(st) + str(mt) + str(lt)] ].plot(\n",
    "#         secondary_y= sma+ str(st) + str(mt) + str(lt),figsize=(20,5), style=['k','b-.'], \n",
    "#         title = str.upper('')+' '+str([sma+ str(st) + str(mt) + str(lt)]))\n",
    "        \n",
    "#     plt.show() "
   ]
  },
  {
   "cell_type": "code",
   "execution_count": 15,
   "id": "2be5be52-9c5a-4311-ac47-4538d580da77",
   "metadata": {
    "execution": {
     "iopub.execute_input": "2025-01-07T17:54:18.163382Z",
     "iopub.status.busy": "2025-01-07T17:54:18.162929Z",
     "iopub.status.idle": "2025-01-07T17:54:18.166159Z",
     "shell.execute_reply": "2025-01-07T17:54:18.165543Z"
    },
    "papermill": {
     "duration": 0.009507,
     "end_time": "2025-01-07T17:54:18.167216",
     "exception": false,
     "start_time": "2025-01-07T17:54:18.157709",
     "status": "completed"
    },
    "tags": []
   },
   "outputs": [],
   "source": [
    "# plot_signal_sma(df_sma, st, mt, lt, relative = True)"
   ]
  },
  {
   "cell_type": "code",
   "execution_count": 16,
   "id": "307b943a-cb79-4140-ad91-2fa62aaccdc2",
   "metadata": {
    "execution": {
     "iopub.execute_input": "2025-01-07T17:54:18.177680Z",
     "iopub.status.busy": "2025-01-07T17:54:18.177140Z",
     "iopub.status.idle": "2025-01-07T17:54:18.180296Z",
     "shell.execute_reply": "2025-01-07T17:54:18.179737Z"
    },
    "papermill": {
     "duration": 0.009406,
     "end_time": "2025-01-07T17:54:18.181382",
     "exception": false,
     "start_time": "2025-01-07T17:54:18.171976",
     "status": "completed"
    },
    "tags": []
   },
   "outputs": [],
   "source": [
    "# def plot_signal_ema(df, st, mt, lt, relative):\n",
    "\n",
    "#     close = 'close'\n",
    "#     sma = 'sma_'\n",
    "#     ema = 'ema_'\n",
    "#     if relative:\n",
    "#         close = 'rclose'\n",
    "#         sma = 'rsma_'\n",
    "#         ema = 'rema_'\n",
    "    \n",
    "#     df[[close,ema+ str(st) + str(mt) + str(lt)] ].plot(\n",
    "#         secondary_y= ema+ str(st) + str(mt) + str(lt),figsize=(20,5), style=['k','b-.'], \n",
    "#         title = str.upper('')+' '+str([ema+ str(st) + str(mt) + str(lt)]))\n",
    "        \n",
    "#     plt.show() "
   ]
  },
  {
   "cell_type": "code",
   "execution_count": 17,
   "id": "43356d36-8b62-4341-a736-8103de9a98db",
   "metadata": {
    "execution": {
     "iopub.execute_input": "2025-01-07T17:54:18.191454Z",
     "iopub.status.busy": "2025-01-07T17:54:18.190911Z",
     "iopub.status.idle": "2025-01-07T17:54:18.194065Z",
     "shell.execute_reply": "2025-01-07T17:54:18.193468Z"
    },
    "papermill": {
     "duration": 0.009241,
     "end_time": "2025-01-07T17:54:18.195029",
     "exception": false,
     "start_time": "2025-01-07T17:54:18.185788",
     "status": "completed"
    },
    "tags": []
   },
   "outputs": [],
   "source": [
    "# plot_signal_ema(df_ema, st, mt, lt, relative = True)"
   ]
  },
  {
   "cell_type": "code",
   "execution_count": 18,
   "id": "2ac0e513-acb4-4f99-8418-9208c68b1a20",
   "metadata": {
    "execution": {
     "iopub.execute_input": "2025-01-07T17:54:18.205583Z",
     "iopub.status.busy": "2025-01-07T17:54:18.204830Z",
     "iopub.status.idle": "2025-01-07T17:54:18.208099Z",
     "shell.execute_reply": "2025-01-07T17:54:18.207433Z"
    },
    "papermill": {
     "duration": 0.009722,
     "end_time": "2025-01-07T17:54:18.209363",
     "exception": false,
     "start_time": "2025-01-07T17:54:18.199641",
     "status": "completed"
    },
    "tags": []
   },
   "outputs": [],
   "source": [
    "# plot_signal_rel(df_fc, ticker)\n",
    "# plot_regime_rel(df_fc, ticker)"
   ]
  },
  {
   "cell_type": "code",
   "execution_count": 19,
   "id": "9cf64b40-df77-4833-9bce-90af7e61548b",
   "metadata": {
    "execution": {
     "iopub.execute_input": "2025-01-07T17:54:18.220291Z",
     "iopub.status.busy": "2025-01-07T17:54:18.219576Z",
     "iopub.status.idle": "2025-01-07T17:54:18.223100Z",
     "shell.execute_reply": "2025-01-07T17:54:18.222495Z"
    },
    "papermill": {
     "duration": 0.01009,
     "end_time": "2025-01-07T17:54:18.224160",
     "exception": false,
     "start_time": "2025-01-07T17:54:18.214070",
     "status": "completed"
    },
    "tags": []
   },
   "outputs": [],
   "source": [
    "# df_fc = df_fc.set_index('date')\n",
    "# df_fc[['rclose','rh3','rl3']].plot(\n",
    "#     style=['grey', 'rv', 'g^'],\n",
    "#     figsize=(20,5),grid=True, title = str.upper(ticker))\n",
    "# plt.show()"
   ]
  },
  {
   "cell_type": "code",
   "execution_count": 20,
   "id": "55b947a3-a443-4f1d-8af1-8b0fd4063658",
   "metadata": {
    "execution": {
     "iopub.execute_input": "2025-01-07T17:54:18.234963Z",
     "iopub.status.busy": "2025-01-07T17:54:18.234290Z",
     "iopub.status.idle": "2025-01-07T17:54:18.237593Z",
     "shell.execute_reply": "2025-01-07T17:54:18.236935Z"
    },
    "papermill": {
     "duration": 0.00986,
     "end_time": "2025-01-07T17:54:18.238768",
     "exception": false,
     "start_time": "2025-01-07T17:54:18.228908",
     "status": "completed"
    },
    "tags": []
   },
   "outputs": [],
   "source": [
    "# df_fc[['close','hi3','lo3','rclose','rh3','rl3']].plot(\n",
    "#     style=['grey','rv', 'g^','k:','mv','b^'],\n",
    "#             figsize=(20,5),grid=True, title = str.upper(ticker)+' vs '+str.upper(bm_col))\n",
    "# plt.show()"
   ]
  },
  {
   "cell_type": "code",
   "execution_count": 21,
   "id": "e752610e-3ce2-4599-a425-6b1a9e345a6e",
   "metadata": {
    "execution": {
     "iopub.execute_input": "2025-01-07T17:54:18.249639Z",
     "iopub.status.busy": "2025-01-07T17:54:18.248990Z",
     "iopub.status.idle": "2025-01-07T17:54:18.252180Z",
     "shell.execute_reply": "2025-01-07T17:54:18.251615Z"
    },
    "papermill": {
     "duration": 0.009855,
     "end_time": "2025-01-07T17:54:18.253290",
     "exception": false,
     "start_time": "2025-01-07T17:54:18.243435",
     "status": "completed"
    },
    "tags": []
   },
   "outputs": [],
   "source": [
    "# df_fc[['rclose','rh3', 'rl3','rclg','rflr','rrg_ch','rrg']].plot(style=['grey', 'ro', 'go', 'kv', 'k^','c:','y-.'], \n",
    "#                         secondary_y= ['rrg'],figsize=(20,5),grid=True, title = str.upper(ticker))\n",
    "# plt.show()"
   ]
  }
 ],
 "metadata": {
  "kernelspec": {
   "display_name": "Python 3 (ipykernel)",
   "language": "python",
   "name": "python3"
  },
  "language_info": {
   "codemirror_mode": {
    "name": "ipython",
    "version": 3
   },
   "file_extension": ".py",
   "mimetype": "text/x-python",
   "name": "python",
   "nbconvert_exporter": "python",
   "pygments_lexer": "ipython3",
   "version": "3.8.18"
  },
  "papermill": {
   "default_parameters": {},
   "duration": 3.047565,
   "end_time": "2025-01-07T17:54:18.574673",
   "environment_variables": {},
   "exception": null,
   "input_path": "template.ipynb",
   "output_path": "LASIA.MI_output.ipynb",
   "parameters": {
    "path_to_file": "data/LASIA.MI.xlsx"
   },
   "start_time": "2025-01-07T17:54:15.527108",
   "version": "2.6.0"
  }
 },
 "nbformat": 4,
 "nbformat_minor": 5
}