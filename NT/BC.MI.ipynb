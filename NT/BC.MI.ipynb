{
    "notebook": {
        "nbformat": 4,
        "nbformat_minor": 5,
        "metadata": {},
        "cells": [
            {
                "id": "8fb424e6",
                "cell_type": "markdown",
                "source": "# BC.MI Financial Analysis",
                "metadata": {}
            },
            {
                "id": "9cd41abf",
                "cell_type": "code",
                "metadata": {},
                "execution_count": null,
                "source": "import pandas as pd",
                "outputs": []
            },
            {
                "id": "d4813ff1",
                "cell_type": "code",
                "metadata": {},
                "execution_count": null,
                "source": "df = pd.read_excel('data/BC.MI.xlsx')",
                "outputs": []
            },
            {
                "id": "8d5de3d9",
                "cell_type": "code",
                "metadata": {},
                "execution_count": null,
                "source": "display(df)",
                "outputs": []
            }
        ]
    }
}