{
    "notebook": {
        "nbformat": 4,
        "nbformat_minor": 5,
        "metadata": {},
        "cells": [
            {
                "id": "d6975fc3",
                "cell_type": "markdown",
                "source": "# BC.MI Financial Analysis",
                "metadata": {}
            },
            {
                "id": "d74cafe8",
                "cell_type": "code",
                "metadata": {},
                "execution_count": null,
                "source": "import pandas as pd",
                "outputs": []
            },
            {
                "id": "a196dcb1",
                "cell_type": "code",
                "metadata": {},
                "execution_count": null,
                "source": "df = pd.read_excel('data/BC.MI.xlsx')",
                "outputs": []
            },
            {
                "id": "64875e76",
                "cell_type": "code",
                "metadata": {},
                "execution_count": null,
                "source": "display(df)",
                "outputs": []
            }
        ]
    }
}