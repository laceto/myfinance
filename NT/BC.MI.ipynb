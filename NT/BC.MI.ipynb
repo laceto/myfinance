{
    "notebook": {
        "nbformat": 4,
        "nbformat_minor": 5,
        "metadata": {},
        "cells": [
            {
                "id": "ccc30d93",
                "cell_type": "markdown",
                "source": "# BC.MI Financial Analysis",
                "metadata": {}
            },
            {
                "id": "14577ac7",
                "cell_type": "code",
                "metadata": {},
                "execution_count": null,
                "source": "import pandas as pd",
                "outputs": []
            },
            {
                "id": "e0978999",
                "cell_type": "code",
                "metadata": {},
                "execution_count": null,
                "source": "df = pd.read_excel('data/BC.MI.xlsx')",
                "outputs": []
            },
            {
                "id": "db7e1507",
                "cell_type": "code",
                "metadata": {},
                "execution_count": null,
                "source": "display(df)",
                "outputs": []
            }
        ]
    }
}