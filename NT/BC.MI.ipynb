{
    "notebook": {
        "nbformat": 4,
        "nbformat_minor": 5,
        "metadata": {},
        "cells": [
            {
                "id": "4d599fab",
                "cell_type": "markdown",
                "source": "# BC.MI Financial Analysis",
                "metadata": {}
            },
            {
                "id": "6bcad601",
                "cell_type": "code",
                "metadata": {},
                "execution_count": null,
                "source": "import pandas as pd",
                "outputs": []
            },
            {
                "id": "3e888f72",
                "cell_type": "code",
                "metadata": {},
                "execution_count": null,
                "source": "df = pd.read_excel('data/BC.MI.xlsx')",
                "outputs": []
            },
            {
                "id": "82f98efd",
                "cell_type": "code",
                "metadata": {},
                "execution_count": null,
                "source": "display(df)",
                "outputs": []
            }
        ]
    }
}