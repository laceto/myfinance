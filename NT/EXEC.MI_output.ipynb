{
 "cells": [
  {
   "cell_type": "code",
   "execution_count": 1,
   "id": "15833f30",
   "metadata": {
    "execution": {
     "iopub.execute_input": "2025-01-07T18:02:39.973421Z",
     "iopub.status.busy": "2025-01-07T18:02:39.972845Z",
     "iopub.status.idle": "2025-01-07T18:02:39.979704Z",
     "shell.execute_reply": "2025-01-07T18:02:39.979036Z"
    },
    "papermill": {
     "duration": 0.013069,
     "end_time": "2025-01-07T18:02:39.980911",
     "exception": false,
     "start_time": "2025-01-07T18:02:39.967842",
     "status": "completed"
    },
    "tags": [
     "injected-parameters"
    ]
   },
   "outputs": [],
   "source": [
    "# Parameters\n",
    "path_to_file = \"data/EXEC.MI.xlsx\"\n"
   ]
  },
  {
   "cell_type": "code",
   "execution_count": 2,
   "id": "5efbf512-053b-4bce-9f68-c0b07e257aec",
   "metadata": {
    "execution": {
     "iopub.execute_input": "2025-01-07T18:02:39.988779Z",
     "iopub.status.busy": "2025-01-07T18:02:39.988310Z",
     "iopub.status.idle": "2025-01-07T18:02:40.330277Z",
     "shell.execute_reply": "2025-01-07T18:02:40.329618Z"
    },
    "papermill": {
     "duration": 0.346946,
     "end_time": "2025-01-07T18:02:40.331332",
     "exception": false,
     "start_time": "2025-01-07T18:02:39.984386",
     "status": "completed"
    },
    "tags": []
   },
   "outputs": [
    {
     "name": "stdout",
     "output_type": "stream",
     "text": [
      "Current working directory: /home/runner/work/myfinance/myfinance/NT\n",
      "New current working directory: /home/runner/work/myfinance/myfinance\n"
     ]
    },
    {
     "data": {
      "text/plain": [
       "2"
      ]
     },
     "execution_count": 2,
     "metadata": {},
     "output_type": "execute_result"
    }
   ],
   "source": [
    "import os  \n",
    "import sys  \n",
    "import pandas as pd\n",
    "import openpyxl\n",
    "# import papermill as pm  \n",
    "\n",
    "# get the current working directory  \n",
    "cwd = os.getcwd()  \n",
    "print(\"Current working directory:\", cwd)  \n",
    "  \n",
    "# change the current working directory to one level up  \n",
    "os.chdir(\"..\")  \n",
    "  \n",
    "# get the new current working directory  \n",
    "new_cwd = os.getcwd()  \n",
    "print(\"New current working directory:\", new_cwd) \n",
    "\n",
    "1+1"
   ]
  },
  {
   "cell_type": "code",
   "execution_count": 3,
   "id": "a244e996-b5d1-4551-8a00-065f1f64e197",
   "metadata": {
    "execution": {
     "iopub.execute_input": "2025-01-07T18:02:40.339584Z",
     "iopub.status.busy": "2025-01-07T18:02:40.339091Z",
     "iopub.status.idle": "2025-01-07T18:02:40.901062Z",
     "shell.execute_reply": "2025-01-07T18:02:40.900417Z"
    },
    "papermill": {
     "duration": 0.567308,
     "end_time": "2025-01-07T18:02:40.902378",
     "exception": false,
     "start_time": "2025-01-07T18:02:40.335070",
     "status": "completed"
    },
    "tags": []
   },
   "outputs": [],
   "source": [
    "# add the 'data' folder to the system path  \n",
    "sys.path.append(os.path.abspath(\"data\"))\n",
    "from relative import *\n",
    "from AT_funs import *\n",
    "\n"
   ]
  },
  {
   "cell_type": "code",
   "execution_count": 4,
   "id": "c10e57be-9edb-48b2-a7c7-4d446f107612",
   "metadata": {
    "execution": {
     "iopub.execute_input": "2025-01-07T18:02:40.910820Z",
     "iopub.status.busy": "2025-01-07T18:02:40.910270Z",
     "iopub.status.idle": "2025-01-07T18:02:40.913767Z",
     "shell.execute_reply": "2025-01-07T18:02:40.913163Z"
    },
    "papermill": {
     "duration": 0.008557,
     "end_time": "2025-01-07T18:02:40.914740",
     "exception": false,
     "start_time": "2025-01-07T18:02:40.906183",
     "status": "completed"
    },
    "tags": []
   },
   "outputs": [],
   "source": [
    "# # Get the path of the Excel file from the command line argument  \n",
    "# # filename = sys.argv[1]  \n",
    "# filename = 'data/A2A.MI.xlsx'\n",
    "# df = read_xlsx(filename)\n",
    "# ticker = filename.replace('xlsx', '')\n",
    "# # ticker = ' '\n",
    "# # df\n",
    "# filename_bm = 'data/FTSEMIB.MI.xlsx'\n",
    "# bm_df = read_xlsx(filename_bm)\n",
    "# bm_name = filename_bm.replace('xlsx', '')"
   ]
  },
  {
   "cell_type": "code",
   "execution_count": 5,
   "id": "bf256f3b-01c5-4716-92f2-41c8148bb68b",
   "metadata": {
    "execution": {
     "iopub.execute_input": "2025-01-07T18:02:40.922281Z",
     "iopub.status.busy": "2025-01-07T18:02:40.921857Z",
     "iopub.status.idle": "2025-01-07T18:02:40.924722Z",
     "shell.execute_reply": "2025-01-07T18:02:40.924129Z"
    },
    "papermill": {
     "duration": 0.007631,
     "end_time": "2025-01-07T18:02:40.925716",
     "exception": false,
     "start_time": "2025-01-07T18:02:40.918085",
     "status": "completed"
    },
    "tags": []
   },
   "outputs": [],
   "source": [
    "# plot_abs_rel(df, ticker, bm_df, bm_name)"
   ]
  },
  {
   "cell_type": "code",
   "execution_count": 6,
   "id": "0b660f54-a39b-498e-8eb8-bf81c034988f",
   "metadata": {
    "execution": {
     "iopub.execute_input": "2025-01-07T18:02:40.933333Z",
     "iopub.status.busy": "2025-01-07T18:02:40.932970Z",
     "iopub.status.idle": "2025-01-07T18:02:41.270899Z",
     "shell.execute_reply": "2025-01-07T18:02:41.270223Z"
    },
    "papermill": {
     "duration": 0.343212,
     "end_time": "2025-01-07T18:02:41.272260",
     "exception": false,
     "start_time": "2025-01-07T18:02:40.929048",
     "status": "completed"
    },
    "tags": []
   },
   "outputs": [],
   "source": [
    "# Parameters  \n",
    "# path_to_file: str - the path to the input file  \n",
    "  \n",
    "filename = path_to_file\n",
    "df = read_xlsx(filename)\n",
    "ticker = filename.replace('xlsx', '')\n",
    "# ticker = ' '\n",
    "# df\n",
    "filename_bm = 'data/FTSEMIB.MI.xlsx'\n",
    "bm_df = read_xlsx(filename_bm)\n",
    "bm_name = filename_bm.replace('xlsx', '')"
   ]
  },
  {
   "cell_type": "code",
   "execution_count": 7,
   "id": "55b83496-eb02-490d-aef2-62a6aa478e6e",
   "metadata": {
    "execution": {
     "iopub.execute_input": "2025-01-07T18:02:41.280856Z",
     "iopub.status.busy": "2025-01-07T18:02:41.280365Z",
     "iopub.status.idle": "2025-01-07T18:02:41.592939Z",
     "shell.execute_reply": "2025-01-07T18:02:41.592163Z"
    },
    "papermill": {
     "duration": 0.318166,
     "end_time": "2025-01-07T18:02:41.594367",
     "exception": false,
     "start_time": "2025-01-07T18:02:41.276201",
     "status": "completed"
    },
    "tags": []
   },
   "outputs": [
    {
     "data": {
      "image/png": "[encoded data removed]",
      "text/plain": [
       "<Figure size 2000x800 with 1 Axes>"
      ]
     },
     "metadata": {},
     "output_type": "display_data"
    }
   ],
   "source": [
    "plot_abs_rel(df, ticker, bm_df, bm_name)"
   ]
  },
  {
   "cell_type": "code",
   "execution_count": 8,
   "id": "ede37904-5bbb-418d-9059-699d76bbf0a3",
   "metadata": {
    "execution": {
     "iopub.execute_input": "2025-01-07T18:02:41.605032Z",
     "iopub.status.busy": "2025-01-07T18:02:41.604433Z",
     "iopub.status.idle": "2025-01-07T18:02:41.607599Z",
     "shell.execute_reply": "2025-01-07T18:02:41.607041Z"
    },
    "papermill": {
     "duration": 0.009402,
     "end_time": "2025-01-07T18:02:41.608628",
     "exception": false,
     "start_time": "2025-01-07T18:02:41.599226",
     "status": "completed"
    },
    "tags": []
   },
   "outputs": [],
   "source": [
    "# window_bo = 100\n",
    "# fast = 20\n",
    "# slow = 50\n",
    "# st = 50\n",
    "# mt = 100\n",
    "# lt = 150\n",
    "# lvl = 3\n",
    "# bm_col = 'close'\n",
    "# dgt = 5\n",
    "# window_exp = 100\n",
    "# starting_capital = 100000\n",
    "# lot = 100\n",
    "# mn = -0.0025\n",
    "# mx = -0.0075\n",
    "# # avg = (mn + mx) / 2\n",
    "# tolerance= -0.1\n",
    "# equal_weight = 0.05\n",
    "# span= 5\n",
    "# fx = 1"
   ]
  },
  {
   "cell_type": "code",
   "execution_count": 9,
   "id": "acc836f8-1d67-4cd8-a34f-54476972ed30",
   "metadata": {
    "execution": {
     "iopub.execute_input": "2025-01-07T18:02:41.618463Z",
     "iopub.status.busy": "2025-01-07T18:02:41.617942Z",
     "iopub.status.idle": "2025-01-07T18:02:41.621261Z",
     "shell.execute_reply": "2025-01-07T18:02:41.620704Z"
    },
    "papermill": {
     "duration": 0.009283,
     "end_time": "2025-01-07T18:02:41.622298",
     "exception": false,
     "start_time": "2025-01-07T18:02:41.613015",
     "status": "completed"
    },
    "tags": []
   },
   "outputs": [],
   "source": [
    "# ohlc = ['open','high','low','close']\n",
    "# _o,_h,_l,_c = [ohlc[h] for h in range(len(ohlc))]\n",
    "# ticker = df['ticker'][0]\n",
    "\n",
    "# df = relative(df,_o,_h,_l,_c, bm_df, bm_col, dgt, rebase=True)\n",
    "# df = df.set_index('date')\n",
    "\n",
    "# df_bo = signal_rbo(df, window_bo, relative=True)\n",
    "# df_tt = signal_rtt(df, fast = fast, slow = slow, relative=True)\n",
    "# df_ema = signal_rema(df, st, mt, lt, relative=True)\n",
    "# df_sma = signal_rsma(df, st, mt, lt, relative=True)\n",
    "# df_fc = detect_regime(df, bm_df)"
   ]
  },
  {
   "cell_type": "code",
   "execution_count": 10,
   "id": "0ce95c8f-d951-49c3-a01d-2d1383f76814",
   "metadata": {
    "execution": {
     "iopub.execute_input": "2025-01-07T18:02:41.632323Z",
     "iopub.status.busy": "2025-01-07T18:02:41.631801Z",
     "iopub.status.idle": "2025-01-07T18:02:41.635192Z",
     "shell.execute_reply": "2025-01-07T18:02:41.634619Z"
    },
    "papermill": {
     "duration": 0.009335,
     "end_time": "2025-01-07T18:02:41.636169",
     "exception": false,
     "start_time": "2025-01-07T18:02:41.626834",
     "status": "completed"
    },
    "tags": []
   },
   "outputs": [],
   "source": [
    "# def plot_signal_bo(df, window, ticker, relative):\n",
    "\n",
    "#     _o,_h,_l,_c = lower_upper_OHLC(df,relative = relative)\n",
    "    \n",
    "#     prefix_h = 'hi_'\n",
    "#     prefix_l = 'lo_'\n",
    "#     prefix_bo = 'bo_'\n",
    "#     close = 'close'\n",
    "#     if relative:\n",
    "#         prefix_h = 'rhi_'\n",
    "#         prefix_l = 'rlo_'\n",
    "#         prefix_bo = 'rbo_'  \n",
    "#         close = 'rclose'\n",
    "        \n",
    "#     # df = df.set_index('date')\n",
    "#     df[[close, prefix_h + str(window), prefix_l + str(window), prefix_bo + str(window)]].plot(\n",
    "#         secondary_y= [prefix_bo + str(window)], figsize=(20,5), style=['k','g:','r:','b-.'], \n",
    "#         title = str.upper(ticker)+' '+str(window) +' days high/low')\n",
    "#     plt.show()"
   ]
  },
  {
   "cell_type": "code",
   "execution_count": 11,
   "id": "f1bc238d-36fa-4da1-9257-c78a3d090c85",
   "metadata": {
    "execution": {
     "iopub.execute_input": "2025-01-07T18:02:41.645929Z",
     "iopub.status.busy": "2025-01-07T18:02:41.645517Z",
     "iopub.status.idle": "2025-01-07T18:02:41.648605Z",
     "shell.execute_reply": "2025-01-07T18:02:41.647991Z"
    },
    "papermill": {
     "duration": 0.009046,
     "end_time": "2025-01-07T18:02:41.649609",
     "exception": false,
     "start_time": "2025-01-07T18:02:41.640563",
     "status": "completed"
    },
    "tags": []
   },
   "outputs": [],
   "source": [
    "# plot_signal_bo(df_bo, window_bo, ticker, relative = True)"
   ]
  },
  {
   "cell_type": "code",
   "execution_count": 12,
   "id": "b968e4d7-7e1f-46a0-9612-89d603a2c925",
   "metadata": {
    "execution": {
     "iopub.execute_input": "2025-01-07T18:02:41.659392Z",
     "iopub.status.busy": "2025-01-07T18:02:41.658855Z",
     "iopub.status.idle": "2025-01-07T18:02:41.662022Z",
     "shell.execute_reply": "2025-01-07T18:02:41.661477Z"
    },
    "papermill": {
     "duration": 0.009034,
     "end_time": "2025-01-07T18:02:41.663019",
     "exception": false,
     "start_time": "2025-01-07T18:02:41.653985",
     "status": "completed"
    },
    "tags": []
   },
   "outputs": [],
   "source": [
    "# def plot_signal_tt(df, fast, slow, relative):\n",
    "\n",
    "#     close = 'close'\n",
    "#     tt = 'tt_'\n",
    "#     if relative:\n",
    "#         close = 'rclose'\n",
    "#         tt = 'rtt_'\n",
    "    \n",
    "#     rg_cols = [tt + str(slow)+str(fast)]\n",
    "\n",
    "#     df[[close, tt+ str(slow)+str(fast)] ].plot(\n",
    "#         secondary_y= rg_cols,figsize=(20,5), style=['k','b-.'], \n",
    "#         title = str.upper('')+' '+str(rg_cols))\n",
    "#     plt.show()  "
   ]
  },
  {
   "cell_type": "code",
   "execution_count": 13,
   "id": "087d9ad6-8115-4c8f-9750-8f47a8c7d4c3",
   "metadata": {
    "execution": {
     "iopub.execute_input": "2025-01-07T18:02:41.672881Z",
     "iopub.status.busy": "2025-01-07T18:02:41.672469Z",
     "iopub.status.idle": "2025-01-07T18:02:41.675239Z",
     "shell.execute_reply": "2025-01-07T18:02:41.674682Z"
    },
    "papermill": {
     "duration": 0.00874,
     "end_time": "2025-01-07T18:02:41.676235",
     "exception": false,
     "start_time": "2025-01-07T18:02:41.667495",
     "status": "completed"
    },
    "tags": []
   },
   "outputs": [],
   "source": [
    "# plot_signal_tt(df_tt, fast, slow, relative = True)"
   ]
  },
  {
   "cell_type": "code",
   "execution_count": 14,
   "id": "541bbbe1-ac4a-44db-8812-68151fb35260",
   "metadata": {
    "execution": {
     "iopub.execute_input": "2025-01-07T18:02:41.685838Z",
     "iopub.status.busy": "2025-01-07T18:02:41.685423Z",
     "iopub.status.idle": "2025-01-07T18:02:41.688531Z",
     "shell.execute_reply": "2025-01-07T18:02:41.687956Z"
    },
    "papermill": {
     "duration": 0.008881,
     "end_time": "2025-01-07T18:02:41.689447",
     "exception": false,
     "start_time": "2025-01-07T18:02:41.680566",
     "status": "completed"
    },
    "tags": []
   },
   "outputs": [],
   "source": [
    "# def plot_signal_sma(df, st, mt, lt, relative):\n",
    "\n",
    "#     close = 'close'\n",
    "#     sma = 'sma_'\n",
    "#     ema = 'ema_'\n",
    "#     if relative:\n",
    "#         close = 'rclose'\n",
    "#         sma = 'rsma_'\n",
    "#         ema = 'rema_'\n",
    "\n",
    "#     df[[close,sma+ str(st) + str(mt) + str(lt)] ].plot(\n",
    "#         secondary_y= sma+ str(st) + str(mt) + str(lt),figsize=(20,5), style=['k','b-.'], \n",
    "#         title = str.upper('')+' '+str([sma+ str(st) + str(mt) + str(lt)]))\n",
    "        \n",
    "#     plt.show() "
   ]
  },
  {
   "cell_type": "code",
   "execution_count": 15,
   "id": "2be5be52-9c5a-4311-ac47-4538d580da77",
   "metadata": {
    "execution": {
     "iopub.execute_input": "2025-01-07T18:02:41.699058Z",
     "iopub.status.busy": "2025-01-07T18:02:41.698665Z",
     "iopub.status.idle": "2025-01-07T18:02:41.701570Z",
     "shell.execute_reply": "2025-01-07T18:02:41.700902Z"
    },
    "papermill": {
     "duration": 0.008748,
     "end_time": "2025-01-07T18:02:41.702535",
     "exception": false,
     "start_time": "2025-01-07T18:02:41.693787",
     "status": "completed"
    },
    "tags": []
   },
   "outputs": [],
   "source": [
    "# plot_signal_sma(df_sma, st, mt, lt, relative = True)"
   ]
  },
  {
   "cell_type": "code",
   "execution_count": 16,
   "id": "307b943a-cb79-4140-ad91-2fa62aaccdc2",
   "metadata": {
    "execution": {
     "iopub.execute_input": "2025-01-07T18:02:41.712562Z",
     "iopub.status.busy": "2025-01-07T18:02:41.712103Z",
     "iopub.status.idle": "2025-01-07T18:02:41.715271Z",
     "shell.execute_reply": "2025-01-07T18:02:41.714703Z"
    },
    "papermill": {
     "duration": 0.009204,
     "end_time": "2025-01-07T18:02:41.716303",
     "exception": false,
     "start_time": "2025-01-07T18:02:41.707099",
     "status": "completed"
    },
    "tags": []
   },
   "outputs": [],
   "source": [
    "# def plot_signal_ema(df, st, mt, lt, relative):\n",
    "\n",
    "#     close = 'close'\n",
    "#     sma = 'sma_'\n",
    "#     ema = 'ema_'\n",
    "#     if relative:\n",
    "#         close = 'rclose'\n",
    "#         sma = 'rsma_'\n",
    "#         ema = 'rema_'\n",
    "    \n",
    "#     df[[close,ema+ str(st) + str(mt) + str(lt)] ].plot(\n",
    "#         secondary_y= ema+ str(st) + str(mt) + str(lt),figsize=(20,5), style=['k','b-.'], \n",
    "#         title = str.upper('')+' '+str([ema+ str(st) + str(mt) + str(lt)]))\n",
    "        \n",
    "#     plt.show() "
   ]
  },
  {
   "cell_type": "code",
   "execution_count": 17,
   "id": "43356d36-8b62-4341-a736-8103de9a98db",
   "metadata": {
    "execution": {
     "iopub.execute_input": "2025-01-07T18:02:41.725909Z",
     "iopub.status.busy": "2025-01-07T18:02:41.725523Z",
     "iopub.status.idle": "2025-01-07T18:02:41.728451Z",
     "shell.execute_reply": "2025-01-07T18:02:41.727784Z"
    },
    "papermill": {
     "duration": 0.009051,
     "end_time": "2025-01-07T18:02:41.729706",
     "exception": false,
     "start_time": "2025-01-07T18:02:41.720655",
     "status": "completed"
    },
    "tags": []
   },
   "outputs": [],
   "source": [
    "# plot_signal_ema(df_ema, st, mt, lt, relative = True)"
   ]
  },
  {
   "cell_type": "code",
   "execution_count": 18,
   "id": "2ac0e513-acb4-4f99-8418-9208c68b1a20",
   "metadata": {
    "execution": {
     "iopub.execute_input": "2025-01-07T18:02:41.739267Z",
     "iopub.status.busy": "2025-01-07T18:02:41.738884Z",
     "iopub.status.idle": "2025-01-07T18:02:41.741490Z",
     "shell.execute_reply": "2025-01-07T18:02:41.740929Z"
    },
    "papermill": {
     "duration": 0.008424,
     "end_time": "2025-01-07T18:02:41.742497",
     "exception": false,
     "start_time": "2025-01-07T18:02:41.734073",
     "status": "completed"
    },
    "tags": []
   },
   "outputs": [],
   "source": [
    "# plot_signal_rel(df_fc, ticker)\n",
    "# plot_regime_rel(df_fc, ticker)"
   ]
  },
  {
   "cell_type": "code",
   "execution_count": 19,
   "id": "9cf64b40-df77-4833-9bce-90af7e61548b",
   "metadata": {
    "execution": {
     "iopub.execute_input": "2025-01-07T18:02:41.752304Z",
     "iopub.status.busy": "2025-01-07T18:02:41.751836Z",
     "iopub.status.idle": "2025-01-07T18:02:41.754767Z",
     "shell.execute_reply": "2025-01-07T18:02:41.754124Z"
    },
    "papermill": {
     "duration": 0.008864,
     "end_time": "2025-01-07T18:02:41.755777",
     "exception": false,
     "start_time": "2025-01-07T18:02:41.746913",
     "status": "completed"
    },
    "tags": []
   },
   "outputs": [],
   "source": [
    "# df_fc = df_fc.set_index('date')\n",
    "# df_fc[['rclose','rh3','rl3']].plot(\n",
    "#     style=['grey', 'rv', 'g^'],\n",
    "#     figsize=(20,5),grid=True, title = str.upper(ticker))\n",
    "# plt.show()"
   ]
  },
  {
   "cell_type": "code",
   "execution_count": 20,
   "id": "55b947a3-a443-4f1d-8af1-8b0fd4063658",
   "metadata": {
    "execution": {
     "iopub.execute_input": "2025-01-07T18:02:41.765472Z",
     "iopub.status.busy": "2025-01-07T18:02:41.765076Z",
     "iopub.status.idle": "2025-01-07T18:02:41.767807Z",
     "shell.execute_reply": "2025-01-07T18:02:41.767266Z"
    },
    "papermill": {
     "duration": 0.008725,
     "end_time": "2025-01-07T18:02:41.768828",
     "exception": false,
     "start_time": "2025-01-07T18:02:41.760103",
     "status": "completed"
    },
    "tags": []
   },
   "outputs": [],
   "source": [
    "# df_fc[['close','hi3','lo3','rclose','rh3','rl3']].plot(\n",
    "#     style=['grey','rv', 'g^','k:','mv','b^'],\n",
    "#             figsize=(20,5),grid=True, title = str.upper(ticker)+' vs '+str.upper(bm_col))\n",
    "# plt.show()"
   ]
  },
  {
   "cell_type": "code",
   "execution_count": 21,
   "id": "e752610e-3ce2-4599-a425-6b1a9e345a6e",
   "metadata": {
    "execution": {
     "iopub.execute_input": "2025-01-07T18:02:41.778574Z",
     "iopub.status.busy": "2025-01-07T18:02:41.778298Z",
     "iopub.status.idle": "2025-01-07T18:02:41.781252Z",
     "shell.execute_reply": "2025-01-07T18:02:41.780703Z"
    },
    "papermill": {
     "duration": 0.009152,
     "end_time": "2025-01-07T18:02:41.782411",
     "exception": false,
     "start_time": "2025-01-07T18:02:41.773259",
     "status": "completed"
    },
    "tags": []
   },
   "outputs": [],
   "source": [
    "# df_fc[['rclose','rh3', 'rl3','rclg','rflr','rrg_ch','rrg']].plot(style=['grey', 'ro', 'go', 'kv', 'k^','c:','y-.'], \n",
    "#                         secondary_y= ['rrg'],figsize=(20,5),grid=True, title = str.upper(ticker))\n",
    "# plt.show()"
   ]
  }
 ],
 "metadata": {
  "kernelspec": {
   "display_name": "Python 3 (ipykernel)",
   "language": "python",
   "name": "python3"
  },
  "language_info": {
   "codemirror_mode": {
    "name": "ipython",
    "version": 3
   },
   "file_extension": ".py",
   "mimetype": "text/x-python",
   "name": "python",
   "nbconvert_exporter": "python",
   "pygments_lexer": "ipython3",
   "version": "3.8.18"
  },
  "papermill": {
   "default_parameters": {},
   "duration": 3.014809,
   "end_time": "2025-01-07T18:02:42.103264",
   "environment_variables": {},
   "exception": null,
   "input_path": "template.ipynb",
   "output_path": "EXEC.MI_output.ipynb",
   "parameters": {
    "path_to_file": "data/EXEC.MI.xlsx"
   },
   "start_time": "2025-01-07T18:02:39.088455",
   "version": "2.6.0"
  }
 },
 "nbformat": 4,
 "nbformat_minor": 5
}