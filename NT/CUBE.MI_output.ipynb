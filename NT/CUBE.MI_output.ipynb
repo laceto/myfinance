{
 "cells": [
  {
   "cell_type": "code",
   "execution_count": 1,
   "id": "efc14b5a",
   "metadata": {
    "execution": {
     "iopub.execute_input": "2025-01-07T17:49:48.129173Z",
     "iopub.status.busy": "2025-01-07T17:49:48.128485Z",
     "iopub.status.idle": "2025-01-07T17:49:48.135417Z",
     "shell.execute_reply": "2025-01-07T17:49:48.134762Z"
    },
    "papermill": {
     "duration": 0.013062,
     "end_time": "2025-01-07T17:49:48.136697",
     "exception": false,
     "start_time": "2025-01-07T17:49:48.123635",
     "status": "completed"
    },
    "tags": [
     "injected-parameters"
    ]
   },
   "outputs": [],
   "source": [
    "# Parameters\n",
    "path_to_file = \"data/CUBE.MI.xlsx\"\n"
   ]
  },
  {
   "cell_type": "code",
   "execution_count": 2,
   "id": "5efbf512-053b-4bce-9f68-c0b07e257aec",
   "metadata": {
    "execution": {
     "iopub.execute_input": "2025-01-07T17:49:48.145113Z",
     "iopub.status.busy": "2025-01-07T17:49:48.144635Z",
     "iopub.status.idle": "2025-01-07T17:49:48.495561Z",
     "shell.execute_reply": "2025-01-07T17:49:48.494818Z"
    },
    "papermill": {
     "duration": 0.356325,
     "end_time": "2025-01-07T17:49:48.496758",
     "exception": false,
     "start_time": "2025-01-07T17:49:48.140433",
     "status": "completed"
    },
    "tags": []
   },
   "outputs": [
    {
     "name": "stdout",
     "output_type": "stream",
     "text": [
      "Current working directory: /home/runner/work/myfinance/myfinance/NT\n",
      "New current working directory: /home/runner/work/myfinance/myfinance\n"
     ]
    },
    {
     "data": {
      "text/plain": [
       "2"
      ]
     },
     "execution_count": 2,
     "metadata": {},
     "output_type": "execute_result"
    }
   ],
   "source": [
    "import os  \n",
    "import sys  \n",
    "import pandas as pd\n",
    "import openpyxl\n",
    "# import papermill as pm  \n",
    "\n",
    "# get the current working directory  \n",
    "cwd = os.getcwd()  \n",
    "print(\"Current working directory:\", cwd)  \n",
    "  \n",
    "# change the current working directory to one level up  \n",
    "os.chdir(\"..\")  \n",
    "  \n",
    "# get the new current working directory  \n",
    "new_cwd = os.getcwd()  \n",
    "print(\"New current working directory:\", new_cwd) \n",
    "\n",
    "1+1"
   ]
  },
  {
   "cell_type": "code",
   "execution_count": 3,
   "id": "a244e996-b5d1-4551-8a00-065f1f64e197",
   "metadata": {
    "execution": {
     "iopub.execute_input": "2025-01-07T17:49:48.505266Z",
     "iopub.status.busy": "2025-01-07T17:49:48.504709Z",
     "iopub.status.idle": "2025-01-07T17:49:49.075527Z",
     "shell.execute_reply": "2025-01-07T17:49:49.074890Z"
    },
    "papermill": {
     "duration": 0.576367,
     "end_time": "2025-01-07T17:49:49.076889",
     "exception": false,
     "start_time": "2025-01-07T17:49:48.500522",
     "status": "completed"
    },
    "tags": []
   },
   "outputs": [],
   "source": [
    "# add the 'data' folder to the system path  \n",
    "sys.path.append(os.path.abspath(\"data\"))\n",
    "from relative import *\n",
    "from AT_funs import *\n",
    "\n"
   ]
  },
  {
   "cell_type": "code",
   "execution_count": 4,
   "id": "c10e57be-9edb-48b2-a7c7-4d446f107612",
   "metadata": {
    "execution": {
     "iopub.execute_input": "2025-01-07T17:49:49.085555Z",
     "iopub.status.busy": "2025-01-07T17:49:49.085031Z",
     "iopub.status.idle": "2025-01-07T17:49:49.088667Z",
     "shell.execute_reply": "2025-01-07T17:49:49.088080Z"
    },
    "papermill": {
     "duration": 0.009025,
     "end_time": "2025-01-07T17:49:49.089716",
     "exception": false,
     "start_time": "2025-01-07T17:49:49.080691",
     "status": "completed"
    },
    "tags": []
   },
   "outputs": [],
   "source": [
    "# # Get the path of the Excel file from the command line argument  \n",
    "# # filename = sys.argv[1]  \n",
    "# filename = 'data/A2A.MI.xlsx'\n",
    "# df = read_xlsx(filename)\n",
    "# ticker = filename.replace('xlsx', '')\n",
    "# # ticker = ' '\n",
    "# # df\n",
    "# filename_bm = 'data/FTSEMIB.MI.xlsx'\n",
    "# bm_df = read_xlsx(filename_bm)\n",
    "# bm_name = filename_bm.replace('xlsx', '')"
   ]
  },
  {
   "cell_type": "code",
   "execution_count": 5,
   "id": "bf256f3b-01c5-4716-92f2-41c8148bb68b",
   "metadata": {
    "execution": {
     "iopub.execute_input": "2025-01-07T17:49:49.097753Z",
     "iopub.status.busy": "2025-01-07T17:49:49.097294Z",
     "iopub.status.idle": "2025-01-07T17:49:49.100463Z",
     "shell.execute_reply": "2025-01-07T17:49:49.099786Z"
    },
    "papermill": {
     "duration": 0.008241,
     "end_time": "2025-01-07T17:49:49.101491",
     "exception": false,
     "start_time": "2025-01-07T17:49:49.093250",
     "status": "completed"
    },
    "tags": []
   },
   "outputs": [],
   "source": [
    "# plot_abs_rel(df, ticker, bm_df, bm_name)"
   ]
  },
  {
   "cell_type": "code",
   "execution_count": 6,
   "id": "0b660f54-a39b-498e-8eb8-bf81c034988f",
   "metadata": {
    "execution": {
     "iopub.execute_input": "2025-01-07T17:49:49.109248Z",
     "iopub.status.busy": "2025-01-07T17:49:49.108879Z",
     "iopub.status.idle": "2025-01-07T17:49:49.458348Z",
     "shell.execute_reply": "2025-01-07T17:49:49.457560Z"
    },
    "papermill": {
     "duration": 0.354955,
     "end_time": "2025-01-07T17:49:49.459848",
     "exception": false,
     "start_time": "2025-01-07T17:49:49.104893",
     "status": "completed"
    },
    "tags": []
   },
   "outputs": [],
   "source": [
    "# Parameters  \n",
    "# path_to_file: str - the path to the input file  \n",
    "  \n",
    "filename = path_to_file\n",
    "df = read_xlsx(filename)\n",
    "ticker = filename.replace('xlsx', '')\n",
    "# ticker = ' '\n",
    "# df\n",
    "filename_bm = 'data/FTSEMIB.MI.xlsx'\n",
    "bm_df = read_xlsx(filename_bm)\n",
    "bm_name = filename_bm.replace('xlsx', '')"
   ]
  },
  {
   "cell_type": "code",
   "execution_count": 7,
   "id": "55b83496-eb02-490d-aef2-62a6aa478e6e",
   "metadata": {
    "execution": {
     "iopub.execute_input": "2025-01-07T17:49:49.468725Z",
     "iopub.status.busy": "2025-01-07T17:49:49.468207Z",
     "iopub.status.idle": "2025-01-07T17:49:49.752562Z",
     "shell.execute_reply": "2025-01-07T17:49:49.751800Z"
    },
    "papermill": {
     "duration": 0.290145,
     "end_time": "2025-01-07T17:49:49.753776",
     "exception": false,
     "start_time": "2025-01-07T17:49:49.463631",
     "status": "completed"
    },
    "tags": []
   },
   "outputs": [
    {
     "data": {
      "image/png": "[encoded data removed]",
      "text/plain": [
       "<Figure size 2000x800 with 1 Axes>"
      ]
     },
     "metadata": {},
     "output_type": "display_data"
    }
   ],
   "source": [
    "plot_abs_rel(df, ticker, bm_df, bm_name)"
   ]
  },
  {
   "cell_type": "code",
   "execution_count": 8,
   "id": "ede37904-5bbb-418d-9059-699d76bbf0a3",
   "metadata": {
    "execution": {
     "iopub.execute_input": "2025-01-07T17:49:49.764653Z",
     "iopub.status.busy": "2025-01-07T17:49:49.763881Z",
     "iopub.status.idle": "2025-01-07T17:49:49.767244Z",
     "shell.execute_reply": "2025-01-07T17:49:49.766686Z"
    },
    "papermill": {
     "duration": 0.009831,
     "end_time": "2025-01-07T17:49:49.768378",
     "exception": false,
     "start_time": "2025-01-07T17:49:49.758547",
     "status": "completed"
    },
    "tags": []
   },
   "outputs": [],
   "source": [
    "# window_bo = 100\n",
    "# fast = 20\n",
    "# slow = 50\n",
    "# st = 50\n",
    "# mt = 100\n",
    "# lt = 150\n",
    "# lvl = 3\n",
    "# bm_col = 'close'\n",
    "# dgt = 5\n",
    "# window_exp = 100\n",
    "# starting_capital = 100000\n",
    "# lot = 100\n",
    "# mn = -0.0025\n",
    "# mx = -0.0075\n",
    "# # avg = (mn + mx) / 2\n",
    "# tolerance= -0.1\n",
    "# equal_weight = 0.05\n",
    "# span= 5\n",
    "# fx = 1"
   ]
  },
  {
   "cell_type": "code",
   "execution_count": 9,
   "id": "acc836f8-1d67-4cd8-a34f-54476972ed30",
   "metadata": {
    "execution": {
     "iopub.execute_input": "2025-01-07T17:49:49.779571Z",
     "iopub.status.busy": "2025-01-07T17:49:49.779015Z",
     "iopub.status.idle": "2025-01-07T17:49:49.782138Z",
     "shell.execute_reply": "2025-01-07T17:49:49.781582Z"
    },
    "papermill": {
     "duration": 0.009994,
     "end_time": "2025-01-07T17:49:49.783176",
     "exception": false,
     "start_time": "2025-01-07T17:49:49.773182",
     "status": "completed"
    },
    "tags": []
   },
   "outputs": [],
   "source": [
    "# ohlc = ['open','high','low','close']\n",
    "# _o,_h,_l,_c = [ohlc[h] for h in range(len(ohlc))]\n",
    "# ticker = df['ticker'][0]\n",
    "\n",
    "# df = relative(df,_o,_h,_l,_c, bm_df, bm_col, dgt, rebase=True)\n",
    "# df = df.set_index('date')\n",
    "\n",
    "# df_bo = signal_rbo(df, window_bo, relative=True)\n",
    "# df_tt = signal_rtt(df, fast = fast, slow = slow, relative=True)\n",
    "# df_ema = signal_rema(df, st, mt, lt, relative=True)\n",
    "# df_sma = signal_rsma(df, st, mt, lt, relative=True)\n",
    "# df_fc = detect_regime(df, bm_df)"
   ]
  },
  {
   "cell_type": "code",
   "execution_count": 10,
   "id": "0ce95c8f-d951-49c3-a01d-2d1383f76814",
   "metadata": {
    "execution": {
     "iopub.execute_input": "2025-01-07T17:49:49.793614Z",
     "iopub.status.busy": "2025-01-07T17:49:49.793071Z",
     "iopub.status.idle": "2025-01-07T17:49:49.796386Z",
     "shell.execute_reply": "2025-01-07T17:49:49.795830Z"
    },
    "papermill": {
     "duration": 0.009844,
     "end_time": "2025-01-07T17:49:49.797457",
     "exception": false,
     "start_time": "2025-01-07T17:49:49.787613",
     "status": "completed"
    },
    "tags": []
   },
   "outputs": [],
   "source": [
    "# def plot_signal_bo(df, window, ticker, relative):\n",
    "\n",
    "#     _o,_h,_l,_c = lower_upper_OHLC(df,relative = relative)\n",
    "    \n",
    "#     prefix_h = 'hi_'\n",
    "#     prefix_l = 'lo_'\n",
    "#     prefix_bo = 'bo_'\n",
    "#     close = 'close'\n",
    "#     if relative:\n",
    "#         prefix_h = 'rhi_'\n",
    "#         prefix_l = 'rlo_'\n",
    "#         prefix_bo = 'rbo_'  \n",
    "#         close = 'rclose'\n",
    "        \n",
    "#     # df = df.set_index('date')\n",
    "#     df[[close, prefix_h + str(window), prefix_l + str(window), prefix_bo + str(window)]].plot(\n",
    "#         secondary_y= [prefix_bo + str(window)], figsize=(20,5), style=['k','g:','r:','b-.'], \n",
    "#         title = str.upper(ticker)+' '+str(window) +' days high/low')\n",
    "#     plt.show()"
   ]
  },
  {
   "cell_type": "code",
   "execution_count": 11,
   "id": "f1bc238d-36fa-4da1-9257-c78a3d090c85",
   "metadata": {
    "execution": {
     "iopub.execute_input": "2025-01-07T17:49:49.807246Z",
     "iopub.status.busy": "2025-01-07T17:49:49.806800Z",
     "iopub.status.idle": "2025-01-07T17:49:49.809993Z",
     "shell.execute_reply": "2025-01-07T17:49:49.809301Z"
    },
    "papermill": {
     "duration": 0.009082,
     "end_time": "2025-01-07T17:49:49.810993",
     "exception": false,
     "start_time": "2025-01-07T17:49:49.801911",
     "status": "completed"
    },
    "tags": []
   },
   "outputs": [],
   "source": [
    "# plot_signal_bo(df_bo, window_bo, ticker, relative = True)"
   ]
  },
  {
   "cell_type": "code",
   "execution_count": 12,
   "id": "b968e4d7-7e1f-46a0-9612-89d603a2c925",
   "metadata": {
    "execution": {
     "iopub.execute_input": "2025-01-07T17:49:49.820892Z",
     "iopub.status.busy": "2025-01-07T17:49:49.820385Z",
     "iopub.status.idle": "2025-01-07T17:49:49.823748Z",
     "shell.execute_reply": "2025-01-07T17:49:49.823061Z"
    },
    "papermill": {
     "duration": 0.009549,
     "end_time": "2025-01-07T17:49:49.824954",
     "exception": false,
     "start_time": "2025-01-07T17:49:49.815405",
     "status": "completed"
    },
    "tags": []
   },
   "outputs": [],
   "source": [
    "# def plot_signal_tt(df, fast, slow, relative):\n",
    "\n",
    "#     close = 'close'\n",
    "#     tt = 'tt_'\n",
    "#     if relative:\n",
    "#         close = 'rclose'\n",
    "#         tt = 'rtt_'\n",
    "    \n",
    "#     rg_cols = [tt + str(slow)+str(fast)]\n",
    "\n",
    "#     df[[close, tt+ str(slow)+str(fast)] ].plot(\n",
    "#         secondary_y= rg_cols,figsize=(20,5), style=['k','b-.'], \n",
    "#         title = str.upper('')+' '+str(rg_cols))\n",
    "#     plt.show()  "
   ]
  },
  {
   "cell_type": "code",
   "execution_count": 13,
   "id": "087d9ad6-8115-4c8f-9750-8f47a8c7d4c3",
   "metadata": {
    "execution": {
     "iopub.execute_input": "2025-01-07T17:49:49.834900Z",
     "iopub.status.busy": "2025-01-07T17:49:49.834612Z",
     "iopub.status.idle": "2025-01-07T17:49:49.837735Z",
     "shell.execute_reply": "2025-01-07T17:49:49.837175Z"
    },
    "papermill": {
     "duration": 0.0093,
     "end_time": "2025-01-07T17:49:49.838724",
     "exception": false,
     "start_time": "2025-01-07T17:49:49.829424",
     "status": "completed"
    },
    "tags": []
   },
   "outputs": [],
   "source": [
    "# plot_signal_tt(df_tt, fast, slow, relative = True)"
   ]
  },
  {
   "cell_type": "code",
   "execution_count": 14,
   "id": "541bbbe1-ac4a-44db-8812-68151fb35260",
   "metadata": {
    "execution": {
     "iopub.execute_input": "2025-01-07T17:49:49.848403Z",
     "iopub.status.busy": "2025-01-07T17:49:49.848005Z",
     "iopub.status.idle": "2025-01-07T17:49:49.851257Z",
     "shell.execute_reply": "2025-01-07T17:49:49.850575Z"
    },
    "papermill": {
     "duration": 0.009139,
     "end_time": "2025-01-07T17:49:49.852196",
     "exception": false,
     "start_time": "2025-01-07T17:49:49.843057",
     "status": "completed"
    },
    "tags": []
   },
   "outputs": [],
   "source": [
    "# def plot_signal_sma(df, st, mt, lt, relative):\n",
    "\n",
    "#     close = 'close'\n",
    "#     sma = 'sma_'\n",
    "#     ema = 'ema_'\n",
    "#     if relative:\n",
    "#         close = 'rclose'\n",
    "#         sma = 'rsma_'\n",
    "#         ema = 'rema_'\n",
    "\n",
    "#     df[[close,sma+ str(st) + str(mt) + str(lt)] ].plot(\n",
    "#         secondary_y= sma+ str(st) + str(mt) + str(lt),figsize=(20,5), style=['k','b-.'], \n",
    "#         title = str.upper('')+' '+str([sma+ str(st) + str(mt) + str(lt)]))\n",
    "        \n",
    "#     plt.show() "
   ]
  },
  {
   "cell_type": "code",
   "execution_count": 15,
   "id": "2be5be52-9c5a-4311-ac47-4538d580da77",
   "metadata": {
    "execution": {
     "iopub.execute_input": "2025-01-07T17:49:49.861762Z",
     "iopub.status.busy": "2025-01-07T17:49:49.861383Z",
     "iopub.status.idle": "2025-01-07T17:49:49.864400Z",
     "shell.execute_reply": "2025-01-07T17:49:49.863725Z"
    },
    "papermill": {
     "duration": 0.008817,
     "end_time": "2025-01-07T17:49:49.865385",
     "exception": false,
     "start_time": "2025-01-07T17:49:49.856568",
     "status": "completed"
    },
    "tags": []
   },
   "outputs": [],
   "source": [
    "# plot_signal_sma(df_sma, st, mt, lt, relative = True)"
   ]
  },
  {
   "cell_type": "code",
   "execution_count": 16,
   "id": "307b943a-cb79-4140-ad91-2fa62aaccdc2",
   "metadata": {
    "execution": {
     "iopub.execute_input": "2025-01-07T17:49:49.875615Z",
     "iopub.status.busy": "2025-01-07T17:49:49.875072Z",
     "iopub.status.idle": "2025-01-07T17:49:49.878410Z",
     "shell.execute_reply": "2025-01-07T17:49:49.877854Z"
    },
    "papermill": {
     "duration": 0.009533,
     "end_time": "2025-01-07T17:49:49.879413",
     "exception": false,
     "start_time": "2025-01-07T17:49:49.869880",
     "status": "completed"
    },
    "tags": []
   },
   "outputs": [],
   "source": [
    "# def plot_signal_ema(df, st, mt, lt, relative):\n",
    "\n",
    "#     close = 'close'\n",
    "#     sma = 'sma_'\n",
    "#     ema = 'ema_'\n",
    "#     if relative:\n",
    "#         close = 'rclose'\n",
    "#         sma = 'rsma_'\n",
    "#         ema = 'rema_'\n",
    "    \n",
    "#     df[[close,ema+ str(st) + str(mt) + str(lt)] ].plot(\n",
    "#         secondary_y= ema+ str(st) + str(mt) + str(lt),figsize=(20,5), style=['k','b-.'], \n",
    "#         title = str.upper('')+' '+str([ema+ str(st) + str(mt) + str(lt)]))\n",
    "        \n",
    "#     plt.show() "
   ]
  },
  {
   "cell_type": "code",
   "execution_count": 17,
   "id": "43356d36-8b62-4341-a736-8103de9a98db",
   "metadata": {
    "execution": {
     "iopub.execute_input": "2025-01-07T17:49:49.889569Z",
     "iopub.status.busy": "2025-01-07T17:49:49.889013Z",
     "iopub.status.idle": "2025-01-07T17:49:49.892552Z",
     "shell.execute_reply": "2025-01-07T17:49:49.891852Z"
    },
    "papermill": {
     "duration": 0.009729,
     "end_time": "2025-01-07T17:49:49.893541",
     "exception": false,
     "start_time": "2025-01-07T17:49:49.883812",
     "status": "completed"
    },
    "tags": []
   },
   "outputs": [],
   "source": [
    "# plot_signal_ema(df_ema, st, mt, lt, relative = True)"
   ]
  },
  {
   "cell_type": "code",
   "execution_count": 18,
   "id": "2ac0e513-acb4-4f99-8418-9208c68b1a20",
   "metadata": {
    "execution": {
     "iopub.execute_input": "2025-01-07T17:49:49.903587Z",
     "iopub.status.busy": "2025-01-07T17:49:49.903140Z",
     "iopub.status.idle": "2025-01-07T17:49:49.906335Z",
     "shell.execute_reply": "2025-01-07T17:49:49.905650Z"
    },
    "papermill": {
     "duration": 0.009196,
     "end_time": "2025-01-07T17:49:49.907316",
     "exception": false,
     "start_time": "2025-01-07T17:49:49.898120",
     "status": "completed"
    },
    "tags": []
   },
   "outputs": [],
   "source": [
    "# plot_signal_rel(df_fc, ticker)\n",
    "# plot_regime_rel(df_fc, ticker)"
   ]
  },
  {
   "cell_type": "code",
   "execution_count": 19,
   "id": "9cf64b40-df77-4833-9bce-90af7e61548b",
   "metadata": {
    "execution": {
     "iopub.execute_input": "2025-01-07T17:49:49.917443Z",
     "iopub.status.busy": "2025-01-07T17:49:49.916949Z",
     "iopub.status.idle": "2025-01-07T17:49:49.920221Z",
     "shell.execute_reply": "2025-01-07T17:49:49.919628Z"
    },
    "papermill": {
     "duration": 0.009603,
     "end_time": "2025-01-07T17:49:49.921302",
     "exception": false,
     "start_time": "2025-01-07T17:49:49.911699",
     "status": "completed"
    },
    "tags": []
   },
   "outputs": [],
   "source": [
    "# df_fc = df_fc.set_index('date')\n",
    "# df_fc[['rclose','rh3','rl3']].plot(\n",
    "#     style=['grey', 'rv', 'g^'],\n",
    "#     figsize=(20,5),grid=True, title = str.upper(ticker))\n",
    "# plt.show()"
   ]
  },
  {
   "cell_type": "code",
   "execution_count": 20,
   "id": "55b947a3-a443-4f1d-8af1-8b0fd4063658",
   "metadata": {
    "execution": {
     "iopub.execute_input": "2025-01-07T17:49:49.931662Z",
     "iopub.status.busy": "2025-01-07T17:49:49.931047Z",
     "iopub.status.idle": "2025-01-07T17:49:49.934395Z",
     "shell.execute_reply": "2025-01-07T17:49:49.933815Z"
    },
    "papermill": {
     "duration": 0.009617,
     "end_time": "2025-01-07T17:49:49.935433",
     "exception": false,
     "start_time": "2025-01-07T17:49:49.925816",
     "status": "completed"
    },
    "tags": []
   },
   "outputs": [],
   "source": [
    "# df_fc[['close','hi3','lo3','rclose','rh3','rl3']].plot(\n",
    "#     style=['grey','rv', 'g^','k:','mv','b^'],\n",
    "#             figsize=(20,5),grid=True, title = str.upper(ticker)+' vs '+str.upper(bm_col))\n",
    "# plt.show()"
   ]
  },
  {
   "cell_type": "code",
   "execution_count": 21,
   "id": "e752610e-3ce2-4599-a425-6b1a9e345a6e",
   "metadata": {
    "execution": {
     "iopub.execute_input": "2025-01-07T17:49:49.945253Z",
     "iopub.status.busy": "2025-01-07T17:49:49.944962Z",
     "iopub.status.idle": "2025-01-07T17:49:49.948195Z",
     "shell.execute_reply": "2025-01-07T17:49:49.947584Z"
    },
    "papermill": {
     "duration": 0.009291,
     "end_time": "2025-01-07T17:49:49.949164",
     "exception": false,
     "start_time": "2025-01-07T17:49:49.939873",
     "status": "completed"
    },
    "tags": []
   },
   "outputs": [],
   "source": [
    "# df_fc[['rclose','rh3', 'rl3','rclg','rflr','rrg_ch','rrg']].plot(style=['grey', 'ro', 'go', 'kv', 'k^','c:','y-.'], \n",
    "#                         secondary_y= ['rrg'],figsize=(20,5),grid=True, title = str.upper(ticker))\n",
    "# plt.show()"
   ]
  }
 ],
 "metadata": {
  "kernelspec": {
   "display_name": "Python 3 (ipykernel)",
   "language": "python",
   "name": "python3"
  },
  "language_info": {
   "codemirror_mode": {
    "name": "ipython",
    "version": 3
   },
   "file_extension": ".py",
   "mimetype": "text/x-python",
   "name": "python",
   "nbconvert_exporter": "python",
   "pygments_lexer": "ipython3",
   "version": "3.8.18"
  },
  "papermill": {
   "default_parameters": {},
   "duration": 3.103164,
   "end_time": "2025-01-07T17:49:50.370015",
   "environment_variables": {},
   "exception": null,
   "input_path": "template.ipynb",
   "output_path": "CUBE.MI_output.ipynb",
   "parameters": {
    "path_to_file": "data/CUBE.MI.xlsx"
   },
   "start_time": "2025-01-07T17:49:47.266851",
   "version": "2.6.0"
  }
 },
 "nbformat": 4,
 "nbformat_minor": 5
}