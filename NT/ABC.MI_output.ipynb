{
 "cells": [
  {
   "cell_type": "code",
   "execution_count": 1,
   "id": "8aa6d480",
   "metadata": {
    "execution": {
     "iopub.execute_input": "2025-01-07T16:38:56.077215Z",
     "iopub.status.busy": "2025-01-07T16:38:56.077215Z",
     "iopub.status.idle": "2025-01-07T16:38:56.089125Z",
     "shell.execute_reply": "2025-01-07T16:38:56.088128Z"
    },
    "papermill": {
     "duration": 0.017881,
     "end_time": "2025-01-07T16:38:56.090122",
     "exception": false,
     "start_time": "2025-01-07T16:38:56.072241",
     "status": "completed"
    },
    "tags": [
     "injected-parameters"
    ]
   },
   "outputs": [],
   "source": [
    "# Parameters\n",
    "path_to_file = \"data/ABC.MI.xlsx\"\n"
   ]
  },
  {
   "cell_type": "code",
   "execution_count": 2,
   "id": "5efbf512-053b-4bce-9f68-c0b07e257aec",
   "metadata": {
    "execution": {
     "iopub.execute_input": "2025-01-07T16:38:56.101155Z",
     "iopub.status.busy": "2025-01-07T16:38:56.100147Z",
     "iopub.status.idle": "2025-01-07T16:38:56.804776Z",
     "shell.execute_reply": "2025-01-07T16:38:56.803813Z"
    },
    "papermill": {
     "duration": 0.711642,
     "end_time": "2025-01-07T16:38:56.805802",
     "exception": false,
     "start_time": "2025-01-07T16:38:56.094160",
     "status": "completed"
    },
    "tags": []
   },
   "outputs": [
    {
     "name": "stdout",
     "output_type": "stream",
     "text": [
      "Current working directory: C:\\Users\\laceto\\OneDrive - Gen Re AzureAD\\Desktop\\lavoro\\Personal projects\\finance\\myfinance 20240708\\NT\n",
      "New current working directory: C:\\Users\\laceto\\OneDrive - Gen Re AzureAD\\Desktop\\lavoro\\Personal projects\\finance\\myfinance 20240708\n"
     ]
    },
    {
     "data": {
      "text/plain": [
       "2"
      ]
     },
     "execution_count": 2,
     "metadata": {},
     "output_type": "execute_result"
    }
   ],
   "source": [
    "import os  \n",
    "import sys  \n",
    "import pandas as pd\n",
    "import openpyxl\n",
    "# import papermill as pm  \n",
    "\n",
    "# get the current working directory  \n",
    "cwd = os.getcwd()  \n",
    "print(\"Current working directory:\", cwd)  \n",
    "  \n",
    "# change the current working directory to one level up  \n",
    "os.chdir(\"..\")  \n",
    "  \n",
    "# get the new current working directory  \n",
    "new_cwd = os.getcwd()  \n",
    "print(\"New current working directory:\", new_cwd) \n",
    "\n",
    "1+1"
   ]
  },
  {
   "cell_type": "code",
   "execution_count": 3,
   "id": "a244e996-b5d1-4551-8a00-065f1f64e197",
   "metadata": {
    "execution": {
     "iopub.execute_input": "2025-01-07T16:38:56.814720Z",
     "iopub.status.busy": "2025-01-07T16:38:56.814720Z",
     "iopub.status.idle": "2025-01-07T16:38:57.629707Z",
     "shell.execute_reply": "2025-01-07T16:38:57.628724Z"
    },
    "papermill": {
     "duration": 0.820922,
     "end_time": "2025-01-07T16:38:57.630701",
     "exception": false,
     "start_time": "2025-01-07T16:38:56.809779",
     "status": "completed"
    },
    "tags": []
   },
   "outputs": [],
   "source": [
    "# add the 'data' folder to the system path  \n",
    "sys.path.append(os.path.abspath(\"data\"))\n",
    "from relative import *\n",
    "from AT_funs import *\n",
    "\n"
   ]
  },
  {
   "cell_type": "code",
   "execution_count": 4,
   "id": "c10e57be-9edb-48b2-a7c7-4d446f107612",
   "metadata": {
    "execution": {
     "iopub.execute_input": "2025-01-07T16:38:57.640676Z",
     "iopub.status.busy": "2025-01-07T16:38:57.640676Z",
     "iopub.status.idle": "2025-01-07T16:38:57.659630Z",
     "shell.execute_reply": "2025-01-07T16:38:57.658645Z"
    },
    "papermill": {
     "duration": 0.025902,
     "end_time": "2025-01-07T16:38:57.661603",
     "exception": false,
     "start_time": "2025-01-07T16:38:57.635701",
     "status": "completed"
    },
    "tags": []
   },
   "outputs": [],
   "source": [
    "# # Get the path of the Excel file from the command line argument  \n",
    "# # filename = sys.argv[1]  \n",
    "# filename = 'data/A2A.MI.xlsx'\n",
    "# df = read_xlsx(filename)\n",
    "# ticker = filename.replace('xlsx', '')\n",
    "# # ticker = ' '\n",
    "# # df\n",
    "# filename_bm = 'data/FTSEMIB.MI.xlsx'\n",
    "# bm_df = read_xlsx(filename_bm)\n",
    "# bm_name = filename_bm.replace('xlsx', '')"
   ]
  },
  {
   "cell_type": "code",
   "execution_count": 5,
   "id": "bf256f3b-01c5-4716-92f2-41c8148bb68b",
   "metadata": {
    "execution": {
     "iopub.execute_input": "2025-01-07T16:38:57.669605Z",
     "iopub.status.busy": "2025-01-07T16:38:57.669605Z",
     "iopub.status.idle": "2025-01-07T16:38:57.675508Z",
     "shell.execute_reply": "2025-01-07T16:38:57.674513Z"
    },
    "papermill": {
     "duration": 0.010964,
     "end_time": "2025-01-07T16:38:57.675508",
     "exception": false,
     "start_time": "2025-01-07T16:38:57.664544",
     "status": "completed"
    },
    "tags": []
   },
   "outputs": [],
   "source": [
    "# plot_abs_rel(df, ticker, bm_df, bm_name)"
   ]
  },
  {
   "cell_type": "code",
   "execution_count": 6,
   "id": "0b660f54-a39b-498e-8eb8-bf81c034988f",
   "metadata": {
    "execution": {
     "iopub.execute_input": "2025-01-07T16:38:57.683481Z",
     "iopub.status.busy": "2025-01-07T16:38:57.683481Z",
     "iopub.status.idle": "2025-01-07T16:38:57.980484Z",
     "shell.execute_reply": "2025-01-07T16:38:57.979566Z"
    },
    "papermill": {
     "duration": 0.302983,
     "end_time": "2025-01-07T16:38:57.982477",
     "exception": false,
     "start_time": "2025-01-07T16:38:57.679494",
     "status": "completed"
    },
    "tags": []
   },
   "outputs": [],
   "source": [
    "# Parameters  \n",
    "# path_to_file: str - the path to the input file  \n",
    "  \n",
    "filename = path_to_file\n",
    "df = read_xlsx(filename)\n",
    "ticker = filename.replace('xlsx', '')\n",
    "# ticker = ' '\n",
    "# df\n",
    "filename_bm = 'data/FTSEMIB.MI.xlsx'\n",
    "bm_df = read_xlsx(filename_bm)\n",
    "bm_name = filename_bm.replace('xlsx', '')"
   ]
  },
  {
   "cell_type": "code",
   "execution_count": 7,
   "id": "55b83496-eb02-490d-aef2-62a6aa478e6e",
   "metadata": {
    "execution": {
     "iopub.execute_input": "2025-01-07T16:38:57.994510Z",
     "iopub.status.busy": "2025-01-07T16:38:57.993501Z",
     "iopub.status.idle": "2025-01-07T16:38:58.180883Z",
     "shell.execute_reply": "2025-01-07T16:38:58.180883Z"
    },
    "papermill": {
     "duration": 0.194401,
     "end_time": "2025-01-07T16:38:58.181917",
     "exception": false,
     "start_time": "2025-01-07T16:38:57.987516",
     "status": "completed"
    },
    "tags": []
   },
   "outputs": [
    {
     "data": {
      "image/png": "[encoded data removed]",
      "text/plain": [
       "<Figure size 2000x800 with 1 Axes>"
      ]
     },
     "metadata": {},
     "output_type": "display_data"
    }
   ],
   "source": [
    "plot_abs_rel(df, ticker, bm_df, bm_name)"
   ]
  },
  {
   "cell_type": "code",
   "execution_count": 8,
   "id": "ede37904-5bbb-418d-9059-699d76bbf0a3",
   "metadata": {
    "execution": {
     "iopub.execute_input": "2025-01-07T16:38:58.192855Z",
     "iopub.status.busy": "2025-01-07T16:38:58.192855Z",
     "iopub.status.idle": "2025-01-07T16:38:58.210785Z",
     "shell.execute_reply": "2025-01-07T16:38:58.210785Z"
    },
    "papermill": {
     "duration": 0.025907,
     "end_time": "2025-01-07T16:38:58.212774",
     "exception": false,
     "start_time": "2025-01-07T16:38:58.186867",
     "status": "completed"
    },
    "tags": []
   },
   "outputs": [],
   "source": [
    "# window_bo = 100\n",
    "# fast = 20\n",
    "# slow = 50\n",
    "# st = 50\n",
    "# mt = 100\n",
    "# lt = 150\n",
    "# lvl = 3\n",
    "# bm_col = 'close'\n",
    "# dgt = 5\n",
    "# window_exp = 100\n",
    "# starting_capital = 100000\n",
    "# lot = 100\n",
    "# mn = -0.0025\n",
    "# mx = -0.0075\n",
    "# # avg = (mn + mx) / 2\n",
    "# tolerance= -0.1\n",
    "# equal_weight = 0.05\n",
    "# span= 5\n",
    "# fx = 1"
   ]
  },
  {
   "cell_type": "code",
   "execution_count": 9,
   "id": "acc836f8-1d67-4cd8-a34f-54476972ed30",
   "metadata": {
    "execution": {
     "iopub.execute_input": "2025-01-07T16:38:58.223742Z",
     "iopub.status.busy": "2025-01-07T16:38:58.223742Z",
     "iopub.status.idle": "2025-01-07T16:38:58.241674Z",
     "shell.execute_reply": "2025-01-07T16:38:58.240641Z"
    },
    "papermill": {
     "duration": 0.024837,
     "end_time": "2025-01-07T16:38:58.242603",
     "exception": false,
     "start_time": "2025-01-07T16:38:58.217766",
     "status": "completed"
    },
    "tags": []
   },
   "outputs": [],
   "source": [
    "# ohlc = ['open','high','low','close']\n",
    "# _o,_h,_l,_c = [ohlc[h] for h in range(len(ohlc))]\n",
    "# ticker = df['ticker'][0]\n",
    "\n",
    "# df = relative(df,_o,_h,_l,_c, bm_df, bm_col, dgt, rebase=True)\n",
    "# df = df.set_index('date')\n",
    "\n",
    "# df_bo = signal_rbo(df, window_bo, relative=True)\n",
    "# df_tt = signal_rtt(df, fast = fast, slow = slow, relative=True)\n",
    "# df_ema = signal_rema(df, st, mt, lt, relative=True)\n",
    "# df_sma = signal_rsma(df, st, mt, lt, relative=True)\n",
    "# df_fc = detect_regime(df, bm_df)"
   ]
  },
  {
   "cell_type": "code",
   "execution_count": 10,
   "id": "0ce95c8f-d951-49c3-a01d-2d1383f76814",
   "metadata": {
    "execution": {
     "iopub.execute_input": "2025-01-07T16:38:58.253612Z",
     "iopub.status.busy": "2025-01-07T16:38:58.253612Z",
     "iopub.status.idle": "2025-01-07T16:38:58.271558Z",
     "shell.execute_reply": "2025-01-07T16:38:58.270585Z"
    },
    "papermill": {
     "duration": 0.025887,
     "end_time": "2025-01-07T16:38:58.273533",
     "exception": false,
     "start_time": "2025-01-07T16:38:58.247646",
     "status": "completed"
    },
    "tags": []
   },
   "outputs": [],
   "source": [
    "# def plot_signal_bo(df, window, ticker, relative):\n",
    "\n",
    "#     _o,_h,_l,_c = lower_upper_OHLC(df,relative = relative)\n",
    "    \n",
    "#     prefix_h = 'hi_'\n",
    "#     prefix_l = 'lo_'\n",
    "#     prefix_bo = 'bo_'\n",
    "#     close = 'close'\n",
    "#     if relative:\n",
    "#         prefix_h = 'rhi_'\n",
    "#         prefix_l = 'rlo_'\n",
    "#         prefix_bo = 'rbo_'  \n",
    "#         close = 'rclose'\n",
    "        \n",
    "#     # df = df.set_index('date')\n",
    "#     df[[close, prefix_h + str(window), prefix_l + str(window), prefix_bo + str(window)]].plot(\n",
    "#         secondary_y= [prefix_bo + str(window)], figsize=(20,5), style=['k','g:','r:','b-.'], \n",
    "#         title = str.upper(ticker)+' '+str(window) +' days high/low')\n",
    "#     plt.show()"
   ]
  },
  {
   "cell_type": "code",
   "execution_count": 11,
   "id": "f1bc238d-36fa-4da1-9257-c78a3d090c85",
   "metadata": {
    "execution": {
     "iopub.execute_input": "2025-01-07T16:38:58.283538Z",
     "iopub.status.busy": "2025-01-07T16:38:58.283538Z",
     "iopub.status.idle": "2025-01-07T16:38:58.301454Z",
     "shell.execute_reply": "2025-01-07T16:38:58.300478Z"
    },
    "papermill": {
     "duration": 0.025916,
     "end_time": "2025-01-07T16:38:58.303434",
     "exception": false,
     "start_time": "2025-01-07T16:38:58.277518",
     "status": "completed"
    },
    "tags": []
   },
   "outputs": [],
   "source": [
    "# plot_signal_bo(df_bo, window_bo, ticker, relative = True)"
   ]
  },
  {
   "cell_type": "code",
   "execution_count": 12,
   "id": "b968e4d7-7e1f-46a0-9612-89d603a2c925",
   "metadata": {
    "execution": {
     "iopub.execute_input": "2025-01-07T16:38:58.316401Z",
     "iopub.status.busy": "2025-01-07T16:38:58.316401Z",
     "iopub.status.idle": "2025-01-07T16:38:58.332348Z",
     "shell.execute_reply": "2025-01-07T16:38:58.331383Z"
    },
    "papermill": {
     "duration": 0.02486,
     "end_time": "2025-01-07T16:38:58.334297",
     "exception": false,
     "start_time": "2025-01-07T16:38:58.309437",
     "status": "completed"
    },
    "tags": []
   },
   "outputs": [],
   "source": [
    "# def plot_signal_tt(df, fast, slow, relative):\n",
    "\n",
    "#     close = 'close'\n",
    "#     tt = 'tt_'\n",
    "#     if relative:\n",
    "#         close = 'rclose'\n",
    "#         tt = 'rtt_'\n",
    "    \n",
    "#     rg_cols = [tt + str(slow)+str(fast)]\n",
    "\n",
    "#     df[[close, tt+ str(slow)+str(fast)] ].plot(\n",
    "#         secondary_y= rg_cols,figsize=(20,5), style=['k','b-.'], \n",
    "#         title = str.upper('')+' '+str(rg_cols))\n",
    "#     plt.show()  "
   ]
  },
  {
   "cell_type": "code",
   "execution_count": 13,
   "id": "087d9ad6-8115-4c8f-9750-8f47a8c7d4c3",
   "metadata": {
    "execution": {
     "iopub.execute_input": "2025-01-07T16:38:58.344338Z",
     "iopub.status.busy": "2025-01-07T16:38:58.344338Z",
     "iopub.status.idle": "2025-01-07T16:38:58.348251Z",
     "shell.execute_reply": "2025-01-07T16:38:58.347342Z"
    },
    "papermill": {
     "duration": 0.010925,
     "end_time": "2025-01-07T16:38:58.349247",
     "exception": false,
     "start_time": "2025-01-07T16:38:58.338322",
     "status": "completed"
    },
    "tags": []
   },
   "outputs": [],
   "source": [
    "# plot_signal_tt(df_tt, fast, slow, relative = True)"
   ]
  },
  {
   "cell_type": "code",
   "execution_count": 14,
   "id": "541bbbe1-ac4a-44db-8812-68151fb35260",
   "metadata": {
    "execution": {
     "iopub.execute_input": "2025-01-07T16:38:58.362255Z",
     "iopub.status.busy": "2025-01-07T16:38:58.362255Z",
     "iopub.status.idle": "2025-01-07T16:38:58.379145Z",
     "shell.execute_reply": "2025-01-07T16:38:58.378148Z"
    },
    "papermill": {
     "duration": 0.023868,
     "end_time": "2025-01-07T16:38:58.380141",
     "exception": false,
     "start_time": "2025-01-07T16:38:58.356273",
     "status": "completed"
    },
    "tags": []
   },
   "outputs": [],
   "source": [
    "# def plot_signal_sma(df, st, mt, lt, relative):\n",
    "\n",
    "#     close = 'close'\n",
    "#     sma = 'sma_'\n",
    "#     ema = 'ema_'\n",
    "#     if relative:\n",
    "#         close = 'rclose'\n",
    "#         sma = 'rsma_'\n",
    "#         ema = 'rema_'\n",
    "\n",
    "#     df[[close,sma+ str(st) + str(mt) + str(lt)] ].plot(\n",
    "#         secondary_y= sma+ str(st) + str(mt) + str(lt),figsize=(20,5), style=['k','b-.'], \n",
    "#         title = str.upper('')+' '+str([sma+ str(st) + str(mt) + str(lt)]))\n",
    "        \n",
    "#     plt.show() "
   ]
  },
  {
   "cell_type": "code",
   "execution_count": 15,
   "id": "2be5be52-9c5a-4311-ac47-4538d580da77",
   "metadata": {
    "execution": {
     "iopub.execute_input": "2025-01-07T16:38:58.391140Z",
     "iopub.status.busy": "2025-01-07T16:38:58.390200Z",
     "iopub.status.idle": "2025-01-07T16:38:58.394165Z",
     "shell.execute_reply": "2025-01-07T16:38:58.394165Z"
    },
    "papermill": {
     "duration": 0.009934,
     "end_time": "2025-01-07T16:38:58.395137",
     "exception": false,
     "start_time": "2025-01-07T16:38:58.385203",
     "status": "completed"
    },
    "tags": []
   },
   "outputs": [],
   "source": [
    "# plot_signal_sma(df_sma, st, mt, lt, relative = True)"
   ]
  },
  {
   "cell_type": "code",
   "execution_count": 16,
   "id": "307b943a-cb79-4140-ad91-2fa62aaccdc2",
   "metadata": {
    "execution": {
     "iopub.execute_input": "2025-01-07T16:38:58.407052Z",
     "iopub.status.busy": "2025-01-07T16:38:58.407052Z",
     "iopub.status.idle": "2025-01-07T16:38:58.425988Z",
     "shell.execute_reply": "2025-01-07T16:38:58.425106Z"
    },
    "papermill": {
     "duration": 0.025858,
     "end_time": "2025-01-07T16:38:58.426984",
     "exception": false,
     "start_time": "2025-01-07T16:38:58.401126",
     "status": "completed"
    },
    "tags": []
   },
   "outputs": [],
   "source": [
    "# def plot_signal_ema(df, st, mt, lt, relative):\n",
    "\n",
    "#     close = 'close'\n",
    "#     sma = 'sma_'\n",
    "#     ema = 'ema_'\n",
    "#     if relative:\n",
    "#         close = 'rclose'\n",
    "#         sma = 'rsma_'\n",
    "#         ema = 'rema_'\n",
    "    \n",
    "#     df[[close,ema+ str(st) + str(mt) + str(lt)] ].plot(\n",
    "#         secondary_y= ema+ str(st) + str(mt) + str(lt),figsize=(20,5), style=['k','b-.'], \n",
    "#         title = str.upper('')+' '+str([ema+ str(st) + str(mt) + str(lt)]))\n",
    "        \n",
    "#     plt.show() "
   ]
  },
  {
   "cell_type": "code",
   "execution_count": 17,
   "id": "43356d36-8b62-4341-a736-8103de9a98db",
   "metadata": {
    "execution": {
     "iopub.execute_input": "2025-01-07T16:38:58.439989Z",
     "iopub.status.busy": "2025-01-07T16:38:58.439015Z",
     "iopub.status.idle": "2025-01-07T16:38:58.456986Z",
     "shell.execute_reply": "2025-01-07T16:38:58.455998Z"
    },
    "papermill": {
     "duration": 0.024852,
     "end_time": "2025-01-07T16:38:58.457915",
     "exception": false,
     "start_time": "2025-01-07T16:38:58.433063",
     "status": "completed"
    },
    "tags": []
   },
   "outputs": [],
   "source": [
    "# plot_signal_ema(df_ema, st, mt, lt, relative = True)"
   ]
  },
  {
   "cell_type": "code",
   "execution_count": 18,
   "id": "2ac0e513-acb4-4f99-8418-9208c68b1a20",
   "metadata": {
    "execution": {
     "iopub.execute_input": "2025-01-07T16:38:58.467928Z",
     "iopub.status.busy": "2025-01-07T16:38:58.467928Z",
     "iopub.status.idle": "2025-01-07T16:38:58.472865Z",
     "shell.execute_reply": "2025-01-07T16:38:58.471915Z"
    },
    "papermill": {
     "duration": 0.009866,
     "end_time": "2025-01-07T16:38:58.472865",
     "exception": false,
     "start_time": "2025-01-07T16:38:58.462999",
     "status": "completed"
    },
    "tags": []
   },
   "outputs": [],
   "source": [
    "# plot_signal_rel(df_fc, ticker)\n",
    "# plot_regime_rel(df_fc, ticker)"
   ]
  },
  {
   "cell_type": "code",
   "execution_count": 19,
   "id": "9cf64b40-df77-4833-9bce-90af7e61548b",
   "metadata": {
    "execution": {
     "iopub.execute_input": "2025-01-07T16:38:58.482895Z",
     "iopub.status.busy": "2025-01-07T16:38:58.482895Z",
     "iopub.status.idle": "2025-01-07T16:38:58.486873Z",
     "shell.execute_reply": "2025-01-07T16:38:58.486873Z"
    },
    "papermill": {
     "duration": 0.010938,
     "end_time": "2025-01-07T16:38:58.488827",
     "exception": false,
     "start_time": "2025-01-07T16:38:58.477889",
     "status": "completed"
    },
    "tags": []
   },
   "outputs": [],
   "source": [
    "# df_fc = df_fc.set_index('date')\n",
    "# df_fc[['rclose','rh3','rl3']].plot(\n",
    "#     style=['grey', 'rv', 'g^'],\n",
    "#     figsize=(20,5),grid=True, title = str.upper(ticker))\n",
    "# plt.show()"
   ]
  },
  {
   "cell_type": "code",
   "execution_count": 20,
   "id": "55b947a3-a443-4f1d-8af1-8b0fd4063658",
   "metadata": {
    "execution": {
     "iopub.execute_input": "2025-01-07T16:38:58.498789Z",
     "iopub.status.busy": "2025-01-07T16:38:58.498789Z",
     "iopub.status.idle": "2025-01-07T16:38:58.503785Z",
     "shell.execute_reply": "2025-01-07T16:38:58.502821Z"
    },
    "papermill": {
     "duration": 0.011947,
     "end_time": "2025-01-07T16:38:58.504783",
     "exception": false,
     "start_time": "2025-01-07T16:38:58.492836",
     "status": "completed"
    },
    "tags": []
   },
   "outputs": [],
   "source": [
    "# df_fc[['close','hi3','lo3','rclose','rh3','rl3']].plot(\n",
    "#     style=['grey','rv', 'g^','k:','mv','b^'],\n",
    "#             figsize=(20,5),grid=True, title = str.upper(ticker)+' vs '+str.upper(bm_col))\n",
    "# plt.show()"
   ]
  },
  {
   "cell_type": "code",
   "execution_count": 21,
   "id": "e752610e-3ce2-4599-a425-6b1a9e345a6e",
   "metadata": {
    "execution": {
     "iopub.execute_input": "2025-01-07T16:38:58.515756Z",
     "iopub.status.busy": "2025-01-07T16:38:58.515756Z",
     "iopub.status.idle": "2025-01-07T16:38:58.518720Z",
     "shell.execute_reply": "2025-01-07T16:38:58.518720Z"
    },
    "papermill": {
     "duration": 0.010969,
     "end_time": "2025-01-07T16:38:58.520712",
     "exception": false,
     "start_time": "2025-01-07T16:38:58.509743",
     "status": "completed"
    },
    "tags": []
   },
   "outputs": [],
   "source": [
    "# df_fc[['rclose','rh3', 'rl3','rclg','rflr','rrg_ch','rrg']].plot(style=['grey', 'ro', 'go', 'kv', 'k^','c:','y-.'], \n",
    "#                         secondary_y= ['rrg'],figsize=(20,5),grid=True, title = str.upper(ticker))\n",
    "# plt.show()"
   ]
  }
 ],
 "metadata": {
  "kernelspec": {
   "display_name": "Python 3 (ipykernel)",
   "language": "python",
   "name": "python3"
  },
  "language_info": {
   "codemirror_mode": {
    "name": "ipython",
    "version": 3
   },
   "file_extension": ".py",
   "mimetype": "text/x-python",
   "name": "python",
   "nbconvert_exporter": "python",
   "pygments_lexer": "ipython3",
   "version": "3.9.12"
  },
  "papermill": {
   "default_parameters": {},
   "duration": 4.719207,
   "end_time": "2025-01-07T16:38:58.757922",
   "environment_variables": {},
   "exception": null,
   "input_path": "template.ipynb",
   "output_path": "ABC.MI_output.ipynb",
   "parameters": {
    "path_to_file": "data/ABC.MI.xlsx"
   },
   "start_time": "2025-01-07T16:38:54.038715",
   "version": "2.6.0"
  }
 },
 "nbformat": 4,
 "nbformat_minor": 5
}