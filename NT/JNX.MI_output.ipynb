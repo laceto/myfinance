{
 "cells": [
  {
   "cell_type": "code",
   "execution_count": 1,
   "id": "21f1e0d4",
   "metadata": {
    "execution": {
     "iopub.execute_input": "2025-01-07T17:43:30.165540Z",
     "iopub.status.busy": "2025-01-07T17:43:30.164998Z",
     "iopub.status.idle": "2025-01-07T17:43:30.172754Z",
     "shell.execute_reply": "2025-01-07T17:43:30.172145Z"
    },
    "papermill": {
     "duration": 0.014177,
     "end_time": "2025-01-07T17:43:30.173741",
     "exception": false,
     "start_time": "2025-01-07T17:43:30.159564",
     "status": "completed"
    },
    "tags": [
     "injected-parameters"
    ]
   },
   "outputs": [],
   "source": [
    "# Parameters\n",
    "path_to_file = \"data/JNX.MI.xlsx\"\n"
   ]
  },
  {
   "cell_type": "code",
   "execution_count": 2,
   "id": "5efbf512-053b-4bce-9f68-c0b07e257aec",
   "metadata": {
    "execution": {
     "iopub.execute_input": "2025-01-07T17:43:30.181895Z",
     "iopub.status.busy": "2025-01-07T17:43:30.181394Z",
     "iopub.status.idle": "2025-01-07T17:43:30.533533Z",
     "shell.execute_reply": "2025-01-07T17:43:30.532812Z"
    },
    "papermill": {
     "duration": 0.357213,
     "end_time": "2025-01-07T17:43:30.534716",
     "exception": false,
     "start_time": "2025-01-07T17:43:30.177503",
     "status": "completed"
    },
    "tags": []
   },
   "outputs": [
    {
     "name": "stdout",
     "output_type": "stream",
     "text": [
      "Current working directory: /home/runner/work/myfinance/myfinance/NT\n",
      "New current working directory: /home/runner/work/myfinance/myfinance\n"
     ]
    },
    {
     "data": {
      "text/plain": [
       "2"
      ]
     },
     "execution_count": 2,
     "metadata": {},
     "output_type": "execute_result"
    }
   ],
   "source": [
    "import os  \n",
    "import sys  \n",
    "import pandas as pd\n",
    "import openpyxl\n",
    "# import papermill as pm  \n",
    "\n",
    "# get the current working directory  \n",
    "cwd = os.getcwd()  \n",
    "print(\"Current working directory:\", cwd)  \n",
    "  \n",
    "# change the current working directory to one level up  \n",
    "os.chdir(\"..\")  \n",
    "  \n",
    "# get the new current working directory  \n",
    "new_cwd = os.getcwd()  \n",
    "print(\"New current working directory:\", new_cwd) \n",
    "\n",
    "1+1"
   ]
  },
  {
   "cell_type": "code",
   "execution_count": 3,
   "id": "a244e996-b5d1-4551-8a00-065f1f64e197",
   "metadata": {
    "execution": {
     "iopub.execute_input": "2025-01-07T17:43:30.543260Z",
     "iopub.status.busy": "2025-01-07T17:43:30.542772Z",
     "iopub.status.idle": "2025-01-07T17:43:31.105649Z",
     "shell.execute_reply": "2025-01-07T17:43:31.105016Z"
    },
    "papermill": {
     "duration": 0.568514,
     "end_time": "2025-01-07T17:43:31.106970",
     "exception": false,
     "start_time": "2025-01-07T17:43:30.538456",
     "status": "completed"
    },
    "tags": []
   },
   "outputs": [],
   "source": [
    "# add the 'data' folder to the system path  \n",
    "sys.path.append(os.path.abspath(\"data\"))\n",
    "from relative import *\n",
    "from AT_funs import *\n",
    "\n"
   ]
  },
  {
   "cell_type": "code",
   "execution_count": 4,
   "id": "c10e57be-9edb-48b2-a7c7-4d446f107612",
   "metadata": {
    "execution": {
     "iopub.execute_input": "2025-01-07T17:43:31.115716Z",
     "iopub.status.busy": "2025-01-07T17:43:31.115176Z",
     "iopub.status.idle": "2025-01-07T17:43:31.118730Z",
     "shell.execute_reply": "2025-01-07T17:43:31.118060Z"
    },
    "papermill": {
     "duration": 0.009102,
     "end_time": "2025-01-07T17:43:31.119863",
     "exception": false,
     "start_time": "2025-01-07T17:43:31.110761",
     "status": "completed"
    },
    "tags": []
   },
   "outputs": [],
   "source": [
    "# # Get the path of the Excel file from the command line argument  \n",
    "# # filename = sys.argv[1]  \n",
    "# filename = 'data/A2A.MI.xlsx'\n",
    "# df = read_xlsx(filename)\n",
    "# ticker = filename.replace('xlsx', '')\n",
    "# # ticker = ' '\n",
    "# # df\n",
    "# filename_bm = 'data/FTSEMIB.MI.xlsx'\n",
    "# bm_df = read_xlsx(filename_bm)\n",
    "# bm_name = filename_bm.replace('xlsx', '')"
   ]
  },
  {
   "cell_type": "code",
   "execution_count": 5,
   "id": "bf256f3b-01c5-4716-92f2-41c8148bb68b",
   "metadata": {
    "execution": {
     "iopub.execute_input": "2025-01-07T17:43:31.127684Z",
     "iopub.status.busy": "2025-01-07T17:43:31.127321Z",
     "iopub.status.idle": "2025-01-07T17:43:31.130370Z",
     "shell.execute_reply": "2025-01-07T17:43:31.129781Z"
    },
    "papermill": {
     "duration": 0.008173,
     "end_time": "2025-01-07T17:43:31.131467",
     "exception": false,
     "start_time": "2025-01-07T17:43:31.123294",
     "status": "completed"
    },
    "tags": []
   },
   "outputs": [],
   "source": [
    "# plot_abs_rel(df, ticker, bm_df, bm_name)"
   ]
  },
  {
   "cell_type": "code",
   "execution_count": 6,
   "id": "0b660f54-a39b-498e-8eb8-bf81c034988f",
   "metadata": {
    "execution": {
     "iopub.execute_input": "2025-01-07T17:43:31.139740Z",
     "iopub.status.busy": "2025-01-07T17:43:31.139256Z",
     "iopub.status.idle": "2025-01-07T17:43:31.524395Z",
     "shell.execute_reply": "2025-01-07T17:43:31.523613Z"
    },
    "papermill": {
     "duration": 0.390993,
     "end_time": "2025-01-07T17:43:31.525977",
     "exception": false,
     "start_time": "2025-01-07T17:43:31.134984",
     "status": "completed"
    },
    "tags": []
   },
   "outputs": [],
   "source": [
    "# Parameters  \n",
    "# path_to_file: str - the path to the input file  \n",
    "  \n",
    "filename = path_to_file\n",
    "df = read_xlsx(filename)\n",
    "ticker = filename.replace('xlsx', '')\n",
    "# ticker = ' '\n",
    "# df\n",
    "filename_bm = 'data/FTSEMIB.MI.xlsx'\n",
    "bm_df = read_xlsx(filename_bm)\n",
    "bm_name = filename_bm.replace('xlsx', '')"
   ]
  },
  {
   "cell_type": "code",
   "execution_count": 7,
   "id": "55b83496-eb02-490d-aef2-62a6aa478e6e",
   "metadata": {
    "execution": {
     "iopub.execute_input": "2025-01-07T17:43:31.534903Z",
     "iopub.status.busy": "2025-01-07T17:43:31.534397Z",
     "iopub.status.idle": "2025-01-07T17:43:31.881421Z",
     "shell.execute_reply": "2025-01-07T17:43:31.880528Z"
    },
    "papermill": {
     "duration": 0.352991,
     "end_time": "2025-01-07T17:43:31.882761",
     "exception": false,
     "start_time": "2025-01-07T17:43:31.529770",
     "status": "completed"
    },
    "tags": []
   },
   "outputs": [
    {
     "data": {
      "image/png": "[encoded data removed]",
      "text/plain": [
       "<Figure size 2000x800 with 1 Axes>"
      ]
     },
     "metadata": {},
     "output_type": "display_data"
    }
   ],
   "source": [
    "plot_abs_rel(df, ticker, bm_df, bm_name)"
   ]
  },
  {
   "cell_type": "code",
   "execution_count": 8,
   "id": "ede37904-5bbb-418d-9059-699d76bbf0a3",
   "metadata": {
    "execution": {
     "iopub.execute_input": "2025-01-07T17:43:31.894070Z",
     "iopub.status.busy": "2025-01-07T17:43:31.893437Z",
     "iopub.status.idle": "2025-01-07T17:43:31.897256Z",
     "shell.execute_reply": "2025-01-07T17:43:31.896487Z"
    },
    "papermill": {
     "duration": 0.010724,
     "end_time": "2025-01-07T17:43:31.898467",
     "exception": false,
     "start_time": "2025-01-07T17:43:31.887743",
     "status": "completed"
    },
    "tags": []
   },
   "outputs": [],
   "source": [
    "# window_bo = 100\n",
    "# fast = 20\n",
    "# slow = 50\n",
    "# st = 50\n",
    "# mt = 100\n",
    "# lt = 150\n",
    "# lvl = 3\n",
    "# bm_col = 'close'\n",
    "# dgt = 5\n",
    "# window_exp = 100\n",
    "# starting_capital = 100000\n",
    "# lot = 100\n",
    "# mn = -0.0025\n",
    "# mx = -0.0075\n",
    "# # avg = (mn + mx) / 2\n",
    "# tolerance= -0.1\n",
    "# equal_weight = 0.05\n",
    "# span= 5\n",
    "# fx = 1"
   ]
  },
  {
   "cell_type": "code",
   "execution_count": 9,
   "id": "acc836f8-1d67-4cd8-a34f-54476972ed30",
   "metadata": {
    "execution": {
     "iopub.execute_input": "2025-01-07T17:43:31.909530Z",
     "iopub.status.busy": "2025-01-07T17:43:31.908737Z",
     "iopub.status.idle": "2025-01-07T17:43:31.912698Z",
     "shell.execute_reply": "2025-01-07T17:43:31.911969Z"
    },
    "papermill": {
     "duration": 0.010591,
     "end_time": "2025-01-07T17:43:31.913772",
     "exception": false,
     "start_time": "2025-01-07T17:43:31.903181",
     "status": "completed"
    },
    "tags": []
   },
   "outputs": [],
   "source": [
    "# ohlc = ['open','high','low','close']\n",
    "# _o,_h,_l,_c = [ohlc[h] for h in range(len(ohlc))]\n",
    "# ticker = df['ticker'][0]\n",
    "\n",
    "# df = relative(df,_o,_h,_l,_c, bm_df, bm_col, dgt, rebase=True)\n",
    "# df = df.set_index('date')\n",
    "\n",
    "# df_bo = signal_rbo(df, window_bo, relative=True)\n",
    "# df_tt = signal_rtt(df, fast = fast, slow = slow, relative=True)\n",
    "# df_ema = signal_rema(df, st, mt, lt, relative=True)\n",
    "# df_sma = signal_rsma(df, st, mt, lt, relative=True)\n",
    "# df_fc = detect_regime(df, bm_df)"
   ]
  },
  {
   "cell_type": "code",
   "execution_count": 10,
   "id": "0ce95c8f-d951-49c3-a01d-2d1383f76814",
   "metadata": {
    "execution": {
     "iopub.execute_input": "2025-01-07T17:43:31.925158Z",
     "iopub.status.busy": "2025-01-07T17:43:31.924465Z",
     "iopub.status.idle": "2025-01-07T17:43:31.928233Z",
     "shell.execute_reply": "2025-01-07T17:43:31.927497Z"
    },
    "papermill": {
     "duration": 0.010816,
     "end_time": "2025-01-07T17:43:31.929431",
     "exception": false,
     "start_time": "2025-01-07T17:43:31.918615",
     "status": "completed"
    },
    "tags": []
   },
   "outputs": [],
   "source": [
    "# def plot_signal_bo(df, window, ticker, relative):\n",
    "\n",
    "#     _o,_h,_l,_c = lower_upper_OHLC(df,relative = relative)\n",
    "    \n",
    "#     prefix_h = 'hi_'\n",
    "#     prefix_l = 'lo_'\n",
    "#     prefix_bo = 'bo_'\n",
    "#     close = 'close'\n",
    "#     if relative:\n",
    "#         prefix_h = 'rhi_'\n",
    "#         prefix_l = 'rlo_'\n",
    "#         prefix_bo = 'rbo_'  \n",
    "#         close = 'rclose'\n",
    "        \n",
    "#     # df = df.set_index('date')\n",
    "#     df[[close, prefix_h + str(window), prefix_l + str(window), prefix_bo + str(window)]].plot(\n",
    "#         secondary_y= [prefix_bo + str(window)], figsize=(20,5), style=['k','g:','r:','b-.'], \n",
    "#         title = str.upper(ticker)+' '+str(window) +' days high/low')\n",
    "#     plt.show()"
   ]
  },
  {
   "cell_type": "code",
   "execution_count": 11,
   "id": "f1bc238d-36fa-4da1-9257-c78a3d090c85",
   "metadata": {
    "execution": {
     "iopub.execute_input": "2025-01-07T17:43:31.940312Z",
     "iopub.status.busy": "2025-01-07T17:43:31.939665Z",
     "iopub.status.idle": "2025-01-07T17:43:31.943095Z",
     "shell.execute_reply": "2025-01-07T17:43:31.942355Z"
    },
    "papermill": {
     "duration": 0.010049,
     "end_time": "2025-01-07T17:43:31.944253",
     "exception": false,
     "start_time": "2025-01-07T17:43:31.934204",
     "status": "completed"
    },
    "tags": []
   },
   "outputs": [],
   "source": [
    "# plot_signal_bo(df_bo, window_bo, ticker, relative = True)"
   ]
  },
  {
   "cell_type": "code",
   "execution_count": 12,
   "id": "b968e4d7-7e1f-46a0-9612-89d603a2c925",
   "metadata": {
    "execution": {
     "iopub.execute_input": "2025-01-07T17:43:31.954877Z",
     "iopub.status.busy": "2025-01-07T17:43:31.954254Z",
     "iopub.status.idle": "2025-01-07T17:43:31.957890Z",
     "shell.execute_reply": "2025-01-07T17:43:31.957268Z"
    },
    "papermill": {
     "duration": 0.009987,
     "end_time": "2025-01-07T17:43:31.958958",
     "exception": false,
     "start_time": "2025-01-07T17:43:31.948971",
     "status": "completed"
    },
    "tags": []
   },
   "outputs": [],
   "source": [
    "# def plot_signal_tt(df, fast, slow, relative):\n",
    "\n",
    "#     close = 'close'\n",
    "#     tt = 'tt_'\n",
    "#     if relative:\n",
    "#         close = 'rclose'\n",
    "#         tt = 'rtt_'\n",
    "    \n",
    "#     rg_cols = [tt + str(slow)+str(fast)]\n",
    "\n",
    "#     df[[close, tt+ str(slow)+str(fast)] ].plot(\n",
    "#         secondary_y= rg_cols,figsize=(20,5), style=['k','b-.'], \n",
    "#         title = str.upper('')+' '+str(rg_cols))\n",
    "#     plt.show()  "
   ]
  },
  {
   "cell_type": "code",
   "execution_count": 13,
   "id": "087d9ad6-8115-4c8f-9750-8f47a8c7d4c3",
   "metadata": {
    "execution": {
     "iopub.execute_input": "2025-01-07T17:43:31.969873Z",
     "iopub.status.busy": "2025-01-07T17:43:31.969236Z",
     "iopub.status.idle": "2025-01-07T17:43:31.972660Z",
     "shell.execute_reply": "2025-01-07T17:43:31.971917Z"
    },
    "papermill": {
     "duration": 0.010196,
     "end_time": "2025-01-07T17:43:31.973834",
     "exception": false,
     "start_time": "2025-01-07T17:43:31.963638",
     "status": "completed"
    },
    "tags": []
   },
   "outputs": [],
   "source": [
    "# plot_signal_tt(df_tt, fast, slow, relative = True)"
   ]
  },
  {
   "cell_type": "code",
   "execution_count": 14,
   "id": "541bbbe1-ac4a-44db-8812-68151fb35260",
   "metadata": {
    "execution": {
     "iopub.execute_input": "2025-01-07T17:43:31.984362Z",
     "iopub.status.busy": "2025-01-07T17:43:31.984034Z",
     "iopub.status.idle": "2025-01-07T17:43:31.987586Z",
     "shell.execute_reply": "2025-01-07T17:43:31.986945Z"
    },
    "papermill": {
     "duration": 0.01004,
     "end_time": "2025-01-07T17:43:31.988612",
     "exception": false,
     "start_time": "2025-01-07T17:43:31.978572",
     "status": "completed"
    },
    "tags": []
   },
   "outputs": [],
   "source": [
    "# def plot_signal_sma(df, st, mt, lt, relative):\n",
    "\n",
    "#     close = 'close'\n",
    "#     sma = 'sma_'\n",
    "#     ema = 'ema_'\n",
    "#     if relative:\n",
    "#         close = 'rclose'\n",
    "#         sma = 'rsma_'\n",
    "#         ema = 'rema_'\n",
    "\n",
    "#     df[[close,sma+ str(st) + str(mt) + str(lt)] ].plot(\n",
    "#         secondary_y= sma+ str(st) + str(mt) + str(lt),figsize=(20,5), style=['k','b-.'], \n",
    "#         title = str.upper('')+' '+str([sma+ str(st) + str(mt) + str(lt)]))\n",
    "        \n",
    "#     plt.show() "
   ]
  },
  {
   "cell_type": "code",
   "execution_count": 15,
   "id": "2be5be52-9c5a-4311-ac47-4538d580da77",
   "metadata": {
    "execution": {
     "iopub.execute_input": "2025-01-07T17:43:31.999457Z",
     "iopub.status.busy": "2025-01-07T17:43:31.998923Z",
     "iopub.status.idle": "2025-01-07T17:43:32.002307Z",
     "shell.execute_reply": "2025-01-07T17:43:32.001679Z"
    },
    "papermill": {
     "duration": 0.010036,
     "end_time": "2025-01-07T17:43:32.003412",
     "exception": false,
     "start_time": "2025-01-07T17:43:31.993376",
     "status": "completed"
    },
    "tags": []
   },
   "outputs": [],
   "source": [
    "# plot_signal_sma(df_sma, st, mt, lt, relative = True)"
   ]
  },
  {
   "cell_type": "code",
   "execution_count": 16,
   "id": "307b943a-cb79-4140-ad91-2fa62aaccdc2",
   "metadata": {
    "execution": {
     "iopub.execute_input": "2025-01-07T17:43:32.014150Z",
     "iopub.status.busy": "2025-01-07T17:43:32.013684Z",
     "iopub.status.idle": "2025-01-07T17:43:32.016895Z",
     "shell.execute_reply": "2025-01-07T17:43:32.016267Z"
    },
    "papermill": {
     "duration": 0.009861,
     "end_time": "2025-01-07T17:43:32.017940",
     "exception": false,
     "start_time": "2025-01-07T17:43:32.008079",
     "status": "completed"
    },
    "tags": []
   },
   "outputs": [],
   "source": [
    "# def plot_signal_ema(df, st, mt, lt, relative):\n",
    "\n",
    "#     close = 'close'\n",
    "#     sma = 'sma_'\n",
    "#     ema = 'ema_'\n",
    "#     if relative:\n",
    "#         close = 'rclose'\n",
    "#         sma = 'rsma_'\n",
    "#         ema = 'rema_'\n",
    "    \n",
    "#     df[[close,ema+ str(st) + str(mt) + str(lt)] ].plot(\n",
    "#         secondary_y= ema+ str(st) + str(mt) + str(lt),figsize=(20,5), style=['k','b-.'], \n",
    "#         title = str.upper('')+' '+str([ema+ str(st) + str(mt) + str(lt)]))\n",
    "        \n",
    "#     plt.show() "
   ]
  },
  {
   "cell_type": "code",
   "execution_count": 17,
   "id": "43356d36-8b62-4341-a736-8103de9a98db",
   "metadata": {
    "execution": {
     "iopub.execute_input": "2025-01-07T17:43:32.028636Z",
     "iopub.status.busy": "2025-01-07T17:43:32.027962Z",
     "iopub.status.idle": "2025-01-07T17:43:32.031491Z",
     "shell.execute_reply": "2025-01-07T17:43:32.030786Z"
    },
    "papermill": {
     "duration": 0.010141,
     "end_time": "2025-01-07T17:43:32.032727",
     "exception": false,
     "start_time": "2025-01-07T17:43:32.022586",
     "status": "completed"
    },
    "tags": []
   },
   "outputs": [],
   "source": [
    "# plot_signal_ema(df_ema, st, mt, lt, relative = True)"
   ]
  },
  {
   "cell_type": "code",
   "execution_count": 18,
   "id": "2ac0e513-acb4-4f99-8418-9208c68b1a20",
   "metadata": {
    "execution": {
     "iopub.execute_input": "2025-01-07T17:43:32.043381Z",
     "iopub.status.busy": "2025-01-07T17:43:32.042810Z",
     "iopub.status.idle": "2025-01-07T17:43:32.046072Z",
     "shell.execute_reply": "2025-01-07T17:43:32.045385Z"
    },
    "papermill": {
     "duration": 0.009775,
     "end_time": "2025-01-07T17:43:32.047210",
     "exception": false,
     "start_time": "2025-01-07T17:43:32.037435",
     "status": "completed"
    },
    "tags": []
   },
   "outputs": [],
   "source": [
    "# plot_signal_rel(df_fc, ticker)\n",
    "# plot_regime_rel(df_fc, ticker)"
   ]
  },
  {
   "cell_type": "code",
   "execution_count": 19,
   "id": "9cf64b40-df77-4833-9bce-90af7e61548b",
   "metadata": {
    "execution": {
     "iopub.execute_input": "2025-01-07T17:43:32.058266Z",
     "iopub.status.busy": "2025-01-07T17:43:32.057620Z",
     "iopub.status.idle": "2025-01-07T17:43:32.060958Z",
     "shell.execute_reply": "2025-01-07T17:43:32.060315Z"
    },
    "papermill": {
     "duration": 0.010112,
     "end_time": "2025-01-07T17:43:32.062076",
     "exception": false,
     "start_time": "2025-01-07T17:43:32.051964",
     "status": "completed"
    },
    "tags": []
   },
   "outputs": [],
   "source": [
    "# df_fc = df_fc.set_index('date')\n",
    "# df_fc[['rclose','rh3','rl3']].plot(\n",
    "#     style=['grey', 'rv', 'g^'],\n",
    "#     figsize=(20,5),grid=True, title = str.upper(ticker))\n",
    "# plt.show()"
   ]
  },
  {
   "cell_type": "code",
   "execution_count": 20,
   "id": "55b947a3-a443-4f1d-8af1-8b0fd4063658",
   "metadata": {
    "execution": {
     "iopub.execute_input": "2025-01-07T17:43:32.073031Z",
     "iopub.status.busy": "2025-01-07T17:43:32.072242Z",
     "iopub.status.idle": "2025-01-07T17:43:32.075833Z",
     "shell.execute_reply": "2025-01-07T17:43:32.075218Z"
    },
    "papermill": {
     "duration": 0.010032,
     "end_time": "2025-01-07T17:43:32.076885",
     "exception": false,
     "start_time": "2025-01-07T17:43:32.066853",
     "status": "completed"
    },
    "tags": []
   },
   "outputs": [],
   "source": [
    "# df_fc[['close','hi3','lo3','rclose','rh3','rl3']].plot(\n",
    "#     style=['grey','rv', 'g^','k:','mv','b^'],\n",
    "#             figsize=(20,5),grid=True, title = str.upper(ticker)+' vs '+str.upper(bm_col))\n",
    "# plt.show()"
   ]
  },
  {
   "cell_type": "code",
   "execution_count": 21,
   "id": "e752610e-3ce2-4599-a425-6b1a9e345a6e",
   "metadata": {
    "execution": {
     "iopub.execute_input": "2025-01-07T17:43:32.087592Z",
     "iopub.status.busy": "2025-01-07T17:43:32.087046Z",
     "iopub.status.idle": "2025-01-07T17:43:32.090271Z",
     "shell.execute_reply": "2025-01-07T17:43:32.089651Z"
    },
    "papermill": {
     "duration": 0.009719,
     "end_time": "2025-01-07T17:43:32.091306",
     "exception": false,
     "start_time": "2025-01-07T17:43:32.081587",
     "status": "completed"
    },
    "tags": []
   },
   "outputs": [],
   "source": [
    "# df_fc[['rclose','rh3', 'rl3','rclg','rflr','rrg_ch','rrg']].plot(style=['grey', 'ro', 'go', 'kv', 'k^','c:','y-.'], \n",
    "#                         secondary_y= ['rrg'],figsize=(20,5),grid=True, title = str.upper(ticker))\n",
    "# plt.show()"
   ]
  }
 ],
 "metadata": {
  "kernelspec": {
   "display_name": "Python 3 (ipykernel)",
   "language": "python",
   "name": "python3"
  },
  "language_info": {
   "codemirror_mode": {
    "name": "ipython",
    "version": 3
   },
   "file_extension": ".py",
   "mimetype": "text/x-python",
   "name": "python",
   "nbconvert_exporter": "python",
   "pygments_lexer": "ipython3",
   "version": "3.8.18"
  },
  "papermill": {
   "default_parameters": {},
   "duration": 2.945006,
   "end_time": "2025-01-07T17:43:32.412538",
   "environment_variables": {},
   "exception": null,
   "input_path": "template.ipynb",
   "output_path": "JNX.MI_output.ipynb",
   "parameters": {
    "path_to_file": "data/JNX.MI.xlsx"
   },
   "start_time": "2025-01-07T17:43:29.467532",
   "version": "2.6.0"
  }
 },
 "nbformat": 4,
 "nbformat_minor": 5
}