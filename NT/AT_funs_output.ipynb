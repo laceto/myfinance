{
 "cells": [
  {
   "cell_type": "markdown",
   "id": "0ad7695b",
   "metadata": {
    "tags": [
     "papermill-error-cell-tag"
    ]
   },
   "source": [
    "<span style=\"color:red; font-family:Helvetica Neue, Helvetica, Arial, sans-serif; font-size:2em;\">An Exception was encountered at '<a href=\"#papermill-error-cell\">In [6]</a>'.</span>"
   ]
  },
  {
   "cell_type": "code",
   "execution_count": 1,
   "id": "f4e82d11",
   "metadata": {
    "execution": {
     "iopub.execute_input": "2025-01-07T16:41:00.254394Z",
     "iopub.status.busy": "2025-01-07T16:41:00.254394Z",
     "iopub.status.idle": "2025-01-07T16:41:00.262406Z",
     "shell.execute_reply": "2025-01-07T16:41:00.262406Z"
    },
    "papermill": {
     "duration": 0.017893,
     "end_time": "2025-01-07T16:41:00.264394",
     "exception": false,
     "start_time": "2025-01-07T16:41:00.246501",
     "status": "completed"
    },
    "tags": [
     "injected-parameters"
    ]
   },
   "outputs": [],
   "source": [
    "# Parameters\n",
    "path_to_file = \"data/AT_funs.py\"\n"
   ]
  },
  {
   "cell_type": "code",
   "execution_count": 2,
   "id": "5efbf512-053b-4bce-9f68-c0b07e257aec",
   "metadata": {
    "execution": {
     "iopub.execute_input": "2025-01-07T16:41:00.275335Z",
     "iopub.status.busy": "2025-01-07T16:41:00.275335Z",
     "iopub.status.idle": "2025-01-07T16:41:00.992790Z",
     "shell.execute_reply": "2025-01-07T16:41:00.991814Z"
    },
    "papermill": {
     "duration": 0.724393,
     "end_time": "2025-01-07T16:41:00.994733",
     "exception": false,
     "start_time": "2025-01-07T16:41:00.270340",
     "status": "completed"
    },
    "tags": []
   },
   "outputs": [
    {
     "name": "stdout",
     "output_type": "stream",
     "text": [
      "Current working directory: C:\\Users\\laceto\\OneDrive - Gen Re AzureAD\\Desktop\\lavoro\\Personal projects\\finance\\myfinance 20240708\\NT\n",
      "New current working directory: C:\\Users\\laceto\\OneDrive - Gen Re AzureAD\\Desktop\\lavoro\\Personal projects\\finance\\myfinance 20240708\n"
     ]
    },
    {
     "data": {
      "text/plain": [
       "2"
      ]
     },
     "execution_count": 2,
     "metadata": {},
     "output_type": "execute_result"
    }
   ],
   "source": [
    "import os  \n",
    "import sys  \n",
    "import pandas as pd\n",
    "import openpyxl\n",
    "# import papermill as pm  \n",
    "\n",
    "# get the current working directory  \n",
    "cwd = os.getcwd()  \n",
    "print(\"Current working directory:\", cwd)  \n",
    "  \n",
    "# change the current working directory to one level up  \n",
    "os.chdir(\"..\")  \n",
    "  \n",
    "# get the new current working directory  \n",
    "new_cwd = os.getcwd()  \n",
    "print(\"New current working directory:\", new_cwd) \n",
    "\n",
    "1+1"
   ]
  },
  {
   "cell_type": "code",
   "execution_count": 3,
   "id": "a244e996-b5d1-4551-8a00-065f1f64e197",
   "metadata": {
    "execution": {
     "iopub.execute_input": "2025-01-07T16:41:01.004699Z",
     "iopub.status.busy": "2025-01-07T16:41:01.004699Z",
     "iopub.status.idle": "2025-01-07T16:41:01.884748Z",
     "shell.execute_reply": "2025-01-07T16:41:01.883828Z"
    },
    "papermill": {
     "duration": 0.886029,
     "end_time": "2025-01-07T16:41:01.885745",
     "exception": false,
     "start_time": "2025-01-07T16:41:00.999716",
     "status": "completed"
    },
    "tags": []
   },
   "outputs": [],
   "source": [
    "# add the 'data' folder to the system path  \n",
    "sys.path.append(os.path.abspath(\"data\"))\n",
    "from relative import *\n",
    "from AT_funs import *\n",
    "\n"
   ]
  },
  {
   "cell_type": "code",
   "execution_count": 4,
   "id": "c10e57be-9edb-48b2-a7c7-4d446f107612",
   "metadata": {
    "execution": {
     "iopub.execute_input": "2025-01-07T16:41:01.896801Z",
     "iopub.status.busy": "2025-01-07T16:41:01.896801Z",
     "iopub.status.idle": "2025-01-07T16:41:01.915645Z",
     "shell.execute_reply": "2025-01-07T16:41:01.913734Z"
    },
    "papermill": {
     "duration": 0.025923,
     "end_time": "2025-01-07T16:41:01.916679",
     "exception": false,
     "start_time": "2025-01-07T16:41:01.890756",
     "status": "completed"
    },
    "tags": []
   },
   "outputs": [],
   "source": [
    "# # Get the path of the Excel file from the command line argument  \n",
    "# # filename = sys.argv[1]  \n",
    "# filename = 'data/A2A.MI.xlsx'\n",
    "# df = read_xlsx(filename)\n",
    "# ticker = filename.replace('xlsx', '')\n",
    "# # ticker = ' '\n",
    "# # df\n",
    "# filename_bm = 'data/FTSEMIB.MI.xlsx'\n",
    "# bm_df = read_xlsx(filename_bm)\n",
    "# bm_name = filename_bm.replace('xlsx', '')"
   ]
  },
  {
   "cell_type": "code",
   "execution_count": 5,
   "id": "bf256f3b-01c5-4716-92f2-41c8148bb68b",
   "metadata": {
    "execution": {
     "iopub.execute_input": "2025-01-07T16:41:01.927686Z",
     "iopub.status.busy": "2025-01-07T16:41:01.927686Z",
     "iopub.status.idle": "2025-01-07T16:41:01.945544Z",
     "shell.execute_reply": "2025-01-07T16:41:01.944621Z"
    },
    "papermill": {
     "duration": 0.026914,
     "end_time": "2025-01-07T16:41:01.948537",
     "exception": false,
     "start_time": "2025-01-07T16:41:01.921623",
     "status": "completed"
    },
    "tags": []
   },
   "outputs": [],
   "source": [
    "# plot_abs_rel(df, ticker, bm_df, bm_name)"
   ]
  },
  {
   "cell_type": "markdown",
   "id": "770433e8",
   "metadata": {
    "tags": [
     "papermill-error-cell-tag"
    ]
   },
   "source": [
    "<span id=\"papermill-error-cell\" style=\"color:red; font-family:Helvetica Neue, Helvetica, Arial, sans-serif; font-size:2em;\">Execution using papermill encountered an exception here and stopped:</span>"
   ]
  },
  {
   "cell_type": "code",
   "execution_count": 6,
   "id": "0b660f54-a39b-498e-8eb8-bf81c034988f",
   "metadata": {
    "execution": {
     "iopub.execute_input": "2025-01-07T16:41:01.958531Z",
     "iopub.status.busy": "2025-01-07T16:41:01.958531Z",
     "iopub.status.idle": "2025-01-07T16:41:02.649185Z",
     "shell.execute_reply": "2025-01-07T16:41:02.648281Z"
    },
    "papermill": {
     "duration": 0.69763,
     "end_time": "2025-01-07T16:41:02.651194",
     "exception": true,
     "start_time": "2025-01-07T16:41:01.953564",
     "status": "failed"
    },
    "tags": []
   },
   "outputs": [
    {
     "ename": "ValueError",
     "evalue": "Excel file format cannot be determined, you must specify an engine manually.",
     "output_type": "error",
     "traceback": [
      "\u001b[1;31m---------------------------------------------------------------------------\u001b[0m",
      "\u001b[1;31mValueError\u001b[0m                                Traceback (most recent call last)",
      "Cell \u001b[1;32mIn[6], line 5\u001b[0m\n\u001b[0;32m      1\u001b[0m \u001b[38;5;66;03m# Parameters  \u001b[39;00m\n\u001b[0;32m      2\u001b[0m \u001b[38;5;66;03m# path_to_file: str - the path to the input file  \u001b[39;00m\n\u001b[0;32m      4\u001b[0m filename \u001b[38;5;241m=\u001b[39m path_to_file\n\u001b[1;32m----> 5\u001b[0m df \u001b[38;5;241m=\u001b[39m \u001b[43mread_xlsx\u001b[49m\u001b[43m(\u001b[49m\u001b[43mfilename\u001b[49m\u001b[43m)\u001b[49m\n\u001b[0;32m      6\u001b[0m ticker \u001b[38;5;241m=\u001b[39m filename\u001b[38;5;241m.\u001b[39mreplace(\u001b[38;5;124m'\u001b[39m\u001b[38;5;124mxlsx\u001b[39m\u001b[38;5;124m'\u001b[39m, \u001b[38;5;124m'\u001b[39m\u001b[38;5;124m'\u001b[39m)\n\u001b[0;32m      7\u001b[0m \u001b[38;5;66;03m# ticker = ' '\u001b[39;00m\n\u001b[0;32m      8\u001b[0m \u001b[38;5;66;03m# df\u001b[39;00m\n",
      "File \u001b[1;32m~\\OneDrive - Gen Re AzureAD\\Desktop\\lavoro\\Personal projects\\finance\\myfinance 20240708\\AT_funs.py:39\u001b[0m, in \u001b[0;36mread_xlsx\u001b[1;34m(filename)\u001b[0m\n\u001b[0;32m     38\u001b[0m \u001b[38;5;28;01mdef\u001b[39;00m \u001b[38;5;21mread_xlsx\u001b[39m(filename):      \n\u001b[1;32m---> 39\u001b[0m     bm_df \u001b[38;5;241m=\u001b[39m \u001b[43mpd\u001b[49m\u001b[38;5;241;43m.\u001b[39;49m\u001b[43mread_excel\u001b[49m\u001b[43m(\u001b[49m\u001b[43mfilename\u001b[49m\u001b[43m)\u001b[49m\n\u001b[0;32m     40\u001b[0m     bm_df\u001b[38;5;241m.\u001b[39mcolumns\u001b[38;5;241m=\u001b[39m bm_df\u001b[38;5;241m.\u001b[39mcolumns\u001b[38;5;241m.\u001b[39mstr\u001b[38;5;241m.\u001b[39mstrip()\u001b[38;5;241m.\u001b[39mstr\u001b[38;5;241m.\u001b[39mlower()\n\u001b[0;32m     41\u001b[0m     bm_df[\u001b[38;5;124m'\u001b[39m\u001b[38;5;124mdate\u001b[39m\u001b[38;5;124m'\u001b[39m] \u001b[38;5;241m=\u001b[39m pd\u001b[38;5;241m.\u001b[39mto_datetime(bm_df[\u001b[38;5;124m'\u001b[39m\u001b[38;5;124mdate\u001b[39m\u001b[38;5;124m'\u001b[39m])  \n",
      "File \u001b[1;32mC:\\MINICO~1\\lib\\site-packages\\pandas\\io\\excel\\_base.py:495\u001b[0m, in \u001b[0;36mread_excel\u001b[1;34m(io, sheet_name, header, names, index_col, usecols, dtype, engine, converters, true_values, false_values, skiprows, nrows, na_values, keep_default_na, na_filter, verbose, parse_dates, date_parser, date_format, thousands, decimal, comment, skipfooter, storage_options, dtype_backend, engine_kwargs)\u001b[0m\n\u001b[0;32m    493\u001b[0m \u001b[38;5;28;01mif\u001b[39;00m \u001b[38;5;129;01mnot\u001b[39;00m \u001b[38;5;28misinstance\u001b[39m(io, ExcelFile):\n\u001b[0;32m    494\u001b[0m     should_close \u001b[38;5;241m=\u001b[39m \u001b[38;5;28;01mTrue\u001b[39;00m\n\u001b[1;32m--> 495\u001b[0m     io \u001b[38;5;241m=\u001b[39m \u001b[43mExcelFile\u001b[49m\u001b[43m(\u001b[49m\n\u001b[0;32m    496\u001b[0m \u001b[43m        \u001b[49m\u001b[43mio\u001b[49m\u001b[43m,\u001b[49m\n\u001b[0;32m    497\u001b[0m \u001b[43m        \u001b[49m\u001b[43mstorage_options\u001b[49m\u001b[38;5;241;43m=\u001b[39;49m\u001b[43mstorage_options\u001b[49m\u001b[43m,\u001b[49m\n\u001b[0;32m    498\u001b[0m \u001b[43m        \u001b[49m\u001b[43mengine\u001b[49m\u001b[38;5;241;43m=\u001b[39;49m\u001b[43mengine\u001b[49m\u001b[43m,\u001b[49m\n\u001b[0;32m    499\u001b[0m \u001b[43m        \u001b[49m\u001b[43mengine_kwargs\u001b[49m\u001b[38;5;241;43m=\u001b[39;49m\u001b[43mengine_kwargs\u001b[49m\u001b[43m,\u001b[49m\n\u001b[0;32m    500\u001b[0m \u001b[43m    \u001b[49m\u001b[43m)\u001b[49m\n\u001b[0;32m    501\u001b[0m \u001b[38;5;28;01melif\u001b[39;00m engine \u001b[38;5;129;01mand\u001b[39;00m engine \u001b[38;5;241m!=\u001b[39m io\u001b[38;5;241m.\u001b[39mengine:\n\u001b[0;32m    502\u001b[0m     \u001b[38;5;28;01mraise\u001b[39;00m \u001b[38;5;167;01mValueError\u001b[39;00m(\n\u001b[0;32m    503\u001b[0m         \u001b[38;5;124m\"\u001b[39m\u001b[38;5;124mEngine should not be specified when passing \u001b[39m\u001b[38;5;124m\"\u001b[39m\n\u001b[0;32m    504\u001b[0m         \u001b[38;5;124m\"\u001b[39m\u001b[38;5;124man ExcelFile - ExcelFile already has the engine set\u001b[39m\u001b[38;5;124m\"\u001b[39m\n\u001b[0;32m    505\u001b[0m     )\n",
      "File \u001b[1;32mC:\\MINICO~1\\lib\\site-packages\\pandas\\io\\excel\\_base.py:1554\u001b[0m, in \u001b[0;36mExcelFile.__init__\u001b[1;34m(self, path_or_buffer, engine, storage_options, engine_kwargs)\u001b[0m\n\u001b[0;32m   1550\u001b[0m     ext \u001b[38;5;241m=\u001b[39m inspect_excel_format(\n\u001b[0;32m   1551\u001b[0m         content_or_path\u001b[38;5;241m=\u001b[39mpath_or_buffer, storage_options\u001b[38;5;241m=\u001b[39mstorage_options\n\u001b[0;32m   1552\u001b[0m     )\n\u001b[0;32m   1553\u001b[0m     \u001b[38;5;28;01mif\u001b[39;00m ext \u001b[38;5;129;01mis\u001b[39;00m \u001b[38;5;28;01mNone\u001b[39;00m:\n\u001b[1;32m-> 1554\u001b[0m         \u001b[38;5;28;01mraise\u001b[39;00m \u001b[38;5;167;01mValueError\u001b[39;00m(\n\u001b[0;32m   1555\u001b[0m             \u001b[38;5;124m\"\u001b[39m\u001b[38;5;124mExcel file format cannot be determined, you must specify \u001b[39m\u001b[38;5;124m\"\u001b[39m\n\u001b[0;32m   1556\u001b[0m             \u001b[38;5;124m\"\u001b[39m\u001b[38;5;124man engine manually.\u001b[39m\u001b[38;5;124m\"\u001b[39m\n\u001b[0;32m   1557\u001b[0m         )\n\u001b[0;32m   1559\u001b[0m engine \u001b[38;5;241m=\u001b[39m config\u001b[38;5;241m.\u001b[39mget_option(\u001b[38;5;124mf\u001b[39m\u001b[38;5;124m\"\u001b[39m\u001b[38;5;124mio.excel.\u001b[39m\u001b[38;5;132;01m{\u001b[39;00mext\u001b[38;5;132;01m}\u001b[39;00m\u001b[38;5;124m.reader\u001b[39m\u001b[38;5;124m\"\u001b[39m, silent\u001b[38;5;241m=\u001b[39m\u001b[38;5;28;01mTrue\u001b[39;00m)\n\u001b[0;32m   1560\u001b[0m \u001b[38;5;28;01mif\u001b[39;00m engine \u001b[38;5;241m==\u001b[39m \u001b[38;5;124m\"\u001b[39m\u001b[38;5;124mauto\u001b[39m\u001b[38;5;124m\"\u001b[39m:\n",
      "\u001b[1;31mValueError\u001b[0m: Excel file format cannot be determined, you must specify an engine manually."
     ]
    }
   ],
   "source": [
    "# Parameters  \n",
    "# path_to_file: str - the path to the input file  \n",
    "  \n",
    "filename = path_to_file\n",
    "df = read_xlsx(filename)\n",
    "ticker = filename.replace('xlsx', '')\n",
    "# ticker = ' '\n",
    "# df\n",
    "filename_bm = 'data/FTSEMIB.MI.xlsx'\n",
    "bm_df = read_xlsx(filename_bm)\n",
    "bm_name = filename_bm.replace('xlsx', '')"
   ]
  },
  {
   "cell_type": "code",
   "execution_count": null,
   "id": "55b83496-eb02-490d-aef2-62a6aa478e6e",
   "metadata": {
    "execution": {
     "iopub.execute_input": "2025-01-07T16:08:34.331223Z",
     "iopub.status.busy": "2025-01-07T16:08:34.331223Z",
     "iopub.status.idle": "2025-01-07T16:08:34.540301Z",
     "shell.execute_reply": "2025-01-07T16:08:34.539298Z"
    },
    "papermill": {
     "duration": null,
     "end_time": null,
     "exception": null,
     "start_time": null,
     "status": "pending"
    },
    "tags": []
   },
   "outputs": [],
   "source": [
    "plot_abs_rel(df, ticker, bm_df, bm_name)"
   ]
  },
  {
   "cell_type": "code",
   "execution_count": null,
   "id": "ede37904-5bbb-418d-9059-699d76bbf0a3",
   "metadata": {
    "execution": {
     "iopub.execute_input": "2025-01-07T16:08:34.555193Z",
     "iopub.status.busy": "2025-01-07T16:08:34.555193Z",
     "iopub.status.idle": "2025-01-07T16:08:34.569820Z",
     "shell.execute_reply": "2025-01-07T16:08:34.569316Z"
    },
    "papermill": {
     "duration": null,
     "end_time": null,
     "exception": null,
     "start_time": null,
     "status": "pending"
    },
    "tags": []
   },
   "outputs": [],
   "source": [
    "# window_bo = 100\n",
    "# fast = 20\n",
    "# slow = 50\n",
    "# st = 50\n",
    "# mt = 100\n",
    "# lt = 150\n",
    "# lvl = 3\n",
    "# bm_col = 'close'\n",
    "# dgt = 5\n",
    "# window_exp = 100\n",
    "# starting_capital = 100000\n",
    "# lot = 100\n",
    "# mn = -0.0025\n",
    "# mx = -0.0075\n",
    "# # avg = (mn + mx) / 2\n",
    "# tolerance= -0.1\n",
    "# equal_weight = 0.05\n",
    "# span= 5\n",
    "# fx = 1"
   ]
  },
  {
   "cell_type": "code",
   "execution_count": null,
   "id": "acc836f8-1d67-4cd8-a34f-54476972ed30",
   "metadata": {
    "execution": {
     "iopub.execute_input": "2025-01-07T16:08:34.580838Z",
     "iopub.status.busy": "2025-01-07T16:08:34.580838Z",
     "iopub.status.idle": "2025-01-07T16:08:34.585771Z",
     "shell.execute_reply": "2025-01-07T16:08:34.584847Z"
    },
    "papermill": {
     "duration": null,
     "end_time": null,
     "exception": null,
     "start_time": null,
     "status": "pending"
    },
    "tags": []
   },
   "outputs": [],
   "source": [
    "# ohlc = ['open','high','low','close']\n",
    "# _o,_h,_l,_c = [ohlc[h] for h in range(len(ohlc))]\n",
    "# ticker = df['ticker'][0]\n",
    "\n",
    "# df = relative(df,_o,_h,_l,_c, bm_df, bm_col, dgt, rebase=True)\n",
    "# df = df.set_index('date')\n",
    "\n",
    "# df_bo = signal_rbo(df, window_bo, relative=True)\n",
    "# df_tt = signal_rtt(df, fast = fast, slow = slow, relative=True)\n",
    "# df_ema = signal_rema(df, st, mt, lt, relative=True)\n",
    "# df_sma = signal_rsma(df, st, mt, lt, relative=True)\n",
    "# df_fc = detect_regime(df, bm_df)"
   ]
  },
  {
   "cell_type": "code",
   "execution_count": null,
   "id": "0ce95c8f-d951-49c3-a01d-2d1383f76814",
   "metadata": {
    "execution": {
     "iopub.execute_input": "2025-01-07T16:08:34.602783Z",
     "iopub.status.busy": "2025-01-07T16:08:34.602783Z",
     "iopub.status.idle": "2025-01-07T16:08:34.617958Z",
     "shell.execute_reply": "2025-01-07T16:08:34.616735Z"
    },
    "papermill": {
     "duration": null,
     "end_time": null,
     "exception": null,
     "start_time": null,
     "status": "pending"
    },
    "tags": []
   },
   "outputs": [],
   "source": [
    "# def plot_signal_bo(df, window, ticker, relative):\n",
    "\n",
    "#     _o,_h,_l,_c = lower_upper_OHLC(df,relative = relative)\n",
    "    \n",
    "#     prefix_h = 'hi_'\n",
    "#     prefix_l = 'lo_'\n",
    "#     prefix_bo = 'bo_'\n",
    "#     close = 'close'\n",
    "#     if relative:\n",
    "#         prefix_h = 'rhi_'\n",
    "#         prefix_l = 'rlo_'\n",
    "#         prefix_bo = 'rbo_'  \n",
    "#         close = 'rclose'\n",
    "        \n",
    "#     # df = df.set_index('date')\n",
    "#     df[[close, prefix_h + str(window), prefix_l + str(window), prefix_bo + str(window)]].plot(\n",
    "#         secondary_y= [prefix_bo + str(window)], figsize=(20,5), style=['k','g:','r:','b-.'], \n",
    "#         title = str.upper(ticker)+' '+str(window) +' days high/low')\n",
    "#     plt.show()"
   ]
  },
  {
   "cell_type": "code",
   "execution_count": null,
   "id": "f1bc238d-36fa-4da1-9257-c78a3d090c85",
   "metadata": {
    "execution": {
     "iopub.execute_input": "2025-01-07T16:08:34.629993Z",
     "iopub.status.busy": "2025-01-07T16:08:34.628957Z",
     "iopub.status.idle": "2025-01-07T16:08:34.647901Z",
     "shell.execute_reply": "2025-01-07T16:08:34.646947Z"
    },
    "papermill": {
     "duration": null,
     "end_time": null,
     "exception": null,
     "start_time": null,
     "status": "pending"
    },
    "tags": []
   },
   "outputs": [],
   "source": [
    "# plot_signal_bo(df_bo, window_bo, ticker, relative = True)"
   ]
  },
  {
   "cell_type": "code",
   "execution_count": null,
   "id": "b968e4d7-7e1f-46a0-9612-89d603a2c925",
   "metadata": {
    "execution": {
     "iopub.execute_input": "2025-01-07T16:08:34.662917Z",
     "iopub.status.busy": "2025-01-07T16:08:34.661880Z",
     "iopub.status.idle": "2025-01-07T16:08:34.679794Z",
     "shell.execute_reply": "2025-01-07T16:08:34.678837Z"
    },
    "papermill": {
     "duration": null,
     "end_time": null,
     "exception": null,
     "start_time": null,
     "status": "pending"
    },
    "tags": []
   },
   "outputs": [],
   "source": [
    "# def plot_signal_tt(df, fast, slow, relative):\n",
    "\n",
    "#     close = 'close'\n",
    "#     tt = 'tt_'\n",
    "#     if relative:\n",
    "#         close = 'rclose'\n",
    "#         tt = 'rtt_'\n",
    "    \n",
    "#     rg_cols = [tt + str(slow)+str(fast)]\n",
    "\n",
    "#     df[[close, tt+ str(slow)+str(fast)] ].plot(\n",
    "#         secondary_y= rg_cols,figsize=(20,5), style=['k','b-.'], \n",
    "#         title = str.upper('')+' '+str(rg_cols))\n",
    "#     plt.show()  "
   ]
  },
  {
   "cell_type": "code",
   "execution_count": null,
   "id": "087d9ad6-8115-4c8f-9750-8f47a8c7d4c3",
   "metadata": {
    "execution": {
     "iopub.execute_input": "2025-01-07T16:08:34.691873Z",
     "iopub.status.busy": "2025-01-07T16:08:34.691873Z",
     "iopub.status.idle": "2025-01-07T16:08:34.710840Z",
     "shell.execute_reply": "2025-01-07T16:08:34.709847Z"
    },
    "papermill": {
     "duration": null,
     "end_time": null,
     "exception": null,
     "start_time": null,
     "status": "pending"
    },
    "tags": []
   },
   "outputs": [],
   "source": [
    "# plot_signal_tt(df_tt, fast, slow, relative = True)"
   ]
  },
  {
   "cell_type": "code",
   "execution_count": null,
   "id": "541bbbe1-ac4a-44db-8812-68151fb35260",
   "metadata": {
    "execution": {
     "iopub.execute_input": "2025-01-07T16:08:34.721815Z",
     "iopub.status.busy": "2025-01-07T16:08:34.720817Z",
     "iopub.status.idle": "2025-01-07T16:08:34.724805Z",
     "shell.execute_reply": "2025-01-07T16:08:34.724805Z"
    },
    "papermill": {
     "duration": null,
     "end_time": null,
     "exception": null,
     "start_time": null,
     "status": "pending"
    },
    "tags": []
   },
   "outputs": [],
   "source": [
    "# def plot_signal_sma(df, st, mt, lt, relative):\n",
    "\n",
    "#     close = 'close'\n",
    "#     sma = 'sma_'\n",
    "#     ema = 'ema_'\n",
    "#     if relative:\n",
    "#         close = 'rclose'\n",
    "#         sma = 'rsma_'\n",
    "#         ema = 'rema_'\n",
    "\n",
    "#     df[[close,sma+ str(st) + str(mt) + str(lt)] ].plot(\n",
    "#         secondary_y= sma+ str(st) + str(mt) + str(lt),figsize=(20,5), style=['k','b-.'], \n",
    "#         title = str.upper('')+' '+str([sma+ str(st) + str(mt) + str(lt)]))\n",
    "        \n",
    "#     plt.show() "
   ]
  },
  {
   "cell_type": "code",
   "execution_count": null,
   "id": "2be5be52-9c5a-4311-ac47-4538d580da77",
   "metadata": {
    "execution": {
     "iopub.execute_input": "2025-01-07T16:08:34.737685Z",
     "iopub.status.busy": "2025-01-07T16:08:34.736722Z",
     "iopub.status.idle": "2025-01-07T16:08:34.741714Z",
     "shell.execute_reply": "2025-01-07T16:08:34.740770Z"
    },
    "papermill": {
     "duration": null,
     "end_time": null,
     "exception": null,
     "start_time": null,
     "status": "pending"
    },
    "tags": []
   },
   "outputs": [],
   "source": [
    "# plot_signal_sma(df_sma, st, mt, lt, relative = True)"
   ]
  },
  {
   "cell_type": "code",
   "execution_count": null,
   "id": "307b943a-cb79-4140-ad91-2fa62aaccdc2",
   "metadata": {
    "execution": {
     "iopub.execute_input": "2025-01-07T16:08:34.752724Z",
     "iopub.status.busy": "2025-01-07T16:08:34.752724Z",
     "iopub.status.idle": "2025-01-07T16:08:34.755946Z",
     "shell.execute_reply": "2025-01-07T16:08:34.755946Z"
    },
    "papermill": {
     "duration": null,
     "end_time": null,
     "exception": null,
     "start_time": null,
     "status": "pending"
    },
    "tags": []
   },
   "outputs": [],
   "source": [
    "# def plot_signal_ema(df, st, mt, lt, relative):\n",
    "\n",
    "#     close = 'close'\n",
    "#     sma = 'sma_'\n",
    "#     ema = 'ema_'\n",
    "#     if relative:\n",
    "#         close = 'rclose'\n",
    "#         sma = 'rsma_'\n",
    "#         ema = 'rema_'\n",
    "    \n",
    "#     df[[close,ema+ str(st) + str(mt) + str(lt)] ].plot(\n",
    "#         secondary_y= ema+ str(st) + str(mt) + str(lt),figsize=(20,5), style=['k','b-.'], \n",
    "#         title = str.upper('')+' '+str([ema+ str(st) + str(mt) + str(lt)]))\n",
    "        \n",
    "#     plt.show() "
   ]
  },
  {
   "cell_type": "code",
   "execution_count": null,
   "id": "43356d36-8b62-4341-a736-8103de9a98db",
   "metadata": {
    "execution": {
     "iopub.execute_input": "2025-01-07T16:08:34.768898Z",
     "iopub.status.busy": "2025-01-07T16:08:34.767907Z",
     "iopub.status.idle": "2025-01-07T16:08:34.786796Z",
     "shell.execute_reply": "2025-01-07T16:08:34.785820Z"
    },
    "papermill": {
     "duration": null,
     "end_time": null,
     "exception": null,
     "start_time": null,
     "status": "pending"
    },
    "tags": []
   },
   "outputs": [],
   "source": [
    "# plot_signal_ema(df_ema, st, mt, lt, relative = True)"
   ]
  },
  {
   "cell_type": "code",
   "execution_count": null,
   "id": "2ac0e513-acb4-4f99-8418-9208c68b1a20",
   "metadata": {
    "execution": {
     "iopub.execute_input": "2025-01-07T16:08:34.798716Z",
     "iopub.status.busy": "2025-01-07T16:08:34.798716Z",
     "iopub.status.idle": "2025-01-07T16:08:34.802756Z",
     "shell.execute_reply": "2025-01-07T16:08:34.800781Z"
    },
    "papermill": {
     "duration": null,
     "end_time": null,
     "exception": null,
     "start_time": null,
     "status": "pending"
    },
    "tags": []
   },
   "outputs": [],
   "source": [
    "# plot_signal_rel(df_fc, ticker)\n",
    "# plot_regime_rel(df_fc, ticker)"
   ]
  },
  {
   "cell_type": "code",
   "execution_count": null,
   "id": "9cf64b40-df77-4833-9bce-90af7e61548b",
   "metadata": {
    "execution": {
     "iopub.execute_input": "2025-01-07T16:08:34.815709Z",
     "iopub.status.busy": "2025-01-07T16:08:34.814661Z",
     "iopub.status.idle": "2025-01-07T16:08:34.832681Z",
     "shell.execute_reply": "2025-01-07T16:08:34.831642Z"
    },
    "papermill": {
     "duration": null,
     "end_time": null,
     "exception": null,
     "start_time": null,
     "status": "pending"
    },
    "tags": []
   },
   "outputs": [],
   "source": [
    "# df_fc = df_fc.set_index('date')\n",
    "# df_fc[['rclose','rh3','rl3']].plot(\n",
    "#     style=['grey', 'rv', 'g^'],\n",
    "#     figsize=(20,5),grid=True, title = str.upper(ticker))\n",
    "# plt.show()"
   ]
  },
  {
   "cell_type": "code",
   "execution_count": null,
   "id": "55b947a3-a443-4f1d-8af1-8b0fd4063658",
   "metadata": {
    "execution": {
     "iopub.execute_input": "2025-01-07T16:08:34.845653Z",
     "iopub.status.busy": "2025-01-07T16:08:34.845653Z",
     "iopub.status.idle": "2025-01-07T16:08:34.863509Z",
     "shell.execute_reply": "2025-01-07T16:08:34.862577Z"
    },
    "papermill": {
     "duration": null,
     "end_time": null,
     "exception": null,
     "start_time": null,
     "status": "pending"
    },
    "tags": []
   },
   "outputs": [],
   "source": [
    "# df_fc[['close','hi3','lo3','rclose','rh3','rl3']].plot(\n",
    "#     style=['grey','rv', 'g^','k:','mv','b^'],\n",
    "#             figsize=(20,5),grid=True, title = str.upper(ticker)+' vs '+str.upper(bm_col))\n",
    "# plt.show()"
   ]
  },
  {
   "cell_type": "code",
   "execution_count": null,
   "id": "e752610e-3ce2-4599-a425-6b1a9e345a6e",
   "metadata": {
    "execution": {
     "iopub.execute_input": "2025-01-07T16:08:34.875501Z",
     "iopub.status.busy": "2025-01-07T16:08:34.875501Z",
     "iopub.status.idle": "2025-01-07T16:08:34.879174Z",
     "shell.execute_reply": "2025-01-07T16:08:34.878535Z"
    },
    "papermill": {
     "duration": null,
     "end_time": null,
     "exception": null,
     "start_time": null,
     "status": "pending"
    },
    "tags": []
   },
   "outputs": [],
   "source": [
    "# df_fc[['rclose','rh3', 'rl3','rclg','rflr','rrg_ch','rrg']].plot(style=['grey', 'ro', 'go', 'kv', 'k^','c:','y-.'], \n",
    "#                         secondary_y= ['rrg'],figsize=(20,5),grid=True, title = str.upper(ticker))\n",
    "# plt.show()"
   ]
  }
 ],
 "metadata": {
  "kernelspec": {
   "display_name": "Python 3 (ipykernel)",
   "language": "python",
   "name": "python3"
  },
  "language_info": {
   "codemirror_mode": {
    "name": "ipython",
    "version": 3
   },
   "file_extension": ".py",
   "mimetype": "text/x-python",
   "name": "python",
   "nbconvert_exporter": "python",
   "pygments_lexer": "ipython3",
   "version": "3.9.12"
  },
  "papermill": {
   "default_parameters": {},
   "duration": 7.330418,
   "end_time": "2025-01-07T16:41:05.749860",
   "environment_variables": {},
   "exception": true,
   "input_path": "template.ipynb",
   "output_path": "AT_funs_output.ipynb",
   "parameters": {
    "path_to_file": "data/AT_funs.py"
   },
   "start_time": "2025-01-07T16:40:58.419442",
   "version": "2.6.0"
  }
 },
 "nbformat": 4,
 "nbformat_minor": 5
}