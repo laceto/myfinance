{
 "cells": [
  {
   "cell_type": "code",
   "execution_count": 4,
   "id": "0d11ff32",
   "metadata": {},
   "outputs": [
    {
     "name": "stdout",
     "output_type": "stream",
     "text": [
      "Current working directory: C:\\Users\\laceto\\OneDrive - Gen Re AzureAD\\Desktop\\lavoro\\Personal projects\\finance\\myfinance 20240708\\NT\n",
      "New current working directory: C:\\Users\\laceto\\OneDrive - Gen Re AzureAD\\Desktop\\lavoro\\Personal projects\\finance\\myfinance 20240708\n"
     ]
    }
   ],
   "source": [
    "import os  \n",
    "  \n",
    "# get the current working directory  \n",
    "cwd = os.getcwd()  \n",
    "print(\"Current working directory:\", cwd)  \n",
    "  \n",
    "# change the current working directory to one level up  \n",
    "os.chdir(\"..\")  \n",
    "  \n",
    "# get the new current working directory  \n",
    "new_cwd = os.getcwd()  \n",
    "print(\"New current working directory:\", new_cwd)  "
   ]
  },
  {
   "cell_type": "code",
   "execution_count": 6,
   "id": "3428c290-ccb7-44e0-8172-9c489b14ec54",
   "metadata": {},
   "outputs": [],
   "source": [
    "# # specify the path of the directory  \n",
    "# path = \"./data/\"  \n",
    "  \n",
    "# # use listdir() method to get all files in the directory  \n",
    "# files = os.listdir(path)  \n",
    "  \n",
    "# # print all files  \n",
    "# for file in files:  \n",
    "#     print(file)  "
   ]
  },
  {
   "cell_type": "code",
   "execution_count": 7,
   "id": "f7039294-58a5-48ce-81a5-322a8c226f17",
   "metadata": {},
   "outputs": [
    {
     "name": "stdout",
     "output_type": "stream",
     "text": [
      "                    date    volume   high    low   open  close  adj_close  \\\n",
      "0    2016-01-04 08:00:00  12496412  1.248  1.220  1.242  1.224   0.800298   \n",
      "1    2016-01-05 08:00:00   9773848  1.243  1.217  1.234  1.238   0.809452   \n",
      "2    2016-01-06 08:00:00  12137840  1.249  1.225  1.232  1.230   0.804221   \n",
      "3    2016-01-07 08:00:00  17878384  1.246  1.195  1.215  1.243   0.812721   \n",
      "4    2016-01-08 08:00:00  14424671  1.257  1.233  1.244  1.235   0.807490   \n",
      "...                  ...       ...    ...    ...    ...    ...        ...   \n",
      "2286 2024-12-27 08:00:00   3288664  2.130  2.104  2.124  2.127   2.127000   \n",
      "2287 2024-12-30 08:00:00   4199469  2.151  2.122  2.124  2.145   2.145000   \n",
      "2288 2025-01-02 08:00:00   4848444  2.189  2.146  2.160  2.187   2.187000   \n",
      "2289 2025-01-03 08:00:00   3760002  2.191  2.163  2.190  2.174   2.174000   \n",
      "2290 2025-01-06 16:35:27   6386942  2.182  2.141  2.180  2.156   2.156000   \n",
      "\n",
      "      ticker  \n",
      "0     A2A.MI  \n",
      "1     A2A.MI  \n",
      "2     A2A.MI  \n",
      "3     A2A.MI  \n",
      "4     A2A.MI  \n",
      "...      ...  \n",
      "2286  A2A.MI  \n",
      "2287  A2A.MI  \n",
      "2288  A2A.MI  \n",
      "2289  A2A.MI  \n",
      "2290  A2A.MI  \n",
      "\n",
      "[2291 rows x 8 columns]\n"
     ]
    }
   ],
   "source": [
    "import pandas as pd  \n",
    "import openpyxl\n",
    "  \n",
    "# Read the Excel file  \n",
    "df = pd.read_excel('data/A2A.MI.xlsx')\n",
    "print(df)"
   ]
  },
  {
   "cell_type": "code",
   "execution_count": null,
   "id": "4320461e-f1ff-4ba4-bfeb-b87971c0a0d9",
   "metadata": {},
   "outputs": [],
   "source": []
  }
 ],
 "metadata": {
  "kernelspec": {
   "display_name": "Python 3 (ipykernel)",
   "language": "python",
   "name": "python3"
  },
  "language_info": {
   "codemirror_mode": {
    "name": "ipython",
    "version": 3
   },
   "file_extension": ".py",
   "mimetype": "text/x-python",
   "name": "python",
   "nbconvert_exporter": "python",
   "pygments_lexer": "ipython3",
   "version": "3.9.12"
  }
 },
 "nbformat": 4,
 "nbformat_minor": 5
}
