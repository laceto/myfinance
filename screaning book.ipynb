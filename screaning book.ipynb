{
 "cells": [
  {
   "cell_type": "code",
   "execution_count": 1,
   "id": "6b3c0ab4-6054-4820-a07a-b9ffeed9452a",
   "metadata": {
    "tags": []
   },
   "outputs": [],
   "source": [
    "import sys  \n",
    "import os\n",
    "sys.path.insert(0, '..')\n",
    "from AT_funs_appendix import *\n",
    "from AT_funs import read_xlsx"
   ]
  },
  {
   "cell_type": "code",
   "execution_count": 2,
   "id": "e425e2e1-119c-490c-9083-d3a56fbfa2ed",
   "metadata": {
    "tags": []
   },
   "outputs": [],
   "source": [
    "filename_bm = 'FTSEMIB.MI.xlsx'\n",
    "bm_df = read_xlsx(filename_bm)\n",
    "bm_name = filename_bm.replace('xlsx', '')\n",
    "bm_df['date'] = pd.to_datetime(bm_df['date'])\n",
    "bm_df['USD'] = 1"
   ]
  },
  {
   "cell_type": "code",
   "execution_count": 3,
   "id": "a7069b2e-eafd-457c-8d40-7c430a1a251e",
   "metadata": {
    "tags": []
   },
   "outputs": [],
   "source": [
    "params = ['2014-12-31', None, 63, 0.05, 0.05, 1.5, 2,5,2.5,3]\n",
    "start,end,vlty_n,dist_pct,retrace_pct,threshold,dgt,d_vol,r_vol,lvl= [params[h] for h in range(len(params))]\n",
    "\n",
    "rel_var = ['FTSEMIB.MI','close', 'USD']\n",
    "bm_ticker, bm_col, ccy_col = [rel_var[h] for h in range(len(rel_var))]\n",
    "# lvl"
   ]
  },
  {
   "cell_type": "code",
   "execution_count": 4,
   "id": "73db8e78-8430-40b1-ae08-641544a99202",
   "metadata": {
    "tags": []
   },
   "outputs": [],
   "source": [
    "window = 100\n",
    "st= fast = 50\n",
    "lt = slow = 200\n",
    "\n",
    "batch_size = 1\n",
    "show_batch = True\n",
    "save_ticker_df = False\n",
    "save_last_row_df = False\n",
    "save_regime_df = False"
   ]
  },
  {
   "cell_type": "code",
   "execution_count": 5,
   "id": "9cafee55-7d72-408b-95a3-2ad12609b18c",
   "metadata": {
    "tags": []
   },
   "outputs": [],
   "source": [
    "# website = 'https://en.wikipedia.org/wiki/List_of_S%26P_500_companies'\n",
    "web_df_cols = ['Symbol','Security','GICS Sector','GICS Sub-Industry']\n",
    "regime_cols = ['rg','rrg',\n",
    "    'smac'+str(st)+str(lt),'smar'+str(st)+str(lt), 'bohl'+str(slow),\n",
    "    'borr'+str(slow),'tth'+str(fast)+'l'+str(slow),'ttr'+str(fast)+'r'+str(slow)]\n",
    "\n",
    "swings_cols = ['flr_dt','flr','clg_dt', 'clg', 'rg_ch', \n",
    "    'hi'+str(lvl)+'_dt','hi'+str(lvl),'lo'+str(lvl)+'_dt','lo'+str(lvl) ,\n",
    "      'rflr_dt', 'rflr', 'rclg_dt', 'rclg', 'rrg_ch',\n",
    "    'rh'+str(lvl)+'_dt','rh'+str(lvl),'rl'+str(lvl)+'_dt','rl'+str(lvl) ]\n",
    "symbol_cols = ['ticker','date','close']\n",
    "\n",
    "last_row_df_cols = symbol_cols+['score']+regime_cols+swings_cols"
   ]
  },
  {
   "cell_type": "code",
   "execution_count": 6,
   "id": "afe4defb-9b0a-4f4d-81bd-e50dd0c7a539",
   "metadata": {
    "tags": []
   },
   "outputs": [],
   "source": [
    "folder_path = os.getcwd()  \n",
    "  \n",
    "# Get all xlsx files in folder (except ftsemib.xlsx)  \n",
    "tickers_list = [file for file in os.listdir(folder_path) if file.endswith(\".xlsx\") and file != \"FTSEMIB.MI.xlsx\" and file != \"sectors.xlsx\"]  \n",
    "tickers_list = tickers_list[:20] \n",
    "# tickers_list"
   ]
  },
  {
   "cell_type": "code",
   "execution_count": 7,
   "id": "f570423b-55da-4e0d-b451-1c94ef67ae83",
   "metadata": {
    "tags": []
   },
   "outputs": [],
   "source": [
    "# Read all xlsx files  \n",
    "dfs = []\n",
    "    \n",
    "for file in tickers_list:      \n",
    "    file_path = os.path.join(folder_path, file)      \n",
    "    df = pd.read_excel(file_path)  \n",
    "    if df.shape[0] >= 1000:  \n",
    "        dfs.append(df)  "
   ]
  },
  {
   "cell_type": "code",
   "execution_count": 8,
   "id": "bd287cd2-efe8-4c0f-8e85-4deffa1cc5d9",
   "metadata": {
    "tags": []
   },
   "outputs": [],
   "source": [
    "regime_df = pd.DataFrame()\n",
    "last_row_df = pd.DataFrame()\n",
    "signal_df = pd.DataFrame()\n",
    "signal_list = []\n",
    "last_row_list = []\n",
    "failed = []"
   ]
  },
  {
   "cell_type": "code",
   "execution_count": 9,
   "id": "b74f617a-45a5-4ab6-b8e0-c2e3f628b43b",
   "metadata": {
    "tags": []
   },
   "outputs": [],
   "source": [
    "loop_size = len(tickers_list)+1"
   ]
  },
  {
   "cell_type": "code",
   "execution_count": 10,
   "id": "2ac75054-6b45-4157-9087-32506aa9a1e7",
   "metadata": {
    "tags": []
   },
   "outputs": [],
   "source": [
    "def last_row_dictionary(df, ticker):\n",
    "    \n",
    "    df_cols = list(df.columns)\n",
    "    col_dict = {'Symbol':str.upper(ticker),'date':df['date'].max().strftime('%Y%m%d')}\n",
    "    for i, col_name in enumerate(df_cols):\n",
    "        if pd.isnull(df.iloc[-1,i]):\n",
    "            try:\n",
    "                last_index = df[pd.notnull(df.iloc[:,i])].index[-1]\n",
    "                len_last_index = len(df[:last_index]) - 1\n",
    "                col_dict.update({col_name + '_dt': last_index.strftime('%Y%m%d')})\n",
    "                col_dict.update({col_name : df.iloc[len_last_index,i]})\n",
    "            except:\n",
    "                col_dict.update({col_name + '_dt':np.nan})\n",
    "                col_dict.update({col_name : np.nan})\n",
    "        else:\n",
    "            col_dict.update({col_name : df.iloc[-1,i]})\n",
    "    return col_dict\n",
    "\n",
    "def find_last_change(df, regime_cols):\n",
    "    date_cols = ['ticker','date']\n",
    "    signal = df[date_cols + regime_cols] \n",
    "    signal = pd.melt(signal, id_vars=['ticker', 'date'], var_name='regime', value_name='signal') \n",
    "    signal_change = signal.groupby('regime').apply(lambda x: x[x['signal'].diff() != 0].tail(1)) \n",
    "    signal_change = signal_change.drop(columns=['regime']) \n",
    "    signal_change = signal_change.reset_index() \n",
    "    signal_change = signal_change.pivot(index='ticker', columns='regime', values='date') \n",
    "    return signal_change"
   ]
  },
  {
   "cell_type": "code",
   "execution_count": 11,
   "id": "93769dcf-f347-485f-871b-33a26c135d67",
   "metadata": {
    "tags": []
   },
   "outputs": [
    {
     "name": "stdout",
     "output_type": "stream",
     "text": [
      "['RLT.MI.xlsx'] 0 1\n"
     ]
    },
    {
     "name": "stderr",
     "output_type": "stream",
     "text": [
      "/tmp/ipykernel_1242583/3854100217.py:23: DeprecationWarning: DataFrameGroupBy.apply operated on the grouping columns. This behavior is deprecated, and in a future version of pandas the grouping columns will be excluded from the operation. Either pass `include_groups=False` to exclude the groupings or explicitly select the grouping columns after groupby to silence this warning.\n",
      "  signal_change = signal.groupby('regime').apply(lambda x: x[x['signal'].diff() != 0].tail(1))\n"
     ]
    },
    {
     "name": "stdout",
     "output_type": "stream",
     "text": [
      "['AIM.MI.xlsx'] 1 2\n"
     ]
    },
    {
     "name": "stderr",
     "output_type": "stream",
     "text": [
      "/tmp/ipykernel_1242583/3854100217.py:23: DeprecationWarning: DataFrameGroupBy.apply operated on the grouping columns. This behavior is deprecated, and in a future version of pandas the grouping columns will be excluded from the operation. Either pass `include_groups=False` to exclude the groupings or explicitly select the grouping columns after groupby to silence this warning.\n",
      "  signal_change = signal.groupby('regime').apply(lambda x: x[x['signal'].diff() != 0].tail(1))\n"
     ]
    },
    {
     "name": "stdout",
     "output_type": "stream",
     "text": [
      "['ABP.MI.xlsx'] 2 3\n"
     ]
    },
    {
     "name": "stderr",
     "output_type": "stream",
     "text": [
      "/tmp/ipykernel_1242583/3854100217.py:23: DeprecationWarning: DataFrameGroupBy.apply operated on the grouping columns. This behavior is deprecated, and in a future version of pandas the grouping columns will be excluded from the operation. Either pass `include_groups=False` to exclude the groupings or explicitly select the grouping columns after groupby to silence this warning.\n",
      "  signal_change = signal.groupby('regime').apply(lambda x: x[x['signal'].diff() != 0].tail(1))\n"
     ]
    },
    {
     "name": "stdout",
     "output_type": "stream",
     "text": [
      "['MAPS.MI.xlsx'] 3 4\n"
     ]
    },
    {
     "name": "stderr",
     "output_type": "stream",
     "text": [
      "/tmp/ipykernel_1242583/3854100217.py:23: DeprecationWarning: DataFrameGroupBy.apply operated on the grouping columns. This behavior is deprecated, and in a future version of pandas the grouping columns will be excluded from the operation. Either pass `include_groups=False` to exclude the groupings or explicitly select the grouping columns after groupby to silence this warning.\n",
      "  signal_change = signal.groupby('regime').apply(lambda x: x[x['signal'].diff() != 0].tail(1))\n"
     ]
    },
    {
     "name": "stdout",
     "output_type": "stream",
     "text": [
      "['GE.MI.xlsx'] 4 5\n"
     ]
    },
    {
     "name": "stderr",
     "output_type": "stream",
     "text": [
      "/tmp/ipykernel_1242583/3854100217.py:23: DeprecationWarning: DataFrameGroupBy.apply operated on the grouping columns. This behavior is deprecated, and in a future version of pandas the grouping columns will be excluded from the operation. Either pass `include_groups=False` to exclude the groupings or explicitly select the grouping columns after groupby to silence this warning.\n",
      "  signal_change = signal.groupby('regime').apply(lambda x: x[x['signal'].diff() != 0].tail(1))\n"
     ]
    },
    {
     "name": "stdout",
     "output_type": "stream",
     "text": [
      "['EVISO.MI.xlsx'] 5 6\n"
     ]
    },
    {
     "name": "stderr",
     "output_type": "stream",
     "text": [
      "/tmp/ipykernel_1242583/3854100217.py:23: DeprecationWarning: DataFrameGroupBy.apply operated on the grouping columns. This behavior is deprecated, and in a future version of pandas the grouping columns will be excluded from the operation. Either pass `include_groups=False` to exclude the groupings or explicitly select the grouping columns after groupby to silence this warning.\n",
      "  signal_change = signal.groupby('regime').apply(lambda x: x[x['signal'].diff() != 0].tail(1))\n"
     ]
    },
    {
     "name": "stdout",
     "output_type": "stream",
     "text": [
      "['AVIO.MI.xlsx'] 6 7\n"
     ]
    },
    {
     "name": "stderr",
     "output_type": "stream",
     "text": [
      "/tmp/ipykernel_1242583/3854100217.py:23: DeprecationWarning: DataFrameGroupBy.apply operated on the grouping columns. This behavior is deprecated, and in a future version of pandas the grouping columns will be excluded from the operation. Either pass `include_groups=False` to exclude the groupings or explicitly select the grouping columns after groupby to silence this warning.\n",
      "  signal_change = signal.groupby('regime').apply(lambda x: x[x['signal'].diff() != 0].tail(1))\n"
     ]
    },
    {
     "name": "stdout",
     "output_type": "stream",
     "text": [
      "['GM.MI.xlsx'] 7 8\n"
     ]
    },
    {
     "name": "stderr",
     "output_type": "stream",
     "text": [
      "/tmp/ipykernel_1242583/3854100217.py:23: DeprecationWarning: DataFrameGroupBy.apply operated on the grouping columns. This behavior is deprecated, and in a future version of pandas the grouping columns will be excluded from the operation. Either pass `include_groups=False` to exclude the groupings or explicitly select the grouping columns after groupby to silence this warning.\n",
      "  signal_change = signal.groupby('regime').apply(lambda x: x[x['signal'].diff() != 0].tail(1))\n"
     ]
    },
    {
     "name": "stdout",
     "output_type": "stream",
     "text": [
      "['RAT.MI.xlsx'] 8 9\n"
     ]
    },
    {
     "name": "stderr",
     "output_type": "stream",
     "text": [
      "/tmp/ipykernel_1242583/3854100217.py:23: DeprecationWarning: DataFrameGroupBy.apply operated on the grouping columns. This behavior is deprecated, and in a future version of pandas the grouping columns will be excluded from the operation. Either pass `include_groups=False` to exclude the groupings or explicitly select the grouping columns after groupby to silence this warning.\n",
      "  signal_change = signal.groupby('regime').apply(lambda x: x[x['signal'].diff() != 0].tail(1))\n"
     ]
    },
    {
     "name": "stdout",
     "output_type": "stream",
     "text": [
      "['CAI.MI.xlsx'] 9 10\n"
     ]
    },
    {
     "name": "stderr",
     "output_type": "stream",
     "text": [
      "/tmp/ipykernel_1242583/3854100217.py:23: DeprecationWarning: DataFrameGroupBy.apply operated on the grouping columns. This behavior is deprecated, and in a future version of pandas the grouping columns will be excluded from the operation. Either pass `include_groups=False` to exclude the groupings or explicitly select the grouping columns after groupby to silence this warning.\n",
      "  signal_change = signal.groupby('regime').apply(lambda x: x[x['signal'].diff() != 0].tail(1))\n",
      "/home/laceto/AT/scouting/../AT_funs_appendix.py:351: RuntimeWarning: divide by zero encountered in scalar divide\n",
      "  if (vlty > 0) & (retrace_vol > 0) & ((round(retracement / vlty ,1) - retrace_vol) > 0):\n"
     ]
    },
    {
     "name": "stdout",
     "output_type": "stream",
     "text": [
      "['GHC.MI.xlsx'] 10 11\n",
      "['AEF.MI.xlsx'] 11 12\n",
      "['ART.MI.xlsx'] 12 13\n",
      "['TPRO.MI.xlsx'] 13 14\n",
      "['ESPE.MI.xlsx'] 14 15\n",
      "['EUK.MI.xlsx'] 15 16\n",
      "['MTVFR.MI.xlsx'] 16 17\n",
      "['CE.MI.xlsx'] 17 18\n",
      "['FAE.MI.xlsx'] 18 19\n",
      "['ACQ.MI.xlsx'] 19 20\n",
      "failed ['GHC.MI.xlsx', 'AEF.MI.xlsx', 'AEF.MI.xlsx', 'AEF.MI.xlsx', 'AEF.MI.xlsx', 'AEF.MI.xlsx', 'AEF.MI.xlsx', 'AEF.MI.xlsx', 'AEF.MI.xlsx']\n"
     ]
    },
    {
     "name": "stderr",
     "output_type": "stream",
     "text": [
      "/tmp/ipykernel_1242583/3854100217.py:23: DeprecationWarning: DataFrameGroupBy.apply operated on the grouping columns. This behavior is deprecated, and in a future version of pandas the grouping columns will be excluded from the operation. Either pass `include_groups=False` to exclude the groupings or explicitly select the grouping columns after groupby to silence this warning.\n",
      "  signal_change = signal.groupby('regime').apply(lambda x: x[x['signal'].diff() != 0].tail(1))\n"
     ]
    }
   ],
   "source": [
    "\n",
    "for t in range(1,loop_size): \n",
    "    m = (t - 1) * batch_size\n",
    "    n = t * batch_size\n",
    "    batch_list = tickers_list[m:n]\n",
    "    if show_batch:\n",
    "        print(batch_list,m,n)\n",
    "        \n",
    "    try:\n",
    "        batch_download = dfs[t-1]\n",
    "        \n",
    "        for flat, ticker in enumerate(batch_list):\n",
    "            df = swings2(batch_download,lvl,vlty_n,dgt,d_vol,dist_pct,r_vol,retrace_pct,bm_df,bm_col,rel = False)\n",
    "            df = regime(df,vlty_n,threshold,lvl=2,rel = False)\n",
    "            df = swings2(batch_download,lvl,vlty_n,dgt,d_vol,dist_pct,r_vol,retrace_pct,bm_df,bm_col,rel = True)\n",
    "            df = regime(df,vlty_n,threshold,lvl=2,rel = True)          \n",
    "            _o,_h,_l,_c = lower_upper_OHLC(df,relative = False)\n",
    "            df['sma'+str(_c)[:1]+str(st)+str(lt)] = regime_sma(df,_c,st,lt)\n",
    "            df['bo'+str(_h)[:1]+str(_l)[:1]+ str(slow)] = regime_breakout(df,_h,_l,window)\n",
    "            df['tt'+str(_h)[:1]+str(fast)+str(_l)[:1]+ str(slow)] = turtle_trader(df, _h, _l, slow, fast)\n",
    "            _o,_h,_l,_c = lower_upper_OHLC(df,relative = True) \n",
    "            df['sma'+str(_c)[:1]+str(st)+str(lt)] = regime_sma(df,_c,st,lt)\n",
    "            df['bo'+str(_h)[:1]+str(_l)[:1]+ str(slow)] = regime_breakout(df,_h,_l,window)\n",
    "            df['tt'+str(_h)[:1]+str(fast)+str(_l)[:1]+ str(slow)] = turtle_trader(df, _h, _l, slow, fast)\n",
    "            df_signal = find_last_change(df, regime_cols)\n",
    "            signal_list.append(df_signal)\n",
    "                \n",
    "        try:\n",
    "            last_row_list.append(last_row_dictionary(df, ticker))\n",
    "        except:\n",
    "            failed.append(ticker) \n",
    "            \n",
    "        # try:\n",
    "        #     signal_list.append(find_last_change(df, date_cols, regime_cols))\n",
    "        # except:\n",
    "        #     failed.append(ticker) \n",
    "            \n",
    "    except:\n",
    "        failed.append(ticker)\n",
    "last_row_df = pd.DataFrame.from_dict(last_row_list)\n",
    "signal_df = pd.concat(signal_list, axis=0, ignore_index=True) \n",
    "\n",
    "if save_last_row_df:\n",
    "    last_row_df.to_csv('last_row_df_'+ str(last_row_df['date'].max())+'.csv', date_format='%Y%m%d')\n",
    "print('failed',failed)"
   ]
  },
  {
   "cell_type": "code",
   "execution_count": 12,
   "id": "aa5724c0-220b-40d7-8e89-0c1c0473a720",
   "metadata": {
    "tags": []
   },
   "outputs": [],
   "source": [
    "last_row_df['score']= last_row_df[regime_cols].sum(axis=1)\n",
    "sectors = pd.read_excel('sectors.xlsx')"
   ]
  },
  {
   "cell_type": "code",
   "execution_count": 13,
   "id": "a75fa6b8-e25d-4c92-af12-2df00cffe300",
   "metadata": {
    "tags": []
   },
   "outputs": [],
   "source": [
    "# batch_download = dfs[0]\n",
    "# df = swings2(batch_download,lvl,vlty_n,dgt,d_vol,dist_pct,r_vol,retrace_pct,bm_df,bm_col,rel = False)\n",
    "# df = regime(df,vlty_n,threshold,lvl=2,rel = False)\n",
    "# df = swings2(batch_download,lvl,vlty_n,dgt,d_vol,dist_pct,r_vol,retrace_pct,bm_df,bm_col,rel = True)\n",
    "# df = regime(df,vlty_n,threshold,lvl=2,rel = True)          \n",
    "# _o,_h,_l,_c = lower_upper_OHLC(df,relative = False)\n",
    "# df['sma'+str(_c)[:1]+str(st)+str(lt)] = regime_sma(df,_c,st,lt)\n",
    "# df['bo'+str(_h)[:1]+str(_l)[:1]+ str(slow)] = regime_breakout(df,_h,_l,window)\n",
    "# df['tt'+str(_h)[:1]+str(fast)+str(_l)[:1]+ str(slow)] = turtle_trader(df, _h, _l, slow, fast)\n",
    "# _o,_h,_l,_c = lower_upper_OHLC(df,relative = True) \n",
    "# df['sma'+str(_c)[:1]+str(st)+str(lt)] = regime_sma(df,_c,st,lt)\n",
    "# df['bo'+str(_h)[:1]+str(_l)[:1]+ str(slow)] = regime_breakout(df,_h,_l,window)\n",
    "# df['tt'+str(_h)[:1]+str(fast)+str(_l)[:1]+ str(slow)] = turtle_trader(df, _h, _l, slow, fast)\n",
    "# df.columns"
   ]
  },
  {
   "cell_type": "code",
   "execution_count": 14,
   "id": "37f97f3e-32f1-422c-8ac8-4c116c363ee5",
   "metadata": {
    "tags": []
   },
   "outputs": [],
   "source": [
    "regime_df = sectors.set_index('ticker').join(\n",
    "    last_row_df[last_row_df_cols].set_index('ticker'), how='inner').sort_values(by='score')\n",
    "\n",
    "if save_regime_df:\n",
    "    regime_df.to_csv('regime_df_'+ str(last_row_df['date'].max())+'.csv', date_format='%Y%m%d')"
   ]
  },
  {
   "cell_type": "code",
   "execution_count": 15,
   "id": "f314f0f3-46b7-4a5c-bcb8-415c2932f9c4",
   "metadata": {
    "tags": []
   },
   "outputs": [
    {
     "data": {
      "text/html": [
       "<style type=\"text/css\">\n",
       "#T_8100e_row0_col0, #T_8100e_row0_col1, #T_8100e_row0_col2, #T_8100e_row0_col3, #T_8100e_row0_col4, #T_8100e_row0_col5, #T_8100e_row0_col6, #T_8100e_row0_col7, #T_8100e_row0_col8, #T_8100e_row1_col0, #T_8100e_row1_col1, #T_8100e_row1_col2, #T_8100e_row1_col3, #T_8100e_row1_col4, #T_8100e_row1_col5, #T_8100e_row1_col6, #T_8100e_row1_col7, #T_8100e_row1_col8, #T_8100e_row2_col1, #T_8100e_row2_col2, #T_8100e_row2_col3, #T_8100e_row2_col4, #T_8100e_row2_col5, #T_8100e_row2_col6, #T_8100e_row2_col8, #T_8100e_row3_col2, #T_8100e_row3_col3, #T_8100e_row3_col4, #T_8100e_row3_col5, #T_8100e_row3_col6, #T_8100e_row3_col7, #T_8100e_row3_col8, #T_8100e_row4_col2, #T_8100e_row4_col3, #T_8100e_row4_col4, #T_8100e_row4_col5, #T_8100e_row4_col6, #T_8100e_row4_col7, #T_8100e_row4_col8, #T_8100e_row5_col3, #T_8100e_row5_col4, #T_8100e_row5_col5, #T_8100e_row5_col6, #T_8100e_row5_col7, #T_8100e_row5_col8, #T_8100e_row6_col2, #T_8100e_row6_col4, #T_8100e_row6_col6, #T_8100e_row6_col8, #T_8100e_row7_col2 {\n",
       "  background-color: #a50026;\n",
       "  color: #f1f1f1;\n",
       "}\n",
       "#T_8100e_row2_col0, #T_8100e_row3_col0 {\n",
       "  background-color: #c41e27;\n",
       "  color: #f1f1f1;\n",
       "}\n",
       "#T_8100e_row2_col7, #T_8100e_row3_col1, #T_8100e_row6_col0, #T_8100e_row7_col1, #T_8100e_row7_col7, #T_8100e_row7_col8 {\n",
       "  background-color: #feffbe;\n",
       "  color: #000000;\n",
       "}\n",
       "#T_8100e_row4_col0 {\n",
       "  background-color: #de402e;\n",
       "  color: #f1f1f1;\n",
       "}\n",
       "#T_8100e_row4_col1, #T_8100e_row5_col1, #T_8100e_row5_col2, #T_8100e_row6_col1, #T_8100e_row6_col3, #T_8100e_row6_col5, #T_8100e_row6_col7, #T_8100e_row7_col3, #T_8100e_row7_col4, #T_8100e_row7_col5, #T_8100e_row7_col6, #T_8100e_row8_col0, #T_8100e_row8_col1, #T_8100e_row8_col2, #T_8100e_row8_col3, #T_8100e_row8_col4, #T_8100e_row8_col5, #T_8100e_row8_col6, #T_8100e_row8_col7, #T_8100e_row8_col8, #T_8100e_row9_col0, #T_8100e_row9_col1, #T_8100e_row9_col2, #T_8100e_row9_col3, #T_8100e_row9_col4, #T_8100e_row9_col5, #T_8100e_row9_col6, #T_8100e_row9_col7, #T_8100e_row9_col8, #T_8100e_row10_col0, #T_8100e_row10_col1, #T_8100e_row10_col2, #T_8100e_row10_col3, #T_8100e_row10_col4, #T_8100e_row10_col5, #T_8100e_row10_col6, #T_8100e_row10_col7, #T_8100e_row10_col8 {\n",
       "  background-color: #006837;\n",
       "  color: #f1f1f1;\n",
       "}\n",
       "#T_8100e_row5_col0 {\n",
       "  background-color: #f98e52;\n",
       "  color: #f1f1f1;\n",
       "}\n",
       "#T_8100e_row7_col0 {\n",
       "  background-color: #abdb6d;\n",
       "  color: #000000;\n",
       "}\n",
       "</style>\n",
       "<table id=\"T_8100e\">\n",
       "  <thead>\n",
       "    <tr>\n",
       "      <th class=\"blank\" >&nbsp;</th>\n",
       "      <th class=\"blank level0\" >&nbsp;</th>\n",
       "      <th id=\"T_8100e_level0_col0\" class=\"col_heading level0 col0\" >score</th>\n",
       "      <th id=\"T_8100e_level0_col1\" class=\"col_heading level0 col1\" >rg</th>\n",
       "      <th id=\"T_8100e_level0_col2\" class=\"col_heading level0 col2\" >rrg</th>\n",
       "      <th id=\"T_8100e_level0_col3\" class=\"col_heading level0 col3\" >smac50200</th>\n",
       "      <th id=\"T_8100e_level0_col4\" class=\"col_heading level0 col4\" >smar50200</th>\n",
       "      <th id=\"T_8100e_level0_col5\" class=\"col_heading level0 col5\" >bohl200</th>\n",
       "      <th id=\"T_8100e_level0_col6\" class=\"col_heading level0 col6\" >borr200</th>\n",
       "      <th id=\"T_8100e_level0_col7\" class=\"col_heading level0 col7\" >tth50l200</th>\n",
       "      <th id=\"T_8100e_level0_col8\" class=\"col_heading level0 col8\" >ttr50r200</th>\n",
       "    </tr>\n",
       "    <tr>\n",
       "      <th class=\"index_name level0\" >name</th>\n",
       "      <th class=\"index_name level1\" >sector</th>\n",
       "      <th class=\"blank col0\" >&nbsp;</th>\n",
       "      <th class=\"blank col1\" >&nbsp;</th>\n",
       "      <th class=\"blank col2\" >&nbsp;</th>\n",
       "      <th class=\"blank col3\" >&nbsp;</th>\n",
       "      <th class=\"blank col4\" >&nbsp;</th>\n",
       "      <th class=\"blank col5\" >&nbsp;</th>\n",
       "      <th class=\"blank col6\" >&nbsp;</th>\n",
       "      <th class=\"blank col7\" >&nbsp;</th>\n",
       "      <th class=\"blank col8\" >&nbsp;</th>\n",
       "    </tr>\n",
       "  </thead>\n",
       "  <tbody>\n",
       "    <tr>\n",
       "      <th id=\"T_8100e_level0_row0\" class=\"row_heading level0 row0\" >AEFFE</th>\n",
       "      <th id=\"T_8100e_level1_row0\" class=\"row_heading level1 row0\" >Consumer Non-Durables</th>\n",
       "      <td id=\"T_8100e_row0_col0\" class=\"data row0 col0\" >-8</td>\n",
       "      <td id=\"T_8100e_row0_col1\" class=\"data row0 col1\" >-1</td>\n",
       "      <td id=\"T_8100e_row0_col2\" class=\"data row0 col2\" >-1</td>\n",
       "      <td id=\"T_8100e_row0_col3\" class=\"data row0 col3\" >-1</td>\n",
       "      <td id=\"T_8100e_row0_col4\" class=\"data row0 col4\" >-1</td>\n",
       "      <td id=\"T_8100e_row0_col5\" class=\"data row0 col5\" >-1</td>\n",
       "      <td id=\"T_8100e_row0_col6\" class=\"data row0 col6\" >-1</td>\n",
       "      <td id=\"T_8100e_row0_col7\" class=\"data row0 col7\" >-1</td>\n",
       "      <td id=\"T_8100e_row0_col8\" class=\"data row0 col8\" >-1</td>\n",
       "    </tr>\n",
       "    <tr>\n",
       "      <th id=\"T_8100e_level0_row1\" class=\"row_heading level0 row1\" >RATTI</th>\n",
       "      <th id=\"T_8100e_level1_row1\" class=\"row_heading level1 row1\" >Consumer Non-Durables</th>\n",
       "      <td id=\"T_8100e_row1_col0\" class=\"data row1 col0\" >-8</td>\n",
       "      <td id=\"T_8100e_row1_col1\" class=\"data row1 col1\" >-1</td>\n",
       "      <td id=\"T_8100e_row1_col2\" class=\"data row1 col2\" >-1</td>\n",
       "      <td id=\"T_8100e_row1_col3\" class=\"data row1 col3\" >-1</td>\n",
       "      <td id=\"T_8100e_row1_col4\" class=\"data row1 col4\" >-1</td>\n",
       "      <td id=\"T_8100e_row1_col5\" class=\"data row1 col5\" >-1</td>\n",
       "      <td id=\"T_8100e_row1_col6\" class=\"data row1 col6\" >-1</td>\n",
       "      <td id=\"T_8100e_row1_col7\" class=\"data row1 col7\" >-1</td>\n",
       "      <td id=\"T_8100e_row1_col8\" class=\"data row1 col8\" >-1</td>\n",
       "    </tr>\n",
       "    <tr>\n",
       "      <th id=\"T_8100e_level0_row2\" class=\"row_heading level0 row2\" >MAPS</th>\n",
       "      <th id=\"T_8100e_level1_row2\" class=\"row_heading level1 row2\" >Technology Services</th>\n",
       "      <td id=\"T_8100e_row2_col0\" class=\"data row2 col0\" >-7</td>\n",
       "      <td id=\"T_8100e_row2_col1\" class=\"data row2 col1\" >-1</td>\n",
       "      <td id=\"T_8100e_row2_col2\" class=\"data row2 col2\" >-1</td>\n",
       "      <td id=\"T_8100e_row2_col3\" class=\"data row2 col3\" >-1</td>\n",
       "      <td id=\"T_8100e_row2_col4\" class=\"data row2 col4\" >-1</td>\n",
       "      <td id=\"T_8100e_row2_col5\" class=\"data row2 col5\" >-1</td>\n",
       "      <td id=\"T_8100e_row2_col6\" class=\"data row2 col6\" >-1</td>\n",
       "      <td id=\"T_8100e_row2_col7\" class=\"data row2 col7\" >0</td>\n",
       "      <td id=\"T_8100e_row2_col8\" class=\"data row2 col8\" >-1</td>\n",
       "    </tr>\n",
       "    <tr>\n",
       "      <th id=\"T_8100e_level0_row3\" class=\"row_heading level0 row3\" >RELATECH</th>\n",
       "      <th id=\"T_8100e_level1_row3\" class=\"row_heading level1 row3\" >Technology Services</th>\n",
       "      <td id=\"T_8100e_row3_col0\" class=\"data row3 col0\" >-7</td>\n",
       "      <td id=\"T_8100e_row3_col1\" class=\"data row3 col1\" >0</td>\n",
       "      <td id=\"T_8100e_row3_col2\" class=\"data row3 col2\" >-1</td>\n",
       "      <td id=\"T_8100e_row3_col3\" class=\"data row3 col3\" >-1</td>\n",
       "      <td id=\"T_8100e_row3_col4\" class=\"data row3 col4\" >-1</td>\n",
       "      <td id=\"T_8100e_row3_col5\" class=\"data row3 col5\" >-1</td>\n",
       "      <td id=\"T_8100e_row3_col6\" class=\"data row3 col6\" >-1</td>\n",
       "      <td id=\"T_8100e_row3_col7\" class=\"data row3 col7\" >-1</td>\n",
       "      <td id=\"T_8100e_row3_col8\" class=\"data row3 col8\" >-1</td>\n",
       "    </tr>\n",
       "    <tr>\n",
       "      <th id=\"T_8100e_level0_row4\" class=\"row_heading level0 row4\" >EUKEDOS</th>\n",
       "      <th id=\"T_8100e_level1_row4\" class=\"row_heading level1 row4\" >Health Services</th>\n",
       "      <td id=\"T_8100e_row4_col0\" class=\"data row4 col0\" >-6</td>\n",
       "      <td id=\"T_8100e_row4_col1\" class=\"data row4 col1\" >1</td>\n",
       "      <td id=\"T_8100e_row4_col2\" class=\"data row4 col2\" >-1</td>\n",
       "      <td id=\"T_8100e_row4_col3\" class=\"data row4 col3\" >-1</td>\n",
       "      <td id=\"T_8100e_row4_col4\" class=\"data row4 col4\" >-1</td>\n",
       "      <td id=\"T_8100e_row4_col5\" class=\"data row4 col5\" >-1</td>\n",
       "      <td id=\"T_8100e_row4_col6\" class=\"data row4 col6\" >-1</td>\n",
       "      <td id=\"T_8100e_row4_col7\" class=\"data row4 col7\" >-1</td>\n",
       "      <td id=\"T_8100e_row4_col8\" class=\"data row4 col8\" >-1</td>\n",
       "    </tr>\n",
       "    <tr>\n",
       "      <th id=\"T_8100e_level0_row5\" class=\"row_heading level0 row5\" >GEFRAN</th>\n",
       "      <th id=\"T_8100e_level1_row5\" class=\"row_heading level1 row5\" >Electronic Technology</th>\n",
       "      <td id=\"T_8100e_row5_col0\" class=\"data row5 col0\" >-4</td>\n",
       "      <td id=\"T_8100e_row5_col1\" class=\"data row5 col1\" >1</td>\n",
       "      <td id=\"T_8100e_row5_col2\" class=\"data row5 col2\" >1</td>\n",
       "      <td id=\"T_8100e_row5_col3\" class=\"data row5 col3\" >-1</td>\n",
       "      <td id=\"T_8100e_row5_col4\" class=\"data row5 col4\" >-1</td>\n",
       "      <td id=\"T_8100e_row5_col5\" class=\"data row5 col5\" >-1</td>\n",
       "      <td id=\"T_8100e_row5_col6\" class=\"data row5 col6\" >-1</td>\n",
       "      <td id=\"T_8100e_row5_col7\" class=\"data row5 col7\" >-1</td>\n",
       "      <td id=\"T_8100e_row5_col8\" class=\"data row5 col8\" >-1</td>\n",
       "    </tr>\n",
       "    <tr>\n",
       "      <th id=\"T_8100e_level0_row6\" class=\"row_heading level0 row6\" >GAROFALO HEALTH CARE</th>\n",
       "      <th id=\"T_8100e_level1_row6\" class=\"row_heading level1 row6\" >Health Services</th>\n",
       "      <td id=\"T_8100e_row6_col0\" class=\"data row6 col0\" >0</td>\n",
       "      <td id=\"T_8100e_row6_col1\" class=\"data row6 col1\" >1</td>\n",
       "      <td id=\"T_8100e_row6_col2\" class=\"data row6 col2\" >-1</td>\n",
       "      <td id=\"T_8100e_row6_col3\" class=\"data row6 col3\" >1</td>\n",
       "      <td id=\"T_8100e_row6_col4\" class=\"data row6 col4\" >-1</td>\n",
       "      <td id=\"T_8100e_row6_col5\" class=\"data row6 col5\" >1</td>\n",
       "      <td id=\"T_8100e_row6_col6\" class=\"data row6 col6\" >-1</td>\n",
       "      <td id=\"T_8100e_row6_col7\" class=\"data row6 col7\" >1</td>\n",
       "      <td id=\"T_8100e_row6_col8\" class=\"data row6 col8\" >-1</td>\n",
       "    </tr>\n",
       "    <tr>\n",
       "      <th id=\"T_8100e_level0_row7\" class=\"row_heading level0 row7\" >4AIM SICAF</th>\n",
       "      <th id=\"T_8100e_level1_row7\" class=\"row_heading level1 row7\" >Finance</th>\n",
       "      <td id=\"T_8100e_row7_col0\" class=\"data row7 col0\" >3</td>\n",
       "      <td id=\"T_8100e_row7_col1\" class=\"data row7 col1\" >0</td>\n",
       "      <td id=\"T_8100e_row7_col2\" class=\"data row7 col2\" >-1</td>\n",
       "      <td id=\"T_8100e_row7_col3\" class=\"data row7 col3\" >1</td>\n",
       "      <td id=\"T_8100e_row7_col4\" class=\"data row7 col4\" >1</td>\n",
       "      <td id=\"T_8100e_row7_col5\" class=\"data row7 col5\" >1</td>\n",
       "      <td id=\"T_8100e_row7_col6\" class=\"data row7 col6\" >1</td>\n",
       "      <td id=\"T_8100e_row7_col7\" class=\"data row7 col7\" >0</td>\n",
       "      <td id=\"T_8100e_row7_col8\" class=\"data row7 col8\" >0</td>\n",
       "    </tr>\n",
       "    <tr>\n",
       "      <th id=\"T_8100e_level0_row8\" class=\"row_heading level0 row8\" >CREDEM</th>\n",
       "      <th id=\"T_8100e_level1_row8\" class=\"row_heading level1 row8\" >Finance</th>\n",
       "      <td id=\"T_8100e_row8_col0\" class=\"data row8 col0\" >8</td>\n",
       "      <td id=\"T_8100e_row8_col1\" class=\"data row8 col1\" >1</td>\n",
       "      <td id=\"T_8100e_row8_col2\" class=\"data row8 col2\" >1</td>\n",
       "      <td id=\"T_8100e_row8_col3\" class=\"data row8 col3\" >1</td>\n",
       "      <td id=\"T_8100e_row8_col4\" class=\"data row8 col4\" >1</td>\n",
       "      <td id=\"T_8100e_row8_col5\" class=\"data row8 col5\" >1</td>\n",
       "      <td id=\"T_8100e_row8_col6\" class=\"data row8 col6\" >1</td>\n",
       "      <td id=\"T_8100e_row8_col7\" class=\"data row8 col7\" >1</td>\n",
       "      <td id=\"T_8100e_row8_col8\" class=\"data row8 col8\" >1</td>\n",
       "    </tr>\n",
       "    <tr>\n",
       "      <th id=\"T_8100e_level0_row9\" class=\"row_heading level0 row9\" >CAIRO COMMUNICATION</th>\n",
       "      <th id=\"T_8100e_level1_row9\" class=\"row_heading level1 row9\" >Consumer Services</th>\n",
       "      <td id=\"T_8100e_row9_col0\" class=\"data row9 col0\" >8</td>\n",
       "      <td id=\"T_8100e_row9_col1\" class=\"data row9 col1\" >1</td>\n",
       "      <td id=\"T_8100e_row9_col2\" class=\"data row9 col2\" >1</td>\n",
       "      <td id=\"T_8100e_row9_col3\" class=\"data row9 col3\" >1</td>\n",
       "      <td id=\"T_8100e_row9_col4\" class=\"data row9 col4\" >1</td>\n",
       "      <td id=\"T_8100e_row9_col5\" class=\"data row9 col5\" >1</td>\n",
       "      <td id=\"T_8100e_row9_col6\" class=\"data row9 col6\" >1</td>\n",
       "      <td id=\"T_8100e_row9_col7\" class=\"data row9 col7\" >1</td>\n",
       "      <td id=\"T_8100e_row9_col8\" class=\"data row9 col8\" >1</td>\n",
       "    </tr>\n",
       "    <tr>\n",
       "      <th id=\"T_8100e_level0_row10\" class=\"row_heading level0 row10\" >AVIO</th>\n",
       "      <th id=\"T_8100e_level1_row10\" class=\"row_heading level1 row10\" >Electronic Technology</th>\n",
       "      <td id=\"T_8100e_row10_col0\" class=\"data row10 col0\" >8</td>\n",
       "      <td id=\"T_8100e_row10_col1\" class=\"data row10 col1\" >1</td>\n",
       "      <td id=\"T_8100e_row10_col2\" class=\"data row10 col2\" >1</td>\n",
       "      <td id=\"T_8100e_row10_col3\" class=\"data row10 col3\" >1</td>\n",
       "      <td id=\"T_8100e_row10_col4\" class=\"data row10 col4\" >1</td>\n",
       "      <td id=\"T_8100e_row10_col5\" class=\"data row10 col5\" >1</td>\n",
       "      <td id=\"T_8100e_row10_col6\" class=\"data row10 col6\" >1</td>\n",
       "      <td id=\"T_8100e_row10_col7\" class=\"data row10 col7\" >1</td>\n",
       "      <td id=\"T_8100e_row10_col8\" class=\"data row10 col8\" >1</td>\n",
       "    </tr>\n",
       "  </tbody>\n",
       "</table>\n"
      ],
      "text/plain": [
       "<pandas.io.formats.style.Styler at 0x7f52b87c1510>"
      ]
     },
     "execution_count": 15,
     "metadata": {},
     "output_type": "execute_result"
    }
   ],
   "source": [
    "groupby_cols = ['score'] + regime_cols\n",
    "sort_key = ['name', 'sector']\n",
    "regime_df.groupby(sort_key)[groupby_cols].mean().sort_values(\n",
    "    by= 'score').style.background_gradient(\n",
    "    subset= groupby_cols,cmap= 'RdYlGn').format('{:.1g}')"
   ]
  },
  {
   "cell_type": "code",
   "execution_count": 16,
   "id": "55049590-68f8-46d7-86fc-d01a6e80d889",
   "metadata": {},
   "outputs": [
    {
     "data": {
      "text/html": [
       "<style type=\"text/css\">\n",
       "#T_de820_row0_col0, #T_de820_row0_col1, #T_de820_row0_col2, #T_de820_row0_col3, #T_de820_row0_col4, #T_de820_row0_col5, #T_de820_row0_col6, #T_de820_row0_col7, #T_de820_row0_col8, #T_de820_row1_col2, #T_de820_row1_col3, #T_de820_row1_col4, #T_de820_row1_col5, #T_de820_row1_col6, #T_de820_row1_col8, #T_de820_row2_col2, #T_de820_row2_col4, #T_de820_row2_col6, #T_de820_row2_col8 {\n",
       "  background-color: #a50026;\n",
       "  color: #f1f1f1;\n",
       "}\n",
       "#T_de820_row1_col0 {\n",
       "  background-color: #c82227;\n",
       "  color: #f1f1f1;\n",
       "}\n",
       "#T_de820_row1_col1 {\n",
       "  background-color: #f98e52;\n",
       "  color: #f1f1f1;\n",
       "}\n",
       "#T_de820_row1_col7 {\n",
       "  background-color: #fdbf6f;\n",
       "  color: #000000;\n",
       "}\n",
       "#T_de820_row2_col0 {\n",
       "  background-color: #fed07e;\n",
       "  color: #000000;\n",
       "}\n",
       "#T_de820_row2_col1, #T_de820_row3_col1, #T_de820_row3_col2, #T_de820_row4_col7, #T_de820_row4_col8, #T_de820_row5_col0, #T_de820_row5_col3, #T_de820_row5_col4, #T_de820_row5_col5, #T_de820_row5_col6, #T_de820_row5_col7, #T_de820_row5_col8 {\n",
       "  background-color: #006837;\n",
       "  color: #f1f1f1;\n",
       "}\n",
       "#T_de820_row2_col3, #T_de820_row2_col5, #T_de820_row3_col3, #T_de820_row3_col4, #T_de820_row3_col5, #T_de820_row3_col6, #T_de820_row5_col2 {\n",
       "  background-color: #feffbe;\n",
       "  color: #000000;\n",
       "}\n",
       "#T_de820_row2_col7, #T_de820_row3_col7, #T_de820_row3_col8 {\n",
       "  background-color: #b7e075;\n",
       "  color: #000000;\n",
       "}\n",
       "#T_de820_row3_col0 {\n",
       "  background-color: #8ccd67;\n",
       "  color: #000000;\n",
       "}\n",
       "#T_de820_row4_col0 {\n",
       "  background-color: #219c52;\n",
       "  color: #f1f1f1;\n",
       "}\n",
       "#T_de820_row4_col1, #T_de820_row4_col2, #T_de820_row4_col3, #T_de820_row4_col4, #T_de820_row4_col5, #T_de820_row4_col6, #T_de820_row5_col1 {\n",
       "  background-color: #84ca66;\n",
       "  color: #000000;\n",
       "}\n",
       "</style>\n",
       "<table id=\"T_de820\">\n",
       "  <thead>\n",
       "    <tr>\n",
       "      <th class=\"blank level0\" >&nbsp;</th>\n",
       "      <th id=\"T_de820_level0_col0\" class=\"col_heading level0 col0\" >score</th>\n",
       "      <th id=\"T_de820_level0_col1\" class=\"col_heading level0 col1\" >rg</th>\n",
       "      <th id=\"T_de820_level0_col2\" class=\"col_heading level0 col2\" >rrg</th>\n",
       "      <th id=\"T_de820_level0_col3\" class=\"col_heading level0 col3\" >smac50200</th>\n",
       "      <th id=\"T_de820_level0_col4\" class=\"col_heading level0 col4\" >smar50200</th>\n",
       "      <th id=\"T_de820_level0_col5\" class=\"col_heading level0 col5\" >bohl200</th>\n",
       "      <th id=\"T_de820_level0_col6\" class=\"col_heading level0 col6\" >borr200</th>\n",
       "      <th id=\"T_de820_level0_col7\" class=\"col_heading level0 col7\" >tth50l200</th>\n",
       "      <th id=\"T_de820_level0_col8\" class=\"col_heading level0 col8\" >ttr50r200</th>\n",
       "    </tr>\n",
       "    <tr>\n",
       "      <th class=\"index_name level0\" >sector</th>\n",
       "      <th class=\"blank col0\" >&nbsp;</th>\n",
       "      <th class=\"blank col1\" >&nbsp;</th>\n",
       "      <th class=\"blank col2\" >&nbsp;</th>\n",
       "      <th class=\"blank col3\" >&nbsp;</th>\n",
       "      <th class=\"blank col4\" >&nbsp;</th>\n",
       "      <th class=\"blank col5\" >&nbsp;</th>\n",
       "      <th class=\"blank col6\" >&nbsp;</th>\n",
       "      <th class=\"blank col7\" >&nbsp;</th>\n",
       "      <th class=\"blank col8\" >&nbsp;</th>\n",
       "    </tr>\n",
       "  </thead>\n",
       "  <tbody>\n",
       "    <tr>\n",
       "      <th id=\"T_de820_level0_row0\" class=\"row_heading level0 row0\" >Consumer Non-Durables</th>\n",
       "      <td id=\"T_de820_row0_col0\" class=\"data row0 col0\" >-2e+01</td>\n",
       "      <td id=\"T_de820_row0_col1\" class=\"data row0 col1\" >-2</td>\n",
       "      <td id=\"T_de820_row0_col2\" class=\"data row0 col2\" >-2</td>\n",
       "      <td id=\"T_de820_row0_col3\" class=\"data row0 col3\" >-2</td>\n",
       "      <td id=\"T_de820_row0_col4\" class=\"data row0 col4\" >-2</td>\n",
       "      <td id=\"T_de820_row0_col5\" class=\"data row0 col5\" >-2</td>\n",
       "      <td id=\"T_de820_row0_col6\" class=\"data row0 col6\" >-2</td>\n",
       "      <td id=\"T_de820_row0_col7\" class=\"data row0 col7\" >-2</td>\n",
       "      <td id=\"T_de820_row0_col8\" class=\"data row0 col8\" >-2</td>\n",
       "    </tr>\n",
       "    <tr>\n",
       "      <th id=\"T_de820_level0_row1\" class=\"row_heading level0 row1\" >Technology Services</th>\n",
       "      <td id=\"T_de820_row1_col0\" class=\"data row1 col0\" >-1e+01</td>\n",
       "      <td id=\"T_de820_row1_col1\" class=\"data row1 col1\" >-1</td>\n",
       "      <td id=\"T_de820_row1_col2\" class=\"data row1 col2\" >-2</td>\n",
       "      <td id=\"T_de820_row1_col3\" class=\"data row1 col3\" >-2</td>\n",
       "      <td id=\"T_de820_row1_col4\" class=\"data row1 col4\" >-2</td>\n",
       "      <td id=\"T_de820_row1_col5\" class=\"data row1 col5\" >-2</td>\n",
       "      <td id=\"T_de820_row1_col6\" class=\"data row1 col6\" >-2</td>\n",
       "      <td id=\"T_de820_row1_col7\" class=\"data row1 col7\" >-1</td>\n",
       "      <td id=\"T_de820_row1_col8\" class=\"data row1 col8\" >-2</td>\n",
       "    </tr>\n",
       "    <tr>\n",
       "      <th id=\"T_de820_level0_row2\" class=\"row_heading level0 row2\" >Health Services</th>\n",
       "      <td id=\"T_de820_row2_col0\" class=\"data row2 col0\" >-6</td>\n",
       "      <td id=\"T_de820_row2_col1\" class=\"data row2 col1\" >2</td>\n",
       "      <td id=\"T_de820_row2_col2\" class=\"data row2 col2\" >-2</td>\n",
       "      <td id=\"T_de820_row2_col3\" class=\"data row2 col3\" >0</td>\n",
       "      <td id=\"T_de820_row2_col4\" class=\"data row2 col4\" >-2</td>\n",
       "      <td id=\"T_de820_row2_col5\" class=\"data row2 col5\" >0</td>\n",
       "      <td id=\"T_de820_row2_col6\" class=\"data row2 col6\" >-2</td>\n",
       "      <td id=\"T_de820_row2_col7\" class=\"data row2 col7\" >0</td>\n",
       "      <td id=\"T_de820_row2_col8\" class=\"data row2 col8\" >-2</td>\n",
       "    </tr>\n",
       "    <tr>\n",
       "      <th id=\"T_de820_level0_row3\" class=\"row_heading level0 row3\" >Electronic Technology</th>\n",
       "      <td id=\"T_de820_row3_col0\" class=\"data row3 col0\" >4</td>\n",
       "      <td id=\"T_de820_row3_col1\" class=\"data row3 col1\" >2</td>\n",
       "      <td id=\"T_de820_row3_col2\" class=\"data row3 col2\" >2</td>\n",
       "      <td id=\"T_de820_row3_col3\" class=\"data row3 col3\" >0</td>\n",
       "      <td id=\"T_de820_row3_col4\" class=\"data row3 col4\" >0</td>\n",
       "      <td id=\"T_de820_row3_col5\" class=\"data row3 col5\" >0</td>\n",
       "      <td id=\"T_de820_row3_col6\" class=\"data row3 col6\" >0</td>\n",
       "      <td id=\"T_de820_row3_col7\" class=\"data row3 col7\" >0</td>\n",
       "      <td id=\"T_de820_row3_col8\" class=\"data row3 col8\" >0</td>\n",
       "    </tr>\n",
       "    <tr>\n",
       "      <th id=\"T_de820_level0_row4\" class=\"row_heading level0 row4\" >Consumer Services</th>\n",
       "      <td id=\"T_de820_row4_col0\" class=\"data row4 col0\" >8</td>\n",
       "      <td id=\"T_de820_row4_col1\" class=\"data row4 col1\" >1</td>\n",
       "      <td id=\"T_de820_row4_col2\" class=\"data row4 col2\" >1</td>\n",
       "      <td id=\"T_de820_row4_col3\" class=\"data row4 col3\" >1</td>\n",
       "      <td id=\"T_de820_row4_col4\" class=\"data row4 col4\" >1</td>\n",
       "      <td id=\"T_de820_row4_col5\" class=\"data row4 col5\" >1</td>\n",
       "      <td id=\"T_de820_row4_col6\" class=\"data row4 col6\" >1</td>\n",
       "      <td id=\"T_de820_row4_col7\" class=\"data row4 col7\" >1</td>\n",
       "      <td id=\"T_de820_row4_col8\" class=\"data row4 col8\" >1</td>\n",
       "    </tr>\n",
       "    <tr>\n",
       "      <th id=\"T_de820_level0_row5\" class=\"row_heading level0 row5\" >Finance</th>\n",
       "      <td id=\"T_de820_row5_col0\" class=\"data row5 col0\" >1e+01</td>\n",
       "      <td id=\"T_de820_row5_col1\" class=\"data row5 col1\" >1</td>\n",
       "      <td id=\"T_de820_row5_col2\" class=\"data row5 col2\" >0</td>\n",
       "      <td id=\"T_de820_row5_col3\" class=\"data row5 col3\" >2</td>\n",
       "      <td id=\"T_de820_row5_col4\" class=\"data row5 col4\" >2</td>\n",
       "      <td id=\"T_de820_row5_col5\" class=\"data row5 col5\" >2</td>\n",
       "      <td id=\"T_de820_row5_col6\" class=\"data row5 col6\" >2</td>\n",
       "      <td id=\"T_de820_row5_col7\" class=\"data row5 col7\" >1</td>\n",
       "      <td id=\"T_de820_row5_col8\" class=\"data row5 col8\" >1</td>\n",
       "    </tr>\n",
       "  </tbody>\n",
       "</table>\n"
      ],
      "text/plain": [
       "<pandas.io.formats.style.Styler at 0x7f52b831a170>"
      ]
     },
     "execution_count": 16,
     "metadata": {},
     "output_type": "execute_result"
    }
   ],
   "source": [
    "groupby_cols = ['score'] + regime_cols\n",
    "sort_key = ['sector']\n",
    "regime_df.groupby(sort_key)[groupby_cols].mean().sort_values(\n",
    "    by= 'score').style.background_gradient(\n",
    "    subset= groupby_cols,cmap= 'RdYlGn').format('{:.1g}')\n",
    "\n",
    "pd.set_option('display.float_format', lambda x: '%.2f' % x)\n",
    "groupby_cols = ['score'] + regime_cols\n",
    "sort_key = ['sector']\n",
    "regime_df.groupby(sort_key)[groupby_cols].sum().sort_values(\n",
    "    by= 'score').style.background_gradient(\n",
    "    subset= groupby_cols,cmap= 'RdYlGn').format('{:.1g}')"
   ]
  },
  {
   "cell_type": "code",
   "execution_count": 17,
   "id": "d6737b56-c8dd-44b7-93ef-29c0ef6317c3",
   "metadata": {},
   "outputs": [],
   "source": [
    "# groupby_cols = ['score'] + regime_cols\n",
    "# sort_key = ['GICS Sub-Industry']\n",
    "# regime_df.groupby(sort_key)[groupby_cols].mean().sort_values(\n",
    "#     by= 'score').style.background_gradient(\n",
    "#     subset= groupby_cols,cmap= 'RdYlGn').format('{:.1g}')"
   ]
  },
  {
   "cell_type": "code",
   "execution_count": 18,
   "id": "bd7414ce-000a-4155-ac42-c2d1f1f800c6",
   "metadata": {},
   "outputs": [],
   "source": [
    "# groupby_cols = ['score'] + regime_cols\n",
    "# sort_key = ['GICS Sector','GICS Sub-Industry']\n",
    "# regime_df.groupby(sort_key)[groupby_cols].mean().sort_values(\n",
    "#     by= ['GICS Sector','score']).style.background_gradient(\n",
    "#     subset= groupby_cols,cmap= 'RdYlGn').format('{:.1g}')"
   ]
  },
  {
   "cell_type": "code",
   "execution_count": 43,
   "id": "443efa29-78ce-4c81-af41-8233e85d862e",
   "metadata": {
    "tags": []
   },
   "outputs": [
    {
     "data": {
      "text/html": [
       "<div>\n",
       "<style scoped>\n",
       "    .dataframe tbody tr th:only-of-type {\n",
       "        vertical-align: middle;\n",
       "    }\n",
       "\n",
       "    .dataframe tbody tr th {\n",
       "        vertical-align: top;\n",
       "    }\n",
       "\n",
       "    .dataframe thead th {\n",
       "        text-align: right;\n",
       "    }\n",
       "</style>\n",
       "<table border=\"1\" class=\"dataframe\">\n",
       "  <thead>\n",
       "    <tr style=\"text-align: right;\">\n",
       "      <th>regime</th>\n",
       "      <th>bohl200</th>\n",
       "      <th>borr200</th>\n",
       "      <th>rg</th>\n",
       "      <th>rrg</th>\n",
       "      <th>smac50200</th>\n",
       "      <th>smar50200</th>\n",
       "      <th>tth50l200</th>\n",
       "      <th>ttr50r200</th>\n",
       "    </tr>\n",
       "    <tr>\n",
       "      <th>ticker</th>\n",
       "      <th></th>\n",
       "      <th></th>\n",
       "      <th></th>\n",
       "      <th></th>\n",
       "      <th></th>\n",
       "      <th></th>\n",
       "      <th></th>\n",
       "      <th></th>\n",
       "    </tr>\n",
       "  </thead>\n",
       "  <tbody>\n",
       "    <tr>\n",
       "      <th>RLT.MI</th>\n",
       "      <td>2024-04-15 07:00:00</td>\n",
       "      <td>2024-02-29 08:00:00</td>\n",
       "      <td>2024-05-10 15:35:08</td>\n",
       "      <td>2024-02-19 08:00:00</td>\n",
       "      <td>2024-04-18 07:00:00</td>\n",
       "      <td>2022-11-22 08:00:00</td>\n",
       "      <td>2024-03-07 08:00:00</td>\n",
       "      <td>2024-02-29 08:00:00</td>\n",
       "    </tr>\n",
       "    <tr>\n",
       "      <th>AIM.MI</th>\n",
       "      <td>2023-12-18 08:00:00</td>\n",
       "      <td>2023-12-22 08:00:00</td>\n",
       "      <td>2024-04-04 07:00:00</td>\n",
       "      <td>2024-04-12 07:00:00</td>\n",
       "      <td>2023-12-22 08:00:00</td>\n",
       "      <td>2024-01-16 08:00:00</td>\n",
       "      <td>2024-04-30 07:00:00</td>\n",
       "      <td>2024-04-30 07:00:00</td>\n",
       "    </tr>\n",
       "    <tr>\n",
       "      <th>MAPS.MI</th>\n",
       "      <td>2024-04-11 07:00:00</td>\n",
       "      <td>2023-03-28 07:00:00</td>\n",
       "      <td>2024-04-03 07:00:00</td>\n",
       "      <td>2024-03-04 08:00:00</td>\n",
       "      <td>2024-04-16 07:00:00</td>\n",
       "      <td>2023-01-05 08:00:00</td>\n",
       "      <td>2024-05-09 07:00:00</td>\n",
       "      <td>2024-02-26 08:00:00</td>\n",
       "    </tr>\n",
       "    <tr>\n",
       "      <th>GE.MI</th>\n",
       "      <td>2024-05-09 07:00:00</td>\n",
       "      <td>2023-05-17 07:00:00</td>\n",
       "      <td>2024-05-03 07:00:00</td>\n",
       "      <td>2024-05-03 07:00:00</td>\n",
       "      <td>2023-07-10 07:00:00</td>\n",
       "      <td>2022-10-26 07:00:00</td>\n",
       "      <td>2024-05-09 07:00:00</td>\n",
       "      <td>2024-05-08 07:00:00</td>\n",
       "    </tr>\n",
       "    <tr>\n",
       "      <th>AVIO.MI</th>\n",
       "      <td>2024-02-28 08:00:00</td>\n",
       "      <td>2024-02-29 08:00:00</td>\n",
       "      <td>2024-02-01 08:00:00</td>\n",
       "      <td>2024-01-31 08:00:00</td>\n",
       "      <td>2024-02-29 08:00:00</td>\n",
       "      <td>2024-04-22 07:00:00</td>\n",
       "      <td>2024-03-14 08:00:00</td>\n",
       "      <td>2024-04-18 07:00:00</td>\n",
       "    </tr>\n",
       "    <tr>\n",
       "      <th>RAT.MI</th>\n",
       "      <td>2024-01-19 08:00:00</td>\n",
       "      <td>2022-08-16 07:00:00</td>\n",
       "      <td>2023-12-08 08:00:00</td>\n",
       "      <td>2023-11-02 08:00:00</td>\n",
       "      <td>2022-06-21 07:00:00</td>\n",
       "      <td>2022-10-05 07:00:00</td>\n",
       "      <td>2024-01-16 08:00:00</td>\n",
       "      <td>2022-11-30 08:00:00</td>\n",
       "    </tr>\n",
       "    <tr>\n",
       "      <th>CAI.MI</th>\n",
       "      <td>2023-12-20 08:00:00</td>\n",
       "      <td>2024-04-09 07:00:00</td>\n",
       "      <td>2023-11-02 08:00:00</td>\n",
       "      <td>2024-04-23 07:00:00</td>\n",
       "      <td>2024-01-05 08:00:00</td>\n",
       "      <td>2024-04-25 07:00:00</td>\n",
       "      <td>2023-11-02 08:00:00</td>\n",
       "      <td>2024-04-09 07:00:00</td>\n",
       "    </tr>\n",
       "    <tr>\n",
       "      <th>GHC.MI</th>\n",
       "      <td>2023-05-05 07:00:00</td>\n",
       "      <td>2024-03-12 08:00:00</td>\n",
       "      <td>2024-01-15 08:00:00</td>\n",
       "      <td>2024-04-26 07:00:00</td>\n",
       "      <td>2023-06-01 07:00:00</td>\n",
       "      <td>2024-03-07 08:00:00</td>\n",
       "      <td>2023-05-16 07:00:00</td>\n",
       "      <td>2024-03-18 08:00:00</td>\n",
       "    </tr>\n",
       "    <tr>\n",
       "      <th>AEF.MI</th>\n",
       "      <td>2022-03-03 08:00:00</td>\n",
       "      <td>2022-03-07 08:00:00</td>\n",
       "      <td>2024-04-15 07:00:00</td>\n",
       "      <td>2022-03-01 08:00:00</td>\n",
       "      <td>2022-04-05 07:00:00</td>\n",
       "      <td>2022-04-13 07:00:00</td>\n",
       "      <td>2024-03-19 08:00:00</td>\n",
       "      <td>2024-03-08 08:00:00</td>\n",
       "    </tr>\n",
       "    <tr>\n",
       "      <th>EUK.MI</th>\n",
       "      <td>2022-01-31 08:00:00</td>\n",
       "      <td>2022-09-13 07:00:00</td>\n",
       "      <td>2024-04-10 07:00:00</td>\n",
       "      <td>2022-08-29 07:00:00</td>\n",
       "      <td>2022-02-28 08:00:00</td>\n",
       "      <td>2022-11-03 08:00:00</td>\n",
       "      <td>2024-02-16 08:00:00</td>\n",
       "      <td>2023-12-05 08:00:00</td>\n",
       "    </tr>\n",
       "    <tr>\n",
       "      <th>CE.MI</th>\n",
       "      <td>2022-11-02 08:00:00</td>\n",
       "      <td>2023-08-16 07:00:00</td>\n",
       "      <td>2023-07-14 07:00:00</td>\n",
       "      <td>2024-04-05 07:00:00</td>\n",
       "      <td>2022-11-11 08:00:00</td>\n",
       "      <td>2023-10-03 07:00:00</td>\n",
       "      <td>2023-11-09 08:00:00</td>\n",
       "      <td>2024-04-26 07:00:00</td>\n",
       "    </tr>\n",
       "  </tbody>\n",
       "</table>\n",
       "</div>"
      ],
      "text/plain": [
       "regime              bohl200             borr200                  rg  \\\n",
       "ticker                                                                \n",
       "RLT.MI  2024-04-15 07:00:00 2024-02-29 08:00:00 2024-05-10 15:35:08   \n",
       "AIM.MI  2023-12-18 08:00:00 2023-12-22 08:00:00 2024-04-04 07:00:00   \n",
       "MAPS.MI 2024-04-11 07:00:00 2023-03-28 07:00:00 2024-04-03 07:00:00   \n",
       "GE.MI   2024-05-09 07:00:00 2023-05-17 07:00:00 2024-05-03 07:00:00   \n",
       "AVIO.MI 2024-02-28 08:00:00 2024-02-29 08:00:00 2024-02-01 08:00:00   \n",
       "RAT.MI  2024-01-19 08:00:00 2022-08-16 07:00:00 2023-12-08 08:00:00   \n",
       "CAI.MI  2023-12-20 08:00:00 2024-04-09 07:00:00 2023-11-02 08:00:00   \n",
       "GHC.MI  2023-05-05 07:00:00 2024-03-12 08:00:00 2024-01-15 08:00:00   \n",
       "AEF.MI  2022-03-03 08:00:00 2022-03-07 08:00:00 2024-04-15 07:00:00   \n",
       "EUK.MI  2022-01-31 08:00:00 2022-09-13 07:00:00 2024-04-10 07:00:00   \n",
       "CE.MI   2022-11-02 08:00:00 2023-08-16 07:00:00 2023-07-14 07:00:00   \n",
       "\n",
       "regime                  rrg           smac50200           smar50200  \\\n",
       "ticker                                                                \n",
       "RLT.MI  2024-02-19 08:00:00 2024-04-18 07:00:00 2022-11-22 08:00:00   \n",
       "AIM.MI  2024-04-12 07:00:00 2023-12-22 08:00:00 2024-01-16 08:00:00   \n",
       "MAPS.MI 2024-03-04 08:00:00 2024-04-16 07:00:00 2023-01-05 08:00:00   \n",
       "GE.MI   2024-05-03 07:00:00 2023-07-10 07:00:00 2022-10-26 07:00:00   \n",
       "AVIO.MI 2024-01-31 08:00:00 2024-02-29 08:00:00 2024-04-22 07:00:00   \n",
       "RAT.MI  2023-11-02 08:00:00 2022-06-21 07:00:00 2022-10-05 07:00:00   \n",
       "CAI.MI  2024-04-23 07:00:00 2024-01-05 08:00:00 2024-04-25 07:00:00   \n",
       "GHC.MI  2024-04-26 07:00:00 2023-06-01 07:00:00 2024-03-07 08:00:00   \n",
       "AEF.MI  2022-03-01 08:00:00 2022-04-05 07:00:00 2022-04-13 07:00:00   \n",
       "EUK.MI  2022-08-29 07:00:00 2022-02-28 08:00:00 2022-11-03 08:00:00   \n",
       "CE.MI   2024-04-05 07:00:00 2022-11-11 08:00:00 2023-10-03 07:00:00   \n",
       "\n",
       "regime            tth50l200           ttr50r200  \n",
       "ticker                                           \n",
       "RLT.MI  2024-03-07 08:00:00 2024-02-29 08:00:00  \n",
       "AIM.MI  2024-04-30 07:00:00 2024-04-30 07:00:00  \n",
       "MAPS.MI 2024-05-09 07:00:00 2024-02-26 08:00:00  \n",
       "GE.MI   2024-05-09 07:00:00 2024-05-08 07:00:00  \n",
       "AVIO.MI 2024-03-14 08:00:00 2024-04-18 07:00:00  \n",
       "RAT.MI  2024-01-16 08:00:00 2022-11-30 08:00:00  \n",
       "CAI.MI  2023-11-02 08:00:00 2024-04-09 07:00:00  \n",
       "GHC.MI  2023-05-16 07:00:00 2024-03-18 08:00:00  \n",
       "AEF.MI  2024-03-19 08:00:00 2024-03-08 08:00:00  \n",
       "EUK.MI  2024-02-16 08:00:00 2023-12-05 08:00:00  \n",
       "CE.MI   2023-11-09 08:00:00 2024-04-26 07:00:00  "
      ]
     },
     "execution_count": 43,
     "metadata": {},
     "output_type": "execute_result"
    }
   ],
   "source": [
    "signal_df = pd.concat(signal_list, axis=0, ignore_index=False) \n",
    "signal_df"
   ]
  },
  {
   "cell_type": "code",
   "execution_count": null,
   "id": "0b2c931d-d4f0-4acb-b062-4f540cab1b16",
   "metadata": {},
   "outputs": [],
   "source": []
  }
 ],
 "metadata": {
  "kernelspec": {
   "display_name": "Python 3 (ipykernel)",
   "language": "python",
   "name": "python3"
  },
  "language_info": {
   "codemirror_mode": {
    "name": "ipython",
    "version": 3
   },
   "file_extension": ".py",
   "mimetype": "text/x-python",
   "name": "python",
   "nbconvert_exporter": "python",
   "pygments_lexer": "ipython3",
   "version": "3.10.4"
  }
 },
 "nbformat": 4,
 "nbformat_minor": 5
}
