{
 "cells": [
  {
   "cell_type": "code",
   "execution_count": 8,
   "id": "1385a278-cfe2-45c1-adf6-69119c5e6d92",
   "metadata": {},
   "outputs": [
    {
     "name": "stdout",
     "output_type": "stream",
     "text": [
      "416\n",
      "letti tutti i files\n"
     ]
    }
   ],
   "source": [
    "import sys  \n",
    "import os  \n",
    "import pandas as pd  \n",
    "\n",
    "# sys.path.insert(0, '..')\n",
    "from AT_funs import *\n",
    "\n",
    "\n",
    "filename_bm = 'FTSEMIB.MI.xlsx'\n",
    "bm_df = read_xlsx(filename_bm)\n",
    "bm_name = filename_bm.replace('xlsx', '')\n",
    "\n",
    "# files = [file for file in os.listdir('data') if file.endswith(\".xlsx\") and file != \"FTSEMIB.MI.xlsx\" and file != \"marginabili.xlsx\" and file != \"sectors.xlsx\" and file != \"output_signals.xlsx\" and file != \"PTF.xlsx\", and file == \"A2A.MI.xlsx\"]\n",
    "# print(len(files))\n",
    "\n",
    "exclude_files = {\"FTSEMIB.MI.xlsx\", \"marginabili.xlsx\", \"sectors.xlsx\", \"output_signals.xlsx\", \"PTF.xlsx\"}\n",
    "# include_files = {\"A2A.MI.xlsx\"}\n",
    "# files = [file for file in os.listdir('data') if file.endswith(\".xlsx\") and file not in exclude_files and file in include_files]\n",
    "files = [file for file in os.listdir() if file.endswith(\".xlsx\") and file not in exclude_files]\n",
    "print(len(files))\n",
    "\n",
    "window_bo = 100\n",
    "fast = 20\n",
    "slow = 50\n",
    "st = 50\n",
    "mt = 100\n",
    "lt = 150\n",
    "lvl = 3\n",
    "bm_col = 'close'\n",
    "dgt = 5\n",
    "window_exp = 100\n",
    "starting_capital = 100000\n",
    "lot = 100\n",
    "mn = -0.0025\n",
    "mx = -0.0075\n",
    "# avg = (mn + mx) / 2\n",
    "tolerance= -0.1\n",
    "equal_weight = 0.05\n",
    "span= 5\n",
    "fx = 1\n",
    "\n",
    "# Read all xlsx files\n",
    "dfs = []\n",
    "last_row_dfs = [None] * len(files)\n",
    "failed = []\n",
    "signal_df = pd.DataFrame()\n",
    "signal_list = []\n",
    "\n",
    "regime_df = pd.DataFrame()\n",
    "last_row_df = pd.DataFrame()\n",
    "signal_df = pd.DataFrame()\n",
    "dfs_list = []\n",
    "last_row_list = []\n",
    "failed = []\n",
    "\n",
    "\n",
    "for file in files[:1]:\n",
    "    file_path = os.path.join(\"\", file)\n",
    "    df = pd.read_excel(file_path)\n",
    "    if df.shape[0] >= 1000:\n",
    "        dfs.append(df)\n",
    "\n",
    "print('letti tutti i files')"
   ]
  },
  {
   "cell_type": "code",
   "execution_count": 9,
   "id": "c89d4692-9329-4be0-9a6a-2f4ce580c7d5",
   "metadata": {},
   "outputs": [],
   "source": [
    "def detect_regime(df, bm_df):\n",
    "    \n",
    "    _o,_h,_l,_c = lower_upper_OHLC(df,relative = False)\n",
    "    rhs = ['hi1', 'lo1','hi2', 'lo2', 'hi3', 'lo3']\n",
    "    rt_hi,rt_lo,_hi,_lo,shi,slo = [rhs[h] for h in range(len(rhs))]\n",
    "    bm_col = 'close'\n",
    "    dgt = 5\n",
    "    df= relative(df,_o,_h,_l,_c, bm_df, bm_col, dgt= dgt, rebase=True)\n",
    "    \n",
    "    params = ['2014-12-31', None, 63, 0.05, 0.05, 1.5, 2,5,2.5,3]\n",
    "    start,end,vlty_n,dist_pct,retrace_pct,threshold,dgt,d_vol,r_vol,lvl= [params[h] for h in range(len(params))]\n",
    "\n",
    "    swing_val = ['rg','lo1','hi1','lo3','hi3','clg','flr','rg_ch']\n",
    "    rg,rt_lo,rt_hi,slo,shi,clg,flr,rg_ch = [swing_val[s] for s in range(len(swing_val))]   \n",
    "\n",
    "    for a in np.arange(0,2):\n",
    "        df = round(historical_swings(df,_o,_h,_l,_c, dist= None, hurdle= None),dgt)\n",
    "        df = cleanup_latest_swing(df,shi,slo,rt_hi,rt_lo)\n",
    "        ud, bs, bs_dt, _rt, _swg, hh_ll, hh_ll_dt = latest_swing_variables(df,shi,slo,rt_hi,rt_lo,_h,_l, _c)\n",
    "        vlty = round(average_true_range(df,_h,_l,_c, n= vlty_n)[hh_ll_dt],dgt)\n",
    "        dist_vol = d_vol * vlty\n",
    "        _sign = test_distance(ud,bs, hh_ll, dist_vol, dist_pct)\n",
    "        df = retest_swing(df, _sign, _rt, hh_ll_dt, hh_ll, _c, _swg)\n",
    "        retrace_vol = r_vol * vlty\n",
    "        df = retracement_swing(df, _sign, _swg, _c, hh_ll_dt, hh_ll, vlty, retrace_vol, retrace_pct)\n",
    "        stdev = df[_c].rolling(vlty_n).std(ddof=0)\n",
    "        df = regime_floor_ceiling(df,_h,_l,_c,slo, shi,flr,clg,rg,rg_ch,stdev,threshold)    \n",
    "\n",
    "        _o,_h,_l,_c = lower_upper_OHLC(df,relative = True)\n",
    "        rswing_val = ['rrg','rl1','rh1','rl3','rh3','rclg','rflr','rrg_ch']\n",
    "        rg,rt_lo,rt_hi,slo,shi,clg,flr,rg_ch = [rswing_val[s] for s in range(len(rswing_val))]\n",
    "    \n",
    "    return df"
   ]
  },
  {
   "cell_type": "code",
   "execution_count": 18,
   "id": "3f42c5bb-3df1-4cc7-a7f4-90bd1a893133",
   "metadata": {},
   "outputs": [],
   "source": [
    "ohlc = ['open','high','low','close']\n",
    "_o,_h,_l,_c = [ohlc[h] for h in range(len(ohlc))]\n",
    "i = 0\n",
    "ticker = dfs[i]['ticker'][0]\n",
    "dfs = detect_regime(dfs[i], bm_df)\n"
   ]
  },
  {
   "cell_type": "code",
   "execution_count": 22,
   "id": "410cb0c0-0ae3-4086-a52a-5afed32440dc",
   "metadata": {},
   "outputs": [
    {
     "data": {
      "text/plain": [
       "0       NaN\n",
       "1       NaN\n",
       "2       NaN\n",
       "3       NaN\n",
       "4       NaN\n",
       "       ... \n",
       "2293   -1.0\n",
       "2294   -1.0\n",
       "2295   -1.0\n",
       "2296   -1.0\n",
       "2297   -1.0\n",
       "Name: rrg, Length: 2298, dtype: float64"
      ]
     },
     "execution_count": 22,
     "metadata": {},
     "output_type": "execute_result"
    }
   ],
   "source": [
    "dfs['rrg']"
   ]
  }
 ],
 "metadata": {
  "kernelspec": {
   "display_name": "Python 3 (ipykernel)",
   "language": "python",
   "name": "python3"
  },
  "language_info": {
   "codemirror_mode": {
    "name": "ipython",
    "version": 3
   },
   "file_extension": ".py",
   "mimetype": "text/x-python",
   "name": "python",
   "nbconvert_exporter": "python",
   "pygments_lexer": "ipython3",
   "version": "3.9.12"
  }
 },
 "nbformat": 4,
 "nbformat_minor": 5
}
